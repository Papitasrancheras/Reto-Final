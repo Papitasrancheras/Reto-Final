{
 "cells": [
  {
   "cell_type": "code",
   "execution_count": 128,
   "metadata": {},
   "outputs": [
    {
     "data": {
      "text/html": [
       "        <script type=\"text/javascript\">\n",
       "        window.PlotlyConfig = {MathJaxConfig: 'local'};\n",
       "        if (window.MathJax && window.MathJax.Hub && window.MathJax.Hub.Config) {window.MathJax.Hub.Config({SVG: {font: \"STIX-Web\"}});}\n",
       "        if (typeof require !== 'undefined') {\n",
       "        require.undef(\"plotly\");\n",
       "        requirejs.config({\n",
       "            paths: {\n",
       "                'plotly': ['https://cdn.plot.ly/plotly-2.14.0.min']\n",
       "            }\n",
       "        });\n",
       "        require(['plotly'], function(Plotly) {\n",
       "            window._Plotly = Plotly;\n",
       "        });\n",
       "        }\n",
       "        </script>\n",
       "        "
      ]
     },
     "metadata": {},
     "output_type": "display_data"
    }
   ],
   "source": [
    "import pandas as pd\n",
    "import numpy as np\n",
    "import matplotlib.pyplot as plt\n",
    "import cufflinks as cf\n",
    "from IPython.display import display,HTML\n",
    "#Se definen temas\n",
    "cf.set_config_file(sharing='public',theme='pearl',offline=True) # write cf.getThemes() to find all themes available"
   ]
  },
  {
   "cell_type": "code",
   "execution_count": 24,
   "metadata": {},
   "outputs": [
    {
     "name": "stderr",
     "output_type": "stream",
     "text": [
      "C:\\Users\\papit\\AppData\\Local\\Temp\\ipykernel_16108\\2809429721.py:2: DtypeWarning:\n",
      "\n",
      "Columns (39) have mixed types. Specify dtype option on import or set low_memory=False.\n",
      "\n"
     ]
    },
    {
     "data": {
      "text/html": [
       "<div>\n",
       "<style scoped>\n",
       "    .dataframe tbody tr th:only-of-type {\n",
       "        vertical-align: middle;\n",
       "    }\n",
       "\n",
       "    .dataframe tbody tr th {\n",
       "        vertical-align: top;\n",
       "    }\n",
       "\n",
       "    .dataframe thead th {\n",
       "        text-align: right;\n",
       "    }\n",
       "</style>\n",
       "<table border=\"1\" class=\"dataframe\">\n",
       "  <thead>\n",
       "    <tr style=\"text-align: right;\">\n",
       "      <th></th>\n",
       "      <th>Unnamed: 0</th>\n",
       "      <th>FECHA_ACTUALIZACION</th>\n",
       "      <th>ID_REGISTRO</th>\n",
       "      <th>ORIGEN</th>\n",
       "      <th>SECTOR</th>\n",
       "      <th>ENTIDAD_UM</th>\n",
       "      <th>SEXO</th>\n",
       "      <th>ENTIDAD_NAC</th>\n",
       "      <th>ENTIDAD_RES</th>\n",
       "      <th>MUNICIPIO_RES</th>\n",
       "      <th>...</th>\n",
       "      <th>OTRO_CASO</th>\n",
       "      <th>TOMA_MUESTRA_LAB</th>\n",
       "      <th>RESULTADO_LAB</th>\n",
       "      <th>TOMA_MUESTRA_ANTIGENO</th>\n",
       "      <th>RESULTADO_ANTIGENO</th>\n",
       "      <th>CLASIFICACION_FINAL</th>\n",
       "      <th>MIGRANTE</th>\n",
       "      <th>PAIS_NACIONALIDAD</th>\n",
       "      <th>PAIS_ORIGEN</th>\n",
       "      <th>UCI</th>\n",
       "    </tr>\n",
       "  </thead>\n",
       "  <tbody>\n",
       "    <tr>\n",
       "      <th>0</th>\n",
       "      <td>0</td>\n",
       "      <td>27/08/2022</td>\n",
       "      <td>1a4a8d</td>\n",
       "      <td>1</td>\n",
       "      <td>12.0</td>\n",
       "      <td>23.0</td>\n",
       "      <td>2.0</td>\n",
       "      <td>27</td>\n",
       "      <td>23</td>\n",
       "      <td>8.0</td>\n",
       "      <td>...</td>\n",
       "      <td>2.0</td>\n",
       "      <td>2</td>\n",
       "      <td>97</td>\n",
       "      <td>1</td>\n",
       "      <td>2.0</td>\n",
       "      <td>7</td>\n",
       "      <td>99</td>\n",
       "      <td>México</td>\n",
       "      <td>97</td>\n",
       "      <td>97</td>\n",
       "    </tr>\n",
       "    <tr>\n",
       "      <th>1</th>\n",
       "      <td>1</td>\n",
       "      <td>27/08/2022</td>\n",
       "      <td>01e27d</td>\n",
       "      <td>2</td>\n",
       "      <td>9.0</td>\n",
       "      <td>25.0</td>\n",
       "      <td>2.0</td>\n",
       "      <td>25</td>\n",
       "      <td>25</td>\n",
       "      <td>1.0</td>\n",
       "      <td>...</td>\n",
       "      <td>2.0</td>\n",
       "      <td>2</td>\n",
       "      <td>97</td>\n",
       "      <td>1</td>\n",
       "      <td>2.0</td>\n",
       "      <td>7</td>\n",
       "      <td>99</td>\n",
       "      <td>México</td>\n",
       "      <td>97</td>\n",
       "      <td>97</td>\n",
       "    </tr>\n",
       "    <tr>\n",
       "      <th>2</th>\n",
       "      <td>2</td>\n",
       "      <td>27/08/2022</td>\n",
       "      <td>13cf10</td>\n",
       "      <td>2</td>\n",
       "      <td>9.0</td>\n",
       "      <td>9.0</td>\n",
       "      <td>1.0</td>\n",
       "      <td>9</td>\n",
       "      <td>9</td>\n",
       "      <td>14.0</td>\n",
       "      <td>...</td>\n",
       "      <td>2.0</td>\n",
       "      <td>1</td>\n",
       "      <td>1</td>\n",
       "      <td>2</td>\n",
       "      <td>97.0</td>\n",
       "      <td>3</td>\n",
       "      <td>99</td>\n",
       "      <td>México</td>\n",
       "      <td>97</td>\n",
       "      <td>97</td>\n",
       "    </tr>\n",
       "    <tr>\n",
       "      <th>3</th>\n",
       "      <td>3</td>\n",
       "      <td>27/08/2022</td>\n",
       "      <td>13c92b</td>\n",
       "      <td>2</td>\n",
       "      <td>12.0</td>\n",
       "      <td>9.0</td>\n",
       "      <td>1.0</td>\n",
       "      <td>9</td>\n",
       "      <td>9</td>\n",
       "      <td>2.0</td>\n",
       "      <td>...</td>\n",
       "      <td>1.0</td>\n",
       "      <td>2</td>\n",
       "      <td>97</td>\n",
       "      <td>1</td>\n",
       "      <td>2.0</td>\n",
       "      <td>7</td>\n",
       "      <td>99</td>\n",
       "      <td>México</td>\n",
       "      <td>97</td>\n",
       "      <td>97</td>\n",
       "    </tr>\n",
       "    <tr>\n",
       "      <th>4</th>\n",
       "      <td>4</td>\n",
       "      <td>27/08/2022</td>\n",
       "      <td>04af5f</td>\n",
       "      <td>2</td>\n",
       "      <td>12.0</td>\n",
       "      <td>9.0</td>\n",
       "      <td>1.0</td>\n",
       "      <td>9</td>\n",
       "      <td>9</td>\n",
       "      <td>7.0</td>\n",
       "      <td>...</td>\n",
       "      <td>1.0</td>\n",
       "      <td>2</td>\n",
       "      <td>97</td>\n",
       "      <td>1</td>\n",
       "      <td>2.0</td>\n",
       "      <td>7</td>\n",
       "      <td>99</td>\n",
       "      <td>México</td>\n",
       "      <td>97</td>\n",
       "      <td>97</td>\n",
       "    </tr>\n",
       "    <tr>\n",
       "      <th>...</th>\n",
       "      <td>...</td>\n",
       "      <td>...</td>\n",
       "      <td>...</td>\n",
       "      <td>...</td>\n",
       "      <td>...</td>\n",
       "      <td>...</td>\n",
       "      <td>...</td>\n",
       "      <td>...</td>\n",
       "      <td>...</td>\n",
       "      <td>...</td>\n",
       "      <td>...</td>\n",
       "      <td>...</td>\n",
       "      <td>...</td>\n",
       "      <td>...</td>\n",
       "      <td>...</td>\n",
       "      <td>...</td>\n",
       "      <td>...</td>\n",
       "      <td>...</td>\n",
       "      <td>...</td>\n",
       "      <td>...</td>\n",
       "      <td>...</td>\n",
       "    </tr>\n",
       "    <tr>\n",
       "      <th>99995</th>\n",
       "      <td>99995</td>\n",
       "      <td>27/08/2022</td>\n",
       "      <td>47548a</td>\n",
       "      <td>2</td>\n",
       "      <td>12.0</td>\n",
       "      <td>9.0</td>\n",
       "      <td>1.0</td>\n",
       "      <td>11</td>\n",
       "      <td>15</td>\n",
       "      <td>31.0</td>\n",
       "      <td>...</td>\n",
       "      <td>2.0</td>\n",
       "      <td>1</td>\n",
       "      <td>2</td>\n",
       "      <td>1</td>\n",
       "      <td>2.0</td>\n",
       "      <td>7</td>\n",
       "      <td>99</td>\n",
       "      <td>México</td>\n",
       "      <td>97</td>\n",
       "      <td>97</td>\n",
       "    </tr>\n",
       "    <tr>\n",
       "      <th>99996</th>\n",
       "      <td>99996</td>\n",
       "      <td>27/08/2022</td>\n",
       "      <td>5c2773</td>\n",
       "      <td>2</td>\n",
       "      <td>NaN</td>\n",
       "      <td>9.0</td>\n",
       "      <td>2.0</td>\n",
       "      <td>15</td>\n",
       "      <td>15</td>\n",
       "      <td>95.0</td>\n",
       "      <td>...</td>\n",
       "      <td>1.0</td>\n",
       "      <td>2</td>\n",
       "      <td>97</td>\n",
       "      <td>1</td>\n",
       "      <td>2.0</td>\n",
       "      <td>7</td>\n",
       "      <td>99</td>\n",
       "      <td>México</td>\n",
       "      <td>97</td>\n",
       "      <td>97</td>\n",
       "    </tr>\n",
       "    <tr>\n",
       "      <th>99997</th>\n",
       "      <td>99997</td>\n",
       "      <td>27/08/2022</td>\n",
       "      <td>aceb1f</td>\n",
       "      <td>2</td>\n",
       "      <td>4.0</td>\n",
       "      <td>NaN</td>\n",
       "      <td>2.0</td>\n",
       "      <td>28</td>\n",
       "      <td>28</td>\n",
       "      <td>22.0</td>\n",
       "      <td>...</td>\n",
       "      <td>1.0</td>\n",
       "      <td>2</td>\n",
       "      <td>97</td>\n",
       "      <td>1</td>\n",
       "      <td>1.0</td>\n",
       "      <td>3</td>\n",
       "      <td>99</td>\n",
       "      <td>México</td>\n",
       "      <td>97</td>\n",
       "      <td>97</td>\n",
       "    </tr>\n",
       "    <tr>\n",
       "      <th>99998</th>\n",
       "      <td>99998</td>\n",
       "      <td>27/08/2022</td>\n",
       "      <td>db2a23</td>\n",
       "      <td>2</td>\n",
       "      <td>4.0</td>\n",
       "      <td>9.0</td>\n",
       "      <td>1.0</td>\n",
       "      <td>15</td>\n",
       "      <td>9</td>\n",
       "      <td>6.0</td>\n",
       "      <td>...</td>\n",
       "      <td>1.0</td>\n",
       "      <td>2</td>\n",
       "      <td>97</td>\n",
       "      <td>1</td>\n",
       "      <td>1.0</td>\n",
       "      <td>3</td>\n",
       "      <td>99</td>\n",
       "      <td>México</td>\n",
       "      <td>97</td>\n",
       "      <td>97</td>\n",
       "    </tr>\n",
       "    <tr>\n",
       "      <th>99999</th>\n",
       "      <td>99999</td>\n",
       "      <td>27/08/2022</td>\n",
       "      <td>a88222</td>\n",
       "      <td>2</td>\n",
       "      <td>4.0</td>\n",
       "      <td>9.0</td>\n",
       "      <td>1.0</td>\n",
       "      <td>9</td>\n",
       "      <td>9</td>\n",
       "      <td>7.0</td>\n",
       "      <td>...</td>\n",
       "      <td>2.0</td>\n",
       "      <td>2</td>\n",
       "      <td>97</td>\n",
       "      <td>1</td>\n",
       "      <td>1.0</td>\n",
       "      <td>3</td>\n",
       "      <td>99</td>\n",
       "      <td>México</td>\n",
       "      <td>97</td>\n",
       "      <td>97</td>\n",
       "    </tr>\n",
       "  </tbody>\n",
       "</table>\n",
       "<p>100000 rows × 41 columns</p>\n",
       "</div>"
      ],
      "text/plain": [
       "       Unnamed: 0 FECHA_ACTUALIZACION ID_REGISTRO  ORIGEN  SECTOR  ENTIDAD_UM  \\\n",
       "0               0          27/08/2022      1a4a8d       1    12.0        23.0   \n",
       "1               1          27/08/2022      01e27d       2     9.0        25.0   \n",
       "2               2          27/08/2022      13cf10       2     9.0         9.0   \n",
       "3               3          27/08/2022      13c92b       2    12.0         9.0   \n",
       "4               4          27/08/2022      04af5f       2    12.0         9.0   \n",
       "...           ...                 ...         ...     ...     ...         ...   \n",
       "99995       99995          27/08/2022      47548a       2    12.0         9.0   \n",
       "99996       99996          27/08/2022      5c2773       2     NaN         9.0   \n",
       "99997       99997          27/08/2022      aceb1f       2     4.0         NaN   \n",
       "99998       99998          27/08/2022      db2a23       2     4.0         9.0   \n",
       "99999       99999          27/08/2022      a88222       2     4.0         9.0   \n",
       "\n",
       "       SEXO  ENTIDAD_NAC  ENTIDAD_RES  MUNICIPIO_RES  ...  OTRO_CASO  \\\n",
       "0       2.0           27           23            8.0  ...        2.0   \n",
       "1       2.0           25           25            1.0  ...        2.0   \n",
       "2       1.0            9            9           14.0  ...        2.0   \n",
       "3       1.0            9            9            2.0  ...        1.0   \n",
       "4       1.0            9            9            7.0  ...        1.0   \n",
       "...     ...          ...          ...            ...  ...        ...   \n",
       "99995   1.0           11           15           31.0  ...        2.0   \n",
       "99996   2.0           15           15           95.0  ...        1.0   \n",
       "99997   2.0           28           28           22.0  ...        1.0   \n",
       "99998   1.0           15            9            6.0  ...        1.0   \n",
       "99999   1.0            9            9            7.0  ...        2.0   \n",
       "\n",
       "      TOMA_MUESTRA_LAB RESULTADO_LAB TOMA_MUESTRA_ANTIGENO  \\\n",
       "0                    2            97                     1   \n",
       "1                    2            97                     1   \n",
       "2                    1             1                     2   \n",
       "3                    2            97                     1   \n",
       "4                    2            97                     1   \n",
       "...                ...           ...                   ...   \n",
       "99995                1             2                     1   \n",
       "99996                2            97                     1   \n",
       "99997                2            97                     1   \n",
       "99998                2            97                     1   \n",
       "99999                2            97                     1   \n",
       "\n",
       "       RESULTADO_ANTIGENO  CLASIFICACION_FINAL  MIGRANTE  PAIS_NACIONALIDAD  \\\n",
       "0                     2.0                    7        99             México   \n",
       "1                     2.0                    7        99             México   \n",
       "2                    97.0                    3        99             México   \n",
       "3                     2.0                    7        99             México   \n",
       "4                     2.0                    7        99             México   \n",
       "...                   ...                  ...       ...                ...   \n",
       "99995                 2.0                    7        99             México   \n",
       "99996                 2.0                    7        99             México   \n",
       "99997                 1.0                    3        99             México   \n",
       "99998                 1.0                    3        99             México   \n",
       "99999                 1.0                    3        99             México   \n",
       "\n",
       "       PAIS_ORIGEN  UCI  \n",
       "0               97   97  \n",
       "1               97   97  \n",
       "2               97   97  \n",
       "3               97   97  \n",
       "4               97   97  \n",
       "...            ...  ...  \n",
       "99995           97   97  \n",
       "99996           97   97  \n",
       "99997           97   97  \n",
       "99998           97   97  \n",
       "99999           97   97  \n",
       "\n",
       "[100000 rows x 41 columns]"
      ]
     },
     "execution_count": 24,
     "metadata": {},
     "output_type": "execute_result"
    }
   ],
   "source": [
    "#Leo mi archivo.csv\n",
    "Covid = pd.read_csv(\"COVID19MEXICO_Bueno.csv\")\n",
    "#Filtro por filas\n",
    "Covid= Covid.iloc[0:100000,: ]\n",
    "Covid\n"
   ]
  },
  {
   "cell_type": "markdown",
   "metadata": {},
   "source": [
    "# Identificación de valores nulos"
   ]
  },
  {
   "cell_type": "code",
   "execution_count": 25,
   "metadata": {},
   "outputs": [
    {
     "data": {
      "text/plain": [
       "Unnamed: 0               0\n",
       "FECHA_ACTUALIZACION      0\n",
       "ID_REGISTRO              0\n",
       "ORIGEN                   0\n",
       "SECTOR                   1\n",
       "ENTIDAD_UM               1\n",
       "SEXO                     1\n",
       "ENTIDAD_NAC              0\n",
       "ENTIDAD_RES              0\n",
       "MUNICIPIO_RES            1\n",
       "TIPO_PACIENTE            0\n",
       "FECHA_INGRESO            0\n",
       "FECHA_SINTOMAS           0\n",
       "FECHA_DEF                0\n",
       "INTUBADO                 0\n",
       "NEUMONIA                 0\n",
       "EDAD                     3\n",
       "NACIONALIDAD             0\n",
       "EMBARAZO                 2\n",
       "HABLA_LENGUA_INDIG       0\n",
       "INDIGENA                 0\n",
       "DIABETES                 0\n",
       "EPOC                     0\n",
       "ASMA                     0\n",
       "INMUSUPR                 0\n",
       "HIPERTENSION             1\n",
       "OTRA_COM                 0\n",
       "CARDIOVASCULAR           0\n",
       "OBESIDAD                 0\n",
       "RENAL_CRONICA            0\n",
       "TABAQUISMO               1\n",
       "OTRO_CASO                1\n",
       "TOMA_MUESTRA_LAB         0\n",
       "RESULTADO_LAB            0\n",
       "TOMA_MUESTRA_ANTIGENO    0\n",
       "RESULTADO_ANTIGENO       1\n",
       "CLASIFICACION_FINAL      0\n",
       "MIGRANTE                 0\n",
       "PAIS_NACIONALIDAD        2\n",
       "PAIS_ORIGEN              0\n",
       "UCI                      0\n",
       "dtype: int64"
      ]
     },
     "execution_count": 25,
     "metadata": {},
     "output_type": "execute_result"
    }
   ],
   "source": [
    "#Se comprueban valores nulos \n",
    "valores_nulos=Covid.isnull().sum()\n",
    "valores_nulos\n",
    "#No se encuentran valores nulos "
   ]
  },
  {
   "cell_type": "code",
   "execution_count": 32,
   "metadata": {},
   "outputs": [
    {
     "name": "stderr",
     "output_type": "stream",
     "text": [
      "C:\\Users\\papit\\AppData\\Local\\Temp\\ipykernel_16108\\1066054035.py:4: FutureWarning:\n",
      "\n",
      "In a future version of pandas all arguments of Series.dropna will be keyword-only.\n",
      "\n",
      "C:\\Users\\papit\\AppData\\Local\\Temp\\ipykernel_16108\\1066054035.py:7: FutureWarning:\n",
      "\n",
      "In a future version of pandas all arguments of Series.dropna will be keyword-only.\n",
      "\n"
     ]
    }
   ],
   "source": [
    "#Comenzamos con los nulos encontrados:\n",
    "#Remplazamos los valores de SECTOR con la moda\n",
    "Covid[\"SECTOR\"]= Covid[\"SECTOR\"].fillna(Covid[\"SECTOR\"].mode) \n",
    "#Remplazamos los valores de ENTIDAD_UM con la moda\n",
    "Covid[\"ENTIDAD_UM\"]= Covid[\"ENTIDAD_UM\"].fillna(Covid[\"ENTIDAD_UM\"].mode)\n",
    "#Nos deshacemos del registro faltante en SEXO\n",
    "Covid[\"SEXO\"]= Covid[\"SEXO\"].dropna(0) \n",
    "#Remplazamos los valores de MUNICIPIO_RES con la moda\n",
    "Covid[\"MUNICIPIO_RES\"]= Covid[\"MUNICIPIO_RES\"].fillna(Covid[\"MUNICIPIO_RES\"].mode) \n",
    "#Remplazamos los valores de EDAD con la moda\n",
    "Covid[\"EDAD\"]= Covid[\"EDAD\"].fillna(Covid[\"EDAD\"].mean) \n",
    "#Nos deshacemos de los registros faltantes de EMBARAZO\n",
    "Covid[\"EMBARAZO\"]= Covid[\"EMBARAZO\"].dropna(0) \n",
    "#Remplazamos los valores de PAIS_NACIONALIDAD con la moda: México\n",
    "Covid[\"PAIS_NACIONALIDAD\"]= Covid[\"PAIS_NACIONALIDAD\"].fillna(\"México\") \n",
    "#Remplazamos los valores de HIPERTENSION con la moda\n",
    "Covid[\"HIPERTENSION\"]= Covid[\"HIPERTENSION\"].fillna(Covid[\"HIPERTENSION\"].mode)"
   ]
  },
  {
   "cell_type": "code",
   "execution_count": 35,
   "metadata": {},
   "outputs": [
    {
     "data": {
      "text/plain": [
       "Unnamed: 0               0\n",
       "FECHA_ACTUALIZACION      0\n",
       "ID_REGISTRO              0\n",
       "ORIGEN                   0\n",
       "SECTOR                   0\n",
       "ENTIDAD_UM               0\n",
       "SEXO                     0\n",
       "ENTIDAD_NAC              0\n",
       "ENTIDAD_RES              0\n",
       "MUNICIPIO_RES            0\n",
       "TIPO_PACIENTE            0\n",
       "FECHA_INGRESO            0\n",
       "FECHA_SINTOMAS           0\n",
       "FECHA_DEF                0\n",
       "INTUBADO                 0\n",
       "NEUMONIA                 0\n",
       "EDAD                     0\n",
       "NACIONALIDAD             0\n",
       "EMBARAZO                 0\n",
       "HABLA_LENGUA_INDIG       0\n",
       "INDIGENA                 0\n",
       "DIABETES                 0\n",
       "EPOC                     0\n",
       "ASMA                     0\n",
       "INMUSUPR                 0\n",
       "HIPERTENSION             0\n",
       "OTRA_COM                 0\n",
       "CARDIOVASCULAR           0\n",
       "OBESIDAD                 0\n",
       "RENAL_CRONICA            0\n",
       "TABAQUISMO               0\n",
       "OTRO_CASO                0\n",
       "TOMA_MUESTRA_LAB         0\n",
       "RESULTADO_LAB            0\n",
       "TOMA_MUESTRA_ANTIGENO    0\n",
       "RESULTADO_ANTIGENO       0\n",
       "CLASIFICACION_FINAL      0\n",
       "MIGRANTE                 0\n",
       "PAIS_NACIONALIDAD        0\n",
       "PAIS_ORIGEN              0\n",
       "UCI                      0\n",
       "dtype: int64"
      ]
     },
     "execution_count": 35,
     "metadata": {},
     "output_type": "execute_result"
    }
   ],
   "source": [
    "#Hacemos la comprobación de NAs\n",
    "#Se comprueban valores nulos \n",
    "valores_nulos=Covid.isnull().sum()\n",
    "valores_nulos"
   ]
  },
  {
   "cell_type": "code",
   "execution_count": 28,
   "metadata": {},
   "outputs": [
    {
     "data": {
      "text/plain": [
       "0"
      ]
     },
     "execution_count": 28,
     "metadata": {},
     "output_type": "execute_result"
    }
   ],
   "source": [
    "#Reemplazamos los 4 valores restantes en el dataframe \n",
    "Covid =Covid.fillna(0) \n",
    "Covid\n",
    "#Comprobamos nuevamente \n",
    "valores_nulos=Covid.isnull().sum().sum()\n",
    "valores_nulos"
   ]
  },
  {
   "cell_type": "code",
   "execution_count": 29,
   "metadata": {},
   "outputs": [],
   "source": [
    "#Ante duda, se hace una prueba para comprobar la sustitución adecuada de NAs\n",
    "#Convertir DataFrame a CSV\n",
    "#Covid.to_csv(\"Prueba.csv\")"
   ]
  },
  {
   "cell_type": "markdown",
   "metadata": {},
   "source": [
    "# Identificación de outliers "
   ]
  },
  {
   "cell_type": "code",
   "execution_count": 33,
   "metadata": {},
   "outputs": [
    {
     "data": {
      "image/png": "[encoded data removed]",
      "text/plain": [
       "<Figure size 1080x576 with 1 Axes>"
      ]
     },
     "metadata": {
      "needs_background": "light"
     },
     "output_type": "display_data"
    }
   ],
   "source": [
    "#En los datos de nuestra base hace sentido buscar únicamente outliers en la columna Edad\n",
    "#Realizamos diagrama de caja o bigote de cada columna del dataframe para identificar outliers\n",
    "fig = plt.figure(figsize =(15, 8))\n",
    "Covid[\"EDAD\"].plot(kind='box', vert=False)\n",
    "plt.title(\"Valores Atípicos Covid México\")\n",
    "plt.show() #dibujamos el diagrama\n",
    "#Observamos que existen valores atípicos para la variable Edad\n",
    "#Vemos que existen registros arriba de los 100 años, aunque es posible que se trate de valores\n",
    "#Reales, trataremos estos outliers para facilitar el análisis y visualización de la información "
   ]
  },
  {
   "cell_type": "code",
   "execution_count": 31,
   "metadata": {},
   "outputs": [
    {
     "name": "stdout",
     "output_type": "stream",
     "text": [
      "Limite superior permitido 84.82067498662707\n",
      "Limite inferior permitido -11.044054986627067\n"
     ]
    },
    {
     "data": {
      "text/html": [
       "<div>\n",
       "<style scoped>\n",
       "    .dataframe tbody tr th:only-of-type {\n",
       "        vertical-align: middle;\n",
       "    }\n",
       "\n",
       "    .dataframe tbody tr th {\n",
       "        vertical-align: top;\n",
       "    }\n",
       "\n",
       "    .dataframe thead th {\n",
       "        text-align: right;\n",
       "    }\n",
       "</style>\n",
       "<table border=\"1\" class=\"dataframe\">\n",
       "  <thead>\n",
       "    <tr style=\"text-align: right;\">\n",
       "      <th></th>\n",
       "      <th>Unnamed: 0</th>\n",
       "      <th>FECHA_ACTUALIZACION</th>\n",
       "      <th>ID_REGISTRO</th>\n",
       "      <th>ORIGEN</th>\n",
       "      <th>SECTOR</th>\n",
       "      <th>ENTIDAD_UM</th>\n",
       "      <th>SEXO</th>\n",
       "      <th>ENTIDAD_NAC</th>\n",
       "      <th>ENTIDAD_RES</th>\n",
       "      <th>MUNICIPIO_RES</th>\n",
       "      <th>...</th>\n",
       "      <th>OTRO_CASO</th>\n",
       "      <th>TOMA_MUESTRA_LAB</th>\n",
       "      <th>RESULTADO_LAB</th>\n",
       "      <th>TOMA_MUESTRA_ANTIGENO</th>\n",
       "      <th>RESULTADO_ANTIGENO</th>\n",
       "      <th>CLASIFICACION_FINAL</th>\n",
       "      <th>MIGRANTE</th>\n",
       "      <th>PAIS_NACIONALIDAD</th>\n",
       "      <th>PAIS_ORIGEN</th>\n",
       "      <th>UCI</th>\n",
       "    </tr>\n",
       "  </thead>\n",
       "  <tbody>\n",
       "    <tr>\n",
       "      <th>0</th>\n",
       "      <td>0</td>\n",
       "      <td>27/08/2022</td>\n",
       "      <td>1a4a8d</td>\n",
       "      <td>1</td>\n",
       "      <td>12.0</td>\n",
       "      <td>23.0</td>\n",
       "      <td>2.0</td>\n",
       "      <td>27</td>\n",
       "      <td>23</td>\n",
       "      <td>8.0</td>\n",
       "      <td>...</td>\n",
       "      <td>2.0</td>\n",
       "      <td>2</td>\n",
       "      <td>97</td>\n",
       "      <td>1</td>\n",
       "      <td>2.0</td>\n",
       "      <td>7</td>\n",
       "      <td>99</td>\n",
       "      <td>México</td>\n",
       "      <td>97</td>\n",
       "      <td>97</td>\n",
       "    </tr>\n",
       "    <tr>\n",
       "      <th>1</th>\n",
       "      <td>1</td>\n",
       "      <td>27/08/2022</td>\n",
       "      <td>01e27d</td>\n",
       "      <td>2</td>\n",
       "      <td>9.0</td>\n",
       "      <td>25.0</td>\n",
       "      <td>2.0</td>\n",
       "      <td>25</td>\n",
       "      <td>25</td>\n",
       "      <td>1.0</td>\n",
       "      <td>...</td>\n",
       "      <td>2.0</td>\n",
       "      <td>2</td>\n",
       "      <td>97</td>\n",
       "      <td>1</td>\n",
       "      <td>2.0</td>\n",
       "      <td>7</td>\n",
       "      <td>99</td>\n",
       "      <td>México</td>\n",
       "      <td>97</td>\n",
       "      <td>97</td>\n",
       "    </tr>\n",
       "    <tr>\n",
       "      <th>2</th>\n",
       "      <td>2</td>\n",
       "      <td>27/08/2022</td>\n",
       "      <td>13cf10</td>\n",
       "      <td>2</td>\n",
       "      <td>9.0</td>\n",
       "      <td>9.0</td>\n",
       "      <td>1.0</td>\n",
       "      <td>9</td>\n",
       "      <td>9</td>\n",
       "      <td>14.0</td>\n",
       "      <td>...</td>\n",
       "      <td>2.0</td>\n",
       "      <td>1</td>\n",
       "      <td>1</td>\n",
       "      <td>2</td>\n",
       "      <td>97.0</td>\n",
       "      <td>3</td>\n",
       "      <td>99</td>\n",
       "      <td>México</td>\n",
       "      <td>97</td>\n",
       "      <td>97</td>\n",
       "    </tr>\n",
       "    <tr>\n",
       "      <th>3</th>\n",
       "      <td>3</td>\n",
       "      <td>27/08/2022</td>\n",
       "      <td>13c92b</td>\n",
       "      <td>2</td>\n",
       "      <td>12.0</td>\n",
       "      <td>9.0</td>\n",
       "      <td>1.0</td>\n",
       "      <td>9</td>\n",
       "      <td>9</td>\n",
       "      <td>2.0</td>\n",
       "      <td>...</td>\n",
       "      <td>1.0</td>\n",
       "      <td>2</td>\n",
       "      <td>97</td>\n",
       "      <td>1</td>\n",
       "      <td>2.0</td>\n",
       "      <td>7</td>\n",
       "      <td>99</td>\n",
       "      <td>México</td>\n",
       "      <td>97</td>\n",
       "      <td>97</td>\n",
       "    </tr>\n",
       "    <tr>\n",
       "      <th>4</th>\n",
       "      <td>4</td>\n",
       "      <td>27/08/2022</td>\n",
       "      <td>04af5f</td>\n",
       "      <td>2</td>\n",
       "      <td>12.0</td>\n",
       "      <td>9.0</td>\n",
       "      <td>1.0</td>\n",
       "      <td>9</td>\n",
       "      <td>9</td>\n",
       "      <td>7.0</td>\n",
       "      <td>...</td>\n",
       "      <td>1.0</td>\n",
       "      <td>2</td>\n",
       "      <td>97</td>\n",
       "      <td>1</td>\n",
       "      <td>2.0</td>\n",
       "      <td>7</td>\n",
       "      <td>99</td>\n",
       "      <td>México</td>\n",
       "      <td>97</td>\n",
       "      <td>97</td>\n",
       "    </tr>\n",
       "    <tr>\n",
       "      <th>...</th>\n",
       "      <td>...</td>\n",
       "      <td>...</td>\n",
       "      <td>...</td>\n",
       "      <td>...</td>\n",
       "      <td>...</td>\n",
       "      <td>...</td>\n",
       "      <td>...</td>\n",
       "      <td>...</td>\n",
       "      <td>...</td>\n",
       "      <td>...</td>\n",
       "      <td>...</td>\n",
       "      <td>...</td>\n",
       "      <td>...</td>\n",
       "      <td>...</td>\n",
       "      <td>...</td>\n",
       "      <td>...</td>\n",
       "      <td>...</td>\n",
       "      <td>...</td>\n",
       "      <td>...</td>\n",
       "      <td>...</td>\n",
       "      <td>...</td>\n",
       "    </tr>\n",
       "    <tr>\n",
       "      <th>99995</th>\n",
       "      <td>99995</td>\n",
       "      <td>27/08/2022</td>\n",
       "      <td>47548a</td>\n",
       "      <td>2</td>\n",
       "      <td>12.0</td>\n",
       "      <td>9.0</td>\n",
       "      <td>1.0</td>\n",
       "      <td>11</td>\n",
       "      <td>15</td>\n",
       "      <td>31.0</td>\n",
       "      <td>...</td>\n",
       "      <td>2.0</td>\n",
       "      <td>1</td>\n",
       "      <td>2</td>\n",
       "      <td>1</td>\n",
       "      <td>2.0</td>\n",
       "      <td>7</td>\n",
       "      <td>99</td>\n",
       "      <td>México</td>\n",
       "      <td>97</td>\n",
       "      <td>97</td>\n",
       "    </tr>\n",
       "    <tr>\n",
       "      <th>99996</th>\n",
       "      <td>99996</td>\n",
       "      <td>27/08/2022</td>\n",
       "      <td>5c2773</td>\n",
       "      <td>2</td>\n",
       "      <td>&lt;bound method Series.mode of 0        12.0\\n1 ...</td>\n",
       "      <td>9.0</td>\n",
       "      <td>2.0</td>\n",
       "      <td>15</td>\n",
       "      <td>15</td>\n",
       "      <td>95.0</td>\n",
       "      <td>...</td>\n",
       "      <td>1.0</td>\n",
       "      <td>2</td>\n",
       "      <td>97</td>\n",
       "      <td>1</td>\n",
       "      <td>2.0</td>\n",
       "      <td>7</td>\n",
       "      <td>99</td>\n",
       "      <td>México</td>\n",
       "      <td>97</td>\n",
       "      <td>97</td>\n",
       "    </tr>\n",
       "    <tr>\n",
       "      <th>99997</th>\n",
       "      <td>99997</td>\n",
       "      <td>27/08/2022</td>\n",
       "      <td>aceb1f</td>\n",
       "      <td>2</td>\n",
       "      <td>4.0</td>\n",
       "      <td>&lt;bound method Series.mode of 0        23.0\\n1 ...</td>\n",
       "      <td>2.0</td>\n",
       "      <td>28</td>\n",
       "      <td>28</td>\n",
       "      <td>22.0</td>\n",
       "      <td>...</td>\n",
       "      <td>1.0</td>\n",
       "      <td>2</td>\n",
       "      <td>97</td>\n",
       "      <td>1</td>\n",
       "      <td>1.0</td>\n",
       "      <td>3</td>\n",
       "      <td>99</td>\n",
       "      <td>México</td>\n",
       "      <td>97</td>\n",
       "      <td>97</td>\n",
       "    </tr>\n",
       "    <tr>\n",
       "      <th>99998</th>\n",
       "      <td>99998</td>\n",
       "      <td>27/08/2022</td>\n",
       "      <td>db2a23</td>\n",
       "      <td>2</td>\n",
       "      <td>4.0</td>\n",
       "      <td>9.0</td>\n",
       "      <td>1.0</td>\n",
       "      <td>15</td>\n",
       "      <td>9</td>\n",
       "      <td>6.0</td>\n",
       "      <td>...</td>\n",
       "      <td>1.0</td>\n",
       "      <td>2</td>\n",
       "      <td>97</td>\n",
       "      <td>1</td>\n",
       "      <td>1.0</td>\n",
       "      <td>3</td>\n",
       "      <td>99</td>\n",
       "      <td>México</td>\n",
       "      <td>97</td>\n",
       "      <td>97</td>\n",
       "    </tr>\n",
       "    <tr>\n",
       "      <th>99999</th>\n",
       "      <td>99999</td>\n",
       "      <td>27/08/2022</td>\n",
       "      <td>a88222</td>\n",
       "      <td>2</td>\n",
       "      <td>4.0</td>\n",
       "      <td>9.0</td>\n",
       "      <td>1.0</td>\n",
       "      <td>9</td>\n",
       "      <td>9</td>\n",
       "      <td>7.0</td>\n",
       "      <td>...</td>\n",
       "      <td>2.0</td>\n",
       "      <td>2</td>\n",
       "      <td>97</td>\n",
       "      <td>1</td>\n",
       "      <td>1.0</td>\n",
       "      <td>3</td>\n",
       "      <td>99</td>\n",
       "      <td>México</td>\n",
       "      <td>97</td>\n",
       "      <td>97</td>\n",
       "    </tr>\n",
       "  </tbody>\n",
       "</table>\n",
       "<p>99539 rows × 41 columns</p>\n",
       "</div>"
      ],
      "text/plain": [
       "       Unnamed: 0 FECHA_ACTUALIZACION ID_REGISTRO  ORIGEN  \\\n",
       "0               0          27/08/2022      1a4a8d       1   \n",
       "1               1          27/08/2022      01e27d       2   \n",
       "2               2          27/08/2022      13cf10       2   \n",
       "3               3          27/08/2022      13c92b       2   \n",
       "4               4          27/08/2022      04af5f       2   \n",
       "...           ...                 ...         ...     ...   \n",
       "99995       99995          27/08/2022      47548a       2   \n",
       "99996       99996          27/08/2022      5c2773       2   \n",
       "99997       99997          27/08/2022      aceb1f       2   \n",
       "99998       99998          27/08/2022      db2a23       2   \n",
       "99999       99999          27/08/2022      a88222       2   \n",
       "\n",
       "                                                  SECTOR  \\\n",
       "0                                                   12.0   \n",
       "1                                                    9.0   \n",
       "2                                                    9.0   \n",
       "3                                                   12.0   \n",
       "4                                                   12.0   \n",
       "...                                                  ...   \n",
       "99995                                               12.0   \n",
       "99996  <bound method Series.mode of 0        12.0\\n1 ...   \n",
       "99997                                                4.0   \n",
       "99998                                                4.0   \n",
       "99999                                                4.0   \n",
       "\n",
       "                                              ENTIDAD_UM  SEXO  ENTIDAD_NAC  \\\n",
       "0                                                   23.0   2.0           27   \n",
       "1                                                   25.0   2.0           25   \n",
       "2                                                    9.0   1.0            9   \n",
       "3                                                    9.0   1.0            9   \n",
       "4                                                    9.0   1.0            9   \n",
       "...                                                  ...   ...          ...   \n",
       "99995                                                9.0   1.0           11   \n",
       "99996                                                9.0   2.0           15   \n",
       "99997  <bound method Series.mode of 0        23.0\\n1 ...   2.0           28   \n",
       "99998                                                9.0   1.0           15   \n",
       "99999                                                9.0   1.0            9   \n",
       "\n",
       "       ENTIDAD_RES MUNICIPIO_RES  ...  OTRO_CASO TOMA_MUESTRA_LAB  \\\n",
       "0               23           8.0  ...        2.0                2   \n",
       "1               25           1.0  ...        2.0                2   \n",
       "2                9          14.0  ...        2.0                1   \n",
       "3                9           2.0  ...        1.0                2   \n",
       "4                9           7.0  ...        1.0                2   \n",
       "...            ...           ...  ...        ...              ...   \n",
       "99995           15          31.0  ...        2.0                1   \n",
       "99996           15          95.0  ...        1.0                2   \n",
       "99997           28          22.0  ...        1.0                2   \n",
       "99998            9           6.0  ...        1.0                2   \n",
       "99999            9           7.0  ...        2.0                2   \n",
       "\n",
       "      RESULTADO_LAB TOMA_MUESTRA_ANTIGENO  RESULTADO_ANTIGENO  \\\n",
       "0                97                     1                 2.0   \n",
       "1                97                     1                 2.0   \n",
       "2                 1                     2                97.0   \n",
       "3                97                     1                 2.0   \n",
       "4                97                     1                 2.0   \n",
       "...             ...                   ...                 ...   \n",
       "99995             2                     1                 2.0   \n",
       "99996            97                     1                 2.0   \n",
       "99997            97                     1                 1.0   \n",
       "99998            97                     1                 1.0   \n",
       "99999            97                     1                 1.0   \n",
       "\n",
       "       CLASIFICACION_FINAL  MIGRANTE  PAIS_NACIONALIDAD  PAIS_ORIGEN  UCI  \n",
       "0                        7        99             México           97   97  \n",
       "1                        7        99             México           97   97  \n",
       "2                        3        99             México           97   97  \n",
       "3                        7        99             México           97   97  \n",
       "4                        7        99             México           97   97  \n",
       "...                    ...       ...                ...          ...  ...  \n",
       "99995                    7        99             México           97   97  \n",
       "99996                    7        99             México           97   97  \n",
       "99997                    3        99             México           97   97  \n",
       "99998                    3        99             México           97   97  \n",
       "99999                    3        99             México           97   97  \n",
       "\n",
       "[99539 rows x 41 columns]"
      ]
     },
     "execution_count": 31,
     "metadata": {},
     "output_type": "execute_result"
    }
   ],
   "source": [
    "#Utilizaremos el método de tratamiento de outliers aplicando desviación estandar. Encuentro los valores extremos\n",
    "y=Covid[\"EDAD\"]\n",
    "Limite_Superior= y.mean() + 3*y.std()\n",
    "Limite_Inferior= y.mean() - 3*y.std()\n",
    "print(\"Limite superior permitido\", Limite_Superior)\n",
    "print(\"Limite inferior permitido\", Limite_Inferior)\n",
    "#Una vez definido el número, encontramos los outliers del dataframe \n",
    "outliers= Covid[(y>Limite_Superior)|(y<Limite_Inferior)]\n",
    "outliers\n",
    "#Se obtienen los datos sin outliers del data frame Covid \n",
    "Covid_clean= Covid[(y<=Limite_Superior)&(y>=Limite_Inferior)]\n",
    "Covid_clean"
   ]
  },
  {
   "cell_type": "code",
   "execution_count": 36,
   "metadata": {},
   "outputs": [
    {
     "data": {
      "image/png": "[encoded data removed]",
      "text/plain": [
       "<Figure size 1080x576 with 1 Axes>"
      ]
     },
     "metadata": {
      "needs_background": "light"
     },
     "output_type": "display_data"
    }
   ],
   "source": [
    "#Hacemos un boxplot para verificar que nuestro tratamiento de outliers haya sido efectivo\n",
    "#Realizamos diagrama de caja o bigote de cada columna del dataframe para identificar outliers\n",
    "fig = plt.figure(figsize =(15, 8))\n",
    "Covid_clean[\"EDAD\"].plot(kind='box', vert=False)\n",
    "plt.title(\"Valores Atípicos Covid México\")\n",
    "plt.show()\n",
    "#La transformación se ha efectuado de forma adecuada"
   ]
  },
  {
   "cell_type": "markdown",
   "metadata": {},
   "source": [
    "# Visualización "
   ]
  },
  {
   "cell_type": "code",
   "execution_count": 157,
   "metadata": {},
   "outputs": [],
   "source": [
    "#Para facilitar nuestras visualizaciones modifiquemos algunos de los códigos de la base\n",
    "#INTUBADO \n",
    "Covid_clean['INTUBADO'] = Covid_clean['INTUBADO'].replace([97,99],0)"
   ]
  },
  {
   "cell_type": "code",
   "execution_count": 134,
   "metadata": {},
   "outputs": [
    {
     "data": {
      "text/html": [
       "<div>\n",
       "<style scoped>\n",
       "    .dataframe tbody tr th:only-of-type {\n",
       "        vertical-align: middle;\n",
       "    }\n",
       "\n",
       "    .dataframe tbody tr th {\n",
       "        vertical-align: top;\n",
       "    }\n",
       "\n",
       "    .dataframe thead th {\n",
       "        text-align: right;\n",
       "    }\n",
       "</style>\n",
       "<table border=\"1\" class=\"dataframe\">\n",
       "  <thead>\n",
       "    <tr style=\"text-align: right;\">\n",
       "      <th>SEXO</th>\n",
       "      <th>1.0</th>\n",
       "      <th>2.0</th>\n",
       "    </tr>\n",
       "    <tr>\n",
       "      <th>ID_REGISTRO</th>\n",
       "      <th></th>\n",
       "      <th></th>\n",
       "    </tr>\n",
       "  </thead>\n",
       "  <tbody>\n",
       "    <tr>\n",
       "      <th>013a0e</th>\n",
       "      <td>NaN</td>\n",
       "      <td>23.0</td>\n",
       "    </tr>\n",
       "    <tr>\n",
       "      <th>01e27d</th>\n",
       "      <td>NaN</td>\n",
       "      <td>81.0</td>\n",
       "    </tr>\n",
       "    <tr>\n",
       "      <th>02380f</th>\n",
       "      <td>NaN</td>\n",
       "      <td>62.0</td>\n",
       "    </tr>\n",
       "    <tr>\n",
       "      <th>03a438</th>\n",
       "      <td>35.0</td>\n",
       "      <td>NaN</td>\n",
       "    </tr>\n",
       "    <tr>\n",
       "      <th>03b5db</th>\n",
       "      <td>NaN</td>\n",
       "      <td>34.0</td>\n",
       "    </tr>\n",
       "    <tr>\n",
       "      <th>...</th>\n",
       "      <td>...</td>\n",
       "      <td>...</td>\n",
       "    </tr>\n",
       "    <tr>\n",
       "      <th>ed2f36</th>\n",
       "      <td>NaN</td>\n",
       "      <td>38.0</td>\n",
       "    </tr>\n",
       "    <tr>\n",
       "      <th>ed3a4c</th>\n",
       "      <td>25.0</td>\n",
       "      <td>NaN</td>\n",
       "    </tr>\n",
       "    <tr>\n",
       "      <th>eddf65</th>\n",
       "      <td>35.0</td>\n",
       "      <td>NaN</td>\n",
       "    </tr>\n",
       "    <tr>\n",
       "      <th>edea32</th>\n",
       "      <td>NaN</td>\n",
       "      <td>41.0</td>\n",
       "    </tr>\n",
       "    <tr>\n",
       "      <th>ee0dea</th>\n",
       "      <td>55.0</td>\n",
       "      <td>NaN</td>\n",
       "    </tr>\n",
       "  </tbody>\n",
       "</table>\n",
       "<p>500 rows × 2 columns</p>\n",
       "</div>"
      ],
      "text/plain": [
       "SEXO          1.0   2.0\n",
       "ID_REGISTRO            \n",
       "013a0e        NaN  23.0\n",
       "01e27d        NaN  81.0\n",
       "02380f        NaN  62.0\n",
       "03a438       35.0   NaN\n",
       "03b5db        NaN  34.0\n",
       "...           ...   ...\n",
       "ed2f36        NaN  38.0\n",
       "ed3a4c       25.0   NaN\n",
       "eddf65       35.0   NaN\n",
       "edea32        NaN  41.0\n",
       "ee0dea       55.0   NaN\n",
       "\n",
       "[500 rows x 2 columns]"
      ]
     },
     "execution_count": 134,
     "metadata": {},
     "output_type": "execute_result"
    }
   ],
   "source": [
    "cf.getThemes()\n",
    "#Comenzamos con la restructuración del dataframe \n",
    "#La función pivot establece un índice, columns establece las columnas (índice, columnas y datos)\n",
    "#La columna elegida como índice no debe tener entradas duplicadas \n",
    "#Se selecciona una submuestra de nuestro dataframe para facilitar la visualización \n",
    "Data_short= Covid_clean.sample(n = 100)\n",
    "Data_short= Data.pivot(index='ID_REGISTRO', columns='SEXO',  values='EDAD')\n",
    "Data_short"
   ]
  },
  {
   "cell_type": "code",
   "execution_count": 135,
   "metadata": {},
   "outputs": [
    {
     "data": {
      "application/vnd.plotly.v1+json": {
       "config": {
        "linkText": "Export to plot.ly",
        "plotlyServerURL": "https://plot.ly",
        "showLink": true
       },
       "data": [
        {
         "line": {
          "color": "rgba(255, 153, 51, 1.0)",
          "dash": "solid",
          "shape": "linear",
          "width": 1.3
         },
         "mode": "lines",
         "name": "1.0",
         "text": "",
         "type": "scatter",
         "x": [
          "013a0e",
          "01e27d",
          "02380f",
          "03a438",
          "03b5db",
          "03d8b5",
          "043fb6",
          "04583b",
          "04af5f",
          "04c140",
          "04f190",
          "04f613",
          "04fc18",
          "0681f2",
          "06e951",
          "06fce8",
          "0793b8",
          "07977b",
          "07ff5c",
          "08c5f9",
          "09675e",
          "0989f5",
          "09bbe4",
          "09bebb",
          "0a1655",
          "0a3237",
          "0a392b",
          "0a98b4",
          "0ae8bd",
          "0b78dd",
          "0ba73d",
          "0bb6ea",
          "0e283a",
          "0e6d2a",
          "0f43ef",
          "0f6360",
          "0fe043",
          "0fef08",
          "100caf",
          "10e0db",
          "112072",
          "11e31a",
          "1208dc",
          "1211c7",
          "12de4c",
          "135f85",
          "13b5a5",
          "13c92b",
          "13cf10",
          "1432c8",
          "158b47",
          "15ec76",
          "16789f",
          "16edae",
          "174bb4",
          "17c667",
          "17d402",
          "17d678",
          "180725",
          "18cc15",
          "198b54",
          "19bf0f",
          "1a19dd",
          "1a1ba9",
          "1a4a8d",
          "1a78cd",
          "1b2d20",
          "1beae1",
          "1c4d2e",
          "1c80d5",
          "1ce537",
          "1d0f82",
          "1d1a67",
          "1d5334",
          "1e1717",
          "1e364f",
          "1e58a6",
          "1e6dad",
          "1eaf9d",
          "1ee27c",
          "1f100a",
          "1f7d1e",
          "1f7f87",
          "2.25E+04",
          "2.25E+10",
          "2007f4",
          "207dd7",
          "21093b",
          "21cc1d",
          "221cdc",
          "224bb1",
          "22a4a8",
          "230eda",
          "23560f",
          "238688",
          "23b835",
          "242ca8",
          "24a8a9",
          "24cbdd",
          "251cb3",
          "26a06a",
          "278ab9",
          "27b230",
          "27c124",
          "280051",
          "284743",
          "288b9e",
          "28a849",
          "2912c2",
          "2922df",
          "297de1",
          "29f50e",
          "29f570",
          "2a0fc2",
          "2a1e1c",
          "2a543f",
          "2a7a3b",
          "2aa3c8",
          "2b19a2",
          "2b8ed3",
          "2bc0b5",
          "2bf590",
          "2c102f",
          "2c1747",
          "2c3b53",
          "2c3bae",
          "2d077f",
          "2d4c0c",
          "2de180",
          "2df4c3",
          "2fb44e",
          "300f7b",
          "309ce4",
          "30b018",
          "311a51",
          "313324",
          "31380c",
          "318396",
          "319ae0",
          "31c5d3",
          "321b64",
          "3246d1",
          "326d0e",
          "32862d",
          "328a5a",
          "32b2f5",
          "33025d",
          "332220",
          "337a11",
          "338346",
          "3391f0",
          "33fcd5",
          "349086",
          "34d199",
          "35687c",
          "35a9fb",
          "35c3a7",
          "36837e",
          "370ada",
          "375590",
          "375634",
          "37802e",
          "378f82",
          "379911",
          "382612",
          "3826f4",
          "387b76",
          "38c289",
          "3947d5",
          "399f92",
          "39a1d5",
          "3a2068",
          "3a29ef",
          "3a5f83",
          "3aca6c",
          "3b5b64",
          "3babb2",
          "3bfb1e",
          "3c34d3",
          "3c4c84",
          "3d0064",
          "3d0e42",
          "3d59ea",
          "3d5a78",
          "3e50d6",
          "3e90dc",
          "3eb226",
          "3ecd43",
          "3ed81b",
          "3edbf0",
          "3eddf2",
          "3f26ca",
          "3f83c6",
          "4.04E+23",
          "4.30E+133",
          "405927",
          "4098ef",
          "40e520",
          "420a52",
          "42160c",
          "4289ed",
          "42d05f",
          "43f6f3",
          "43fece",
          "44350",
          "444395",
          "44b043",
          "44c56c",
          "450355",
          "45408",
          "458a24",
          "458cf8",
          "460101",
          "463324",
          "46725c",
          "46a376",
          "472b95",
          "477ef7",
          "4789b1",
          "47f873",
          "485cdb",
          "49bafb",
          "4a7184",
          "4b0ef1",
          "4b5708",
          "4b78b7",
          "4b7ef6",
          "4bf3e8",
          "4bf9b2",
          "4c271a",
          "4cd585",
          "4d4623",
          "4d6d9d",
          "4d72d3",
          "4d76d4",
          "4dd379",
          "4e18dc",
          "4ea499",
          "4f0290",
          "5.18E+04",
          "5.88E+10",
          "5029a8",
          "515308",
          "51860a",
          "51c959",
          "51cf55",
          "51ef8e",
          "52c923",
          "5354f7",
          "5359a8",
          "54c1f2",
          "5655aa",
          "56b7f2",
          "56bdee",
          "575c72",
          "57d77e",
          "588e9b",
          "5a9664",
          "5cf2a0",
          "5d3a46",
          "5d9e2d",
          "5f2e7e",
          "5f9ee8",
          "6.52E+92",
          "6018d3",
          "60a95d",
          "613551",
          "61455",
          "64810",
          "648115",
          "655d2b",
          "656271",
          "65b650",
          "66362c",
          "66503a",
          "670997",
          "672965",
          "672ff3",
          "67b651",
          "692d43",
          "69752",
          "6a456e",
          "6a565b",
          "6b070b",
          "6bc8bf",
          "6d989e",
          "6d9ead",
          "6ec709",
          "6ffae7",
          "7.41E+06",
          "70e6b4",
          "717a00",
          "71a02c",
          "72db1f",
          "73a457",
          "75453f",
          "75c95b",
          "763d7f",
          "768c69",
          "7872eb",
          "788695",
          "7ae8df",
          "7bcafe",
          "7c6986",
          "7c7d3c",
          "7c8256",
          "7d4099",
          "7d5eaf",
          "7dc5b1",
          "7e88d5",
          "7ea5f3",
          "7ef1b1",
          "7ff427",
          "8021f2",
          "810a87",
          "8156be",
          "822827",
          "83498d",
          "841630",
          "84e75b",
          "84fad7",
          "871e3a",
          "88aa2f",
          "892050",
          "8946d5",
          "8959d8",
          "89a7a0",
          "8a289a",
          "8b2e6e",
          "8cc25a",
          "8de03d",
          "8e77e0",
          "8ee8e3",
          "8f22ae",
          "8f39fa",
          "8f80da",
          "8fd59f",
          "8ffaf1",
          "9.56E+96",
          "90cfdb",
          "91b3e1",
          "9254a6",
          "9306cb",
          "9356be",
          "939a65",
          "94015",
          "94a362",
          "94c5c5",
          "94de5a",
          "961d0e",
          "9724d3",
          "97431f",
          "97497f",
          "984dc6",
          "985334",
          "9c8e87",
          "9d0a5e",
          "9d6ad3",
          "9dcaee",
          "9f4502",
          "9f7514",
          "9f75ff",
          "a0849e",
          "a0cc40",
          "a1c03c",
          "a27f02",
          "a2d572",
          "a3bcdf",
          "a3d083",
          "a47a3f",
          "a593cd",
          "a6d4f6",
          "a6d62f",
          "a6f10b",
          "a71335",
          "a74909",
          "a8817e",
          "a8e458",
          "a8e570",
          "a967c6",
          "a9ca0d",
          "a9f216",
          "aa4ddc",
          "acc14d",
          "acca9c",
          "ad0aac",
          "ad50b7",
          "adecd0",
          "aedc55",
          "af8742",
          "afd5d2",
          "b005c6",
          "b033c9",
          "b1922a",
          "b198e9",
          "b1b874",
          "b1d392",
          "b255ac",
          "b25be5",
          "b26367",
          "b2aa94",
          "b2ff94",
          "b3a999",
          "b46368",
          "b503e7",
          "b53cda",
          "b544fa",
          "b5a75a",
          "b5c13b",
          "b7d23e",
          "b89682",
          "b89936",
          "b8f5ce",
          "b969a7",
          "bb093e",
          "bb8b5b",
          "bba183",
          "bc71fe",
          "bc8bae",
          "bc904e",
          "bcd933",
          "bcfc1f",
          "bd1b40",
          "bd5307",
          "be5c8c",
          "bf4a2f",
          "bf81f2",
          "bfaae0",
          "bfd23f",
          "c0722f",
          "c0ad56",
          "c2b330",
          "c2e5b5",
          "c3bc72",
          "c3c101",
          "c3e343",
          "c643ec",
          "c6b9e1",
          "c6bede",
          "c728e0",
          "c756b0",
          "c7604e",
          "c7d576",
          "c82590",
          "c8cb63",
          "c905f9",
          "c90b37",
          "ca6577",
          "cba805",
          "cc3814",
          "cc68e2",
          "cd110a",
          "cd742d",
          "cd9d77",
          "cdaba4",
          "ce04a6",
          "ce5765",
          "cebdc4",
          "d0b3d6",
          "d1faaa",
          "d2dee0",
          "d318a0",
          "d53ddf",
          "d69ebc",
          "d6c106",
          "d70be3",
          "d7c0bb",
          "d8b2b6",
          "d8f1c7",
          "db04a4",
          "db1a4c",
          "db76c9",
          "dbadf8",
          "de0dac",
          "de4f8b",
          "defad1",
          "e09d29",
          "e09f63",
          "e1bb5a",
          "e254e9",
          "e2f10c",
          "e31e86",
          "e32514",
          "e3f9cf",
          "e424fc",
          "e47751",
          "e488fa",
          "e48b03",
          "e7fa64",
          "e8cce9",
          "e90a0d",
          "e9e007",
          "eb634d",
          "ec586a",
          "ec703c",
          "ed2f36",
          "ed3a4c",
          "eddf65",
          "edea32",
          "ee0dea"
         ],
         "y": [
          "",
          "",
          "",
          35,
          "",
          "",
          40,
          42,
          28,
          "",
          52,
          39,
          "",
          "",
          "",
          35,
          "",
          "",
          44,
          63,
          54,
          57,
          14,
          "",
          "",
          "",
          36,
          67,
          48,
          29,
          75,
          44,
          56,
          47,
          56,
          "",
          "",
          "",
          84,
          "",
          55,
          "",
          "",
          "",
          "",
          50,
          29,
          41,
          58,
          "",
          "",
          "",
          43,
          "",
          "",
          31,
          "",
          69,
          "",
          32,
          "",
          54,
          "",
          76,
          "",
          "",
          "",
          "",
          37,
          39,
          46,
          "",
          24,
          28,
          "",
          "",
          "",
          34,
          25,
          32,
          "",
          32,
          "",
          48,
          "",
          "",
          59,
          "",
          "",
          "",
          "",
          61,
          40,
          44,
          42,
          72,
          31,
          "",
          60,
          41,
          28,
          33,
          51,
          "",
          "",
          13,
          "",
          34,
          "",
          "",
          "",
          35,
          "",
          46,
          "",
          "",
          "",
          "",
          "",
          26,
          27,
          "",
          "",
          53,
          49,
          31,
          42,
          "",
          34,
          28,
          43,
          "",
          56,
          47,
          "",
          "",
          "",
          31,
          39,
          26,
          "",
          38,
          37,
          39,
          "",
          42,
          2,
          58,
          "",
          39,
          35,
          46,
          "",
          51,
          54,
          "",
          51,
          "",
          41,
          "",
          28,
          69,
          43,
          "",
          56,
          "",
          51,
          21,
          33,
          "",
          37,
          "",
          "",
          9,
          36,
          "",
          30,
          9,
          "",
          59,
          70,
          36,
          40,
          57,
          "",
          40,
          47,
          23,
          53,
          53,
          "",
          64,
          62,
          "",
          40,
          29,
          56,
          "",
          38,
          "",
          "",
          "",
          26,
          48,
          28,
          "",
          "",
          "",
          43,
          34,
          66,
          50,
          "",
          58,
          38,
          23,
          39,
          30,
          "",
          47,
          45,
          54,
          25,
          "",
          22,
          "",
          33,
          33,
          "",
          48,
          44,
          30,
          47,
          31,
          41,
          48,
          "",
          32,
          "",
          "",
          30,
          40,
          "",
          "",
          29,
          "",
          79,
          "",
          46,
          "",
          "",
          56,
          40,
          25,
          "",
          "",
          32,
          "",
          58,
          "",
          32,
          47,
          18,
          "",
          "",
          "",
          70,
          "",
          "",
          53,
          55,
          47,
          "",
          73,
          41,
          "",
          44,
          38,
          24,
          26,
          "",
          28,
          "",
          "",
          "",
          "",
          22,
          66,
          26,
          "",
          50,
          30,
          "",
          49,
          "",
          37,
          "",
          "",
          58,
          34,
          40,
          58,
          "",
          19,
          48,
          "",
          28,
          36,
          "",
          49,
          47,
          "",
          19,
          48,
          "",
          25,
          "",
          13,
          "",
          32,
          "",
          21,
          "",
          "",
          "",
          "",
          61,
          23,
          74,
          18,
          62,
          33,
          "",
          61,
          42,
          "",
          25,
          "",
          "",
          37,
          "",
          27,
          1,
          "",
          39,
          "",
          "",
          68,
          "",
          24,
          13,
          "",
          "",
          17,
          "",
          23,
          48,
          63,
          50,
          "",
          "",
          28,
          "",
          51,
          37,
          37,
          "",
          26,
          25,
          "",
          "",
          1,
          27,
          49,
          "",
          "",
          41,
          39,
          34,
          32,
          40,
          "",
          32,
          "",
          49,
          36,
          "",
          "",
          35,
          "",
          "",
          30,
          18,
          "",
          33,
          59,
          "",
          72,
          44,
          "",
          54,
          61,
          43,
          "",
          "",
          60,
          57,
          "",
          58,
          69,
          32,
          "",
          54,
          "",
          "",
          33,
          "",
          59,
          "",
          "",
          "",
          "",
          "",
          23,
          "",
          41,
          "",
          52,
          "",
          "",
          11,
          34,
          40,
          "",
          59,
          "",
          "",
          33,
          34,
          "",
          "",
          26,
          "",
          59,
          53,
          "",
          46,
          29,
          36,
          49,
          30,
          29,
          19,
          44,
          "",
          37,
          44,
          "",
          "",
          "",
          "",
          36,
          1,
          49,
          "",
          55,
          "",
          "",
          54,
          "",
          "",
          40,
          16,
          "",
          36,
          44,
          "",
          "",
          68,
          "",
          27,
          27,
          "",
          "",
          "",
          29,
          50,
          "",
          40,
          1,
          20,
          46,
          66,
          "",
          "",
          "",
          25,
          35,
          "",
          55
         ]
        },
        {
         "line": {
          "color": "rgba(55, 128, 191, 1.0)",
          "dash": "solid",
          "shape": "linear",
          "width": 1.3
         },
         "mode": "lines",
         "name": "2.0",
         "text": "",
         "type": "scatter",
         "x": [
          "013a0e",
          "01e27d",
          "02380f",
          "03a438",
          "03b5db",
          "03d8b5",
          "043fb6",
          "04583b",
          "04af5f",
          "04c140",
          "04f190",
          "04f613",
          "04fc18",
          "0681f2",
          "06e951",
          "06fce8",
          "0793b8",
          "07977b",
          "07ff5c",
          "08c5f9",
          "09675e",
          "0989f5",
          "09bbe4",
          "09bebb",
          "0a1655",
          "0a3237",
          "0a392b",
          "0a98b4",
          "0ae8bd",
          "0b78dd",
          "0ba73d",
          "0bb6ea",
          "0e283a",
          "0e6d2a",
          "0f43ef",
          "0f6360",
          "0fe043",
          "0fef08",
          "100caf",
          "10e0db",
          "112072",
          "11e31a",
          "1208dc",
          "1211c7",
          "12de4c",
          "135f85",
          "13b5a5",
          "13c92b",
          "13cf10",
          "1432c8",
          "158b47",
          "15ec76",
          "16789f",
          "16edae",
          "174bb4",
          "17c667",
          "17d402",
          "17d678",
          "180725",
          "18cc15",
          "198b54",
          "19bf0f",
          "1a19dd",
          "1a1ba9",
          "1a4a8d",
          "1a78cd",
          "1b2d20",
          "1beae1",
          "1c4d2e",
          "1c80d5",
          "1ce537",
          "1d0f82",
          "1d1a67",
          "1d5334",
          "1e1717",
          "1e364f",
          "1e58a6",
          "1e6dad",
          "1eaf9d",
          "1ee27c",
          "1f100a",
          "1f7d1e",
          "1f7f87",
          "2.25E+04",
          "2.25E+10",
          "2007f4",
          "207dd7",
          "21093b",
          "21cc1d",
          "221cdc",
          "224bb1",
          "22a4a8",
          "230eda",
          "23560f",
          "238688",
          "23b835",
          "242ca8",
          "24a8a9",
          "24cbdd",
          "251cb3",
          "26a06a",
          "278ab9",
          "27b230",
          "27c124",
          "280051",
          "284743",
          "288b9e",
          "28a849",
          "2912c2",
          "2922df",
          "297de1",
          "29f50e",
          "29f570",
          "2a0fc2",
          "2a1e1c",
          "2a543f",
          "2a7a3b",
          "2aa3c8",
          "2b19a2",
          "2b8ed3",
          "2bc0b5",
          "2bf590",
          "2c102f",
          "2c1747",
          "2c3b53",
          "2c3bae",
          "2d077f",
          "2d4c0c",
          "2de180",
          "2df4c3",
          "2fb44e",
          "300f7b",
          "309ce4",
          "30b018",
          "311a51",
          "313324",
          "31380c",
          "318396",
          "319ae0",
          "31c5d3",
          "321b64",
          "3246d1",
          "326d0e",
          "32862d",
          "328a5a",
          "32b2f5",
          "33025d",
          "332220",
          "337a11",
          "338346",
          "3391f0",
          "33fcd5",
          "349086",
          "34d199",
          "35687c",
          "35a9fb",
          "35c3a7",
          "36837e",
          "370ada",
          "375590",
          "375634",
          "37802e",
          "378f82",
          "379911",
          "382612",
          "3826f4",
          "387b76",
          "38c289",
          "3947d5",
          "399f92",
          "39a1d5",
          "3a2068",
          "3a29ef",
          "3a5f83",
          "3aca6c",
          "3b5b64",
          "3babb2",
          "3bfb1e",
          "3c34d3",
          "3c4c84",
          "3d0064",
          "3d0e42",
          "3d59ea",
          "3d5a78",
          "3e50d6",
          "3e90dc",
          "3eb226",
          "3ecd43",
          "3ed81b",
          "3edbf0",
          "3eddf2",
          "3f26ca",
          "3f83c6",
          "4.04E+23",
          "4.30E+133",
          "405927",
          "4098ef",
          "40e520",
          "420a52",
          "42160c",
          "4289ed",
          "42d05f",
          "43f6f3",
          "43fece",
          "44350",
          "444395",
          "44b043",
          "44c56c",
          "450355",
          "45408",
          "458a24",
          "458cf8",
          "460101",
          "463324",
          "46725c",
          "46a376",
          "472b95",
          "477ef7",
          "4789b1",
          "47f873",
          "485cdb",
          "49bafb",
          "4a7184",
          "4b0ef1",
          "4b5708",
          "4b78b7",
          "4b7ef6",
          "4bf3e8",
          "4bf9b2",
          "4c271a",
          "4cd585",
          "4d4623",
          "4d6d9d",
          "4d72d3",
          "4d76d4",
          "4dd379",
          "4e18dc",
          "4ea499",
          "4f0290",
          "5.18E+04",
          "5.88E+10",
          "5029a8",
          "515308",
          "51860a",
          "51c959",
          "51cf55",
          "51ef8e",
          "52c923",
          "5354f7",
          "5359a8",
          "54c1f2",
          "5655aa",
          "56b7f2",
          "56bdee",
          "575c72",
          "57d77e",
          "588e9b",
          "5a9664",
          "5cf2a0",
          "5d3a46",
          "5d9e2d",
          "5f2e7e",
          "5f9ee8",
          "6.52E+92",
          "6018d3",
          "60a95d",
          "613551",
          "61455",
          "64810",
          "648115",
          "655d2b",
          "656271",
          "65b650",
          "66362c",
          "66503a",
          "670997",
          "672965",
          "672ff3",
          "67b651",
          "692d43",
          "69752",
          "6a456e",
          "6a565b",
          "6b070b",
          "6bc8bf",
          "6d989e",
          "6d9ead",
          "6ec709",
          "6ffae7",
          "7.41E+06",
          "70e6b4",
          "717a00",
          "71a02c",
          "72db1f",
          "73a457",
          "75453f",
          "75c95b",
          "763d7f",
          "768c69",
          "7872eb",
          "788695",
          "7ae8df",
          "7bcafe",
          "7c6986",
          "7c7d3c",
          "7c8256",
          "7d4099",
          "7d5eaf",
          "7dc5b1",
          "7e88d5",
          "7ea5f3",
          "7ef1b1",
          "7ff427",
          "8021f2",
          "810a87",
          "8156be",
          "822827",
          "83498d",
          "841630",
          "84e75b",
          "84fad7",
          "871e3a",
          "88aa2f",
          "892050",
          "8946d5",
          "8959d8",
          "89a7a0",
          "8a289a",
          "8b2e6e",
          "8cc25a",
          "8de03d",
          "8e77e0",
          "8ee8e3",
          "8f22ae",
          "8f39fa",
          "8f80da",
          "8fd59f",
          "8ffaf1",
          "9.56E+96",
          "90cfdb",
          "91b3e1",
          "9254a6",
          "9306cb",
          "9356be",
          "939a65",
          "94015",
          "94a362",
          "94c5c5",
          "94de5a",
          "961d0e",
          "9724d3",
          "97431f",
          "97497f",
          "984dc6",
          "985334",
          "9c8e87",
          "9d0a5e",
          "9d6ad3",
          "9dcaee",
          "9f4502",
          "9f7514",
          "9f75ff",
          "a0849e",
          "a0cc40",
          "a1c03c",
          "a27f02",
          "a2d572",
          "a3bcdf",
          "a3d083",
          "a47a3f",
          "a593cd",
          "a6d4f6",
          "a6d62f",
          "a6f10b",
          "a71335",
          "a74909",
          "a8817e",
          "a8e458",
          "a8e570",
          "a967c6",
          "a9ca0d",
          "a9f216",
          "aa4ddc",
          "acc14d",
          "acca9c",
          "ad0aac",
          "ad50b7",
          "adecd0",
          "aedc55",
          "af8742",
          "afd5d2",
          "b005c6",
          "b033c9",
          "b1922a",
          "b198e9",
          "b1b874",
          "b1d392",
          "b255ac",
          "b25be5",
          "b26367",
          "b2aa94",
          "b2ff94",
          "b3a999",
          "b46368",
          "b503e7",
          "b53cda",
          "b544fa",
          "b5a75a",
          "b5c13b",
          "b7d23e",
          "b89682",
          "b89936",
          "b8f5ce",
          "b969a7",
          "bb093e",
          "bb8b5b",
          "bba183",
          "bc71fe",
          "bc8bae",
          "bc904e",
          "bcd933",
          "bcfc1f",
          "bd1b40",
          "bd5307",
          "be5c8c",
          "bf4a2f",
          "bf81f2",
          "bfaae0",
          "bfd23f",
          "c0722f",
          "c0ad56",
          "c2b330",
          "c2e5b5",
          "c3bc72",
          "c3c101",
          "c3e343",
          "c643ec",
          "c6b9e1",
          "c6bede",
          "c728e0",
          "c756b0",
          "c7604e",
          "c7d576",
          "c82590",
          "c8cb63",
          "c905f9",
          "c90b37",
          "ca6577",
          "cba805",
          "cc3814",
          "cc68e2",
          "cd110a",
          "cd742d",
          "cd9d77",
          "cdaba4",
          "ce04a6",
          "ce5765",
          "cebdc4",
          "d0b3d6",
          "d1faaa",
          "d2dee0",
          "d318a0",
          "d53ddf",
          "d69ebc",
          "d6c106",
          "d70be3",
          "d7c0bb",
          "d8b2b6",
          "d8f1c7",
          "db04a4",
          "db1a4c",
          "db76c9",
          "dbadf8",
          "de0dac",
          "de4f8b",
          "defad1",
          "e09d29",
          "e09f63",
          "e1bb5a",
          "e254e9",
          "e2f10c",
          "e31e86",
          "e32514",
          "e3f9cf",
          "e424fc",
          "e47751",
          "e488fa",
          "e48b03",
          "e7fa64",
          "e8cce9",
          "e90a0d",
          "e9e007",
          "eb634d",
          "ec586a",
          "ec703c",
          "ed2f36",
          "ed3a4c",
          "eddf65",
          "edea32",
          "ee0dea"
         ],
         "y": [
          23,
          81,
          62,
          "",
          34,
          62,
          "",
          "",
          "",
          23,
          "",
          "",
          40,
          21,
          40,
          "",
          43,
          30,
          "",
          "",
          "",
          "",
          "",
          30,
          3,
          31,
          "",
          "",
          "",
          "",
          "",
          "",
          "",
          "",
          "",
          38,
          47,
          39,
          "",
          28,
          "",
          55,
          21,
          29,
          37,
          "",
          "",
          "",
          "",
          51,
          63,
          26,
          "",
          49,
          36,
          "",
          25,
          "",
          33,
          "",
          58,
          "",
          63,
          "",
          49,
          41,
          36,
          38,
          "",
          "",
          "",
          41,
          "",
          "",
          81,
          51,
          34,
          "",
          "",
          "",
          37,
          "",
          29,
          "",
          47,
          46,
          "",
          19,
          36,
          23,
          31,
          "",
          "",
          "",
          "",
          "",
          "",
          2,
          "",
          "",
          "",
          "",
          "",
          35,
          71,
          "",
          54,
          "",
          55,
          59,
          59,
          "",
          37,
          "",
          47,
          57,
          21,
          29,
          41,
          "",
          "",
          32,
          35,
          "",
          "",
          "",
          "",
          65,
          "",
          "",
          "",
          54,
          "",
          "",
          62,
          31,
          48,
          "",
          "",
          "",
          38,
          "",
          "",
          "",
          67,
          "",
          "",
          "",
          20,
          "",
          "",
          "",
          12,
          "",
          "",
          25,
          "",
          62,
          "",
          31,
          "",
          "",
          "",
          42,
          "",
          31,
          "",
          "",
          "",
          57,
          "",
          84,
          68,
          "",
          "",
          42,
          "",
          "",
          28,
          "",
          "",
          "",
          "",
          "",
          44,
          "",
          "",
          "",
          "",
          "",
          58,
          "",
          "",
          43,
          "",
          "",
          "",
          20,
          "",
          34,
          42,
          33,
          "",
          "",
          "",
          53,
          19,
          25,
          "",
          "",
          "",
          "",
          26,
          "",
          "",
          "",
          "",
          "",
          24,
          "",
          "",
          "",
          "",
          35,
          "",
          33,
          "",
          "",
          31,
          "",
          "",
          "",
          "",
          "",
          "",
          "",
          46,
          "",
          31,
          42,
          "",
          "",
          35,
          30,
          "",
          17,
          "",
          20,
          "",
          49,
          41,
          "",
          "",
          "",
          17,
          48,
          "",
          46,
          "",
          61,
          "",
          "",
          "",
          26,
          54,
          27,
          "",
          56,
          50,
          "",
          "",
          "",
          70,
          "",
          "",
          24,
          "",
          "",
          "",
          "",
          68,
          "",
          34,
          44,
          41,
          9,
          "",
          "",
          "",
          54,
          "",
          "",
          45,
          "",
          36,
          "",
          22,
          33,
          "",
          "",
          "",
          "",
          53,
          "",
          "",
          52,
          "",
          "",
          23,
          "",
          "",
          20,
          "",
          "",
          26,
          "",
          43,
          "",
          25,
          "",
          34,
          "",
          42,
          44,
          24,
          34,
          "",
          "",
          "",
          "",
          "",
          "",
          31,
          "",
          "",
          52,
          "",
          35,
          1,
          "",
          44,
          "",
          "",
          9,
          "",
          0,
          24,
          "",
          48,
          "",
          "",
          46,
          29,
          "",
          60,
          "",
          "",
          "",
          "",
          73,
          42,
          "",
          56,
          "",
          "",
          "",
          38,
          "",
          "",
          43,
          40,
          "",
          "",
          "",
          1,
          39,
          "",
          "",
          "",
          "",
          "",
          66,
          "",
          29,
          "",
          "",
          22,
          54,
          "",
          36,
          54,
          "",
          "",
          53,
          "",
          "",
          55,
          "",
          "",
          69,
          "",
          "",
          "",
          27,
          43,
          "",
          "",
          52,
          "",
          "",
          "",
          26,
          "",
          42,
          27,
          "",
          66,
          "",
          51,
          48,
          46,
          30,
          64,
          "",
          28,
          "",
          44,
          "",
          65,
          38,
          "",
          "",
          "",
          19,
          "",
          20,
          37,
          "",
          "",
          37,
          32,
          "",
          44,
          "",
          "",
          48,
          "",
          "",
          "",
          "",
          "",
          "",
          "",
          "",
          51,
          "",
          "",
          52,
          56,
          33,
          19,
          "",
          "",
          "",
          38,
          "",
          23,
          37,
          "",
          30,
          58,
          "",
          "",
          6,
          "",
          "",
          32,
          16,
          "",
          69,
          "",
          "",
          29,
          42,
          49,
          "",
          "",
          24,
          "",
          "",
          "",
          "",
          "",
          47,
          52,
          38,
          "",
          "",
          41,
          ""
         ]
        }
       ],
       "layout": {
        "legend": {
         "bgcolor": "#F5F6F9",
         "font": {
          "color": "#4D5663"
         }
        },
        "paper_bgcolor": "#F5F6F9",
        "plot_bgcolor": "#F5F6F9",
        "template": {
         "data": {
          "bar": [
           {
            "error_x": {
             "color": "#2a3f5f"
            },
            "error_y": {
             "color": "#2a3f5f"
            },
            "marker": {
             "line": {
              "color": "#E5ECF6",
              "width": 0.5
             },
             "pattern": {
              "fillmode": "overlay",
              "size": 10,
              "solidity": 0.2
             }
            },
            "type": "bar"
           }
          ],
          "barpolar": [
           {
            "marker": {
             "line": {
              "color": "#E5ECF6",
              "width": 0.5
             },
             "pattern": {
              "fillmode": "overlay",
              "size": 10,
              "solidity": 0.2
             }
            },
            "type": "barpolar"
           }
          ],
          "carpet": [
           {
            "aaxis": {
             "endlinecolor": "#2a3f5f",
             "gridcolor": "white",
             "linecolor": "white",
             "minorgridcolor": "white",
             "startlinecolor": "#2a3f5f"
            },
            "baxis": {
             "endlinecolor": "#2a3f5f",
             "gridcolor": "white",
             "linecolor": "white",
             "minorgridcolor": "white",
             "startlinecolor": "#2a3f5f"
            },
            "type": "carpet"
           }
          ],
          "choropleth": [
           {
            "colorbar": {
             "outlinewidth": 0,
             "ticks": ""
            },
            "type": "choropleth"
           }
          ],
          "contour": [
           {
            "colorbar": {
             "outlinewidth": 0,
             "ticks": ""
            },
            "colorscale": [
             [
              0,
              "#0d0887"
             ],
             [
              0.1111111111111111,
              "#46039f"
             ],
             [
              0.2222222222222222,
              "#7201a8"
             ],
             [
              0.3333333333333333,
              "#9c179e"
             ],
             [
              0.4444444444444444,
              "#bd3786"
             ],
             [
              0.5555555555555556,
              "#d8576b"
             ],
             [
              0.6666666666666666,
              "#ed7953"
             ],
             [
              0.7777777777777778,
              "#fb9f3a"
             ],
             [
              0.8888888888888888,
              "#fdca26"
             ],
             [
              1,
              "#f0f921"
             ]
            ],
            "type": "contour"
           }
          ],
          "contourcarpet": [
           {
            "colorbar": {
             "outlinewidth": 0,
             "ticks": ""
            },
            "type": "contourcarpet"
           }
          ],
          "heatmap": [
           {
            "colorbar": {
             "outlinewidth": 0,
             "ticks": ""
            },
            "colorscale": [
             [
              0,
              "#0d0887"
             ],
             [
              0.1111111111111111,
              "#46039f"
             ],
             [
              0.2222222222222222,
              "#7201a8"
             ],
             [
              0.3333333333333333,
              "#9c179e"
             ],
             [
              0.4444444444444444,
              "#bd3786"
             ],
             [
              0.5555555555555556,
              "#d8576b"
             ],
             [
              0.6666666666666666,
              "#ed7953"
             ],
             [
              0.7777777777777778,
              "#fb9f3a"
             ],
             [
              0.8888888888888888,
              "#fdca26"
             ],
             [
              1,
              "#f0f921"
             ]
            ],
            "type": "heatmap"
           }
          ],
          "heatmapgl": [
           {
            "colorbar": {
             "outlinewidth": 0,
             "ticks": ""
            },
            "colorscale": [
             [
              0,
              "#0d0887"
             ],
             [
              0.1111111111111111,
              "#46039f"
             ],
             [
              0.2222222222222222,
              "#7201a8"
             ],
             [
              0.3333333333333333,
              "#9c179e"
             ],
             [
              0.4444444444444444,
              "#bd3786"
             ],
             [
              0.5555555555555556,
              "#d8576b"
             ],
             [
              0.6666666666666666,
              "#ed7953"
             ],
             [
              0.7777777777777778,
              "#fb9f3a"
             ],
             [
              0.8888888888888888,
              "#fdca26"
             ],
             [
              1,
              "#f0f921"
             ]
            ],
            "type": "heatmapgl"
           }
          ],
          "histogram": [
           {
            "marker": {
             "pattern": {
              "fillmode": "overlay",
              "size": 10,
              "solidity": 0.2
             }
            },
            "type": "histogram"
           }
          ],
          "histogram2d": [
           {
            "colorbar": {
             "outlinewidth": 0,
             "ticks": ""
            },
            "colorscale": [
             [
              0,
              "#0d0887"
             ],
             [
              0.1111111111111111,
              "#46039f"
             ],
             [
              0.2222222222222222,
              "#7201a8"
             ],
             [
              0.3333333333333333,
              "#9c179e"
             ],
             [
              0.4444444444444444,
              "#bd3786"
             ],
             [
              0.5555555555555556,
              "#d8576b"
             ],
             [
              0.6666666666666666,
              "#ed7953"
             ],
             [
              0.7777777777777778,
              "#fb9f3a"
             ],
             [
              0.8888888888888888,
              "#fdca26"
             ],
             [
              1,
              "#f0f921"
             ]
            ],
            "type": "histogram2d"
           }
          ],
          "histogram2dcontour": [
           {
            "colorbar": {
             "outlinewidth": 0,
             "ticks": ""
            },
            "colorscale": [
             [
              0,
              "#0d0887"
             ],
             [
              0.1111111111111111,
              "#46039f"
             ],
             [
              0.2222222222222222,
              "#7201a8"
             ],
             [
              0.3333333333333333,
              "#9c179e"
             ],
             [
              0.4444444444444444,
              "#bd3786"
             ],
             [
              0.5555555555555556,
              "#d8576b"
             ],
             [
              0.6666666666666666,
              "#ed7953"
             ],
             [
              0.7777777777777778,
              "#fb9f3a"
             ],
             [
              0.8888888888888888,
              "#fdca26"
             ],
             [
              1,
              "#f0f921"
             ]
            ],
            "type": "histogram2dcontour"
           }
          ],
          "mesh3d": [
           {
            "colorbar": {
             "outlinewidth": 0,
             "ticks": ""
            },
            "type": "mesh3d"
           }
          ],
          "parcoords": [
           {
            "line": {
             "colorbar": {
              "outlinewidth": 0,
              "ticks": ""
             }
            },
            "type": "parcoords"
           }
          ],
          "pie": [
           {
            "automargin": true,
            "type": "pie"
           }
          ],
          "scatter": [
           {
            "fillpattern": {
             "fillmode": "overlay",
             "size": 10,
             "solidity": 0.2
            },
            "type": "scatter"
           }
          ],
          "scatter3d": [
           {
            "line": {
             "colorbar": {
              "outlinewidth": 0,
              "ticks": ""
             }
            },
            "marker": {
             "colorbar": {
              "outlinewidth": 0,
              "ticks": ""
             }
            },
            "type": "scatter3d"
           }
          ],
          "scattercarpet": [
           {
            "marker": {
             "colorbar": {
              "outlinewidth": 0,
              "ticks": ""
             }
            },
            "type": "scattercarpet"
           }
          ],
          "scattergeo": [
           {
            "marker": {
             "colorbar": {
              "outlinewidth": 0,
              "ticks": ""
             }
            },
            "type": "scattergeo"
           }
          ],
          "scattergl": [
           {
            "marker": {
             "colorbar": {
              "outlinewidth": 0,
              "ticks": ""
             }
            },
            "type": "scattergl"
           }
          ],
          "scattermapbox": [
           {
            "marker": {
             "colorbar": {
              "outlinewidth": 0,
              "ticks": ""
             }
            },
            "type": "scattermapbox"
           }
          ],
          "scatterpolar": [
           {
            "marker": {
             "colorbar": {
              "outlinewidth": 0,
              "ticks": ""
             }
            },
            "type": "scatterpolar"
           }
          ],
          "scatterpolargl": [
           {
            "marker": {
             "colorbar": {
              "outlinewidth": 0,
              "ticks": ""
             }
            },
            "type": "scatterpolargl"
           }
          ],
          "scatterternary": [
           {
            "marker": {
             "colorbar": {
              "outlinewidth": 0,
              "ticks": ""
             }
            },
            "type": "scatterternary"
           }
          ],
          "surface": [
           {
            "colorbar": {
             "outlinewidth": 0,
             "ticks": ""
            },
            "colorscale": [
             [
              0,
              "#0d0887"
             ],
             [
              0.1111111111111111,
              "#46039f"
             ],
             [
              0.2222222222222222,
              "#7201a8"
             ],
             [
              0.3333333333333333,
              "#9c179e"
             ],
             [
              0.4444444444444444,
              "#bd3786"
             ],
             [
              0.5555555555555556,
              "#d8576b"
             ],
             [
              0.6666666666666666,
              "#ed7953"
             ],
             [
              0.7777777777777778,
              "#fb9f3a"
             ],
             [
              0.8888888888888888,
              "#fdca26"
             ],
             [
              1,
              "#f0f921"
             ]
            ],
            "type": "surface"
           }
          ],
          "table": [
           {
            "cells": {
             "fill": {
              "color": "#EBF0F8"
             },
             "line": {
              "color": "white"
             }
            },
            "header": {
             "fill": {
              "color": "#C8D4E3"
             },
             "line": {
              "color": "white"
             }
            },
            "type": "table"
           }
          ]
         },
         "layout": {
          "annotationdefaults": {
           "arrowcolor": "#2a3f5f",
           "arrowhead": 0,
           "arrowwidth": 1
          },
          "autotypenumbers": "strict",
          "coloraxis": {
           "colorbar": {
            "outlinewidth": 0,
            "ticks": ""
           }
          },
          "colorscale": {
           "diverging": [
            [
             0,
             "#8e0152"
            ],
            [
             0.1,
             "#c51b7d"
            ],
            [
             0.2,
             "#de77ae"
            ],
            [
             0.3,
             "#f1b6da"
            ],
            [
             0.4,
             "#fde0ef"
            ],
            [
             0.5,
             "#f7f7f7"
            ],
            [
             0.6,
             "#e6f5d0"
            ],
            [
             0.7,
             "#b8e186"
            ],
            [
             0.8,
             "#7fbc41"
            ],
            [
             0.9,
             "#4d9221"
            ],
            [
             1,
             "#276419"
            ]
           ],
           "sequential": [
            [
             0,
             "#0d0887"
            ],
            [
             0.1111111111111111,
             "#46039f"
            ],
            [
             0.2222222222222222,
             "#7201a8"
            ],
            [
             0.3333333333333333,
             "#9c179e"
            ],
            [
             0.4444444444444444,
             "#bd3786"
            ],
            [
             0.5555555555555556,
             "#d8576b"
            ],
            [
             0.6666666666666666,
             "#ed7953"
            ],
            [
             0.7777777777777778,
             "#fb9f3a"
            ],
            [
             0.8888888888888888,
             "#fdca26"
            ],
            [
             1,
             "#f0f921"
            ]
           ],
           "sequentialminus": [
            [
             0,
             "#0d0887"
            ],
            [
             0.1111111111111111,
             "#46039f"
            ],
            [
             0.2222222222222222,
             "#7201a8"
            ],
            [
             0.3333333333333333,
             "#9c179e"
            ],
            [
             0.4444444444444444,
             "#bd3786"
            ],
            [
             0.5555555555555556,
             "#d8576b"
            ],
            [
             0.6666666666666666,
             "#ed7953"
            ],
            [
             0.7777777777777778,
             "#fb9f3a"
            ],
            [
             0.8888888888888888,
             "#fdca26"
            ],
            [
             1,
             "#f0f921"
            ]
           ]
          },
          "colorway": [
           "#636efa",
           "#EF553B",
           "#00cc96",
           "#ab63fa",
           "#FFA15A",
           "#19d3f3",
           "#FF6692",
           "#B6E880",
           "#FF97FF",
           "#FECB52"
          ],
          "font": {
           "color": "#2a3f5f"
          },
          "geo": {
           "bgcolor": "white",
           "lakecolor": "white",
           "landcolor": "#E5ECF6",
           "showlakes": true,
           "showland": true,
           "subunitcolor": "white"
          },
          "hoverlabel": {
           "align": "left"
          },
          "hovermode": "closest",
          "mapbox": {
           "style": "light"
          },
          "paper_bgcolor": "white",
          "plot_bgcolor": "#E5ECF6",
          "polar": {
           "angularaxis": {
            "gridcolor": "white",
            "linecolor": "white",
            "ticks": ""
           },
           "bgcolor": "#E5ECF6",
           "radialaxis": {
            "gridcolor": "white",
            "linecolor": "white",
            "ticks": ""
           }
          },
          "scene": {
           "xaxis": {
            "backgroundcolor": "#E5ECF6",
            "gridcolor": "white",
            "gridwidth": 2,
            "linecolor": "white",
            "showbackground": true,
            "ticks": "",
            "zerolinecolor": "white"
           },
           "yaxis": {
            "backgroundcolor": "#E5ECF6",
            "gridcolor": "white",
            "gridwidth": 2,
            "linecolor": "white",
            "showbackground": true,
            "ticks": "",
            "zerolinecolor": "white"
           },
           "zaxis": {
            "backgroundcolor": "#E5ECF6",
            "gridcolor": "white",
            "gridwidth": 2,
            "linecolor": "white",
            "showbackground": true,
            "ticks": "",
            "zerolinecolor": "white"
           }
          },
          "shapedefaults": {
           "line": {
            "color": "#2a3f5f"
           }
          },
          "ternary": {
           "aaxis": {
            "gridcolor": "white",
            "linecolor": "white",
            "ticks": ""
           },
           "baxis": {
            "gridcolor": "white",
            "linecolor": "white",
            "ticks": ""
           },
           "bgcolor": "#E5ECF6",
           "caxis": {
            "gridcolor": "white",
            "linecolor": "white",
            "ticks": ""
           }
          },
          "title": {
           "x": 0.05
          },
          "xaxis": {
           "automargin": true,
           "gridcolor": "white",
           "linecolor": "white",
           "ticks": "",
           "title": {
            "standoff": 15
           },
           "zerolinecolor": "white",
           "zerolinewidth": 2
          },
          "yaxis": {
           "automargin": true,
           "gridcolor": "white",
           "linecolor": "white",
           "ticks": "",
           "title": {
            "standoff": 15
           },
           "zerolinecolor": "white",
           "zerolinewidth": 2
          }
         }
        },
        "title": {
         "font": {
          "color": "#4D5663"
         },
         "text": "Edad de los contagiados (n=500)"
        },
        "xaxis": {
         "gridcolor": "#E1E5ED",
         "showgrid": true,
         "tickfont": {
          "color": "#4D5663"
         },
         "title": {
          "font": {
           "color": "#4D5663"
          },
          "text": "ID"
         },
         "zerolinecolor": "#E1E5ED"
        },
        "yaxis": {
         "gridcolor": "#E1E5ED",
         "showgrid": true,
         "tickfont": {
          "color": "#4D5663"
         },
         "title": {
          "font": {
           "color": "#4D5663"
          },
          "text": "Edad"
         },
         "zerolinecolor": "#E1E5ED"
        }
       }
      },
      "text/html": [
       "<div>                            <div id=\"00fbea70-5c69-4a82-ba51-4066e56b6aba\" class=\"plotly-graph-div\" style=\"height:525px; width:100%;\"></div>            <script type=\"text/javascript\">                require([\"plotly\"], function(Plotly) {                    window.PLOTLYENV=window.PLOTLYENV || {};\n",
       "                    window.PLOTLYENV.BASE_URL='https://plot.ly';                                    if (document.getElementById(\"00fbea70-5c69-4a82-ba51-4066e56b6aba\")) {                    Plotly.newPlot(                        \"00fbea70-5c69-4a82-ba51-4066e56b6aba\",                        [{\"line\":{\"color\":\"rgba(255, 153, 51, 1.0)\",\"dash\":\"solid\",\"shape\":\"linear\",\"width\":1.3},\"mode\":\"lines\",\"name\":\"1.0\",\"text\":\"\",\"x\":[\"013a0e\",\"01e27d\",\"02380f\",\"03a438\",\"03b5db\",\"03d8b5\",\"043fb6\",\"04583b\",\"04af5f\",\"04c140\",\"04f190\",\"04f613\",\"04fc18\",\"0681f2\",\"06e951\",\"06fce8\",\"0793b8\",\"07977b\",\"07ff5c\",\"08c5f9\",\"09675e\",\"0989f5\",\"09bbe4\",\"09bebb\",\"0a1655\",\"0a3237\",\"0a392b\",\"0a98b4\",\"0ae8bd\",\"0b78dd\",\"0ba73d\",\"0bb6ea\",\"0e283a\",\"0e6d2a\",\"0f43ef\",\"0f6360\",\"0fe043\",\"0fef08\",\"100caf\",\"10e0db\",\"112072\",\"11e31a\",\"1208dc\",\"1211c7\",\"12de4c\",\"135f85\",\"13b5a5\",\"13c92b\",\"13cf10\",\"1432c8\",\"158b47\",\"15ec76\",\"16789f\",\"16edae\",\"174bb4\",\"17c667\",\"17d402\",\"17d678\",\"180725\",\"18cc15\",\"198b54\",\"19bf0f\",\"1a19dd\",\"1a1ba9\",\"1a4a8d\",\"1a78cd\",\"1b2d20\",\"1beae1\",\"1c4d2e\",\"1c80d5\",\"1ce537\",\"1d0f82\",\"1d1a67\",\"1d5334\",\"1e1717\",\"1e364f\",\"1e58a6\",\"1e6dad\",\"1eaf9d\",\"1ee27c\",\"1f100a\",\"1f7d1e\",\"1f7f87\",\"2.25E+04\",\"2.25E+10\",\"2007f4\",\"207dd7\",\"21093b\",\"21cc1d\",\"221cdc\",\"224bb1\",\"22a4a8\",\"230eda\",\"23560f\",\"238688\",\"23b835\",\"242ca8\",\"24a8a9\",\"24cbdd\",\"251cb3\",\"26a06a\",\"278ab9\",\"27b230\",\"27c124\",\"280051\",\"284743\",\"288b9e\",\"28a849\",\"2912c2\",\"2922df\",\"297de1\",\"29f50e\",\"29f570\",\"2a0fc2\",\"2a1e1c\",\"2a543f\",\"2a7a3b\",\"2aa3c8\",\"2b19a2\",\"2b8ed3\",\"2bc0b5\",\"2bf590\",\"2c102f\",\"2c1747\",\"2c3b53\",\"2c3bae\",\"2d077f\",\"2d4c0c\",\"2de180\",\"2df4c3\",\"2fb44e\",\"300f7b\",\"309ce4\",\"30b018\",\"311a51\",\"313324\",\"31380c\",\"318396\",\"319ae0\",\"31c5d3\",\"321b64\",\"3246d1\",\"326d0e\",\"32862d\",\"328a5a\",\"32b2f5\",\"33025d\",\"332220\",\"337a11\",\"338346\",\"3391f0\",\"33fcd5\",\"349086\",\"34d199\",\"35687c\",\"35a9fb\",\"35c3a7\",\"36837e\",\"370ada\",\"375590\",\"375634\",\"37802e\",\"378f82\",\"379911\",\"382612\",\"3826f4\",\"387b76\",\"38c289\",\"3947d5\",\"399f92\",\"39a1d5\",\"3a2068\",\"3a29ef\",\"3a5f83\",\"3aca6c\",\"3b5b64\",\"3babb2\",\"3bfb1e\",\"3c34d3\",\"3c4c84\",\"3d0064\",\"3d0e42\",\"3d59ea\",\"3d5a78\",\"3e50d6\",\"3e90dc\",\"3eb226\",\"3ecd43\",\"3ed81b\",\"3edbf0\",\"3eddf2\",\"3f26ca\",\"3f83c6\",\"4.04E+23\",\"4.30E+133\",\"405927\",\"4098ef\",\"40e520\",\"420a52\",\"42160c\",\"4289ed\",\"42d05f\",\"43f6f3\",\"43fece\",\"44350\",\"444395\",\"44b043\",\"44c56c\",\"450355\",\"45408\",\"458a24\",\"458cf8\",\"460101\",\"463324\",\"46725c\",\"46a376\",\"472b95\",\"477ef7\",\"4789b1\",\"47f873\",\"485cdb\",\"49bafb\",\"4a7184\",\"4b0ef1\",\"4b5708\",\"4b78b7\",\"4b7ef6\",\"4bf3e8\",\"4bf9b2\",\"4c271a\",\"4cd585\",\"4d4623\",\"4d6d9d\",\"4d72d3\",\"4d76d4\",\"4dd379\",\"4e18dc\",\"4ea499\",\"4f0290\",\"5.18E+04\",\"5.88E+10\",\"5029a8\",\"515308\",\"51860a\",\"51c959\",\"51cf55\",\"51ef8e\",\"52c923\",\"5354f7\",\"5359a8\",\"54c1f2\",\"5655aa\",\"56b7f2\",\"56bdee\",\"575c72\",\"57d77e\",\"588e9b\",\"5a9664\",\"5cf2a0\",\"5d3a46\",\"5d9e2d\",\"5f2e7e\",\"5f9ee8\",\"6.52E+92\",\"6018d3\",\"60a95d\",\"613551\",\"61455\",\"64810\",\"648115\",\"655d2b\",\"656271\",\"65b650\",\"66362c\",\"66503a\",\"670997\",\"672965\",\"672ff3\",\"67b651\",\"692d43\",\"69752\",\"6a456e\",\"6a565b\",\"6b070b\",\"6bc8bf\",\"6d989e\",\"6d9ead\",\"6ec709\",\"6ffae7\",\"7.41E+06\",\"70e6b4\",\"717a00\",\"71a02c\",\"72db1f\",\"73a457\",\"75453f\",\"75c95b\",\"763d7f\",\"768c69\",\"7872eb\",\"788695\",\"7ae8df\",\"7bcafe\",\"7c6986\",\"7c7d3c\",\"7c8256\",\"7d4099\",\"7d5eaf\",\"7dc5b1\",\"7e88d5\",\"7ea5f3\",\"7ef1b1\",\"7ff427\",\"8021f2\",\"810a87\",\"8156be\",\"822827\",\"83498d\",\"841630\",\"84e75b\",\"84fad7\",\"871e3a\",\"88aa2f\",\"892050\",\"8946d5\",\"8959d8\",\"89a7a0\",\"8a289a\",\"8b2e6e\",\"8cc25a\",\"8de03d\",\"8e77e0\",\"8ee8e3\",\"8f22ae\",\"8f39fa\",\"8f80da\",\"8fd59f\",\"8ffaf1\",\"9.56E+96\",\"90cfdb\",\"91b3e1\",\"9254a6\",\"9306cb\",\"9356be\",\"939a65\",\"94015\",\"94a362\",\"94c5c5\",\"94de5a\",\"961d0e\",\"9724d3\",\"97431f\",\"97497f\",\"984dc6\",\"985334\",\"9c8e87\",\"9d0a5e\",\"9d6ad3\",\"9dcaee\",\"9f4502\",\"9f7514\",\"9f75ff\",\"a0849e\",\"a0cc40\",\"a1c03c\",\"a27f02\",\"a2d572\",\"a3bcdf\",\"a3d083\",\"a47a3f\",\"a593cd\",\"a6d4f6\",\"a6d62f\",\"a6f10b\",\"a71335\",\"a74909\",\"a8817e\",\"a8e458\",\"a8e570\",\"a967c6\",\"a9ca0d\",\"a9f216\",\"aa4ddc\",\"acc14d\",\"acca9c\",\"ad0aac\",\"ad50b7\",\"adecd0\",\"aedc55\",\"af8742\",\"afd5d2\",\"b005c6\",\"b033c9\",\"b1922a\",\"b198e9\",\"b1b874\",\"b1d392\",\"b255ac\",\"b25be5\",\"b26367\",\"b2aa94\",\"b2ff94\",\"b3a999\",\"b46368\",\"b503e7\",\"b53cda\",\"b544fa\",\"b5a75a\",\"b5c13b\",\"b7d23e\",\"b89682\",\"b89936\",\"b8f5ce\",\"b969a7\",\"bb093e\",\"bb8b5b\",\"bba183\",\"bc71fe\",\"bc8bae\",\"bc904e\",\"bcd933\",\"bcfc1f\",\"bd1b40\",\"bd5307\",\"be5c8c\",\"bf4a2f\",\"bf81f2\",\"bfaae0\",\"bfd23f\",\"c0722f\",\"c0ad56\",\"c2b330\",\"c2e5b5\",\"c3bc72\",\"c3c101\",\"c3e343\",\"c643ec\",\"c6b9e1\",\"c6bede\",\"c728e0\",\"c756b0\",\"c7604e\",\"c7d576\",\"c82590\",\"c8cb63\",\"c905f9\",\"c90b37\",\"ca6577\",\"cba805\",\"cc3814\",\"cc68e2\",\"cd110a\",\"cd742d\",\"cd9d77\",\"cdaba4\",\"ce04a6\",\"ce5765\",\"cebdc4\",\"d0b3d6\",\"d1faaa\",\"d2dee0\",\"d318a0\",\"d53ddf\",\"d69ebc\",\"d6c106\",\"d70be3\",\"d7c0bb\",\"d8b2b6\",\"d8f1c7\",\"db04a4\",\"db1a4c\",\"db76c9\",\"dbadf8\",\"de0dac\",\"de4f8b\",\"defad1\",\"e09d29\",\"e09f63\",\"e1bb5a\",\"e254e9\",\"e2f10c\",\"e31e86\",\"e32514\",\"e3f9cf\",\"e424fc\",\"e47751\",\"e488fa\",\"e48b03\",\"e7fa64\",\"e8cce9\",\"e90a0d\",\"e9e007\",\"eb634d\",\"ec586a\",\"ec703c\",\"ed2f36\",\"ed3a4c\",\"eddf65\",\"edea32\",\"ee0dea\"],\"y\":[\"\",\"\",\"\",35.0,\"\",\"\",40.0,42.0,28.0,\"\",52.0,39.0,\"\",\"\",\"\",35.0,\"\",\"\",44.0,63.0,54.0,57.0,14.0,\"\",\"\",\"\",36.0,67.0,48.0,29.0,75.0,44.0,56.0,47.0,56.0,\"\",\"\",\"\",84.0,\"\",55.0,\"\",\"\",\"\",\"\",50.0,29.0,41.0,58.0,\"\",\"\",\"\",43.0,\"\",\"\",31.0,\"\",69.0,\"\",32.0,\"\",54.0,\"\",76.0,\"\",\"\",\"\",\"\",37.0,39.0,46.0,\"\",24.0,28.0,\"\",\"\",\"\",34.0,25.0,32.0,\"\",32.0,\"\",48.0,\"\",\"\",59.0,\"\",\"\",\"\",\"\",61.0,40.0,44.0,42.0,72.0,31.0,\"\",60.0,41.0,28.0,33.0,51.0,\"\",\"\",13.0,\"\",34.0,\"\",\"\",\"\",35.0,\"\",46.0,\"\",\"\",\"\",\"\",\"\",26.0,27.0,\"\",\"\",53.0,49.0,31.0,42.0,\"\",34.0,28.0,43.0,\"\",56.0,47.0,\"\",\"\",\"\",31.0,39.0,26.0,\"\",38.0,37.0,39.0,\"\",42.0,2.0,58.0,\"\",39.0,35.0,46.0,\"\",51.0,54.0,\"\",51.0,\"\",41.0,\"\",28.0,69.0,43.0,\"\",56.0,\"\",51.0,21.0,33.0,\"\",37.0,\"\",\"\",9.0,36.0,\"\",30.0,9.0,\"\",59.0,70.0,36.0,40.0,57.0,\"\",40.0,47.0,23.0,53.0,53.0,\"\",64.0,62.0,\"\",40.0,29.0,56.0,\"\",38.0,\"\",\"\",\"\",26.0,48.0,28.0,\"\",\"\",\"\",43.0,34.0,66.0,50.0,\"\",58.0,38.0,23.0,39.0,30.0,\"\",47.0,45.0,54.0,25.0,\"\",22.0,\"\",33.0,33.0,\"\",48.0,44.0,30.0,47.0,31.0,41.0,48.0,\"\",32.0,\"\",\"\",30.0,40.0,\"\",\"\",29.0,\"\",79.0,\"\",46.0,\"\",\"\",56.0,40.0,25.0,\"\",\"\",32.0,\"\",58.0,\"\",32.0,47.0,18.0,\"\",\"\",\"\",70.0,\"\",\"\",53.0,55.0,47.0,\"\",73.0,41.0,\"\",44.0,38.0,24.0,26.0,\"\",28.0,\"\",\"\",\"\",\"\",22.0,66.0,26.0,\"\",50.0,30.0,\"\",49.0,\"\",37.0,\"\",\"\",58.0,34.0,40.0,58.0,\"\",19.0,48.0,\"\",28.0,36.0,\"\",49.0,47.0,\"\",19.0,48.0,\"\",25.0,\"\",13.0,\"\",32.0,\"\",21.0,\"\",\"\",\"\",\"\",61.0,23.0,74.0,18.0,62.0,33.0,\"\",61.0,42.0,\"\",25.0,\"\",\"\",37.0,\"\",27.0,1.0,\"\",39.0,\"\",\"\",68.0,\"\",24.0,13.0,\"\",\"\",17.0,\"\",23.0,48.0,63.0,50.0,\"\",\"\",28.0,\"\",51.0,37.0,37.0,\"\",26.0,25.0,\"\",\"\",1.0,27.0,49.0,\"\",\"\",41.0,39.0,34.0,32.0,40.0,\"\",32.0,\"\",49.0,36.0,\"\",\"\",35.0,\"\",\"\",30.0,18.0,\"\",33.0,59.0,\"\",72.0,44.0,\"\",54.0,61.0,43.0,\"\",\"\",60.0,57.0,\"\",58.0,69.0,32.0,\"\",54.0,\"\",\"\",33.0,\"\",59.0,\"\",\"\",\"\",\"\",\"\",23.0,\"\",41.0,\"\",52.0,\"\",\"\",11.0,34.0,40.0,\"\",59.0,\"\",\"\",33.0,34.0,\"\",\"\",26.0,\"\",59.0,53.0,\"\",46.0,29.0,36.0,49.0,30.0,29.0,19.0,44.0,\"\",37.0,44.0,\"\",\"\",\"\",\"\",36.0,1.0,49.0,\"\",55.0,\"\",\"\",54.0,\"\",\"\",40.0,16.0,\"\",36.0,44.0,\"\",\"\",68.0,\"\",27.0,27.0,\"\",\"\",\"\",29.0,50.0,\"\",40.0,1.0,20.0,46.0,66.0,\"\",\"\",\"\",25.0,35.0,\"\",55.0],\"type\":\"scatter\"},{\"line\":{\"color\":\"rgba(55, 128, 191, 1.0)\",\"dash\":\"solid\",\"shape\":\"linear\",\"width\":1.3},\"mode\":\"lines\",\"name\":\"2.0\",\"text\":\"\",\"x\":[\"013a0e\",\"01e27d\",\"02380f\",\"03a438\",\"03b5db\",\"03d8b5\",\"043fb6\",\"04583b\",\"04af5f\",\"04c140\",\"04f190\",\"04f613\",\"04fc18\",\"0681f2\",\"06e951\",\"06fce8\",\"0793b8\",\"07977b\",\"07ff5c\",\"08c5f9\",\"09675e\",\"0989f5\",\"09bbe4\",\"09bebb\",\"0a1655\",\"0a3237\",\"0a392b\",\"0a98b4\",\"0ae8bd\",\"0b78dd\",\"0ba73d\",\"0bb6ea\",\"0e283a\",\"0e6d2a\",\"0f43ef\",\"0f6360\",\"0fe043\",\"0fef08\",\"100caf\",\"10e0db\",\"112072\",\"11e31a\",\"1208dc\",\"1211c7\",\"12de4c\",\"135f85\",\"13b5a5\",\"13c92b\",\"13cf10\",\"1432c8\",\"158b47\",\"15ec76\",\"16789f\",\"16edae\",\"174bb4\",\"17c667\",\"17d402\",\"17d678\",\"180725\",\"18cc15\",\"198b54\",\"19bf0f\",\"1a19dd\",\"1a1ba9\",\"1a4a8d\",\"1a78cd\",\"1b2d20\",\"1beae1\",\"1c4d2e\",\"1c80d5\",\"1ce537\",\"1d0f82\",\"1d1a67\",\"1d5334\",\"1e1717\",\"1e364f\",\"1e58a6\",\"1e6dad\",\"1eaf9d\",\"1ee27c\",\"1f100a\",\"1f7d1e\",\"1f7f87\",\"2.25E+04\",\"2.25E+10\",\"2007f4\",\"207dd7\",\"21093b\",\"21cc1d\",\"221cdc\",\"224bb1\",\"22a4a8\",\"230eda\",\"23560f\",\"238688\",\"23b835\",\"242ca8\",\"24a8a9\",\"24cbdd\",\"251cb3\",\"26a06a\",\"278ab9\",\"27b230\",\"27c124\",\"280051\",\"284743\",\"288b9e\",\"28a849\",\"2912c2\",\"2922df\",\"297de1\",\"29f50e\",\"29f570\",\"2a0fc2\",\"2a1e1c\",\"2a543f\",\"2a7a3b\",\"2aa3c8\",\"2b19a2\",\"2b8ed3\",\"2bc0b5\",\"2bf590\",\"2c102f\",\"2c1747\",\"2c3b53\",\"2c3bae\",\"2d077f\",\"2d4c0c\",\"2de180\",\"2df4c3\",\"2fb44e\",\"300f7b\",\"309ce4\",\"30b018\",\"311a51\",\"313324\",\"31380c\",\"318396\",\"319ae0\",\"31c5d3\",\"321b64\",\"3246d1\",\"326d0e\",\"32862d\",\"328a5a\",\"32b2f5\",\"33025d\",\"332220\",\"337a11\",\"338346\",\"3391f0\",\"33fcd5\",\"349086\",\"34d199\",\"35687c\",\"35a9fb\",\"35c3a7\",\"36837e\",\"370ada\",\"375590\",\"375634\",\"37802e\",\"378f82\",\"379911\",\"382612\",\"3826f4\",\"387b76\",\"38c289\",\"3947d5\",\"399f92\",\"39a1d5\",\"3a2068\",\"3a29ef\",\"3a5f83\",\"3aca6c\",\"3b5b64\",\"3babb2\",\"3bfb1e\",\"3c34d3\",\"3c4c84\",\"3d0064\",\"3d0e42\",\"3d59ea\",\"3d5a78\",\"3e50d6\",\"3e90dc\",\"3eb226\",\"3ecd43\",\"3ed81b\",\"3edbf0\",\"3eddf2\",\"3f26ca\",\"3f83c6\",\"4.04E+23\",\"4.30E+133\",\"405927\",\"4098ef\",\"40e520\",\"420a52\",\"42160c\",\"4289ed\",\"42d05f\",\"43f6f3\",\"43fece\",\"44350\",\"444395\",\"44b043\",\"44c56c\",\"450355\",\"45408\",\"458a24\",\"458cf8\",\"460101\",\"463324\",\"46725c\",\"46a376\",\"472b95\",\"477ef7\",\"4789b1\",\"47f873\",\"485cdb\",\"49bafb\",\"4a7184\",\"4b0ef1\",\"4b5708\",\"4b78b7\",\"4b7ef6\",\"4bf3e8\",\"4bf9b2\",\"4c271a\",\"4cd585\",\"4d4623\",\"4d6d9d\",\"4d72d3\",\"4d76d4\",\"4dd379\",\"4e18dc\",\"4ea499\",\"4f0290\",\"5.18E+04\",\"5.88E+10\",\"5029a8\",\"515308\",\"51860a\",\"51c959\",\"51cf55\",\"51ef8e\",\"52c923\",\"5354f7\",\"5359a8\",\"54c1f2\",\"5655aa\",\"56b7f2\",\"56bdee\",\"575c72\",\"57d77e\",\"588e9b\",\"5a9664\",\"5cf2a0\",\"5d3a46\",\"5d9e2d\",\"5f2e7e\",\"5f9ee8\",\"6.52E+92\",\"6018d3\",\"60a95d\",\"613551\",\"61455\",\"64810\",\"648115\",\"655d2b\",\"656271\",\"65b650\",\"66362c\",\"66503a\",\"670997\",\"672965\",\"672ff3\",\"67b651\",\"692d43\",\"69752\",\"6a456e\",\"6a565b\",\"6b070b\",\"6bc8bf\",\"6d989e\",\"6d9ead\",\"6ec709\",\"6ffae7\",\"7.41E+06\",\"70e6b4\",\"717a00\",\"71a02c\",\"72db1f\",\"73a457\",\"75453f\",\"75c95b\",\"763d7f\",\"768c69\",\"7872eb\",\"788695\",\"7ae8df\",\"7bcafe\",\"7c6986\",\"7c7d3c\",\"7c8256\",\"7d4099\",\"7d5eaf\",\"7dc5b1\",\"7e88d5\",\"7ea5f3\",\"7ef1b1\",\"7ff427\",\"8021f2\",\"810a87\",\"8156be\",\"822827\",\"83498d\",\"841630\",\"84e75b\",\"84fad7\",\"871e3a\",\"88aa2f\",\"892050\",\"8946d5\",\"8959d8\",\"89a7a0\",\"8a289a\",\"8b2e6e\",\"8cc25a\",\"8de03d\",\"8e77e0\",\"8ee8e3\",\"8f22ae\",\"8f39fa\",\"8f80da\",\"8fd59f\",\"8ffaf1\",\"9.56E+96\",\"90cfdb\",\"91b3e1\",\"9254a6\",\"9306cb\",\"9356be\",\"939a65\",\"94015\",\"94a362\",\"94c5c5\",\"94de5a\",\"961d0e\",\"9724d3\",\"97431f\",\"97497f\",\"984dc6\",\"985334\",\"9c8e87\",\"9d0a5e\",\"9d6ad3\",\"9dcaee\",\"9f4502\",\"9f7514\",\"9f75ff\",\"a0849e\",\"a0cc40\",\"a1c03c\",\"a27f02\",\"a2d572\",\"a3bcdf\",\"a3d083\",\"a47a3f\",\"a593cd\",\"a6d4f6\",\"a6d62f\",\"a6f10b\",\"a71335\",\"a74909\",\"a8817e\",\"a8e458\",\"a8e570\",\"a967c6\",\"a9ca0d\",\"a9f216\",\"aa4ddc\",\"acc14d\",\"acca9c\",\"ad0aac\",\"ad50b7\",\"adecd0\",\"aedc55\",\"af8742\",\"afd5d2\",\"b005c6\",\"b033c9\",\"b1922a\",\"b198e9\",\"b1b874\",\"b1d392\",\"b255ac\",\"b25be5\",\"b26367\",\"b2aa94\",\"b2ff94\",\"b3a999\",\"b46368\",\"b503e7\",\"b53cda\",\"b544fa\",\"b5a75a\",\"b5c13b\",\"b7d23e\",\"b89682\",\"b89936\",\"b8f5ce\",\"b969a7\",\"bb093e\",\"bb8b5b\",\"bba183\",\"bc71fe\",\"bc8bae\",\"bc904e\",\"bcd933\",\"bcfc1f\",\"bd1b40\",\"bd5307\",\"be5c8c\",\"bf4a2f\",\"bf81f2\",\"bfaae0\",\"bfd23f\",\"c0722f\",\"c0ad56\",\"c2b330\",\"c2e5b5\",\"c3bc72\",\"c3c101\",\"c3e343\",\"c643ec\",\"c6b9e1\",\"c6bede\",\"c728e0\",\"c756b0\",\"c7604e\",\"c7d576\",\"c82590\",\"c8cb63\",\"c905f9\",\"c90b37\",\"ca6577\",\"cba805\",\"cc3814\",\"cc68e2\",\"cd110a\",\"cd742d\",\"cd9d77\",\"cdaba4\",\"ce04a6\",\"ce5765\",\"cebdc4\",\"d0b3d6\",\"d1faaa\",\"d2dee0\",\"d318a0\",\"d53ddf\",\"d69ebc\",\"d6c106\",\"d70be3\",\"d7c0bb\",\"d8b2b6\",\"d8f1c7\",\"db04a4\",\"db1a4c\",\"db76c9\",\"dbadf8\",\"de0dac\",\"de4f8b\",\"defad1\",\"e09d29\",\"e09f63\",\"e1bb5a\",\"e254e9\",\"e2f10c\",\"e31e86\",\"e32514\",\"e3f9cf\",\"e424fc\",\"e47751\",\"e488fa\",\"e48b03\",\"e7fa64\",\"e8cce9\",\"e90a0d\",\"e9e007\",\"eb634d\",\"ec586a\",\"ec703c\",\"ed2f36\",\"ed3a4c\",\"eddf65\",\"edea32\",\"ee0dea\"],\"y\":[23.0,81.0,62.0,\"\",34.0,62.0,\"\",\"\",\"\",23.0,\"\",\"\",40.0,21.0,40.0,\"\",43.0,30.0,\"\",\"\",\"\",\"\",\"\",30.0,3.0,31.0,\"\",\"\",\"\",\"\",\"\",\"\",\"\",\"\",\"\",38.0,47.0,39.0,\"\",28.0,\"\",55.0,21.0,29.0,37.0,\"\",\"\",\"\",\"\",51.0,63.0,26.0,\"\",49.0,36.0,\"\",25.0,\"\",33.0,\"\",58.0,\"\",63.0,\"\",49.0,41.0,36.0,38.0,\"\",\"\",\"\",41.0,\"\",\"\",81.0,51.0,34.0,\"\",\"\",\"\",37.0,\"\",29.0,\"\",47.0,46.0,\"\",19.0,36.0,23.0,31.0,\"\",\"\",\"\",\"\",\"\",\"\",2.0,\"\",\"\",\"\",\"\",\"\",35.0,71.0,\"\",54.0,\"\",55.0,59.0,59.0,\"\",37.0,\"\",47.0,57.0,21.0,29.0,41.0,\"\",\"\",32.0,35.0,\"\",\"\",\"\",\"\",65.0,\"\",\"\",\"\",54.0,\"\",\"\",62.0,31.0,48.0,\"\",\"\",\"\",38.0,\"\",\"\",\"\",67.0,\"\",\"\",\"\",20.0,\"\",\"\",\"\",12.0,\"\",\"\",25.0,\"\",62.0,\"\",31.0,\"\",\"\",\"\",42.0,\"\",31.0,\"\",\"\",\"\",57.0,\"\",84.0,68.0,\"\",\"\",42.0,\"\",\"\",28.0,\"\",\"\",\"\",\"\",\"\",44.0,\"\",\"\",\"\",\"\",\"\",58.0,\"\",\"\",43.0,\"\",\"\",\"\",20.0,\"\",34.0,42.0,33.0,\"\",\"\",\"\",53.0,19.0,25.0,\"\",\"\",\"\",\"\",26.0,\"\",\"\",\"\",\"\",\"\",24.0,\"\",\"\",\"\",\"\",35.0,\"\",33.0,\"\",\"\",31.0,\"\",\"\",\"\",\"\",\"\",\"\",\"\",46.0,\"\",31.0,42.0,\"\",\"\",35.0,30.0,\"\",17.0,\"\",20.0,\"\",49.0,41.0,\"\",\"\",\"\",17.0,48.0,\"\",46.0,\"\",61.0,\"\",\"\",\"\",26.0,54.0,27.0,\"\",56.0,50.0,\"\",\"\",\"\",70.0,\"\",\"\",24.0,\"\",\"\",\"\",\"\",68.0,\"\",34.0,44.0,41.0,9.0,\"\",\"\",\"\",54.0,\"\",\"\",45.0,\"\",36.0,\"\",22.0,33.0,\"\",\"\",\"\",\"\",53.0,\"\",\"\",52.0,\"\",\"\",23.0,\"\",\"\",20.0,\"\",\"\",26.0,\"\",43.0,\"\",25.0,\"\",34.0,\"\",42.0,44.0,24.0,34.0,\"\",\"\",\"\",\"\",\"\",\"\",31.0,\"\",\"\",52.0,\"\",35.0,1.0,\"\",44.0,\"\",\"\",9.0,\"\",0.0,24.0,\"\",48.0,\"\",\"\",46.0,29.0,\"\",60.0,\"\",\"\",\"\",\"\",73.0,42.0,\"\",56.0,\"\",\"\",\"\",38.0,\"\",\"\",43.0,40.0,\"\",\"\",\"\",1.0,39.0,\"\",\"\",\"\",\"\",\"\",66.0,\"\",29.0,\"\",\"\",22.0,54.0,\"\",36.0,54.0,\"\",\"\",53.0,\"\",\"\",55.0,\"\",\"\",69.0,\"\",\"\",\"\",27.0,43.0,\"\",\"\",52.0,\"\",\"\",\"\",26.0,\"\",42.0,27.0,\"\",66.0,\"\",51.0,48.0,46.0,30.0,64.0,\"\",28.0,\"\",44.0,\"\",65.0,38.0,\"\",\"\",\"\",19.0,\"\",20.0,37.0,\"\",\"\",37.0,32.0,\"\",44.0,\"\",\"\",48.0,\"\",\"\",\"\",\"\",\"\",\"\",\"\",\"\",51.0,\"\",\"\",52.0,56.0,33.0,19.0,\"\",\"\",\"\",38.0,\"\",23.0,37.0,\"\",30.0,58.0,\"\",\"\",6.0,\"\",\"\",32.0,16.0,\"\",69.0,\"\",\"\",29.0,42.0,49.0,\"\",\"\",24.0,\"\",\"\",\"\",\"\",\"\",47.0,52.0,38.0,\"\",\"\",41.0,\"\"],\"type\":\"scatter\"}],                        {\"legend\":{\"bgcolor\":\"#F5F6F9\",\"font\":{\"color\":\"#4D5663\"}},\"paper_bgcolor\":\"#F5F6F9\",\"plot_bgcolor\":\"#F5F6F9\",\"template\":{\"data\":{\"barpolar\":[{\"marker\":{\"line\":{\"color\":\"#E5ECF6\",\"width\":0.5},\"pattern\":{\"fillmode\":\"overlay\",\"size\":10,\"solidity\":0.2}},\"type\":\"barpolar\"}],\"bar\":[{\"error_x\":{\"color\":\"#2a3f5f\"},\"error_y\":{\"color\":\"#2a3f5f\"},\"marker\":{\"line\":{\"color\":\"#E5ECF6\",\"width\":0.5},\"pattern\":{\"fillmode\":\"overlay\",\"size\":10,\"solidity\":0.2}},\"type\":\"bar\"}],\"carpet\":[{\"aaxis\":{\"endlinecolor\":\"#2a3f5f\",\"gridcolor\":\"white\",\"linecolor\":\"white\",\"minorgridcolor\":\"white\",\"startlinecolor\":\"#2a3f5f\"},\"baxis\":{\"endlinecolor\":\"#2a3f5f\",\"gridcolor\":\"white\",\"linecolor\":\"white\",\"minorgridcolor\":\"white\",\"startlinecolor\":\"#2a3f5f\"},\"type\":\"carpet\"}],\"choropleth\":[{\"colorbar\":{\"outlinewidth\":0,\"ticks\":\"\"},\"type\":\"choropleth\"}],\"contourcarpet\":[{\"colorbar\":{\"outlinewidth\":0,\"ticks\":\"\"},\"type\":\"contourcarpet\"}],\"contour\":[{\"colorbar\":{\"outlinewidth\":0,\"ticks\":\"\"},\"colorscale\":[[0.0,\"#0d0887\"],[0.1111111111111111,\"#46039f\"],[0.2222222222222222,\"#7201a8\"],[0.3333333333333333,\"#9c179e\"],[0.4444444444444444,\"#bd3786\"],[0.5555555555555556,\"#d8576b\"],[0.6666666666666666,\"#ed7953\"],[0.7777777777777778,\"#fb9f3a\"],[0.8888888888888888,\"#fdca26\"],[1.0,\"#f0f921\"]],\"type\":\"contour\"}],\"heatmapgl\":[{\"colorbar\":{\"outlinewidth\":0,\"ticks\":\"\"},\"colorscale\":[[0.0,\"#0d0887\"],[0.1111111111111111,\"#46039f\"],[0.2222222222222222,\"#7201a8\"],[0.3333333333333333,\"#9c179e\"],[0.4444444444444444,\"#bd3786\"],[0.5555555555555556,\"#d8576b\"],[0.6666666666666666,\"#ed7953\"],[0.7777777777777778,\"#fb9f3a\"],[0.8888888888888888,\"#fdca26\"],[1.0,\"#f0f921\"]],\"type\":\"heatmapgl\"}],\"heatmap\":[{\"colorbar\":{\"outlinewidth\":0,\"ticks\":\"\"},\"colorscale\":[[0.0,\"#0d0887\"],[0.1111111111111111,\"#46039f\"],[0.2222222222222222,\"#7201a8\"],[0.3333333333333333,\"#9c179e\"],[0.4444444444444444,\"#bd3786\"],[0.5555555555555556,\"#d8576b\"],[0.6666666666666666,\"#ed7953\"],[0.7777777777777778,\"#fb9f3a\"],[0.8888888888888888,\"#fdca26\"],[1.0,\"#f0f921\"]],\"type\":\"heatmap\"}],\"histogram2dcontour\":[{\"colorbar\":{\"outlinewidth\":0,\"ticks\":\"\"},\"colorscale\":[[0.0,\"#0d0887\"],[0.1111111111111111,\"#46039f\"],[0.2222222222222222,\"#7201a8\"],[0.3333333333333333,\"#9c179e\"],[0.4444444444444444,\"#bd3786\"],[0.5555555555555556,\"#d8576b\"],[0.6666666666666666,\"#ed7953\"],[0.7777777777777778,\"#fb9f3a\"],[0.8888888888888888,\"#fdca26\"],[1.0,\"#f0f921\"]],\"type\":\"histogram2dcontour\"}],\"histogram2d\":[{\"colorbar\":{\"outlinewidth\":0,\"ticks\":\"\"},\"colorscale\":[[0.0,\"#0d0887\"],[0.1111111111111111,\"#46039f\"],[0.2222222222222222,\"#7201a8\"],[0.3333333333333333,\"#9c179e\"],[0.4444444444444444,\"#bd3786\"],[0.5555555555555556,\"#d8576b\"],[0.6666666666666666,\"#ed7953\"],[0.7777777777777778,\"#fb9f3a\"],[0.8888888888888888,\"#fdca26\"],[1.0,\"#f0f921\"]],\"type\":\"histogram2d\"}],\"histogram\":[{\"marker\":{\"pattern\":{\"fillmode\":\"overlay\",\"size\":10,\"solidity\":0.2}},\"type\":\"histogram\"}],\"mesh3d\":[{\"colorbar\":{\"outlinewidth\":0,\"ticks\":\"\"},\"type\":\"mesh3d\"}],\"parcoords\":[{\"line\":{\"colorbar\":{\"outlinewidth\":0,\"ticks\":\"\"}},\"type\":\"parcoords\"}],\"pie\":[{\"automargin\":true,\"type\":\"pie\"}],\"scatter3d\":[{\"line\":{\"colorbar\":{\"outlinewidth\":0,\"ticks\":\"\"}},\"marker\":{\"colorbar\":{\"outlinewidth\":0,\"ticks\":\"\"}},\"type\":\"scatter3d\"}],\"scattercarpet\":[{\"marker\":{\"colorbar\":{\"outlinewidth\":0,\"ticks\":\"\"}},\"type\":\"scattercarpet\"}],\"scattergeo\":[{\"marker\":{\"colorbar\":{\"outlinewidth\":0,\"ticks\":\"\"}},\"type\":\"scattergeo\"}],\"scattergl\":[{\"marker\":{\"colorbar\":{\"outlinewidth\":0,\"ticks\":\"\"}},\"type\":\"scattergl\"}],\"scattermapbox\":[{\"marker\":{\"colorbar\":{\"outlinewidth\":0,\"ticks\":\"\"}},\"type\":\"scattermapbox\"}],\"scatterpolargl\":[{\"marker\":{\"colorbar\":{\"outlinewidth\":0,\"ticks\":\"\"}},\"type\":\"scatterpolargl\"}],\"scatterpolar\":[{\"marker\":{\"colorbar\":{\"outlinewidth\":0,\"ticks\":\"\"}},\"type\":\"scatterpolar\"}],\"scatter\":[{\"fillpattern\":{\"fillmode\":\"overlay\",\"size\":10,\"solidity\":0.2},\"type\":\"scatter\"}],\"scatterternary\":[{\"marker\":{\"colorbar\":{\"outlinewidth\":0,\"ticks\":\"\"}},\"type\":\"scatterternary\"}],\"surface\":[{\"colorbar\":{\"outlinewidth\":0,\"ticks\":\"\"},\"colorscale\":[[0.0,\"#0d0887\"],[0.1111111111111111,\"#46039f\"],[0.2222222222222222,\"#7201a8\"],[0.3333333333333333,\"#9c179e\"],[0.4444444444444444,\"#bd3786\"],[0.5555555555555556,\"#d8576b\"],[0.6666666666666666,\"#ed7953\"],[0.7777777777777778,\"#fb9f3a\"],[0.8888888888888888,\"#fdca26\"],[1.0,\"#f0f921\"]],\"type\":\"surface\"}],\"table\":[{\"cells\":{\"fill\":{\"color\":\"#EBF0F8\"},\"line\":{\"color\":\"white\"}},\"header\":{\"fill\":{\"color\":\"#C8D4E3\"},\"line\":{\"color\":\"white\"}},\"type\":\"table\"}]},\"layout\":{\"annotationdefaults\":{\"arrowcolor\":\"#2a3f5f\",\"arrowhead\":0,\"arrowwidth\":1},\"autotypenumbers\":\"strict\",\"coloraxis\":{\"colorbar\":{\"outlinewidth\":0,\"ticks\":\"\"}},\"colorscale\":{\"diverging\":[[0,\"#8e0152\"],[0.1,\"#c51b7d\"],[0.2,\"#de77ae\"],[0.3,\"#f1b6da\"],[0.4,\"#fde0ef\"],[0.5,\"#f7f7f7\"],[0.6,\"#e6f5d0\"],[0.7,\"#b8e186\"],[0.8,\"#7fbc41\"],[0.9,\"#4d9221\"],[1,\"#276419\"]],\"sequential\":[[0.0,\"#0d0887\"],[0.1111111111111111,\"#46039f\"],[0.2222222222222222,\"#7201a8\"],[0.3333333333333333,\"#9c179e\"],[0.4444444444444444,\"#bd3786\"],[0.5555555555555556,\"#d8576b\"],[0.6666666666666666,\"#ed7953\"],[0.7777777777777778,\"#fb9f3a\"],[0.8888888888888888,\"#fdca26\"],[1.0,\"#f0f921\"]],\"sequentialminus\":[[0.0,\"#0d0887\"],[0.1111111111111111,\"#46039f\"],[0.2222222222222222,\"#7201a8\"],[0.3333333333333333,\"#9c179e\"],[0.4444444444444444,\"#bd3786\"],[0.5555555555555556,\"#d8576b\"],[0.6666666666666666,\"#ed7953\"],[0.7777777777777778,\"#fb9f3a\"],[0.8888888888888888,\"#fdca26\"],[1.0,\"#f0f921\"]]},\"colorway\":[\"#636efa\",\"#EF553B\",\"#00cc96\",\"#ab63fa\",\"#FFA15A\",\"#19d3f3\",\"#FF6692\",\"#B6E880\",\"#FF97FF\",\"#FECB52\"],\"font\":{\"color\":\"#2a3f5f\"},\"geo\":{\"bgcolor\":\"white\",\"lakecolor\":\"white\",\"landcolor\":\"#E5ECF6\",\"showlakes\":true,\"showland\":true,\"subunitcolor\":\"white\"},\"hoverlabel\":{\"align\":\"left\"},\"hovermode\":\"closest\",\"mapbox\":{\"style\":\"light\"},\"paper_bgcolor\":\"white\",\"plot_bgcolor\":\"#E5ECF6\",\"polar\":{\"angularaxis\":{\"gridcolor\":\"white\",\"linecolor\":\"white\",\"ticks\":\"\"},\"bgcolor\":\"#E5ECF6\",\"radialaxis\":{\"gridcolor\":\"white\",\"linecolor\":\"white\",\"ticks\":\"\"}},\"scene\":{\"xaxis\":{\"backgroundcolor\":\"#E5ECF6\",\"gridcolor\":\"white\",\"gridwidth\":2,\"linecolor\":\"white\",\"showbackground\":true,\"ticks\":\"\",\"zerolinecolor\":\"white\"},\"yaxis\":{\"backgroundcolor\":\"#E5ECF6\",\"gridcolor\":\"white\",\"gridwidth\":2,\"linecolor\":\"white\",\"showbackground\":true,\"ticks\":\"\",\"zerolinecolor\":\"white\"},\"zaxis\":{\"backgroundcolor\":\"#E5ECF6\",\"gridcolor\":\"white\",\"gridwidth\":2,\"linecolor\":\"white\",\"showbackground\":true,\"ticks\":\"\",\"zerolinecolor\":\"white\"}},\"shapedefaults\":{\"line\":{\"color\":\"#2a3f5f\"}},\"ternary\":{\"aaxis\":{\"gridcolor\":\"white\",\"linecolor\":\"white\",\"ticks\":\"\"},\"baxis\":{\"gridcolor\":\"white\",\"linecolor\":\"white\",\"ticks\":\"\"},\"bgcolor\":\"#E5ECF6\",\"caxis\":{\"gridcolor\":\"white\",\"linecolor\":\"white\",\"ticks\":\"\"}},\"title\":{\"x\":0.05},\"xaxis\":{\"automargin\":true,\"gridcolor\":\"white\",\"linecolor\":\"white\",\"ticks\":\"\",\"title\":{\"standoff\":15},\"zerolinecolor\":\"white\",\"zerolinewidth\":2},\"yaxis\":{\"automargin\":true,\"gridcolor\":\"white\",\"linecolor\":\"white\",\"ticks\":\"\",\"title\":{\"standoff\":15},\"zerolinecolor\":\"white\",\"zerolinewidth\":2}}},\"title\":{\"font\":{\"color\":\"#4D5663\"},\"text\":\"Edad de los contagiados (n=500)\"},\"xaxis\":{\"gridcolor\":\"#E1E5ED\",\"showgrid\":true,\"tickfont\":{\"color\":\"#4D5663\"},\"title\":{\"font\":{\"color\":\"#4D5663\"},\"text\":\"ID\"},\"zerolinecolor\":\"#E1E5ED\"},\"yaxis\":{\"gridcolor\":\"#E1E5ED\",\"showgrid\":true,\"tickfont\":{\"color\":\"#4D5663\"},\"title\":{\"font\":{\"color\":\"#4D5663\"},\"text\":\"Edad\"},\"zerolinecolor\":\"#E1E5ED\"}},                        {\"showLink\": true, \"linkText\": \"Export to plot.ly\", \"plotlyServerURL\": \"https://plot.ly\", \"responsive\": true}                    ).then(function(){\n",
       "                            \n",
       "var gd = document.getElementById('00fbea70-5c69-4a82-ba51-4066e56b6aba');\n",
       "var x = new MutationObserver(function (mutations, observer) {{\n",
       "        var display = window.getComputedStyle(gd).display;\n",
       "        if (!display || display === 'none') {{\n",
       "            console.log([gd, 'removed!']);\n",
       "            Plotly.purge(gd);\n",
       "            observer.disconnect();\n",
       "        }}\n",
       "}});\n",
       "\n",
       "// Listen for the removal of the full notebook cells\n",
       "var notebookContainer = gd.closest('#notebook-container');\n",
       "if (notebookContainer) {{\n",
       "    x.observe(notebookContainer, {childList: true});\n",
       "}}\n",
       "\n",
       "// Listen for the clearing of the current output cell\n",
       "var outputEl = gd.closest('.output');\n",
       "if (outputEl) {{\n",
       "    x.observe(outputEl, {childList: true});\n",
       "}}\n",
       "\n",
       "                        })                };                });            </script>        </div>"
      ]
     },
     "metadata": {},
     "output_type": "display_data"
    }
   ],
   "source": [
    "# Gráfico de líneas: \n",
    "# Se elabora un gráfico acerca de la edad por sexo de los contagiados de COVID 19 \n",
    "# plotting\n",
    "Data_short.iplot(kind='line', xTitle='ID',\n",
    "                           yTitle='Edad', title='Edad de los contagiados (n=500)')"
   ]
  },
  {
   "cell_type": "code",
   "execution_count": 132,
   "metadata": {},
   "outputs": [
    {
     "data": {
      "text/html": [
       "<div>\n",
       "<style scoped>\n",
       "    .dataframe tbody tr th:only-of-type {\n",
       "        vertical-align: middle;\n",
       "    }\n",
       "\n",
       "    .dataframe tbody tr th {\n",
       "        vertical-align: top;\n",
       "    }\n",
       "\n",
       "    .dataframe thead th {\n",
       "        text-align: right;\n",
       "    }\n",
       "</style>\n",
       "<table border=\"1\" class=\"dataframe\">\n",
       "  <thead>\n",
       "    <tr style=\"text-align: right;\">\n",
       "      <th>SEXO</th>\n",
       "      <th>1.0</th>\n",
       "      <th>2.0</th>\n",
       "    </tr>\n",
       "    <tr>\n",
       "      <th>ID_REGISTRO</th>\n",
       "      <th></th>\n",
       "      <th></th>\n",
       "    </tr>\n",
       "  </thead>\n",
       "  <tbody>\n",
       "    <tr>\n",
       "      <th>48be17</th>\n",
       "      <td>54.0</td>\n",
       "      <td>NaN</td>\n",
       "    </tr>\n",
       "    <tr>\n",
       "      <th>4a1716</th>\n",
       "      <td>50.0</td>\n",
       "      <td>NaN</td>\n",
       "    </tr>\n",
       "    <tr>\n",
       "      <th>4af218</th>\n",
       "      <td>NaN</td>\n",
       "      <td>32.0</td>\n",
       "    </tr>\n",
       "    <tr>\n",
       "      <th>4bf03f</th>\n",
       "      <td>NaN</td>\n",
       "      <td>38.0</td>\n",
       "    </tr>\n",
       "    <tr>\n",
       "      <th>4d6ebb</th>\n",
       "      <td>35.0</td>\n",
       "      <td>NaN</td>\n",
       "    </tr>\n",
       "    <tr>\n",
       "      <th>...</th>\n",
       "      <td>...</td>\n",
       "      <td>...</td>\n",
       "    </tr>\n",
       "    <tr>\n",
       "      <th>e6b0d9</th>\n",
       "      <td>NaN</td>\n",
       "      <td>59.0</td>\n",
       "    </tr>\n",
       "    <tr>\n",
       "      <th>e6f044</th>\n",
       "      <td>33.0</td>\n",
       "      <td>NaN</td>\n",
       "    </tr>\n",
       "    <tr>\n",
       "      <th>e841e5</th>\n",
       "      <td>NaN</td>\n",
       "      <td>21.0</td>\n",
       "    </tr>\n",
       "    <tr>\n",
       "      <th>ea85d6</th>\n",
       "      <td>42.0</td>\n",
       "      <td>NaN</td>\n",
       "    </tr>\n",
       "    <tr>\n",
       "      <th>eb7621</th>\n",
       "      <td>69.0</td>\n",
       "      <td>NaN</td>\n",
       "    </tr>\n",
       "  </tbody>\n",
       "</table>\n",
       "<p>100 rows × 2 columns</p>\n",
       "</div>"
      ],
      "text/plain": [
       "SEXO          1.0   2.0\n",
       "ID_REGISTRO            \n",
       "48be17       54.0   NaN\n",
       "4a1716       50.0   NaN\n",
       "4af218        NaN  32.0\n",
       "4bf03f        NaN  38.0\n",
       "4d6ebb       35.0   NaN\n",
       "...           ...   ...\n",
       "e6b0d9        NaN  59.0\n",
       "e6f044       33.0   NaN\n",
       "e841e5        NaN  21.0\n",
       "ea85d6       42.0   NaN\n",
       "eb7621       69.0   NaN\n",
       "\n",
       "[100 rows x 2 columns]"
      ]
     },
     "execution_count": 132,
     "metadata": {},
     "output_type": "execute_result"
    }
   ],
   "source": [
    "#Gráfico de barras \n",
    "#Tomamos una muestra de 100 personas para nuestra gráfica\n",
    "Data_0= Covid_clean.sample(n = 100)\n",
    "Data_0= Data_0.pivot(index='ID_REGISTRO', columns='SEXO',  values='EDAD')\n",
    "Data_0"
   ]
  },
  {
   "cell_type": "code",
   "execution_count": 133,
   "metadata": {},
   "outputs": [
    {
     "data": {
      "application/vnd.plotly.v1+json": {
       "config": {
        "linkText": "Export to plot.ly",
        "plotlyServerURL": "https://plot.ly",
        "showLink": true
       },
       "data": [
        {
         "marker": {
          "color": "rgba(255, 153, 51, 0.6)",
          "line": {
           "color": "rgba(255, 153, 51, 1.0)",
           "width": 1
          }
         },
         "name": "1.0",
         "orientation": "v",
         "text": "",
         "type": "bar",
         "x": [
          "48be17",
          "4a1716",
          "4af218",
          "4bf03f",
          "4d6ebb",
          "5327fc",
          "54653b",
          "548378",
          "59e8fb",
          "5afb8d",
          "5b8845",
          "5c34f9",
          "5c8697",
          "5d0654",
          "5e055f",
          "60979f",
          "61270f",
          "618684",
          "66471d",
          "69235d",
          "694661",
          "6df70a",
          "6fc116",
          "74d30a",
          "76f1b4",
          "793f35",
          "7c1b65",
          "7ccecd",
          "7eeb89",
          "816d6e",
          "820b00",
          "8218cd",
          "850486",
          "8e06c5",
          "8fb88b",
          "910392",
          "91bd68",
          "9344f6",
          "936c17",
          "94d9d3",
          "96072e",
          "97fba5",
          "9832bf",
          "989fdf",
          "991633",
          "9c0eed",
          "9e0e72",
          "a09ec7",
          "a1b60c",
          "a1b834",
          "a7e503",
          "a840c9",
          "aa3eba",
          "aa8a0f",
          "ab517e",
          "ae941d",
          "b0a8c4",
          "b43da8",
          "b498ab",
          "b6ef21",
          "b7adae",
          "b86f30",
          "b98ff7",
          "bafa84",
          "bce499",
          "bd915d",
          "bdfdd5",
          "be0469",
          "bee350",
          "c0586a",
          "c0d30d",
          "c3a574",
          "c61fdf",
          "c75130",
          "c7b0a0",
          "c90b2c",
          "c98a44",
          "ca4237",
          "cd15d3",
          "ce78e1",
          "cf8bbf",
          "d117cd",
          "d2978b",
          "daebd5",
          "dc939e",
          "dd71f7",
          "defb7d",
          "dfa185",
          "e0e6e1",
          "e29ac9",
          "e3518b",
          "e4f456",
          "e5c3fc",
          "e655b6",
          "e6804d",
          "e6b0d9",
          "e6f044",
          "e841e5",
          "ea85d6",
          "eb7621"
         ],
         "y": [
          54,
          50,
          "",
          "",
          35,
          "",
          38,
          "",
          "",
          29,
          6,
          5,
          42,
          26,
          "",
          "",
          53,
          54,
          22,
          61,
          31,
          "",
          55,
          13,
          "",
          21,
          "",
          58,
          "",
          "",
          66,
          49,
          "",
          "",
          "",
          61,
          31,
          "",
          74,
          10,
          "",
          57,
          "",
          16,
          50,
          32,
          56,
          "",
          "",
          43,
          26,
          "",
          28,
          "",
          25,
          57,
          36,
          "",
          "",
          "",
          "",
          46,
          18,
          37,
          "",
          "",
          46,
          "",
          "",
          "",
          20,
          "",
          47,
          27,
          49,
          54,
          43,
          "",
          "",
          "",
          19,
          52,
          "",
          "",
          57,
          31,
          46,
          "",
          31,
          "",
          19,
          17,
          46,
          "",
          27,
          "",
          33,
          "",
          42,
          69
         ]
        },
        {
         "marker": {
          "color": "rgba(55, 128, 191, 0.6)",
          "line": {
           "color": "rgba(55, 128, 191, 1.0)",
           "width": 1
          }
         },
         "name": "2.0",
         "orientation": "v",
         "text": "",
         "type": "bar",
         "x": [
          "48be17",
          "4a1716",
          "4af218",
          "4bf03f",
          "4d6ebb",
          "5327fc",
          "54653b",
          "548378",
          "59e8fb",
          "5afb8d",
          "5b8845",
          "5c34f9",
          "5c8697",
          "5d0654",
          "5e055f",
          "60979f",
          "61270f",
          "618684",
          "66471d",
          "69235d",
          "694661",
          "6df70a",
          "6fc116",
          "74d30a",
          "76f1b4",
          "793f35",
          "7c1b65",
          "7ccecd",
          "7eeb89",
          "816d6e",
          "820b00",
          "8218cd",
          "850486",
          "8e06c5",
          "8fb88b",
          "910392",
          "91bd68",
          "9344f6",
          "936c17",
          "94d9d3",
          "96072e",
          "97fba5",
          "9832bf",
          "989fdf",
          "991633",
          "9c0eed",
          "9e0e72",
          "a09ec7",
          "a1b60c",
          "a1b834",
          "a7e503",
          "a840c9",
          "aa3eba",
          "aa8a0f",
          "ab517e",
          "ae941d",
          "b0a8c4",
          "b43da8",
          "b498ab",
          "b6ef21",
          "b7adae",
          "b86f30",
          "b98ff7",
          "bafa84",
          "bce499",
          "bd915d",
          "bdfdd5",
          "be0469",
          "bee350",
          "c0586a",
          "c0d30d",
          "c3a574",
          "c61fdf",
          "c75130",
          "c7b0a0",
          "c90b2c",
          "c98a44",
          "ca4237",
          "cd15d3",
          "ce78e1",
          "cf8bbf",
          "d117cd",
          "d2978b",
          "daebd5",
          "dc939e",
          "dd71f7",
          "defb7d",
          "dfa185",
          "e0e6e1",
          "e29ac9",
          "e3518b",
          "e4f456",
          "e5c3fc",
          "e655b6",
          "e6804d",
          "e6b0d9",
          "e6f044",
          "e841e5",
          "ea85d6",
          "eb7621"
         ],
         "y": [
          "",
          "",
          32,
          38,
          "",
          77,
          "",
          28,
          23,
          "",
          "",
          "",
          "",
          "",
          59,
          38,
          "",
          "",
          "",
          "",
          "",
          45,
          "",
          "",
          25,
          "",
          36,
          "",
          30,
          37,
          "",
          "",
          75,
          16,
          38,
          "",
          "",
          41,
          "",
          "",
          6,
          "",
          75,
          "",
          "",
          "",
          "",
          6,
          72,
          "",
          "",
          17,
          "",
          18,
          "",
          "",
          "",
          25,
          33,
          53,
          28,
          "",
          "",
          "",
          16,
          46,
          "",
          35,
          48,
          22,
          "",
          33,
          "",
          "",
          "",
          "",
          "",
          11,
          38,
          20,
          "",
          "",
          53,
          49,
          "",
          "",
          "",
          46,
          "",
          29,
          "",
          "",
          "",
          13,
          "",
          59,
          "",
          21,
          "",
          ""
         ]
        }
       ],
       "layout": {
        "legend": {
         "bgcolor": "#F5F6F9",
         "font": {
          "color": "#4D5663"
         }
        },
        "paper_bgcolor": "#F5F6F9",
        "plot_bgcolor": "#F5F6F9",
        "template": {
         "data": {
          "bar": [
           {
            "error_x": {
             "color": "#2a3f5f"
            },
            "error_y": {
             "color": "#2a3f5f"
            },
            "marker": {
             "line": {
              "color": "#E5ECF6",
              "width": 0.5
             },
             "pattern": {
              "fillmode": "overlay",
              "size": 10,
              "solidity": 0.2
             }
            },
            "type": "bar"
           }
          ],
          "barpolar": [
           {
            "marker": {
             "line": {
              "color": "#E5ECF6",
              "width": 0.5
             },
             "pattern": {
              "fillmode": "overlay",
              "size": 10,
              "solidity": 0.2
             }
            },
            "type": "barpolar"
           }
          ],
          "carpet": [
           {
            "aaxis": {
             "endlinecolor": "#2a3f5f",
             "gridcolor": "white",
             "linecolor": "white",
             "minorgridcolor": "white",
             "startlinecolor": "#2a3f5f"
            },
            "baxis": {
             "endlinecolor": "#2a3f5f",
             "gridcolor": "white",
             "linecolor": "white",
             "minorgridcolor": "white",
             "startlinecolor": "#2a3f5f"
            },
            "type": "carpet"
           }
          ],
          "choropleth": [
           {
            "colorbar": {
             "outlinewidth": 0,
             "ticks": ""
            },
            "type": "choropleth"
           }
          ],
          "contour": [
           {
            "colorbar": {
             "outlinewidth": 0,
             "ticks": ""
            },
            "colorscale": [
             [
              0,
              "#0d0887"
             ],
             [
              0.1111111111111111,
              "#46039f"
             ],
             [
              0.2222222222222222,
              "#7201a8"
             ],
             [
              0.3333333333333333,
              "#9c179e"
             ],
             [
              0.4444444444444444,
              "#bd3786"
             ],
             [
              0.5555555555555556,
              "#d8576b"
             ],
             [
              0.6666666666666666,
              "#ed7953"
             ],
             [
              0.7777777777777778,
              "#fb9f3a"
             ],
             [
              0.8888888888888888,
              "#fdca26"
             ],
             [
              1,
              "#f0f921"
             ]
            ],
            "type": "contour"
           }
          ],
          "contourcarpet": [
           {
            "colorbar": {
             "outlinewidth": 0,
             "ticks": ""
            },
            "type": "contourcarpet"
           }
          ],
          "heatmap": [
           {
            "colorbar": {
             "outlinewidth": 0,
             "ticks": ""
            },
            "colorscale": [
             [
              0,
              "#0d0887"
             ],
             [
              0.1111111111111111,
              "#46039f"
             ],
             [
              0.2222222222222222,
              "#7201a8"
             ],
             [
              0.3333333333333333,
              "#9c179e"
             ],
             [
              0.4444444444444444,
              "#bd3786"
             ],
             [
              0.5555555555555556,
              "#d8576b"
             ],
             [
              0.6666666666666666,
              "#ed7953"
             ],
             [
              0.7777777777777778,
              "#fb9f3a"
             ],
             [
              0.8888888888888888,
              "#fdca26"
             ],
             [
              1,
              "#f0f921"
             ]
            ],
            "type": "heatmap"
           }
          ],
          "heatmapgl": [
           {
            "colorbar": {
             "outlinewidth": 0,
             "ticks": ""
            },
            "colorscale": [
             [
              0,
              "#0d0887"
             ],
             [
              0.1111111111111111,
              "#46039f"
             ],
             [
              0.2222222222222222,
              "#7201a8"
             ],
             [
              0.3333333333333333,
              "#9c179e"
             ],
             [
              0.4444444444444444,
              "#bd3786"
             ],
             [
              0.5555555555555556,
              "#d8576b"
             ],
             [
              0.6666666666666666,
              "#ed7953"
             ],
             [
              0.7777777777777778,
              "#fb9f3a"
             ],
             [
              0.8888888888888888,
              "#fdca26"
             ],
             [
              1,
              "#f0f921"
             ]
            ],
            "type": "heatmapgl"
           }
          ],
          "histogram": [
           {
            "marker": {
             "pattern": {
              "fillmode": "overlay",
              "size": 10,
              "solidity": 0.2
             }
            },
            "type": "histogram"
           }
          ],
          "histogram2d": [
           {
            "colorbar": {
             "outlinewidth": 0,
             "ticks": ""
            },
            "colorscale": [
             [
              0,
              "#0d0887"
             ],
             [
              0.1111111111111111,
              "#46039f"
             ],
             [
              0.2222222222222222,
              "#7201a8"
             ],
             [
              0.3333333333333333,
              "#9c179e"
             ],
             [
              0.4444444444444444,
              "#bd3786"
             ],
             [
              0.5555555555555556,
              "#d8576b"
             ],
             [
              0.6666666666666666,
              "#ed7953"
             ],
             [
              0.7777777777777778,
              "#fb9f3a"
             ],
             [
              0.8888888888888888,
              "#fdca26"
             ],
             [
              1,
              "#f0f921"
             ]
            ],
            "type": "histogram2d"
           }
          ],
          "histogram2dcontour": [
           {
            "colorbar": {
             "outlinewidth": 0,
             "ticks": ""
            },
            "colorscale": [
             [
              0,
              "#0d0887"
             ],
             [
              0.1111111111111111,
              "#46039f"
             ],
             [
              0.2222222222222222,
              "#7201a8"
             ],
             [
              0.3333333333333333,
              "#9c179e"
             ],
             [
              0.4444444444444444,
              "#bd3786"
             ],
             [
              0.5555555555555556,
              "#d8576b"
             ],
             [
              0.6666666666666666,
              "#ed7953"
             ],
             [
              0.7777777777777778,
              "#fb9f3a"
             ],
             [
              0.8888888888888888,
              "#fdca26"
             ],
             [
              1,
              "#f0f921"
             ]
            ],
            "type": "histogram2dcontour"
           }
          ],
          "mesh3d": [
           {
            "colorbar": {
             "outlinewidth": 0,
             "ticks": ""
            },
            "type": "mesh3d"
           }
          ],
          "parcoords": [
           {
            "line": {
             "colorbar": {
              "outlinewidth": 0,
              "ticks": ""
             }
            },
            "type": "parcoords"
           }
          ],
          "pie": [
           {
            "automargin": true,
            "type": "pie"
           }
          ],
          "scatter": [
           {
            "fillpattern": {
             "fillmode": "overlay",
             "size": 10,
             "solidity": 0.2
            },
            "type": "scatter"
           }
          ],
          "scatter3d": [
           {
            "line": {
             "colorbar": {
              "outlinewidth": 0,
              "ticks": ""
             }
            },
            "marker": {
             "colorbar": {
              "outlinewidth": 0,
              "ticks": ""
             }
            },
            "type": "scatter3d"
           }
          ],
          "scattercarpet": [
           {
            "marker": {
             "colorbar": {
              "outlinewidth": 0,
              "ticks": ""
             }
            },
            "type": "scattercarpet"
           }
          ],
          "scattergeo": [
           {
            "marker": {
             "colorbar": {
              "outlinewidth": 0,
              "ticks": ""
             }
            },
            "type": "scattergeo"
           }
          ],
          "scattergl": [
           {
            "marker": {
             "colorbar": {
              "outlinewidth": 0,
              "ticks": ""
             }
            },
            "type": "scattergl"
           }
          ],
          "scattermapbox": [
           {
            "marker": {
             "colorbar": {
              "outlinewidth": 0,
              "ticks": ""
             }
            },
            "type": "scattermapbox"
           }
          ],
          "scatterpolar": [
           {
            "marker": {
             "colorbar": {
              "outlinewidth": 0,
              "ticks": ""
             }
            },
            "type": "scatterpolar"
           }
          ],
          "scatterpolargl": [
           {
            "marker": {
             "colorbar": {
              "outlinewidth": 0,
              "ticks": ""
             }
            },
            "type": "scatterpolargl"
           }
          ],
          "scatterternary": [
           {
            "marker": {
             "colorbar": {
              "outlinewidth": 0,
              "ticks": ""
             }
            },
            "type": "scatterternary"
           }
          ],
          "surface": [
           {
            "colorbar": {
             "outlinewidth": 0,
             "ticks": ""
            },
            "colorscale": [
             [
              0,
              "#0d0887"
             ],
             [
              0.1111111111111111,
              "#46039f"
             ],
             [
              0.2222222222222222,
              "#7201a8"
             ],
             [
              0.3333333333333333,
              "#9c179e"
             ],
             [
              0.4444444444444444,
              "#bd3786"
             ],
             [
              0.5555555555555556,
              "#d8576b"
             ],
             [
              0.6666666666666666,
              "#ed7953"
             ],
             [
              0.7777777777777778,
              "#fb9f3a"
             ],
             [
              0.8888888888888888,
              "#fdca26"
             ],
             [
              1,
              "#f0f921"
             ]
            ],
            "type": "surface"
           }
          ],
          "table": [
           {
            "cells": {
             "fill": {
              "color": "#EBF0F8"
             },
             "line": {
              "color": "white"
             }
            },
            "header": {
             "fill": {
              "color": "#C8D4E3"
             },
             "line": {
              "color": "white"
             }
            },
            "type": "table"
           }
          ]
         },
         "layout": {
          "annotationdefaults": {
           "arrowcolor": "#2a3f5f",
           "arrowhead": 0,
           "arrowwidth": 1
          },
          "autotypenumbers": "strict",
          "coloraxis": {
           "colorbar": {
            "outlinewidth": 0,
            "ticks": ""
           }
          },
          "colorscale": {
           "diverging": [
            [
             0,
             "#8e0152"
            ],
            [
             0.1,
             "#c51b7d"
            ],
            [
             0.2,
             "#de77ae"
            ],
            [
             0.3,
             "#f1b6da"
            ],
            [
             0.4,
             "#fde0ef"
            ],
            [
             0.5,
             "#f7f7f7"
            ],
            [
             0.6,
             "#e6f5d0"
            ],
            [
             0.7,
             "#b8e186"
            ],
            [
             0.8,
             "#7fbc41"
            ],
            [
             0.9,
             "#4d9221"
            ],
            [
             1,
             "#276419"
            ]
           ],
           "sequential": [
            [
             0,
             "#0d0887"
            ],
            [
             0.1111111111111111,
             "#46039f"
            ],
            [
             0.2222222222222222,
             "#7201a8"
            ],
            [
             0.3333333333333333,
             "#9c179e"
            ],
            [
             0.4444444444444444,
             "#bd3786"
            ],
            [
             0.5555555555555556,
             "#d8576b"
            ],
            [
             0.6666666666666666,
             "#ed7953"
            ],
            [
             0.7777777777777778,
             "#fb9f3a"
            ],
            [
             0.8888888888888888,
             "#fdca26"
            ],
            [
             1,
             "#f0f921"
            ]
           ],
           "sequentialminus": [
            [
             0,
             "#0d0887"
            ],
            [
             0.1111111111111111,
             "#46039f"
            ],
            [
             0.2222222222222222,
             "#7201a8"
            ],
            [
             0.3333333333333333,
             "#9c179e"
            ],
            [
             0.4444444444444444,
             "#bd3786"
            ],
            [
             0.5555555555555556,
             "#d8576b"
            ],
            [
             0.6666666666666666,
             "#ed7953"
            ],
            [
             0.7777777777777778,
             "#fb9f3a"
            ],
            [
             0.8888888888888888,
             "#fdca26"
            ],
            [
             1,
             "#f0f921"
            ]
           ]
          },
          "colorway": [
           "#636efa",
           "#EF553B",
           "#00cc96",
           "#ab63fa",
           "#FFA15A",
           "#19d3f3",
           "#FF6692",
           "#B6E880",
           "#FF97FF",
           "#FECB52"
          ],
          "font": {
           "color": "#2a3f5f"
          },
          "geo": {
           "bgcolor": "white",
           "lakecolor": "white",
           "landcolor": "#E5ECF6",
           "showlakes": true,
           "showland": true,
           "subunitcolor": "white"
          },
          "hoverlabel": {
           "align": "left"
          },
          "hovermode": "closest",
          "mapbox": {
           "style": "light"
          },
          "paper_bgcolor": "white",
          "plot_bgcolor": "#E5ECF6",
          "polar": {
           "angularaxis": {
            "gridcolor": "white",
            "linecolor": "white",
            "ticks": ""
           },
           "bgcolor": "#E5ECF6",
           "radialaxis": {
            "gridcolor": "white",
            "linecolor": "white",
            "ticks": ""
           }
          },
          "scene": {
           "xaxis": {
            "backgroundcolor": "#E5ECF6",
            "gridcolor": "white",
            "gridwidth": 2,
            "linecolor": "white",
            "showbackground": true,
            "ticks": "",
            "zerolinecolor": "white"
           },
           "yaxis": {
            "backgroundcolor": "#E5ECF6",
            "gridcolor": "white",
            "gridwidth": 2,
            "linecolor": "white",
            "showbackground": true,
            "ticks": "",
            "zerolinecolor": "white"
           },
           "zaxis": {
            "backgroundcolor": "#E5ECF6",
            "gridcolor": "white",
            "gridwidth": 2,
            "linecolor": "white",
            "showbackground": true,
            "ticks": "",
            "zerolinecolor": "white"
           }
          },
          "shapedefaults": {
           "line": {
            "color": "#2a3f5f"
           }
          },
          "ternary": {
           "aaxis": {
            "gridcolor": "white",
            "linecolor": "white",
            "ticks": ""
           },
           "baxis": {
            "gridcolor": "white",
            "linecolor": "white",
            "ticks": ""
           },
           "bgcolor": "#E5ECF6",
           "caxis": {
            "gridcolor": "white",
            "linecolor": "white",
            "ticks": ""
           }
          },
          "title": {
           "x": 0.05
          },
          "xaxis": {
           "automargin": true,
           "gridcolor": "white",
           "linecolor": "white",
           "ticks": "",
           "title": {
            "standoff": 15
           },
           "zerolinecolor": "white",
           "zerolinewidth": 2
          },
          "yaxis": {
           "automargin": true,
           "gridcolor": "white",
           "linecolor": "white",
           "ticks": "",
           "title": {
            "standoff": 15
           },
           "zerolinecolor": "white",
           "zerolinewidth": 2
          }
         }
        },
        "title": {
         "font": {
          "color": "#4D5663"
         },
         "text": "Edad de los contagiados por sexo"
        },
        "xaxis": {
         "gridcolor": "#E1E5ED",
         "showgrid": true,
         "tickfont": {
          "color": "#4D5663"
         },
         "title": {
          "font": {
           "color": "#4D5663"
          },
          "text": "ID"
         },
         "zerolinecolor": "#E1E5ED"
        },
        "yaxis": {
         "gridcolor": "#E1E5ED",
         "showgrid": true,
         "tickfont": {
          "color": "#4D5663"
         },
         "title": {
          "font": {
           "color": "#4D5663"
          },
          "text": "EDAD"
         },
         "zerolinecolor": "#E1E5ED"
        }
       }
      },
      "text/html": [
       "<div>                            <div id=\"307e9bc1-acb8-4898-909f-6ec2de614650\" class=\"plotly-graph-div\" style=\"height:525px; width:100%;\"></div>            <script type=\"text/javascript\">                require([\"plotly\"], function(Plotly) {                    window.PLOTLYENV=window.PLOTLYENV || {};\n",
       "                    window.PLOTLYENV.BASE_URL='https://plot.ly';                                    if (document.getElementById(\"307e9bc1-acb8-4898-909f-6ec2de614650\")) {                    Plotly.newPlot(                        \"307e9bc1-acb8-4898-909f-6ec2de614650\",                        [{\"marker\":{\"color\":\"rgba(255, 153, 51, 0.6)\",\"line\":{\"color\":\"rgba(255, 153, 51, 1.0)\",\"width\":1}},\"name\":\"1.0\",\"orientation\":\"v\",\"text\":\"\",\"x\":[\"48be17\",\"4a1716\",\"4af218\",\"4bf03f\",\"4d6ebb\",\"5327fc\",\"54653b\",\"548378\",\"59e8fb\",\"5afb8d\",\"5b8845\",\"5c34f9\",\"5c8697\",\"5d0654\",\"5e055f\",\"60979f\",\"61270f\",\"618684\",\"66471d\",\"69235d\",\"694661\",\"6df70a\",\"6fc116\",\"74d30a\",\"76f1b4\",\"793f35\",\"7c1b65\",\"7ccecd\",\"7eeb89\",\"816d6e\",\"820b00\",\"8218cd\",\"850486\",\"8e06c5\",\"8fb88b\",\"910392\",\"91bd68\",\"9344f6\",\"936c17\",\"94d9d3\",\"96072e\",\"97fba5\",\"9832bf\",\"989fdf\",\"991633\",\"9c0eed\",\"9e0e72\",\"a09ec7\",\"a1b60c\",\"a1b834\",\"a7e503\",\"a840c9\",\"aa3eba\",\"aa8a0f\",\"ab517e\",\"ae941d\",\"b0a8c4\",\"b43da8\",\"b498ab\",\"b6ef21\",\"b7adae\",\"b86f30\",\"b98ff7\",\"bafa84\",\"bce499\",\"bd915d\",\"bdfdd5\",\"be0469\",\"bee350\",\"c0586a\",\"c0d30d\",\"c3a574\",\"c61fdf\",\"c75130\",\"c7b0a0\",\"c90b2c\",\"c98a44\",\"ca4237\",\"cd15d3\",\"ce78e1\",\"cf8bbf\",\"d117cd\",\"d2978b\",\"daebd5\",\"dc939e\",\"dd71f7\",\"defb7d\",\"dfa185\",\"e0e6e1\",\"e29ac9\",\"e3518b\",\"e4f456\",\"e5c3fc\",\"e655b6\",\"e6804d\",\"e6b0d9\",\"e6f044\",\"e841e5\",\"ea85d6\",\"eb7621\"],\"y\":[54.0,50.0,\"\",\"\",35.0,\"\",38.0,\"\",\"\",29.0,6.0,5.0,42.0,26.0,\"\",\"\",53.0,54.0,22.0,61.0,31.0,\"\",55.0,13.0,\"\",21.0,\"\",58.0,\"\",\"\",66.0,49.0,\"\",\"\",\"\",61.0,31.0,\"\",74.0,10.0,\"\",57.0,\"\",16.0,50.0,32.0,56.0,\"\",\"\",43.0,26.0,\"\",28.0,\"\",25.0,57.0,36.0,\"\",\"\",\"\",\"\",46.0,18.0,37.0,\"\",\"\",46.0,\"\",\"\",\"\",20.0,\"\",47.0,27.0,49.0,54.0,43.0,\"\",\"\",\"\",19.0,52.0,\"\",\"\",57.0,31.0,46.0,\"\",31.0,\"\",19.0,17.0,46.0,\"\",27.0,\"\",33.0,\"\",42.0,69.0],\"type\":\"bar\"},{\"marker\":{\"color\":\"rgba(55, 128, 191, 0.6)\",\"line\":{\"color\":\"rgba(55, 128, 191, 1.0)\",\"width\":1}},\"name\":\"2.0\",\"orientation\":\"v\",\"text\":\"\",\"x\":[\"48be17\",\"4a1716\",\"4af218\",\"4bf03f\",\"4d6ebb\",\"5327fc\",\"54653b\",\"548378\",\"59e8fb\",\"5afb8d\",\"5b8845\",\"5c34f9\",\"5c8697\",\"5d0654\",\"5e055f\",\"60979f\",\"61270f\",\"618684\",\"66471d\",\"69235d\",\"694661\",\"6df70a\",\"6fc116\",\"74d30a\",\"76f1b4\",\"793f35\",\"7c1b65\",\"7ccecd\",\"7eeb89\",\"816d6e\",\"820b00\",\"8218cd\",\"850486\",\"8e06c5\",\"8fb88b\",\"910392\",\"91bd68\",\"9344f6\",\"936c17\",\"94d9d3\",\"96072e\",\"97fba5\",\"9832bf\",\"989fdf\",\"991633\",\"9c0eed\",\"9e0e72\",\"a09ec7\",\"a1b60c\",\"a1b834\",\"a7e503\",\"a840c9\",\"aa3eba\",\"aa8a0f\",\"ab517e\",\"ae941d\",\"b0a8c4\",\"b43da8\",\"b498ab\",\"b6ef21\",\"b7adae\",\"b86f30\",\"b98ff7\",\"bafa84\",\"bce499\",\"bd915d\",\"bdfdd5\",\"be0469\",\"bee350\",\"c0586a\",\"c0d30d\",\"c3a574\",\"c61fdf\",\"c75130\",\"c7b0a0\",\"c90b2c\",\"c98a44\",\"ca4237\",\"cd15d3\",\"ce78e1\",\"cf8bbf\",\"d117cd\",\"d2978b\",\"daebd5\",\"dc939e\",\"dd71f7\",\"defb7d\",\"dfa185\",\"e0e6e1\",\"e29ac9\",\"e3518b\",\"e4f456\",\"e5c3fc\",\"e655b6\",\"e6804d\",\"e6b0d9\",\"e6f044\",\"e841e5\",\"ea85d6\",\"eb7621\"],\"y\":[\"\",\"\",32.0,38.0,\"\",77.0,\"\",28.0,23.0,\"\",\"\",\"\",\"\",\"\",59.0,38.0,\"\",\"\",\"\",\"\",\"\",45.0,\"\",\"\",25.0,\"\",36.0,\"\",30.0,37.0,\"\",\"\",75.0,16.0,38.0,\"\",\"\",41.0,\"\",\"\",6.0,\"\",75.0,\"\",\"\",\"\",\"\",6.0,72.0,\"\",\"\",17.0,\"\",18.0,\"\",\"\",\"\",25.0,33.0,53.0,28.0,\"\",\"\",\"\",16.0,46.0,\"\",35.0,48.0,22.0,\"\",33.0,\"\",\"\",\"\",\"\",\"\",11.0,38.0,20.0,\"\",\"\",53.0,49.0,\"\",\"\",\"\",46.0,\"\",29.0,\"\",\"\",\"\",13.0,\"\",59.0,\"\",21.0,\"\",\"\"],\"type\":\"bar\"}],                        {\"legend\":{\"bgcolor\":\"#F5F6F9\",\"font\":{\"color\":\"#4D5663\"}},\"paper_bgcolor\":\"#F5F6F9\",\"plot_bgcolor\":\"#F5F6F9\",\"template\":{\"data\":{\"barpolar\":[{\"marker\":{\"line\":{\"color\":\"#E5ECF6\",\"width\":0.5},\"pattern\":{\"fillmode\":\"overlay\",\"size\":10,\"solidity\":0.2}},\"type\":\"barpolar\"}],\"bar\":[{\"error_x\":{\"color\":\"#2a3f5f\"},\"error_y\":{\"color\":\"#2a3f5f\"},\"marker\":{\"line\":{\"color\":\"#E5ECF6\",\"width\":0.5},\"pattern\":{\"fillmode\":\"overlay\",\"size\":10,\"solidity\":0.2}},\"type\":\"bar\"}],\"carpet\":[{\"aaxis\":{\"endlinecolor\":\"#2a3f5f\",\"gridcolor\":\"white\",\"linecolor\":\"white\",\"minorgridcolor\":\"white\",\"startlinecolor\":\"#2a3f5f\"},\"baxis\":{\"endlinecolor\":\"#2a3f5f\",\"gridcolor\":\"white\",\"linecolor\":\"white\",\"minorgridcolor\":\"white\",\"startlinecolor\":\"#2a3f5f\"},\"type\":\"carpet\"}],\"choropleth\":[{\"colorbar\":{\"outlinewidth\":0,\"ticks\":\"\"},\"type\":\"choropleth\"}],\"contourcarpet\":[{\"colorbar\":{\"outlinewidth\":0,\"ticks\":\"\"},\"type\":\"contourcarpet\"}],\"contour\":[{\"colorbar\":{\"outlinewidth\":0,\"ticks\":\"\"},\"colorscale\":[[0.0,\"#0d0887\"],[0.1111111111111111,\"#46039f\"],[0.2222222222222222,\"#7201a8\"],[0.3333333333333333,\"#9c179e\"],[0.4444444444444444,\"#bd3786\"],[0.5555555555555556,\"#d8576b\"],[0.6666666666666666,\"#ed7953\"],[0.7777777777777778,\"#fb9f3a\"],[0.8888888888888888,\"#fdca26\"],[1.0,\"#f0f921\"]],\"type\":\"contour\"}],\"heatmapgl\":[{\"colorbar\":{\"outlinewidth\":0,\"ticks\":\"\"},\"colorscale\":[[0.0,\"#0d0887\"],[0.1111111111111111,\"#46039f\"],[0.2222222222222222,\"#7201a8\"],[0.3333333333333333,\"#9c179e\"],[0.4444444444444444,\"#bd3786\"],[0.5555555555555556,\"#d8576b\"],[0.6666666666666666,\"#ed7953\"],[0.7777777777777778,\"#fb9f3a\"],[0.8888888888888888,\"#fdca26\"],[1.0,\"#f0f921\"]],\"type\":\"heatmapgl\"}],\"heatmap\":[{\"colorbar\":{\"outlinewidth\":0,\"ticks\":\"\"},\"colorscale\":[[0.0,\"#0d0887\"],[0.1111111111111111,\"#46039f\"],[0.2222222222222222,\"#7201a8\"],[0.3333333333333333,\"#9c179e\"],[0.4444444444444444,\"#bd3786\"],[0.5555555555555556,\"#d8576b\"],[0.6666666666666666,\"#ed7953\"],[0.7777777777777778,\"#fb9f3a\"],[0.8888888888888888,\"#fdca26\"],[1.0,\"#f0f921\"]],\"type\":\"heatmap\"}],\"histogram2dcontour\":[{\"colorbar\":{\"outlinewidth\":0,\"ticks\":\"\"},\"colorscale\":[[0.0,\"#0d0887\"],[0.1111111111111111,\"#46039f\"],[0.2222222222222222,\"#7201a8\"],[0.3333333333333333,\"#9c179e\"],[0.4444444444444444,\"#bd3786\"],[0.5555555555555556,\"#d8576b\"],[0.6666666666666666,\"#ed7953\"],[0.7777777777777778,\"#fb9f3a\"],[0.8888888888888888,\"#fdca26\"],[1.0,\"#f0f921\"]],\"type\":\"histogram2dcontour\"}],\"histogram2d\":[{\"colorbar\":{\"outlinewidth\":0,\"ticks\":\"\"},\"colorscale\":[[0.0,\"#0d0887\"],[0.1111111111111111,\"#46039f\"],[0.2222222222222222,\"#7201a8\"],[0.3333333333333333,\"#9c179e\"],[0.4444444444444444,\"#bd3786\"],[0.5555555555555556,\"#d8576b\"],[0.6666666666666666,\"#ed7953\"],[0.7777777777777778,\"#fb9f3a\"],[0.8888888888888888,\"#fdca26\"],[1.0,\"#f0f921\"]],\"type\":\"histogram2d\"}],\"histogram\":[{\"marker\":{\"pattern\":{\"fillmode\":\"overlay\",\"size\":10,\"solidity\":0.2}},\"type\":\"histogram\"}],\"mesh3d\":[{\"colorbar\":{\"outlinewidth\":0,\"ticks\":\"\"},\"type\":\"mesh3d\"}],\"parcoords\":[{\"line\":{\"colorbar\":{\"outlinewidth\":0,\"ticks\":\"\"}},\"type\":\"parcoords\"}],\"pie\":[{\"automargin\":true,\"type\":\"pie\"}],\"scatter3d\":[{\"line\":{\"colorbar\":{\"outlinewidth\":0,\"ticks\":\"\"}},\"marker\":{\"colorbar\":{\"outlinewidth\":0,\"ticks\":\"\"}},\"type\":\"scatter3d\"}],\"scattercarpet\":[{\"marker\":{\"colorbar\":{\"outlinewidth\":0,\"ticks\":\"\"}},\"type\":\"scattercarpet\"}],\"scattergeo\":[{\"marker\":{\"colorbar\":{\"outlinewidth\":0,\"ticks\":\"\"}},\"type\":\"scattergeo\"}],\"scattergl\":[{\"marker\":{\"colorbar\":{\"outlinewidth\":0,\"ticks\":\"\"}},\"type\":\"scattergl\"}],\"scattermapbox\":[{\"marker\":{\"colorbar\":{\"outlinewidth\":0,\"ticks\":\"\"}},\"type\":\"scattermapbox\"}],\"scatterpolargl\":[{\"marker\":{\"colorbar\":{\"outlinewidth\":0,\"ticks\":\"\"}},\"type\":\"scatterpolargl\"}],\"scatterpolar\":[{\"marker\":{\"colorbar\":{\"outlinewidth\":0,\"ticks\":\"\"}},\"type\":\"scatterpolar\"}],\"scatter\":[{\"fillpattern\":{\"fillmode\":\"overlay\",\"size\":10,\"solidity\":0.2},\"type\":\"scatter\"}],\"scatterternary\":[{\"marker\":{\"colorbar\":{\"outlinewidth\":0,\"ticks\":\"\"}},\"type\":\"scatterternary\"}],\"surface\":[{\"colorbar\":{\"outlinewidth\":0,\"ticks\":\"\"},\"colorscale\":[[0.0,\"#0d0887\"],[0.1111111111111111,\"#46039f\"],[0.2222222222222222,\"#7201a8\"],[0.3333333333333333,\"#9c179e\"],[0.4444444444444444,\"#bd3786\"],[0.5555555555555556,\"#d8576b\"],[0.6666666666666666,\"#ed7953\"],[0.7777777777777778,\"#fb9f3a\"],[0.8888888888888888,\"#fdca26\"],[1.0,\"#f0f921\"]],\"type\":\"surface\"}],\"table\":[{\"cells\":{\"fill\":{\"color\":\"#EBF0F8\"},\"line\":{\"color\":\"white\"}},\"header\":{\"fill\":{\"color\":\"#C8D4E3\"},\"line\":{\"color\":\"white\"}},\"type\":\"table\"}]},\"layout\":{\"annotationdefaults\":{\"arrowcolor\":\"#2a3f5f\",\"arrowhead\":0,\"arrowwidth\":1},\"autotypenumbers\":\"strict\",\"coloraxis\":{\"colorbar\":{\"outlinewidth\":0,\"ticks\":\"\"}},\"colorscale\":{\"diverging\":[[0,\"#8e0152\"],[0.1,\"#c51b7d\"],[0.2,\"#de77ae\"],[0.3,\"#f1b6da\"],[0.4,\"#fde0ef\"],[0.5,\"#f7f7f7\"],[0.6,\"#e6f5d0\"],[0.7,\"#b8e186\"],[0.8,\"#7fbc41\"],[0.9,\"#4d9221\"],[1,\"#276419\"]],\"sequential\":[[0.0,\"#0d0887\"],[0.1111111111111111,\"#46039f\"],[0.2222222222222222,\"#7201a8\"],[0.3333333333333333,\"#9c179e\"],[0.4444444444444444,\"#bd3786\"],[0.5555555555555556,\"#d8576b\"],[0.6666666666666666,\"#ed7953\"],[0.7777777777777778,\"#fb9f3a\"],[0.8888888888888888,\"#fdca26\"],[1.0,\"#f0f921\"]],\"sequentialminus\":[[0.0,\"#0d0887\"],[0.1111111111111111,\"#46039f\"],[0.2222222222222222,\"#7201a8\"],[0.3333333333333333,\"#9c179e\"],[0.4444444444444444,\"#bd3786\"],[0.5555555555555556,\"#d8576b\"],[0.6666666666666666,\"#ed7953\"],[0.7777777777777778,\"#fb9f3a\"],[0.8888888888888888,\"#fdca26\"],[1.0,\"#f0f921\"]]},\"colorway\":[\"#636efa\",\"#EF553B\",\"#00cc96\",\"#ab63fa\",\"#FFA15A\",\"#19d3f3\",\"#FF6692\",\"#B6E880\",\"#FF97FF\",\"#FECB52\"],\"font\":{\"color\":\"#2a3f5f\"},\"geo\":{\"bgcolor\":\"white\",\"lakecolor\":\"white\",\"landcolor\":\"#E5ECF6\",\"showlakes\":true,\"showland\":true,\"subunitcolor\":\"white\"},\"hoverlabel\":{\"align\":\"left\"},\"hovermode\":\"closest\",\"mapbox\":{\"style\":\"light\"},\"paper_bgcolor\":\"white\",\"plot_bgcolor\":\"#E5ECF6\",\"polar\":{\"angularaxis\":{\"gridcolor\":\"white\",\"linecolor\":\"white\",\"ticks\":\"\"},\"bgcolor\":\"#E5ECF6\",\"radialaxis\":{\"gridcolor\":\"white\",\"linecolor\":\"white\",\"ticks\":\"\"}},\"scene\":{\"xaxis\":{\"backgroundcolor\":\"#E5ECF6\",\"gridcolor\":\"white\",\"gridwidth\":2,\"linecolor\":\"white\",\"showbackground\":true,\"ticks\":\"\",\"zerolinecolor\":\"white\"},\"yaxis\":{\"backgroundcolor\":\"#E5ECF6\",\"gridcolor\":\"white\",\"gridwidth\":2,\"linecolor\":\"white\",\"showbackground\":true,\"ticks\":\"\",\"zerolinecolor\":\"white\"},\"zaxis\":{\"backgroundcolor\":\"#E5ECF6\",\"gridcolor\":\"white\",\"gridwidth\":2,\"linecolor\":\"white\",\"showbackground\":true,\"ticks\":\"\",\"zerolinecolor\":\"white\"}},\"shapedefaults\":{\"line\":{\"color\":\"#2a3f5f\"}},\"ternary\":{\"aaxis\":{\"gridcolor\":\"white\",\"linecolor\":\"white\",\"ticks\":\"\"},\"baxis\":{\"gridcolor\":\"white\",\"linecolor\":\"white\",\"ticks\":\"\"},\"bgcolor\":\"#E5ECF6\",\"caxis\":{\"gridcolor\":\"white\",\"linecolor\":\"white\",\"ticks\":\"\"}},\"title\":{\"x\":0.05},\"xaxis\":{\"automargin\":true,\"gridcolor\":\"white\",\"linecolor\":\"white\",\"ticks\":\"\",\"title\":{\"standoff\":15},\"zerolinecolor\":\"white\",\"zerolinewidth\":2},\"yaxis\":{\"automargin\":true,\"gridcolor\":\"white\",\"linecolor\":\"white\",\"ticks\":\"\",\"title\":{\"standoff\":15},\"zerolinecolor\":\"white\",\"zerolinewidth\":2}}},\"title\":{\"font\":{\"color\":\"#4D5663\"},\"text\":\"Edad de los contagiados por sexo\"},\"xaxis\":{\"gridcolor\":\"#E1E5ED\",\"showgrid\":true,\"tickfont\":{\"color\":\"#4D5663\"},\"title\":{\"font\":{\"color\":\"#4D5663\"},\"text\":\"ID\"},\"zerolinecolor\":\"#E1E5ED\"},\"yaxis\":{\"gridcolor\":\"#E1E5ED\",\"showgrid\":true,\"tickfont\":{\"color\":\"#4D5663\"},\"title\":{\"font\":{\"color\":\"#4D5663\"},\"text\":\"EDAD\"},\"zerolinecolor\":\"#E1E5ED\"}},                        {\"showLink\": true, \"linkText\": \"Export to plot.ly\", \"plotlyServerURL\": \"https://plot.ly\", \"responsive\": true}                    ).then(function(){\n",
       "                            \n",
       "var gd = document.getElementById('307e9bc1-acb8-4898-909f-6ec2de614650');\n",
       "var x = new MutationObserver(function (mutations, observer) {{\n",
       "        var display = window.getComputedStyle(gd).display;\n",
       "        if (!display || display === 'none') {{\n",
       "            console.log([gd, 'removed!']);\n",
       "            Plotly.purge(gd);\n",
       "            observer.disconnect();\n",
       "        }}\n",
       "}});\n",
       "\n",
       "// Listen for the removal of the full notebook cells\n",
       "var notebookContainer = gd.closest('#notebook-container');\n",
       "if (notebookContainer) {{\n",
       "    x.observe(notebookContainer, {childList: true});\n",
       "}}\n",
       "\n",
       "// Listen for the clearing of the current output cell\n",
       "var outputEl = gd.closest('.output');\n",
       "if (outputEl) {{\n",
       "    x.observe(outputEl, {childList: true});\n",
       "}}\n",
       "\n",
       "                        })                };                });            </script>        </div>"
      ]
     },
     "metadata": {},
     "output_type": "display_data"
    }
   ],
   "source": [
    "#Se elabora un gráfico acerca de la edad por sexo de los contagiados de COVID 19\n",
    "Data_0.iplot(kind='bar', xTitle='ID',\n",
    "                           yTitle='EDAD', title='Edad de los contagiados por sexo') # 1 mujer #2hombre"
   ]
  },
  {
   "cell_type": "code",
   "execution_count": 141,
   "metadata": {},
   "outputs": [
    {
     "data": {
      "application/vnd.plotly.v1+json": {
       "config": {
        "linkText": "Export to plot.ly",
        "plotlyServerURL": "https://plot.ly",
        "showLink": true
       },
       "data": [
        {
         "boxpoints": false,
         "line": {
          "width": 1.3
         },
         "marker": {
          "color": "rgba(255, 153, 51, 1.0)"
         },
         "name": "1.0",
         "orientation": "v",
         "type": "box",
         "y": [
          54,
          50,
          null,
          null,
          35,
          null,
          38,
          null,
          null,
          29,
          6,
          5,
          42,
          26,
          null,
          null,
          53,
          54,
          22,
          61,
          31,
          null,
          55,
          13,
          null,
          21,
          null,
          58,
          null,
          null,
          66,
          49,
          null,
          null,
          null,
          61,
          31,
          null,
          74,
          10,
          null,
          57,
          null,
          16,
          50,
          32,
          56,
          null,
          null,
          43,
          26,
          null,
          28,
          null,
          25,
          57,
          36,
          null,
          null,
          null,
          null,
          46,
          18,
          37,
          null,
          null,
          46,
          null,
          null,
          null,
          20,
          null,
          47,
          27,
          49,
          54,
          43,
          null,
          null,
          null,
          19,
          52,
          null,
          null,
          57,
          31,
          46,
          null,
          31,
          null,
          19,
          17,
          46,
          null,
          27,
          null,
          33,
          null,
          42,
          69
         ]
        },
        {
         "boxpoints": false,
         "line": {
          "width": 1.3
         },
         "marker": {
          "color": "rgba(55, 128, 191, 1.0)"
         },
         "name": "2.0",
         "orientation": "v",
         "type": "box",
         "y": [
          null,
          null,
          32,
          38,
          null,
          77,
          null,
          28,
          23,
          null,
          null,
          null,
          null,
          null,
          59,
          38,
          null,
          null,
          null,
          null,
          null,
          45,
          null,
          null,
          25,
          null,
          36,
          null,
          30,
          37,
          null,
          null,
          75,
          16,
          38,
          null,
          null,
          41,
          null,
          null,
          6,
          null,
          75,
          null,
          null,
          null,
          null,
          6,
          72,
          null,
          null,
          17,
          null,
          18,
          null,
          null,
          null,
          25,
          33,
          53,
          28,
          null,
          null,
          null,
          16,
          46,
          null,
          35,
          48,
          22,
          null,
          33,
          null,
          null,
          null,
          null,
          null,
          11,
          38,
          20,
          null,
          null,
          53,
          49,
          null,
          null,
          null,
          46,
          null,
          29,
          null,
          null,
          null,
          13,
          null,
          59,
          null,
          21,
          null,
          null
         ]
        }
       ],
       "layout": {
        "legend": {
         "bgcolor": "#F5F6F9",
         "font": {
          "color": "#4D5663"
         }
        },
        "paper_bgcolor": "#F5F6F9",
        "plot_bgcolor": "#F5F6F9",
        "template": {
         "data": {
          "bar": [
           {
            "error_x": {
             "color": "#2a3f5f"
            },
            "error_y": {
             "color": "#2a3f5f"
            },
            "marker": {
             "line": {
              "color": "#E5ECF6",
              "width": 0.5
             },
             "pattern": {
              "fillmode": "overlay",
              "size": 10,
              "solidity": 0.2
             }
            },
            "type": "bar"
           }
          ],
          "barpolar": [
           {
            "marker": {
             "line": {
              "color": "#E5ECF6",
              "width": 0.5
             },
             "pattern": {
              "fillmode": "overlay",
              "size": 10,
              "solidity": 0.2
             }
            },
            "type": "barpolar"
           }
          ],
          "carpet": [
           {
            "aaxis": {
             "endlinecolor": "#2a3f5f",
             "gridcolor": "white",
             "linecolor": "white",
             "minorgridcolor": "white",
             "startlinecolor": "#2a3f5f"
            },
            "baxis": {
             "endlinecolor": "#2a3f5f",
             "gridcolor": "white",
             "linecolor": "white",
             "minorgridcolor": "white",
             "startlinecolor": "#2a3f5f"
            },
            "type": "carpet"
           }
          ],
          "choropleth": [
           {
            "colorbar": {
             "outlinewidth": 0,
             "ticks": ""
            },
            "type": "choropleth"
           }
          ],
          "contour": [
           {
            "colorbar": {
             "outlinewidth": 0,
             "ticks": ""
            },
            "colorscale": [
             [
              0,
              "#0d0887"
             ],
             [
              0.1111111111111111,
              "#46039f"
             ],
             [
              0.2222222222222222,
              "#7201a8"
             ],
             [
              0.3333333333333333,
              "#9c179e"
             ],
             [
              0.4444444444444444,
              "#bd3786"
             ],
             [
              0.5555555555555556,
              "#d8576b"
             ],
             [
              0.6666666666666666,
              "#ed7953"
             ],
             [
              0.7777777777777778,
              "#fb9f3a"
             ],
             [
              0.8888888888888888,
              "#fdca26"
             ],
             [
              1,
              "#f0f921"
             ]
            ],
            "type": "contour"
           }
          ],
          "contourcarpet": [
           {
            "colorbar": {
             "outlinewidth": 0,
             "ticks": ""
            },
            "type": "contourcarpet"
           }
          ],
          "heatmap": [
           {
            "colorbar": {
             "outlinewidth": 0,
             "ticks": ""
            },
            "colorscale": [
             [
              0,
              "#0d0887"
             ],
             [
              0.1111111111111111,
              "#46039f"
             ],
             [
              0.2222222222222222,
              "#7201a8"
             ],
             [
              0.3333333333333333,
              "#9c179e"
             ],
             [
              0.4444444444444444,
              "#bd3786"
             ],
             [
              0.5555555555555556,
              "#d8576b"
             ],
             [
              0.6666666666666666,
              "#ed7953"
             ],
             [
              0.7777777777777778,
              "#fb9f3a"
             ],
             [
              0.8888888888888888,
              "#fdca26"
             ],
             [
              1,
              "#f0f921"
             ]
            ],
            "type": "heatmap"
           }
          ],
          "heatmapgl": [
           {
            "colorbar": {
             "outlinewidth": 0,
             "ticks": ""
            },
            "colorscale": [
             [
              0,
              "#0d0887"
             ],
             [
              0.1111111111111111,
              "#46039f"
             ],
             [
              0.2222222222222222,
              "#7201a8"
             ],
             [
              0.3333333333333333,
              "#9c179e"
             ],
             [
              0.4444444444444444,
              "#bd3786"
             ],
             [
              0.5555555555555556,
              "#d8576b"
             ],
             [
              0.6666666666666666,
              "#ed7953"
             ],
             [
              0.7777777777777778,
              "#fb9f3a"
             ],
             [
              0.8888888888888888,
              "#fdca26"
             ],
             [
              1,
              "#f0f921"
             ]
            ],
            "type": "heatmapgl"
           }
          ],
          "histogram": [
           {
            "marker": {
             "pattern": {
              "fillmode": "overlay",
              "size": 10,
              "solidity": 0.2
             }
            },
            "type": "histogram"
           }
          ],
          "histogram2d": [
           {
            "colorbar": {
             "outlinewidth": 0,
             "ticks": ""
            },
            "colorscale": [
             [
              0,
              "#0d0887"
             ],
             [
              0.1111111111111111,
              "#46039f"
             ],
             [
              0.2222222222222222,
              "#7201a8"
             ],
             [
              0.3333333333333333,
              "#9c179e"
             ],
             [
              0.4444444444444444,
              "#bd3786"
             ],
             [
              0.5555555555555556,
              "#d8576b"
             ],
             [
              0.6666666666666666,
              "#ed7953"
             ],
             [
              0.7777777777777778,
              "#fb9f3a"
             ],
             [
              0.8888888888888888,
              "#fdca26"
             ],
             [
              1,
              "#f0f921"
             ]
            ],
            "type": "histogram2d"
           }
          ],
          "histogram2dcontour": [
           {
            "colorbar": {
             "outlinewidth": 0,
             "ticks": ""
            },
            "colorscale": [
             [
              0,
              "#0d0887"
             ],
             [
              0.1111111111111111,
              "#46039f"
             ],
             [
              0.2222222222222222,
              "#7201a8"
             ],
             [
              0.3333333333333333,
              "#9c179e"
             ],
             [
              0.4444444444444444,
              "#bd3786"
             ],
             [
              0.5555555555555556,
              "#d8576b"
             ],
             [
              0.6666666666666666,
              "#ed7953"
             ],
             [
              0.7777777777777778,
              "#fb9f3a"
             ],
             [
              0.8888888888888888,
              "#fdca26"
             ],
             [
              1,
              "#f0f921"
             ]
            ],
            "type": "histogram2dcontour"
           }
          ],
          "mesh3d": [
           {
            "colorbar": {
             "outlinewidth": 0,
             "ticks": ""
            },
            "type": "mesh3d"
           }
          ],
          "parcoords": [
           {
            "line": {
             "colorbar": {
              "outlinewidth": 0,
              "ticks": ""
             }
            },
            "type": "parcoords"
           }
          ],
          "pie": [
           {
            "automargin": true,
            "type": "pie"
           }
          ],
          "scatter": [
           {
            "fillpattern": {
             "fillmode": "overlay",
             "size": 10,
             "solidity": 0.2
            },
            "type": "scatter"
           }
          ],
          "scatter3d": [
           {
            "line": {
             "colorbar": {
              "outlinewidth": 0,
              "ticks": ""
             }
            },
            "marker": {
             "colorbar": {
              "outlinewidth": 0,
              "ticks": ""
             }
            },
            "type": "scatter3d"
           }
          ],
          "scattercarpet": [
           {
            "marker": {
             "colorbar": {
              "outlinewidth": 0,
              "ticks": ""
             }
            },
            "type": "scattercarpet"
           }
          ],
          "scattergeo": [
           {
            "marker": {
             "colorbar": {
              "outlinewidth": 0,
              "ticks": ""
             }
            },
            "type": "scattergeo"
           }
          ],
          "scattergl": [
           {
            "marker": {
             "colorbar": {
              "outlinewidth": 0,
              "ticks": ""
             }
            },
            "type": "scattergl"
           }
          ],
          "scattermapbox": [
           {
            "marker": {
             "colorbar": {
              "outlinewidth": 0,
              "ticks": ""
             }
            },
            "type": "scattermapbox"
           }
          ],
          "scatterpolar": [
           {
            "marker": {
             "colorbar": {
              "outlinewidth": 0,
              "ticks": ""
             }
            },
            "type": "scatterpolar"
           }
          ],
          "scatterpolargl": [
           {
            "marker": {
             "colorbar": {
              "outlinewidth": 0,
              "ticks": ""
             }
            },
            "type": "scatterpolargl"
           }
          ],
          "scatterternary": [
           {
            "marker": {
             "colorbar": {
              "outlinewidth": 0,
              "ticks": ""
             }
            },
            "type": "scatterternary"
           }
          ],
          "surface": [
           {
            "colorbar": {
             "outlinewidth": 0,
             "ticks": ""
            },
            "colorscale": [
             [
              0,
              "#0d0887"
             ],
             [
              0.1111111111111111,
              "#46039f"
             ],
             [
              0.2222222222222222,
              "#7201a8"
             ],
             [
              0.3333333333333333,
              "#9c179e"
             ],
             [
              0.4444444444444444,
              "#bd3786"
             ],
             [
              0.5555555555555556,
              "#d8576b"
             ],
             [
              0.6666666666666666,
              "#ed7953"
             ],
             [
              0.7777777777777778,
              "#fb9f3a"
             ],
             [
              0.8888888888888888,
              "#fdca26"
             ],
             [
              1,
              "#f0f921"
             ]
            ],
            "type": "surface"
           }
          ],
          "table": [
           {
            "cells": {
             "fill": {
              "color": "#EBF0F8"
             },
             "line": {
              "color": "white"
             }
            },
            "header": {
             "fill": {
              "color": "#C8D4E3"
             },
             "line": {
              "color": "white"
             }
            },
            "type": "table"
           }
          ]
         },
         "layout": {
          "annotationdefaults": {
           "arrowcolor": "#2a3f5f",
           "arrowhead": 0,
           "arrowwidth": 1
          },
          "autotypenumbers": "strict",
          "coloraxis": {
           "colorbar": {
            "outlinewidth": 0,
            "ticks": ""
           }
          },
          "colorscale": {
           "diverging": [
            [
             0,
             "#8e0152"
            ],
            [
             0.1,
             "#c51b7d"
            ],
            [
             0.2,
             "#de77ae"
            ],
            [
             0.3,
             "#f1b6da"
            ],
            [
             0.4,
             "#fde0ef"
            ],
            [
             0.5,
             "#f7f7f7"
            ],
            [
             0.6,
             "#e6f5d0"
            ],
            [
             0.7,
             "#b8e186"
            ],
            [
             0.8,
             "#7fbc41"
            ],
            [
             0.9,
             "#4d9221"
            ],
            [
             1,
             "#276419"
            ]
           ],
           "sequential": [
            [
             0,
             "#0d0887"
            ],
            [
             0.1111111111111111,
             "#46039f"
            ],
            [
             0.2222222222222222,
             "#7201a8"
            ],
            [
             0.3333333333333333,
             "#9c179e"
            ],
            [
             0.4444444444444444,
             "#bd3786"
            ],
            [
             0.5555555555555556,
             "#d8576b"
            ],
            [
             0.6666666666666666,
             "#ed7953"
            ],
            [
             0.7777777777777778,
             "#fb9f3a"
            ],
            [
             0.8888888888888888,
             "#fdca26"
            ],
            [
             1,
             "#f0f921"
            ]
           ],
           "sequentialminus": [
            [
             0,
             "#0d0887"
            ],
            [
             0.1111111111111111,
             "#46039f"
            ],
            [
             0.2222222222222222,
             "#7201a8"
            ],
            [
             0.3333333333333333,
             "#9c179e"
            ],
            [
             0.4444444444444444,
             "#bd3786"
            ],
            [
             0.5555555555555556,
             "#d8576b"
            ],
            [
             0.6666666666666666,
             "#ed7953"
            ],
            [
             0.7777777777777778,
             "#fb9f3a"
            ],
            [
             0.8888888888888888,
             "#fdca26"
            ],
            [
             1,
             "#f0f921"
            ]
           ]
          },
          "colorway": [
           "#636efa",
           "#EF553B",
           "#00cc96",
           "#ab63fa",
           "#FFA15A",
           "#19d3f3",
           "#FF6692",
           "#B6E880",
           "#FF97FF",
           "#FECB52"
          ],
          "font": {
           "color": "#2a3f5f"
          },
          "geo": {
           "bgcolor": "white",
           "lakecolor": "white",
           "landcolor": "#E5ECF6",
           "showlakes": true,
           "showland": true,
           "subunitcolor": "white"
          },
          "hoverlabel": {
           "align": "left"
          },
          "hovermode": "closest",
          "mapbox": {
           "style": "light"
          },
          "paper_bgcolor": "white",
          "plot_bgcolor": "#E5ECF6",
          "polar": {
           "angularaxis": {
            "gridcolor": "white",
            "linecolor": "white",
            "ticks": ""
           },
           "bgcolor": "#E5ECF6",
           "radialaxis": {
            "gridcolor": "white",
            "linecolor": "white",
            "ticks": ""
           }
          },
          "scene": {
           "xaxis": {
            "backgroundcolor": "#E5ECF6",
            "gridcolor": "white",
            "gridwidth": 2,
            "linecolor": "white",
            "showbackground": true,
            "ticks": "",
            "zerolinecolor": "white"
           },
           "yaxis": {
            "backgroundcolor": "#E5ECF6",
            "gridcolor": "white",
            "gridwidth": 2,
            "linecolor": "white",
            "showbackground": true,
            "ticks": "",
            "zerolinecolor": "white"
           },
           "zaxis": {
            "backgroundcolor": "#E5ECF6",
            "gridcolor": "white",
            "gridwidth": 2,
            "linecolor": "white",
            "showbackground": true,
            "ticks": "",
            "zerolinecolor": "white"
           }
          },
          "shapedefaults": {
           "line": {
            "color": "#2a3f5f"
           }
          },
          "ternary": {
           "aaxis": {
            "gridcolor": "white",
            "linecolor": "white",
            "ticks": ""
           },
           "baxis": {
            "gridcolor": "white",
            "linecolor": "white",
            "ticks": ""
           },
           "bgcolor": "#E5ECF6",
           "caxis": {
            "gridcolor": "white",
            "linecolor": "white",
            "ticks": ""
           }
          },
          "title": {
           "x": 0.05
          },
          "xaxis": {
           "automargin": true,
           "gridcolor": "white",
           "linecolor": "white",
           "ticks": "",
           "title": {
            "standoff": 15
           },
           "zerolinecolor": "white",
           "zerolinewidth": 2
          },
          "yaxis": {
           "automargin": true,
           "gridcolor": "white",
           "linecolor": "white",
           "ticks": "",
           "title": {
            "standoff": 15
           },
           "zerolinecolor": "white",
           "zerolinewidth": 2
          }
         }
        },
        "title": {
         "font": {
          "color": "#4D5663"
         },
         "text": "Edad de los contagiados por sexo"
        },
        "xaxis": {
         "gridcolor": "#E1E5ED",
         "showgrid": true,
         "tickfont": {
          "color": "#4D5663"
         },
         "title": {
          "font": {
           "color": "#4D5663"
          },
          "text": "Sexo de los contagiad@"
         },
         "zerolinecolor": "#E1E5ED"
        },
        "yaxis": {
         "gridcolor": "#E1E5ED",
         "showgrid": true,
         "tickfont": {
          "color": "#4D5663"
         },
         "title": {
          "font": {
           "color": "#4D5663"
          },
          "text": "Edad"
         },
         "zerolinecolor": "#E1E5ED"
        }
       }
      },
      "text/html": [
       "<div>                            <div id=\"f5b05389-4e16-458c-a873-6d898044bac2\" class=\"plotly-graph-div\" style=\"height:525px; width:100%;\"></div>            <script type=\"text/javascript\">                require([\"plotly\"], function(Plotly) {                    window.PLOTLYENV=window.PLOTLYENV || {};\n",
       "                    window.PLOTLYENV.BASE_URL='https://plot.ly';                                    if (document.getElementById(\"f5b05389-4e16-458c-a873-6d898044bac2\")) {                    Plotly.newPlot(                        \"f5b05389-4e16-458c-a873-6d898044bac2\",                        [{\"boxpoints\":false,\"line\":{\"width\":1.3},\"marker\":{\"color\":\"rgba(255, 153, 51, 1.0)\"},\"name\":\"1.0\",\"orientation\":\"v\",\"y\":[54.0,50.0,null,null,35.0,null,38.0,null,null,29.0,6.0,5.0,42.0,26.0,null,null,53.0,54.0,22.0,61.0,31.0,null,55.0,13.0,null,21.0,null,58.0,null,null,66.0,49.0,null,null,null,61.0,31.0,null,74.0,10.0,null,57.0,null,16.0,50.0,32.0,56.0,null,null,43.0,26.0,null,28.0,null,25.0,57.0,36.0,null,null,null,null,46.0,18.0,37.0,null,null,46.0,null,null,null,20.0,null,47.0,27.0,49.0,54.0,43.0,null,null,null,19.0,52.0,null,null,57.0,31.0,46.0,null,31.0,null,19.0,17.0,46.0,null,27.0,null,33.0,null,42.0,69.0],\"type\":\"box\"},{\"boxpoints\":false,\"line\":{\"width\":1.3},\"marker\":{\"color\":\"rgba(55, 128, 191, 1.0)\"},\"name\":\"2.0\",\"orientation\":\"v\",\"y\":[null,null,32.0,38.0,null,77.0,null,28.0,23.0,null,null,null,null,null,59.0,38.0,null,null,null,null,null,45.0,null,null,25.0,null,36.0,null,30.0,37.0,null,null,75.0,16.0,38.0,null,null,41.0,null,null,6.0,null,75.0,null,null,null,null,6.0,72.0,null,null,17.0,null,18.0,null,null,null,25.0,33.0,53.0,28.0,null,null,null,16.0,46.0,null,35.0,48.0,22.0,null,33.0,null,null,null,null,null,11.0,38.0,20.0,null,null,53.0,49.0,null,null,null,46.0,null,29.0,null,null,null,13.0,null,59.0,null,21.0,null,null],\"type\":\"box\"}],                        {\"legend\":{\"bgcolor\":\"#F5F6F9\",\"font\":{\"color\":\"#4D5663\"}},\"paper_bgcolor\":\"#F5F6F9\",\"plot_bgcolor\":\"#F5F6F9\",\"template\":{\"data\":{\"barpolar\":[{\"marker\":{\"line\":{\"color\":\"#E5ECF6\",\"width\":0.5},\"pattern\":{\"fillmode\":\"overlay\",\"size\":10,\"solidity\":0.2}},\"type\":\"barpolar\"}],\"bar\":[{\"error_x\":{\"color\":\"#2a3f5f\"},\"error_y\":{\"color\":\"#2a3f5f\"},\"marker\":{\"line\":{\"color\":\"#E5ECF6\",\"width\":0.5},\"pattern\":{\"fillmode\":\"overlay\",\"size\":10,\"solidity\":0.2}},\"type\":\"bar\"}],\"carpet\":[{\"aaxis\":{\"endlinecolor\":\"#2a3f5f\",\"gridcolor\":\"white\",\"linecolor\":\"white\",\"minorgridcolor\":\"white\",\"startlinecolor\":\"#2a3f5f\"},\"baxis\":{\"endlinecolor\":\"#2a3f5f\",\"gridcolor\":\"white\",\"linecolor\":\"white\",\"minorgridcolor\":\"white\",\"startlinecolor\":\"#2a3f5f\"},\"type\":\"carpet\"}],\"choropleth\":[{\"colorbar\":{\"outlinewidth\":0,\"ticks\":\"\"},\"type\":\"choropleth\"}],\"contourcarpet\":[{\"colorbar\":{\"outlinewidth\":0,\"ticks\":\"\"},\"type\":\"contourcarpet\"}],\"contour\":[{\"colorbar\":{\"outlinewidth\":0,\"ticks\":\"\"},\"colorscale\":[[0.0,\"#0d0887\"],[0.1111111111111111,\"#46039f\"],[0.2222222222222222,\"#7201a8\"],[0.3333333333333333,\"#9c179e\"],[0.4444444444444444,\"#bd3786\"],[0.5555555555555556,\"#d8576b\"],[0.6666666666666666,\"#ed7953\"],[0.7777777777777778,\"#fb9f3a\"],[0.8888888888888888,\"#fdca26\"],[1.0,\"#f0f921\"]],\"type\":\"contour\"}],\"heatmapgl\":[{\"colorbar\":{\"outlinewidth\":0,\"ticks\":\"\"},\"colorscale\":[[0.0,\"#0d0887\"],[0.1111111111111111,\"#46039f\"],[0.2222222222222222,\"#7201a8\"],[0.3333333333333333,\"#9c179e\"],[0.4444444444444444,\"#bd3786\"],[0.5555555555555556,\"#d8576b\"],[0.6666666666666666,\"#ed7953\"],[0.7777777777777778,\"#fb9f3a\"],[0.8888888888888888,\"#fdca26\"],[1.0,\"#f0f921\"]],\"type\":\"heatmapgl\"}],\"heatmap\":[{\"colorbar\":{\"outlinewidth\":0,\"ticks\":\"\"},\"colorscale\":[[0.0,\"#0d0887\"],[0.1111111111111111,\"#46039f\"],[0.2222222222222222,\"#7201a8\"],[0.3333333333333333,\"#9c179e\"],[0.4444444444444444,\"#bd3786\"],[0.5555555555555556,\"#d8576b\"],[0.6666666666666666,\"#ed7953\"],[0.7777777777777778,\"#fb9f3a\"],[0.8888888888888888,\"#fdca26\"],[1.0,\"#f0f921\"]],\"type\":\"heatmap\"}],\"histogram2dcontour\":[{\"colorbar\":{\"outlinewidth\":0,\"ticks\":\"\"},\"colorscale\":[[0.0,\"#0d0887\"],[0.1111111111111111,\"#46039f\"],[0.2222222222222222,\"#7201a8\"],[0.3333333333333333,\"#9c179e\"],[0.4444444444444444,\"#bd3786\"],[0.5555555555555556,\"#d8576b\"],[0.6666666666666666,\"#ed7953\"],[0.7777777777777778,\"#fb9f3a\"],[0.8888888888888888,\"#fdca26\"],[1.0,\"#f0f921\"]],\"type\":\"histogram2dcontour\"}],\"histogram2d\":[{\"colorbar\":{\"outlinewidth\":0,\"ticks\":\"\"},\"colorscale\":[[0.0,\"#0d0887\"],[0.1111111111111111,\"#46039f\"],[0.2222222222222222,\"#7201a8\"],[0.3333333333333333,\"#9c179e\"],[0.4444444444444444,\"#bd3786\"],[0.5555555555555556,\"#d8576b\"],[0.6666666666666666,\"#ed7953\"],[0.7777777777777778,\"#fb9f3a\"],[0.8888888888888888,\"#fdca26\"],[1.0,\"#f0f921\"]],\"type\":\"histogram2d\"}],\"histogram\":[{\"marker\":{\"pattern\":{\"fillmode\":\"overlay\",\"size\":10,\"solidity\":0.2}},\"type\":\"histogram\"}],\"mesh3d\":[{\"colorbar\":{\"outlinewidth\":0,\"ticks\":\"\"},\"type\":\"mesh3d\"}],\"parcoords\":[{\"line\":{\"colorbar\":{\"outlinewidth\":0,\"ticks\":\"\"}},\"type\":\"parcoords\"}],\"pie\":[{\"automargin\":true,\"type\":\"pie\"}],\"scatter3d\":[{\"line\":{\"colorbar\":{\"outlinewidth\":0,\"ticks\":\"\"}},\"marker\":{\"colorbar\":{\"outlinewidth\":0,\"ticks\":\"\"}},\"type\":\"scatter3d\"}],\"scattercarpet\":[{\"marker\":{\"colorbar\":{\"outlinewidth\":0,\"ticks\":\"\"}},\"type\":\"scattercarpet\"}],\"scattergeo\":[{\"marker\":{\"colorbar\":{\"outlinewidth\":0,\"ticks\":\"\"}},\"type\":\"scattergeo\"}],\"scattergl\":[{\"marker\":{\"colorbar\":{\"outlinewidth\":0,\"ticks\":\"\"}},\"type\":\"scattergl\"}],\"scattermapbox\":[{\"marker\":{\"colorbar\":{\"outlinewidth\":0,\"ticks\":\"\"}},\"type\":\"scattermapbox\"}],\"scatterpolargl\":[{\"marker\":{\"colorbar\":{\"outlinewidth\":0,\"ticks\":\"\"}},\"type\":\"scatterpolargl\"}],\"scatterpolar\":[{\"marker\":{\"colorbar\":{\"outlinewidth\":0,\"ticks\":\"\"}},\"type\":\"scatterpolar\"}],\"scatter\":[{\"fillpattern\":{\"fillmode\":\"overlay\",\"size\":10,\"solidity\":0.2},\"type\":\"scatter\"}],\"scatterternary\":[{\"marker\":{\"colorbar\":{\"outlinewidth\":0,\"ticks\":\"\"}},\"type\":\"scatterternary\"}],\"surface\":[{\"colorbar\":{\"outlinewidth\":0,\"ticks\":\"\"},\"colorscale\":[[0.0,\"#0d0887\"],[0.1111111111111111,\"#46039f\"],[0.2222222222222222,\"#7201a8\"],[0.3333333333333333,\"#9c179e\"],[0.4444444444444444,\"#bd3786\"],[0.5555555555555556,\"#d8576b\"],[0.6666666666666666,\"#ed7953\"],[0.7777777777777778,\"#fb9f3a\"],[0.8888888888888888,\"#fdca26\"],[1.0,\"#f0f921\"]],\"type\":\"surface\"}],\"table\":[{\"cells\":{\"fill\":{\"color\":\"#EBF0F8\"},\"line\":{\"color\":\"white\"}},\"header\":{\"fill\":{\"color\":\"#C8D4E3\"},\"line\":{\"color\":\"white\"}},\"type\":\"table\"}]},\"layout\":{\"annotationdefaults\":{\"arrowcolor\":\"#2a3f5f\",\"arrowhead\":0,\"arrowwidth\":1},\"autotypenumbers\":\"strict\",\"coloraxis\":{\"colorbar\":{\"outlinewidth\":0,\"ticks\":\"\"}},\"colorscale\":{\"diverging\":[[0,\"#8e0152\"],[0.1,\"#c51b7d\"],[0.2,\"#de77ae\"],[0.3,\"#f1b6da\"],[0.4,\"#fde0ef\"],[0.5,\"#f7f7f7\"],[0.6,\"#e6f5d0\"],[0.7,\"#b8e186\"],[0.8,\"#7fbc41\"],[0.9,\"#4d9221\"],[1,\"#276419\"]],\"sequential\":[[0.0,\"#0d0887\"],[0.1111111111111111,\"#46039f\"],[0.2222222222222222,\"#7201a8\"],[0.3333333333333333,\"#9c179e\"],[0.4444444444444444,\"#bd3786\"],[0.5555555555555556,\"#d8576b\"],[0.6666666666666666,\"#ed7953\"],[0.7777777777777778,\"#fb9f3a\"],[0.8888888888888888,\"#fdca26\"],[1.0,\"#f0f921\"]],\"sequentialminus\":[[0.0,\"#0d0887\"],[0.1111111111111111,\"#46039f\"],[0.2222222222222222,\"#7201a8\"],[0.3333333333333333,\"#9c179e\"],[0.4444444444444444,\"#bd3786\"],[0.5555555555555556,\"#d8576b\"],[0.6666666666666666,\"#ed7953\"],[0.7777777777777778,\"#fb9f3a\"],[0.8888888888888888,\"#fdca26\"],[1.0,\"#f0f921\"]]},\"colorway\":[\"#636efa\",\"#EF553B\",\"#00cc96\",\"#ab63fa\",\"#FFA15A\",\"#19d3f3\",\"#FF6692\",\"#B6E880\",\"#FF97FF\",\"#FECB52\"],\"font\":{\"color\":\"#2a3f5f\"},\"geo\":{\"bgcolor\":\"white\",\"lakecolor\":\"white\",\"landcolor\":\"#E5ECF6\",\"showlakes\":true,\"showland\":true,\"subunitcolor\":\"white\"},\"hoverlabel\":{\"align\":\"left\"},\"hovermode\":\"closest\",\"mapbox\":{\"style\":\"light\"},\"paper_bgcolor\":\"white\",\"plot_bgcolor\":\"#E5ECF6\",\"polar\":{\"angularaxis\":{\"gridcolor\":\"white\",\"linecolor\":\"white\",\"ticks\":\"\"},\"bgcolor\":\"#E5ECF6\",\"radialaxis\":{\"gridcolor\":\"white\",\"linecolor\":\"white\",\"ticks\":\"\"}},\"scene\":{\"xaxis\":{\"backgroundcolor\":\"#E5ECF6\",\"gridcolor\":\"white\",\"gridwidth\":2,\"linecolor\":\"white\",\"showbackground\":true,\"ticks\":\"\",\"zerolinecolor\":\"white\"},\"yaxis\":{\"backgroundcolor\":\"#E5ECF6\",\"gridcolor\":\"white\",\"gridwidth\":2,\"linecolor\":\"white\",\"showbackground\":true,\"ticks\":\"\",\"zerolinecolor\":\"white\"},\"zaxis\":{\"backgroundcolor\":\"#E5ECF6\",\"gridcolor\":\"white\",\"gridwidth\":2,\"linecolor\":\"white\",\"showbackground\":true,\"ticks\":\"\",\"zerolinecolor\":\"white\"}},\"shapedefaults\":{\"line\":{\"color\":\"#2a3f5f\"}},\"ternary\":{\"aaxis\":{\"gridcolor\":\"white\",\"linecolor\":\"white\",\"ticks\":\"\"},\"baxis\":{\"gridcolor\":\"white\",\"linecolor\":\"white\",\"ticks\":\"\"},\"bgcolor\":\"#E5ECF6\",\"caxis\":{\"gridcolor\":\"white\",\"linecolor\":\"white\",\"ticks\":\"\"}},\"title\":{\"x\":0.05},\"xaxis\":{\"automargin\":true,\"gridcolor\":\"white\",\"linecolor\":\"white\",\"ticks\":\"\",\"title\":{\"standoff\":15},\"zerolinecolor\":\"white\",\"zerolinewidth\":2},\"yaxis\":{\"automargin\":true,\"gridcolor\":\"white\",\"linecolor\":\"white\",\"ticks\":\"\",\"title\":{\"standoff\":15},\"zerolinecolor\":\"white\",\"zerolinewidth\":2}}},\"title\":{\"font\":{\"color\":\"#4D5663\"},\"text\":\"Edad de los contagiados por sexo\"},\"xaxis\":{\"gridcolor\":\"#E1E5ED\",\"showgrid\":true,\"tickfont\":{\"color\":\"#4D5663\"},\"title\":{\"font\":{\"color\":\"#4D5663\"},\"text\":\"Sexo de los contagiad@\"},\"zerolinecolor\":\"#E1E5ED\"},\"yaxis\":{\"gridcolor\":\"#E1E5ED\",\"showgrid\":true,\"tickfont\":{\"color\":\"#4D5663\"},\"title\":{\"font\":{\"color\":\"#4D5663\"},\"text\":\"Edad\"},\"zerolinecolor\":\"#E1E5ED\"}},                        {\"showLink\": true, \"linkText\": \"Export to plot.ly\", \"plotlyServerURL\": \"https://plot.ly\", \"responsive\": true}                    ).then(function(){\n",
       "                            \n",
       "var gd = document.getElementById('f5b05389-4e16-458c-a873-6d898044bac2');\n",
       "var x = new MutationObserver(function (mutations, observer) {{\n",
       "        var display = window.getComputedStyle(gd).display;\n",
       "        if (!display || display === 'none') {{\n",
       "            console.log([gd, 'removed!']);\n",
       "            Plotly.purge(gd);\n",
       "            observer.disconnect();\n",
       "        }}\n",
       "}});\n",
       "\n",
       "// Listen for the removal of the full notebook cells\n",
       "var notebookContainer = gd.closest('#notebook-container');\n",
       "if (notebookContainer) {{\n",
       "    x.observe(notebookContainer, {childList: true});\n",
       "}}\n",
       "\n",
       "// Listen for the clearing of the current output cell\n",
       "var outputEl = gd.closest('.output');\n",
       "if (outputEl) {{\n",
       "    x.observe(outputEl, {childList: true});\n",
       "}}\n",
       "\n",
       "                        })                };                });            </script>        </div>"
      ]
     },
     "metadata": {},
     "output_type": "display_data"
    }
   ],
   "source": [
    "#Box plot\n",
    "# Se elabora un boxplot acerca de la edad por sexo de los contagiados de COVID 19\n",
    "Data_0.iplot(kind='box', xTitle='Sexo de los contagiad@',\n",
    "                    yTitle='Edad', title='Edad de los contagiados por sexo')\n"
   ]
  },
  {
   "cell_type": "code",
   "execution_count": 140,
   "metadata": {},
   "outputs": [
    {
     "data": {
      "application/vnd.plotly.v1+json": {
       "config": {
        "linkText": "Export to plot.ly",
        "plotlyServerURL": "https://plot.ly",
        "showLink": true
       },
       "data": [
        {
         "histfunc": "count",
         "histnorm": "",
         "marker": {
          "color": "rgba(255, 153, 51, 1.0)",
          "line": {
           "color": "#4D5663",
           "width": 1.3
          }
         },
         "name": "2.0",
         "opacity": 0.8,
         "orientation": "v",
         "type": "histogram",
         "x": [
          null,
          null,
          32,
          38,
          null,
          77,
          null,
          28,
          23,
          null,
          null,
          null,
          null,
          null,
          59,
          38,
          null,
          null,
          null,
          null,
          null,
          45,
          null,
          null,
          25,
          null,
          36,
          null,
          30,
          37,
          null,
          null,
          75,
          16,
          38,
          null,
          null,
          41,
          null,
          null,
          6,
          null,
          75,
          null,
          null,
          null,
          null,
          6,
          72,
          null,
          null,
          17,
          null,
          18,
          null,
          null,
          null,
          25,
          33,
          53,
          28,
          null,
          null,
          null,
          16,
          46,
          null,
          35,
          48,
          22,
          null,
          33,
          null,
          null,
          null,
          null,
          null,
          11,
          38,
          20,
          null,
          null,
          53,
          49,
          null,
          null,
          null,
          46,
          null,
          29,
          null,
          null,
          null,
          13,
          null,
          59,
          null,
          21,
          null,
          null
         ]
        }
       ],
       "layout": {
        "barmode": "overlay",
        "legend": {
         "bgcolor": "#F5F6F9",
         "font": {
          "color": "#4D5663"
         }
        },
        "paper_bgcolor": "#F5F6F9",
        "plot_bgcolor": "#F5F6F9",
        "template": {
         "data": {
          "bar": [
           {
            "error_x": {
             "color": "#2a3f5f"
            },
            "error_y": {
             "color": "#2a3f5f"
            },
            "marker": {
             "line": {
              "color": "#E5ECF6",
              "width": 0.5
             },
             "pattern": {
              "fillmode": "overlay",
              "size": 10,
              "solidity": 0.2
             }
            },
            "type": "bar"
           }
          ],
          "barpolar": [
           {
            "marker": {
             "line": {
              "color": "#E5ECF6",
              "width": 0.5
             },
             "pattern": {
              "fillmode": "overlay",
              "size": 10,
              "solidity": 0.2
             }
            },
            "type": "barpolar"
           }
          ],
          "carpet": [
           {
            "aaxis": {
             "endlinecolor": "#2a3f5f",
             "gridcolor": "white",
             "linecolor": "white",
             "minorgridcolor": "white",
             "startlinecolor": "#2a3f5f"
            },
            "baxis": {
             "endlinecolor": "#2a3f5f",
             "gridcolor": "white",
             "linecolor": "white",
             "minorgridcolor": "white",
             "startlinecolor": "#2a3f5f"
            },
            "type": "carpet"
           }
          ],
          "choropleth": [
           {
            "colorbar": {
             "outlinewidth": 0,
             "ticks": ""
            },
            "type": "choropleth"
           }
          ],
          "contour": [
           {
            "colorbar": {
             "outlinewidth": 0,
             "ticks": ""
            },
            "colorscale": [
             [
              0,
              "#0d0887"
             ],
             [
              0.1111111111111111,
              "#46039f"
             ],
             [
              0.2222222222222222,
              "#7201a8"
             ],
             [
              0.3333333333333333,
              "#9c179e"
             ],
             [
              0.4444444444444444,
              "#bd3786"
             ],
             [
              0.5555555555555556,
              "#d8576b"
             ],
             [
              0.6666666666666666,
              "#ed7953"
             ],
             [
              0.7777777777777778,
              "#fb9f3a"
             ],
             [
              0.8888888888888888,
              "#fdca26"
             ],
             [
              1,
              "#f0f921"
             ]
            ],
            "type": "contour"
           }
          ],
          "contourcarpet": [
           {
            "colorbar": {
             "outlinewidth": 0,
             "ticks": ""
            },
            "type": "contourcarpet"
           }
          ],
          "heatmap": [
           {
            "colorbar": {
             "outlinewidth": 0,
             "ticks": ""
            },
            "colorscale": [
             [
              0,
              "#0d0887"
             ],
             [
              0.1111111111111111,
              "#46039f"
             ],
             [
              0.2222222222222222,
              "#7201a8"
             ],
             [
              0.3333333333333333,
              "#9c179e"
             ],
             [
              0.4444444444444444,
              "#bd3786"
             ],
             [
              0.5555555555555556,
              "#d8576b"
             ],
             [
              0.6666666666666666,
              "#ed7953"
             ],
             [
              0.7777777777777778,
              "#fb9f3a"
             ],
             [
              0.8888888888888888,
              "#fdca26"
             ],
             [
              1,
              "#f0f921"
             ]
            ],
            "type": "heatmap"
           }
          ],
          "heatmapgl": [
           {
            "colorbar": {
             "outlinewidth": 0,
             "ticks": ""
            },
            "colorscale": [
             [
              0,
              "#0d0887"
             ],
             [
              0.1111111111111111,
              "#46039f"
             ],
             [
              0.2222222222222222,
              "#7201a8"
             ],
             [
              0.3333333333333333,
              "#9c179e"
             ],
             [
              0.4444444444444444,
              "#bd3786"
             ],
             [
              0.5555555555555556,
              "#d8576b"
             ],
             [
              0.6666666666666666,
              "#ed7953"
             ],
             [
              0.7777777777777778,
              "#fb9f3a"
             ],
             [
              0.8888888888888888,
              "#fdca26"
             ],
             [
              1,
              "#f0f921"
             ]
            ],
            "type": "heatmapgl"
           }
          ],
          "histogram": [
           {
            "marker": {
             "pattern": {
              "fillmode": "overlay",
              "size": 10,
              "solidity": 0.2
             }
            },
            "type": "histogram"
           }
          ],
          "histogram2d": [
           {
            "colorbar": {
             "outlinewidth": 0,
             "ticks": ""
            },
            "colorscale": [
             [
              0,
              "#0d0887"
             ],
             [
              0.1111111111111111,
              "#46039f"
             ],
             [
              0.2222222222222222,
              "#7201a8"
             ],
             [
              0.3333333333333333,
              "#9c179e"
             ],
             [
              0.4444444444444444,
              "#bd3786"
             ],
             [
              0.5555555555555556,
              "#d8576b"
             ],
             [
              0.6666666666666666,
              "#ed7953"
             ],
             [
              0.7777777777777778,
              "#fb9f3a"
             ],
             [
              0.8888888888888888,
              "#fdca26"
             ],
             [
              1,
              "#f0f921"
             ]
            ],
            "type": "histogram2d"
           }
          ],
          "histogram2dcontour": [
           {
            "colorbar": {
             "outlinewidth": 0,
             "ticks": ""
            },
            "colorscale": [
             [
              0,
              "#0d0887"
             ],
             [
              0.1111111111111111,
              "#46039f"
             ],
             [
              0.2222222222222222,
              "#7201a8"
             ],
             [
              0.3333333333333333,
              "#9c179e"
             ],
             [
              0.4444444444444444,
              "#bd3786"
             ],
             [
              0.5555555555555556,
              "#d8576b"
             ],
             [
              0.6666666666666666,
              "#ed7953"
             ],
             [
              0.7777777777777778,
              "#fb9f3a"
             ],
             [
              0.8888888888888888,
              "#fdca26"
             ],
             [
              1,
              "#f0f921"
             ]
            ],
            "type": "histogram2dcontour"
           }
          ],
          "mesh3d": [
           {
            "colorbar": {
             "outlinewidth": 0,
             "ticks": ""
            },
            "type": "mesh3d"
           }
          ],
          "parcoords": [
           {
            "line": {
             "colorbar": {
              "outlinewidth": 0,
              "ticks": ""
             }
            },
            "type": "parcoords"
           }
          ],
          "pie": [
           {
            "automargin": true,
            "type": "pie"
           }
          ],
          "scatter": [
           {
            "fillpattern": {
             "fillmode": "overlay",
             "size": 10,
             "solidity": 0.2
            },
            "type": "scatter"
           }
          ],
          "scatter3d": [
           {
            "line": {
             "colorbar": {
              "outlinewidth": 0,
              "ticks": ""
             }
            },
            "marker": {
             "colorbar": {
              "outlinewidth": 0,
              "ticks": ""
             }
            },
            "type": "scatter3d"
           }
          ],
          "scattercarpet": [
           {
            "marker": {
             "colorbar": {
              "outlinewidth": 0,
              "ticks": ""
             }
            },
            "type": "scattercarpet"
           }
          ],
          "scattergeo": [
           {
            "marker": {
             "colorbar": {
              "outlinewidth": 0,
              "ticks": ""
             }
            },
            "type": "scattergeo"
           }
          ],
          "scattergl": [
           {
            "marker": {
             "colorbar": {
              "outlinewidth": 0,
              "ticks": ""
             }
            },
            "type": "scattergl"
           }
          ],
          "scattermapbox": [
           {
            "marker": {
             "colorbar": {
              "outlinewidth": 0,
              "ticks": ""
             }
            },
            "type": "scattermapbox"
           }
          ],
          "scatterpolar": [
           {
            "marker": {
             "colorbar": {
              "outlinewidth": 0,
              "ticks": ""
             }
            },
            "type": "scatterpolar"
           }
          ],
          "scatterpolargl": [
           {
            "marker": {
             "colorbar": {
              "outlinewidth": 0,
              "ticks": ""
             }
            },
            "type": "scatterpolargl"
           }
          ],
          "scatterternary": [
           {
            "marker": {
             "colorbar": {
              "outlinewidth": 0,
              "ticks": ""
             }
            },
            "type": "scatterternary"
           }
          ],
          "surface": [
           {
            "colorbar": {
             "outlinewidth": 0,
             "ticks": ""
            },
            "colorscale": [
             [
              0,
              "#0d0887"
             ],
             [
              0.1111111111111111,
              "#46039f"
             ],
             [
              0.2222222222222222,
              "#7201a8"
             ],
             [
              0.3333333333333333,
              "#9c179e"
             ],
             [
              0.4444444444444444,
              "#bd3786"
             ],
             [
              0.5555555555555556,
              "#d8576b"
             ],
             [
              0.6666666666666666,
              "#ed7953"
             ],
             [
              0.7777777777777778,
              "#fb9f3a"
             ],
             [
              0.8888888888888888,
              "#fdca26"
             ],
             [
              1,
              "#f0f921"
             ]
            ],
            "type": "surface"
           }
          ],
          "table": [
           {
            "cells": {
             "fill": {
              "color": "#EBF0F8"
             },
             "line": {
              "color": "white"
             }
            },
            "header": {
             "fill": {
              "color": "#C8D4E3"
             },
             "line": {
              "color": "white"
             }
            },
            "type": "table"
           }
          ]
         },
         "layout": {
          "annotationdefaults": {
           "arrowcolor": "#2a3f5f",
           "arrowhead": 0,
           "arrowwidth": 1
          },
          "autotypenumbers": "strict",
          "coloraxis": {
           "colorbar": {
            "outlinewidth": 0,
            "ticks": ""
           }
          },
          "colorscale": {
           "diverging": [
            [
             0,
             "#8e0152"
            ],
            [
             0.1,
             "#c51b7d"
            ],
            [
             0.2,
             "#de77ae"
            ],
            [
             0.3,
             "#f1b6da"
            ],
            [
             0.4,
             "#fde0ef"
            ],
            [
             0.5,
             "#f7f7f7"
            ],
            [
             0.6,
             "#e6f5d0"
            ],
            [
             0.7,
             "#b8e186"
            ],
            [
             0.8,
             "#7fbc41"
            ],
            [
             0.9,
             "#4d9221"
            ],
            [
             1,
             "#276419"
            ]
           ],
           "sequential": [
            [
             0,
             "#0d0887"
            ],
            [
             0.1111111111111111,
             "#46039f"
            ],
            [
             0.2222222222222222,
             "#7201a8"
            ],
            [
             0.3333333333333333,
             "#9c179e"
            ],
            [
             0.4444444444444444,
             "#bd3786"
            ],
            [
             0.5555555555555556,
             "#d8576b"
            ],
            [
             0.6666666666666666,
             "#ed7953"
            ],
            [
             0.7777777777777778,
             "#fb9f3a"
            ],
            [
             0.8888888888888888,
             "#fdca26"
            ],
            [
             1,
             "#f0f921"
            ]
           ],
           "sequentialminus": [
            [
             0,
             "#0d0887"
            ],
            [
             0.1111111111111111,
             "#46039f"
            ],
            [
             0.2222222222222222,
             "#7201a8"
            ],
            [
             0.3333333333333333,
             "#9c179e"
            ],
            [
             0.4444444444444444,
             "#bd3786"
            ],
            [
             0.5555555555555556,
             "#d8576b"
            ],
            [
             0.6666666666666666,
             "#ed7953"
            ],
            [
             0.7777777777777778,
             "#fb9f3a"
            ],
            [
             0.8888888888888888,
             "#fdca26"
            ],
            [
             1,
             "#f0f921"
            ]
           ]
          },
          "colorway": [
           "#636efa",
           "#EF553B",
           "#00cc96",
           "#ab63fa",
           "#FFA15A",
           "#19d3f3",
           "#FF6692",
           "#B6E880",
           "#FF97FF",
           "#FECB52"
          ],
          "font": {
           "color": "#2a3f5f"
          },
          "geo": {
           "bgcolor": "white",
           "lakecolor": "white",
           "landcolor": "#E5ECF6",
           "showlakes": true,
           "showland": true,
           "subunitcolor": "white"
          },
          "hoverlabel": {
           "align": "left"
          },
          "hovermode": "closest",
          "mapbox": {
           "style": "light"
          },
          "paper_bgcolor": "white",
          "plot_bgcolor": "#E5ECF6",
          "polar": {
           "angularaxis": {
            "gridcolor": "white",
            "linecolor": "white",
            "ticks": ""
           },
           "bgcolor": "#E5ECF6",
           "radialaxis": {
            "gridcolor": "white",
            "linecolor": "white",
            "ticks": ""
           }
          },
          "scene": {
           "xaxis": {
            "backgroundcolor": "#E5ECF6",
            "gridcolor": "white",
            "gridwidth": 2,
            "linecolor": "white",
            "showbackground": true,
            "ticks": "",
            "zerolinecolor": "white"
           },
           "yaxis": {
            "backgroundcolor": "#E5ECF6",
            "gridcolor": "white",
            "gridwidth": 2,
            "linecolor": "white",
            "showbackground": true,
            "ticks": "",
            "zerolinecolor": "white"
           },
           "zaxis": {
            "backgroundcolor": "#E5ECF6",
            "gridcolor": "white",
            "gridwidth": 2,
            "linecolor": "white",
            "showbackground": true,
            "ticks": "",
            "zerolinecolor": "white"
           }
          },
          "shapedefaults": {
           "line": {
            "color": "#2a3f5f"
           }
          },
          "ternary": {
           "aaxis": {
            "gridcolor": "white",
            "linecolor": "white",
            "ticks": ""
           },
           "baxis": {
            "gridcolor": "white",
            "linecolor": "white",
            "ticks": ""
           },
           "bgcolor": "#E5ECF6",
           "caxis": {
            "gridcolor": "white",
            "linecolor": "white",
            "ticks": ""
           }
          },
          "title": {
           "x": 0.05
          },
          "xaxis": {
           "automargin": true,
           "gridcolor": "white",
           "linecolor": "white",
           "ticks": "",
           "title": {
            "standoff": 15
           },
           "zerolinecolor": "white",
           "zerolinewidth": 2
          },
          "yaxis": {
           "automargin": true,
           "gridcolor": "white",
           "linecolor": "white",
           "ticks": "",
           "title": {
            "standoff": 15
           },
           "zerolinecolor": "white",
           "zerolinewidth": 2
          }
         }
        },
        "title": {
         "font": {
          "color": "#4D5663"
         },
         "text": "Distribución de la frecuencia de edades de hombres contagiados"
        },
        "xaxis": {
         "gridcolor": "#E1E5ED",
         "showgrid": true,
         "tickfont": {
          "color": "#4D5663"
         },
         "title": {
          "font": {
           "color": "#4D5663"
          },
          "text": "Población"
         },
         "zerolinecolor": "#E1E5ED"
        },
        "yaxis": {
         "gridcolor": "#E1E5ED",
         "showgrid": true,
         "tickfont": {
          "color": "#4D5663"
         },
         "title": {
          "font": {
           "color": "#4D5663"
          },
          "text": ""
         },
         "zerolinecolor": "#E1E5ED"
        }
       }
      },
      "text/html": [
       "<div>                            <div id=\"cd65c76b-c939-4005-b02f-019ab38cc342\" class=\"plotly-graph-div\" style=\"height:525px; width:100%;\"></div>            <script type=\"text/javascript\">                require([\"plotly\"], function(Plotly) {                    window.PLOTLYENV=window.PLOTLYENV || {};\n",
       "                    window.PLOTLYENV.BASE_URL='https://plot.ly';                                    if (document.getElementById(\"cd65c76b-c939-4005-b02f-019ab38cc342\")) {                    Plotly.newPlot(                        \"cd65c76b-c939-4005-b02f-019ab38cc342\",                        [{\"histfunc\":\"count\",\"histnorm\":\"\",\"marker\":{\"color\":\"rgba(255, 153, 51, 1.0)\",\"line\":{\"color\":\"#4D5663\",\"width\":1.3}},\"name\":\"2.0\",\"opacity\":0.8,\"orientation\":\"v\",\"x\":[null,null,32.0,38.0,null,77.0,null,28.0,23.0,null,null,null,null,null,59.0,38.0,null,null,null,null,null,45.0,null,null,25.0,null,36.0,null,30.0,37.0,null,null,75.0,16.0,38.0,null,null,41.0,null,null,6.0,null,75.0,null,null,null,null,6.0,72.0,null,null,17.0,null,18.0,null,null,null,25.0,33.0,53.0,28.0,null,null,null,16.0,46.0,null,35.0,48.0,22.0,null,33.0,null,null,null,null,null,11.0,38.0,20.0,null,null,53.0,49.0,null,null,null,46.0,null,29.0,null,null,null,13.0,null,59.0,null,21.0,null,null],\"type\":\"histogram\"}],                        {\"barmode\":\"overlay\",\"legend\":{\"bgcolor\":\"#F5F6F9\",\"font\":{\"color\":\"#4D5663\"}},\"paper_bgcolor\":\"#F5F6F9\",\"plot_bgcolor\":\"#F5F6F9\",\"template\":{\"data\":{\"barpolar\":[{\"marker\":{\"line\":{\"color\":\"#E5ECF6\",\"width\":0.5},\"pattern\":{\"fillmode\":\"overlay\",\"size\":10,\"solidity\":0.2}},\"type\":\"barpolar\"}],\"bar\":[{\"error_x\":{\"color\":\"#2a3f5f\"},\"error_y\":{\"color\":\"#2a3f5f\"},\"marker\":{\"line\":{\"color\":\"#E5ECF6\",\"width\":0.5},\"pattern\":{\"fillmode\":\"overlay\",\"size\":10,\"solidity\":0.2}},\"type\":\"bar\"}],\"carpet\":[{\"aaxis\":{\"endlinecolor\":\"#2a3f5f\",\"gridcolor\":\"white\",\"linecolor\":\"white\",\"minorgridcolor\":\"white\",\"startlinecolor\":\"#2a3f5f\"},\"baxis\":{\"endlinecolor\":\"#2a3f5f\",\"gridcolor\":\"white\",\"linecolor\":\"white\",\"minorgridcolor\":\"white\",\"startlinecolor\":\"#2a3f5f\"},\"type\":\"carpet\"}],\"choropleth\":[{\"colorbar\":{\"outlinewidth\":0,\"ticks\":\"\"},\"type\":\"choropleth\"}],\"contourcarpet\":[{\"colorbar\":{\"outlinewidth\":0,\"ticks\":\"\"},\"type\":\"contourcarpet\"}],\"contour\":[{\"colorbar\":{\"outlinewidth\":0,\"ticks\":\"\"},\"colorscale\":[[0.0,\"#0d0887\"],[0.1111111111111111,\"#46039f\"],[0.2222222222222222,\"#7201a8\"],[0.3333333333333333,\"#9c179e\"],[0.4444444444444444,\"#bd3786\"],[0.5555555555555556,\"#d8576b\"],[0.6666666666666666,\"#ed7953\"],[0.7777777777777778,\"#fb9f3a\"],[0.8888888888888888,\"#fdca26\"],[1.0,\"#f0f921\"]],\"type\":\"contour\"}],\"heatmapgl\":[{\"colorbar\":{\"outlinewidth\":0,\"ticks\":\"\"},\"colorscale\":[[0.0,\"#0d0887\"],[0.1111111111111111,\"#46039f\"],[0.2222222222222222,\"#7201a8\"],[0.3333333333333333,\"#9c179e\"],[0.4444444444444444,\"#bd3786\"],[0.5555555555555556,\"#d8576b\"],[0.6666666666666666,\"#ed7953\"],[0.7777777777777778,\"#fb9f3a\"],[0.8888888888888888,\"#fdca26\"],[1.0,\"#f0f921\"]],\"type\":\"heatmapgl\"}],\"heatmap\":[{\"colorbar\":{\"outlinewidth\":0,\"ticks\":\"\"},\"colorscale\":[[0.0,\"#0d0887\"],[0.1111111111111111,\"#46039f\"],[0.2222222222222222,\"#7201a8\"],[0.3333333333333333,\"#9c179e\"],[0.4444444444444444,\"#bd3786\"],[0.5555555555555556,\"#d8576b\"],[0.6666666666666666,\"#ed7953\"],[0.7777777777777778,\"#fb9f3a\"],[0.8888888888888888,\"#fdca26\"],[1.0,\"#f0f921\"]],\"type\":\"heatmap\"}],\"histogram2dcontour\":[{\"colorbar\":{\"outlinewidth\":0,\"ticks\":\"\"},\"colorscale\":[[0.0,\"#0d0887\"],[0.1111111111111111,\"#46039f\"],[0.2222222222222222,\"#7201a8\"],[0.3333333333333333,\"#9c179e\"],[0.4444444444444444,\"#bd3786\"],[0.5555555555555556,\"#d8576b\"],[0.6666666666666666,\"#ed7953\"],[0.7777777777777778,\"#fb9f3a\"],[0.8888888888888888,\"#fdca26\"],[1.0,\"#f0f921\"]],\"type\":\"histogram2dcontour\"}],\"histogram2d\":[{\"colorbar\":{\"outlinewidth\":0,\"ticks\":\"\"},\"colorscale\":[[0.0,\"#0d0887\"],[0.1111111111111111,\"#46039f\"],[0.2222222222222222,\"#7201a8\"],[0.3333333333333333,\"#9c179e\"],[0.4444444444444444,\"#bd3786\"],[0.5555555555555556,\"#d8576b\"],[0.6666666666666666,\"#ed7953\"],[0.7777777777777778,\"#fb9f3a\"],[0.8888888888888888,\"#fdca26\"],[1.0,\"#f0f921\"]],\"type\":\"histogram2d\"}],\"histogram\":[{\"marker\":{\"pattern\":{\"fillmode\":\"overlay\",\"size\":10,\"solidity\":0.2}},\"type\":\"histogram\"}],\"mesh3d\":[{\"colorbar\":{\"outlinewidth\":0,\"ticks\":\"\"},\"type\":\"mesh3d\"}],\"parcoords\":[{\"line\":{\"colorbar\":{\"outlinewidth\":0,\"ticks\":\"\"}},\"type\":\"parcoords\"}],\"pie\":[{\"automargin\":true,\"type\":\"pie\"}],\"scatter3d\":[{\"line\":{\"colorbar\":{\"outlinewidth\":0,\"ticks\":\"\"}},\"marker\":{\"colorbar\":{\"outlinewidth\":0,\"ticks\":\"\"}},\"type\":\"scatter3d\"}],\"scattercarpet\":[{\"marker\":{\"colorbar\":{\"outlinewidth\":0,\"ticks\":\"\"}},\"type\":\"scattercarpet\"}],\"scattergeo\":[{\"marker\":{\"colorbar\":{\"outlinewidth\":0,\"ticks\":\"\"}},\"type\":\"scattergeo\"}],\"scattergl\":[{\"marker\":{\"colorbar\":{\"outlinewidth\":0,\"ticks\":\"\"}},\"type\":\"scattergl\"}],\"scattermapbox\":[{\"marker\":{\"colorbar\":{\"outlinewidth\":0,\"ticks\":\"\"}},\"type\":\"scattermapbox\"}],\"scatterpolargl\":[{\"marker\":{\"colorbar\":{\"outlinewidth\":0,\"ticks\":\"\"}},\"type\":\"scatterpolargl\"}],\"scatterpolar\":[{\"marker\":{\"colorbar\":{\"outlinewidth\":0,\"ticks\":\"\"}},\"type\":\"scatterpolar\"}],\"scatter\":[{\"fillpattern\":{\"fillmode\":\"overlay\",\"size\":10,\"solidity\":0.2},\"type\":\"scatter\"}],\"scatterternary\":[{\"marker\":{\"colorbar\":{\"outlinewidth\":0,\"ticks\":\"\"}},\"type\":\"scatterternary\"}],\"surface\":[{\"colorbar\":{\"outlinewidth\":0,\"ticks\":\"\"},\"colorscale\":[[0.0,\"#0d0887\"],[0.1111111111111111,\"#46039f\"],[0.2222222222222222,\"#7201a8\"],[0.3333333333333333,\"#9c179e\"],[0.4444444444444444,\"#bd3786\"],[0.5555555555555556,\"#d8576b\"],[0.6666666666666666,\"#ed7953\"],[0.7777777777777778,\"#fb9f3a\"],[0.8888888888888888,\"#fdca26\"],[1.0,\"#f0f921\"]],\"type\":\"surface\"}],\"table\":[{\"cells\":{\"fill\":{\"color\":\"#EBF0F8\"},\"line\":{\"color\":\"white\"}},\"header\":{\"fill\":{\"color\":\"#C8D4E3\"},\"line\":{\"color\":\"white\"}},\"type\":\"table\"}]},\"layout\":{\"annotationdefaults\":{\"arrowcolor\":\"#2a3f5f\",\"arrowhead\":0,\"arrowwidth\":1},\"autotypenumbers\":\"strict\",\"coloraxis\":{\"colorbar\":{\"outlinewidth\":0,\"ticks\":\"\"}},\"colorscale\":{\"diverging\":[[0,\"#8e0152\"],[0.1,\"#c51b7d\"],[0.2,\"#de77ae\"],[0.3,\"#f1b6da\"],[0.4,\"#fde0ef\"],[0.5,\"#f7f7f7\"],[0.6,\"#e6f5d0\"],[0.7,\"#b8e186\"],[0.8,\"#7fbc41\"],[0.9,\"#4d9221\"],[1,\"#276419\"]],\"sequential\":[[0.0,\"#0d0887\"],[0.1111111111111111,\"#46039f\"],[0.2222222222222222,\"#7201a8\"],[0.3333333333333333,\"#9c179e\"],[0.4444444444444444,\"#bd3786\"],[0.5555555555555556,\"#d8576b\"],[0.6666666666666666,\"#ed7953\"],[0.7777777777777778,\"#fb9f3a\"],[0.8888888888888888,\"#fdca26\"],[1.0,\"#f0f921\"]],\"sequentialminus\":[[0.0,\"#0d0887\"],[0.1111111111111111,\"#46039f\"],[0.2222222222222222,\"#7201a8\"],[0.3333333333333333,\"#9c179e\"],[0.4444444444444444,\"#bd3786\"],[0.5555555555555556,\"#d8576b\"],[0.6666666666666666,\"#ed7953\"],[0.7777777777777778,\"#fb9f3a\"],[0.8888888888888888,\"#fdca26\"],[1.0,\"#f0f921\"]]},\"colorway\":[\"#636efa\",\"#EF553B\",\"#00cc96\",\"#ab63fa\",\"#FFA15A\",\"#19d3f3\",\"#FF6692\",\"#B6E880\",\"#FF97FF\",\"#FECB52\"],\"font\":{\"color\":\"#2a3f5f\"},\"geo\":{\"bgcolor\":\"white\",\"lakecolor\":\"white\",\"landcolor\":\"#E5ECF6\",\"showlakes\":true,\"showland\":true,\"subunitcolor\":\"white\"},\"hoverlabel\":{\"align\":\"left\"},\"hovermode\":\"closest\",\"mapbox\":{\"style\":\"light\"},\"paper_bgcolor\":\"white\",\"plot_bgcolor\":\"#E5ECF6\",\"polar\":{\"angularaxis\":{\"gridcolor\":\"white\",\"linecolor\":\"white\",\"ticks\":\"\"},\"bgcolor\":\"#E5ECF6\",\"radialaxis\":{\"gridcolor\":\"white\",\"linecolor\":\"white\",\"ticks\":\"\"}},\"scene\":{\"xaxis\":{\"backgroundcolor\":\"#E5ECF6\",\"gridcolor\":\"white\",\"gridwidth\":2,\"linecolor\":\"white\",\"showbackground\":true,\"ticks\":\"\",\"zerolinecolor\":\"white\"},\"yaxis\":{\"backgroundcolor\":\"#E5ECF6\",\"gridcolor\":\"white\",\"gridwidth\":2,\"linecolor\":\"white\",\"showbackground\":true,\"ticks\":\"\",\"zerolinecolor\":\"white\"},\"zaxis\":{\"backgroundcolor\":\"#E5ECF6\",\"gridcolor\":\"white\",\"gridwidth\":2,\"linecolor\":\"white\",\"showbackground\":true,\"ticks\":\"\",\"zerolinecolor\":\"white\"}},\"shapedefaults\":{\"line\":{\"color\":\"#2a3f5f\"}},\"ternary\":{\"aaxis\":{\"gridcolor\":\"white\",\"linecolor\":\"white\",\"ticks\":\"\"},\"baxis\":{\"gridcolor\":\"white\",\"linecolor\":\"white\",\"ticks\":\"\"},\"bgcolor\":\"#E5ECF6\",\"caxis\":{\"gridcolor\":\"white\",\"linecolor\":\"white\",\"ticks\":\"\"}},\"title\":{\"x\":0.05},\"xaxis\":{\"automargin\":true,\"gridcolor\":\"white\",\"linecolor\":\"white\",\"ticks\":\"\",\"title\":{\"standoff\":15},\"zerolinecolor\":\"white\",\"zerolinewidth\":2},\"yaxis\":{\"automargin\":true,\"gridcolor\":\"white\",\"linecolor\":\"white\",\"ticks\":\"\",\"title\":{\"standoff\":15},\"zerolinecolor\":\"white\",\"zerolinewidth\":2}}},\"title\":{\"font\":{\"color\":\"#4D5663\"},\"text\":\"Distribuci\\u00f3n de la frecuencia de edades de hombres contagiados\"},\"xaxis\":{\"gridcolor\":\"#E1E5ED\",\"showgrid\":true,\"tickfont\":{\"color\":\"#4D5663\"},\"title\":{\"font\":{\"color\":\"#4D5663\"},\"text\":\"Poblaci\\u00f3n\"},\"zerolinecolor\":\"#E1E5ED\"},\"yaxis\":{\"gridcolor\":\"#E1E5ED\",\"showgrid\":true,\"tickfont\":{\"color\":\"#4D5663\"},\"title\":{\"font\":{\"color\":\"#4D5663\"},\"text\":\"\"},\"zerolinecolor\":\"#E1E5ED\"}},                        {\"showLink\": true, \"linkText\": \"Export to plot.ly\", \"plotlyServerURL\": \"https://plot.ly\", \"responsive\": true}                    ).then(function(){\n",
       "                            \n",
       "var gd = document.getElementById('cd65c76b-c939-4005-b02f-019ab38cc342');\n",
       "var x = new MutationObserver(function (mutations, observer) {{\n",
       "        var display = window.getComputedStyle(gd).display;\n",
       "        if (!display || display === 'none') {{\n",
       "            console.log([gd, 'removed!']);\n",
       "            Plotly.purge(gd);\n",
       "            observer.disconnect();\n",
       "        }}\n",
       "}});\n",
       "\n",
       "// Listen for the removal of the full notebook cells\n",
       "var notebookContainer = gd.closest('#notebook-container');\n",
       "if (notebookContainer) {{\n",
       "    x.observe(notebookContainer, {childList: true});\n",
       "}}\n",
       "\n",
       "// Listen for the clearing of the current output cell\n",
       "var outputEl = gd.closest('.output');\n",
       "if (outputEl) {{\n",
       "    x.observe(outputEl, {childList: true});\n",
       "}}\n",
       "\n",
       "                        })                };                });            </script>        </div>"
      ]
     },
     "metadata": {},
     "output_type": "display_data"
    }
   ],
   "source": [
    "#Histograma\n",
    "# Se elabora un histograma de frecuncia para la edad de los hombres \n",
    "Data_0[[2]].iplot(kind='hist',xTitle='Población', \n",
    "                           title='Distribución de la frecuencia de edades de hombres contagiados')"
   ]
  },
  {
   "cell_type": "code",
   "execution_count": 158,
   "metadata": {},
   "outputs": [
    {
     "data": {
      "text/html": [
       "<div>\n",
       "<style scoped>\n",
       "    .dataframe tbody tr th:only-of-type {\n",
       "        vertical-align: middle;\n",
       "    }\n",
       "\n",
       "    .dataframe tbody tr th {\n",
       "        vertical-align: top;\n",
       "    }\n",
       "\n",
       "    .dataframe thead th {\n",
       "        text-align: right;\n",
       "    }\n",
       "</style>\n",
       "<table border=\"1\" class=\"dataframe\">\n",
       "  <thead>\n",
       "    <tr style=\"text-align: right;\">\n",
       "      <th>INTUBADO</th>\n",
       "      <th>0</th>\n",
       "      <th>1</th>\n",
       "      <th>2</th>\n",
       "    </tr>\n",
       "    <tr>\n",
       "      <th>ID_REGISTRO</th>\n",
       "      <th></th>\n",
       "      <th></th>\n",
       "      <th></th>\n",
       "    </tr>\n",
       "  </thead>\n",
       "  <tbody>\n",
       "    <tr>\n",
       "      <th>42d05f</th>\n",
       "      <td>33.0</td>\n",
       "      <td>NaN</td>\n",
       "      <td>NaN</td>\n",
       "    </tr>\n",
       "    <tr>\n",
       "      <th>476050</th>\n",
       "      <td>26.0</td>\n",
       "      <td>NaN</td>\n",
       "      <td>NaN</td>\n",
       "    </tr>\n",
       "    <tr>\n",
       "      <th>478485</th>\n",
       "      <td>33.0</td>\n",
       "      <td>NaN</td>\n",
       "      <td>NaN</td>\n",
       "    </tr>\n",
       "    <tr>\n",
       "      <th>47b209</th>\n",
       "      <td>43.0</td>\n",
       "      <td>NaN</td>\n",
       "      <td>NaN</td>\n",
       "    </tr>\n",
       "    <tr>\n",
       "      <th>47ca9c</th>\n",
       "      <td>24.0</td>\n",
       "      <td>NaN</td>\n",
       "      <td>NaN</td>\n",
       "    </tr>\n",
       "    <tr>\n",
       "      <th>...</th>\n",
       "      <td>...</td>\n",
       "      <td>...</td>\n",
       "      <td>...</td>\n",
       "    </tr>\n",
       "    <tr>\n",
       "      <th>ec0d33</th>\n",
       "      <td>55.0</td>\n",
       "      <td>NaN</td>\n",
       "      <td>NaN</td>\n",
       "    </tr>\n",
       "    <tr>\n",
       "      <th>ec78d6</th>\n",
       "      <td>22.0</td>\n",
       "      <td>NaN</td>\n",
       "      <td>NaN</td>\n",
       "    </tr>\n",
       "    <tr>\n",
       "      <th>ed07af</th>\n",
       "      <td>37.0</td>\n",
       "      <td>NaN</td>\n",
       "      <td>NaN</td>\n",
       "    </tr>\n",
       "    <tr>\n",
       "      <th>ed3479</th>\n",
       "      <td>55.0</td>\n",
       "      <td>NaN</td>\n",
       "      <td>NaN</td>\n",
       "    </tr>\n",
       "    <tr>\n",
       "      <th>ee1799</th>\n",
       "      <td>49.0</td>\n",
       "      <td>NaN</td>\n",
       "      <td>NaN</td>\n",
       "    </tr>\n",
       "  </tbody>\n",
       "</table>\n",
       "<p>500 rows × 3 columns</p>\n",
       "</div>"
      ],
      "text/plain": [
       "INTUBADO        0   1   2\n",
       "ID_REGISTRO              \n",
       "42d05f       33.0 NaN NaN\n",
       "476050       26.0 NaN NaN\n",
       "478485       33.0 NaN NaN\n",
       "47b209       43.0 NaN NaN\n",
       "47ca9c       24.0 NaN NaN\n",
       "...           ...  ..  ..\n",
       "ec0d33       55.0 NaN NaN\n",
       "ec78d6       22.0 NaN NaN\n",
       "ed07af       37.0 NaN NaN\n",
       "ed3479       55.0 NaN NaN\n",
       "ee1799       49.0 NaN NaN\n",
       "\n",
       "[500 rows x 3 columns]"
      ]
     },
     "execution_count": 158,
     "metadata": {},
     "output_type": "execute_result"
    }
   ],
   "source": [
    "#Scatterplot: \n",
    "#Restructuremos el dataframe para la siguiente visualización \n",
    "Data_s= Covid_clean.sample(n = 500)\n",
    "Data_s= Data_s.pivot(index='ID_REGISTRO', columns='INTUBADO',  values='EDAD')\n",
    "Data_s"
   ]
  },
  {
   "cell_type": "code",
   "execution_count": 159,
   "metadata": {},
   "outputs": [
    {
     "data": {
      "application/vnd.plotly.v1+json": {
       "config": {
        "linkText": "Export to plot.ly",
        "plotlyServerURL": "https://plot.ly",
        "showLink": true
       },
       "data": [
        {
         "line": {
          "color": "rgba(255, 153, 51, 1.0)",
          "dash": "solid",
          "shape": "linear",
          "width": 1.3
         },
         "marker": {
          "size": 12,
          "symbol": "circle"
         },
         "mode": "markers",
         "name": "0",
         "text": "",
         "type": "scatter",
         "x": [
          "42d05f",
          "476050",
          "478485",
          "47b209",
          "47ca9c",
          "482504",
          "489f19",
          "48b328",
          "48ea41",
          "48f62d",
          "49004b",
          "490467",
          "4964f8",
          "496513",
          "499dc3",
          "49dee0",
          "4a3c59",
          "4a440c",
          "4a7972",
          "4af3a4",
          "4af5bf",
          "4b0686",
          "4b36b7",
          "4b5473",
          "4b879f",
          "4c1939",
          "4c6a94",
          "4c77ba",
          "4d1679",
          "4d25d1",
          "4dbbfc",
          "4dcc95",
          "4ddae1",
          "4e34d4",
          "4e4eb0",
          "4e66ed",
          "4ebdcb",
          "4ecd7b",
          "5.75E+17",
          "50116e",
          "50804c",
          "50af16",
          "50d83f",
          "512b23",
          "51452e",
          "5233d3",
          "52b236",
          "52c7d0",
          "52cc6d",
          "5304f6",
          "5354d0",
          "536203",
          "5378c5",
          "53ce3b",
          "544fb0",
          "54f75e",
          "55cad2",
          "562c1a",
          "5724d0",
          "57bc4e",
          "584ea5",
          "58b0f1",
          "58b798",
          "5931f2",
          "598c70",
          "5a90bc",
          "5b7b4b",
          "5bbea2",
          "5bc342",
          "5cbe5d",
          "5e3dca",
          "5e9703",
          "5f6114",
          "5f66b1",
          "603da9",
          "6094a9",
          "60a503",
          "60fda5",
          "623d72",
          "624976",
          "6256b8",
          "62b9e3",
          "63059e",
          "64446d",
          "644960",
          "646008",
          "65586f",
          "657254",
          "657fcc",
          "6646ae",
          "6656d1",
          "667480",
          "668d8e",
          "6714b7",
          "67642c",
          "677ccc",
          "678520",
          "67f9c4",
          "68421c",
          "686345",
          "68a60e",
          "68ceee",
          "6964f5",
          "6a17df",
          "6ab71e",
          "6afccb",
          "6b1195",
          "6caa00",
          "6ccef4",
          "6d16df",
          "6d2db2",
          "6d65bf",
          "6d8fc4",
          "6e3c16",
          "6edbba",
          "6f889c",
          "700082",
          "7004db",
          "705cf4",
          "710f0b",
          "713dd8",
          "71a033",
          "72a6cd",
          "733cf6",
          "73568b",
          "744f90",
          "74a831",
          "74fc47",
          "752b84",
          "758281",
          "7597f5",
          "759dfa",
          "75f615",
          "76c64b",
          "771203",
          "7762bf",
          "77b437",
          "77eca2",
          "77f5f6",
          "785a2a",
          "78775a",
          "78cebb",
          "78fa50",
          "79085d",
          "79668e",
          "79dd78",
          "7a3a50",
          "7a3f5f",
          "7a8ad3",
          "7ad76a",
          "7bcaf7",
          "7c06ae",
          "7d22c8",
          "7d38ee",
          "7d9985",
          "7dc0d6",
          "7e0b7e",
          "7e3988",
          "7e695c",
          "7e9589",
          "7ecdd4",
          "7eee26",
          "7f1a40",
          "7f6279",
          "7fa190",
          "801c21",
          "802431",
          "803527",
          "80b3d3",
          "80da06",
          "81ae46",
          "81f9a8",
          "82126f",
          "824732",
          "82cf0d",
          "83132a",
          "831c41",
          "831da4",
          "8350b6",
          "83866e",
          "83fa50",
          "8469ba",
          "84b110",
          "85319b",
          "85c208",
          "85c51e",
          "85e3f5",
          "860537",
          "8605d5",
          "8662d5",
          "88ad14",
          "897a0a",
          "89a607",
          "8a86d0",
          "8a95ca",
          "8b4a3d",
          "8b7e63",
          "8b86ed",
          "8bb774",
          "8c2d68",
          "8c908e",
          "8c936e",
          "8d1208",
          "8d194b",
          "8d209f",
          "8d8952",
          "8dc885",
          "8dd3b4",
          "8e8cd2",
          "8f82f8",
          "9.32E+04",
          "908308",
          "914b30",
          "9196c8",
          "91d6d9",
          "9238fe",
          "9257bb",
          "92c322",
          "92fba2",
          "933f37",
          "936570",
          "9388fd",
          "938969",
          "93cbc2",
          "94a1f9",
          "952690",
          "954f5d",
          "954fbd",
          "959972",
          "959f40",
          "960cc2",
          "966a97",
          "9688ff",
          "9735d5",
          "9765b0",
          "97e531",
          "987d6a",
          "98e323",
          "98fe32",
          "993aa1",
          "994d81",
          "997776",
          "9adff2",
          "9b1552",
          "9b1aee",
          "9b6929",
          "9bb754",
          "9bef8c",
          "9c16fa",
          "9c3ece",
          "9c4e9d",
          "9c8c29",
          "9c9551",
          "9cd8cf",
          "9ce35c",
          "9d2ec4",
          "9d7ba8",
          "9d7ce9",
          "9dc42c",
          "9dd7c4",
          "9ddc12",
          "9de896",
          "9e3431",
          "9e6784",
          "9e6b27",
          "9e84b4",
          "9e8846",
          "9fc5b9",
          "9fdcf0",
          "a02d4f",
          "a0533b",
          "a1f84b",
          "a31b16",
          "a3a964",
          "a3c42e",
          "a455d0",
          "a48f96",
          "a496c8",
          "a49b1e",
          "a677fd",
          "a698dc",
          "a6dcc9",
          "a6e983",
          "a70339",
          "a732c5",
          "a740bb",
          "a79d50",
          "a8078e",
          "a8687a",
          "a9636a",
          "a98cea",
          "aa41bd",
          "aa749f",
          "aa79f8",
          "aa9732",
          "aad722",
          "abbbd7",
          "abea67",
          "ac76cc",
          "acb7b9",
          "ace37d",
          "ad4dc2",
          "ad56fc",
          "ad975f",
          "adf174",
          "ae06f2",
          "ae5aeb",
          "ae66a5",
          "aeb6ca",
          "aeca14",
          "af8cfb",
          "af9b89",
          "afa864",
          "afed73",
          "b040e5",
          "b10bb7",
          "b28e4b",
          "b2a6b1",
          "b2eddd",
          "b32262",
          "b342ae",
          "b3b8af",
          "b4f11a",
          "b5c423",
          "b5caea",
          "b60531",
          "b672a5",
          "b73537",
          "b772ed",
          "b79550",
          "b84d0e",
          "b884dc",
          "b8850e",
          "b8b7b6",
          "b8d01f",
          "b94278",
          "b95219",
          "b9d05f",
          "b9e7c8",
          "b9f1cf",
          "baa145",
          "baf66e",
          "baf940",
          "bafa84",
          "bb0b66",
          "bcb234",
          "bcc72d",
          "bd9a66",
          "bdb766",
          "bdd2b2",
          "beb172",
          "becf11",
          "bf2b38",
          "bf833e",
          "c05016",
          "c0f10d",
          "c0f757",
          "c10b04",
          "c2376e",
          "c25fad",
          "c2779a",
          "c2943b",
          "c2fac8",
          "c3789e",
          "c3b245",
          "c3c779",
          "c3e1d2",
          "c3f582",
          "c48fee",
          "c50955",
          "c52c6c",
          "c584a5",
          "c59539",
          "c631ed",
          "c6a42e",
          "c6eadd",
          "c7630b",
          "c790df",
          "c79f0f",
          "c7c1ee",
          "c84fde",
          "c86ffe",
          "c8a282",
          "c9cfd5",
          "c9ee5a",
          "c9f723",
          "ca379d",
          "cb5736",
          "cb5b73",
          "cbb7ab",
          "cbc3f5",
          "cc26c0",
          "cc7484",
          "cc7645",
          "ccb46b",
          "cd0c71",
          "cd339e",
          "cd666a",
          "cdcba6",
          "ce641f",
          "ce9212",
          "cee1dc",
          "cf690d",
          "cf791f",
          "cf92ec",
          "cfe539",
          "d04f8a",
          "d0d96b",
          "d0e9a3",
          "d0ecb7",
          "d10412",
          "d1159e",
          "d115a2",
          "d17e90",
          "d1eb2b",
          "d1f559",
          "d2141e",
          "d2bd51",
          "d326f2",
          "d333f6",
          "d341c2",
          "d39992",
          "d3de68",
          "d49e7c",
          "d5550c",
          "d5d2bc",
          "d5d89c",
          "d5dee4",
          "d5ffc2",
          "d665cb",
          "d6707d",
          "d6e0e3",
          "d6ff8c",
          "d891fa",
          "d8bcab",
          "d8c95f",
          "d9f50c",
          "d9f8f5",
          "da2f1a",
          "da7c5e",
          "daaf01",
          "db729d",
          "dbb88a",
          "dbc297",
          "dc2192",
          "dca456",
          "dcacc7",
          "dcf5fd",
          "dd103b",
          "de1912",
          "decebb",
          "deef68",
          "def389",
          "df3498",
          "df3f07",
          "df541b",
          "df7c9a",
          "dfd3c2",
          "dfe6d5",
          "e01cfc",
          "e0bd43",
          "e0f069",
          "e2222b",
          "e24a75",
          "e2abe5",
          "e2f55d",
          "e3211f",
          "e32211",
          "e340dd",
          "e3912c",
          "e3db8e",
          "e43519",
          "e48be3",
          "e4a1a3",
          "e4a5a1",
          "e4f523",
          "e54c1e",
          "e554be",
          "e57ae8",
          "e5afb3",
          "e6cd43",
          "e76900",
          "e7bf38",
          "e7cede",
          "e7d65f",
          "e7ec25",
          "e849d0",
          "e85afd",
          "e9f78b",
          "ea69c3",
          "ea78ed",
          "ea997d",
          "eb998f",
          "ebe974",
          "ebf1a3",
          "ec0d33",
          "ec78d6",
          "ed07af",
          "ed3479",
          "ee1799"
         ],
         "y": [
          33,
          26,
          33,
          43,
          24,
          22,
          21,
          52,
          22,
          29,
          14,
          37,
          57,
          55,
          49,
          36,
          49,
          34,
          1,
          56,
          50,
          48,
          25,
          47,
          17,
          53,
          42,
          41,
          20,
          46,
          35,
          "",
          24,
          44,
          39,
          31,
          29,
          28,
          41,
          31,
          57,
          54,
          53,
          47,
          48,
          40,
          46,
          54,
          48,
          23,
          18,
          14,
          21,
          26,
          49,
          26,
          22,
          26,
          44,
          26,
          51,
          61,
          45,
          22,
          52,
          10,
          49,
          11,
          47,
          44,
          42,
          29,
          25,
          43,
          36,
          0,
          33,
          46,
          37,
          49,
          48,
          41,
          9,
          18,
          64,
          61,
          43,
          59,
          27,
          49,
          72,
          46,
          23,
          32,
          81,
          29,
          29,
          44,
          44,
          33,
          34,
          15,
          21,
          30,
          46,
          40,
          40,
          16,
          68,
          24,
          47,
          3,
          29,
          38,
          26,
          58,
          76,
          47,
          5,
          54,
          48,
          27,
          31,
          44,
          31,
          21,
          59,
          43,
          19,
          39,
          36,
          31,
          47,
          62,
          24,
          32,
          41,
          53,
          43,
          57,
          35,
          38,
          51,
          54,
          24,
          51,
          28,
          66,
          65,
          44,
          39,
          33,
          12,
          3,
          19,
          62,
          26,
          23,
          69,
          34,
          57,
          29,
          66,
          57,
          63,
          37,
          22,
          54,
          39,
          43,
          32,
          24,
          29,
          37,
          24,
          36,
          52,
          25,
          51,
          37,
          "",
          32,
          60,
          35,
          36,
          37,
          49,
          48,
          51,
          71,
          31,
          33,
          35,
          82,
          34,
          63,
          46,
          18,
          49,
          9,
          25,
          47,
          25,
          22,
          6,
          36,
          32,
          60,
          46,
          36,
          38,
          30,
          28,
          42,
          28,
          37,
          24,
          13,
          48,
          56,
          41,
          28,
          26,
          33,
          38,
          8,
          30,
          34,
          54,
          34,
          24,
          44,
          65,
          34,
          38,
          37,
          12,
          52,
          55,
          31,
          37,
          29,
          36,
          21,
          44,
          29,
          37,
          25,
          17,
          28,
          15,
          17,
          57,
          46,
          26,
          29,
          39,
          30,
          59,
          51,
          27,
          29,
          62,
          43,
          0,
          3,
          26,
          "",
          33,
          30,
          "",
          21,
          45,
          48,
          66,
          31,
          40,
          32,
          44,
          70,
          37,
          25,
          22,
          56,
          46,
          59,
          48,
          22,
          41,
          26,
          27,
          16,
          35,
          25,
          46,
          60,
          33,
          40,
          67,
          49,
          36,
          25,
          32,
          32,
          56,
          49,
          "",
          49,
          31,
          4,
          46,
          25,
          34,
          59,
          12,
          62,
          43,
          48,
          46,
          15,
          60,
          66,
          "",
          23,
          25,
          28,
          22,
          55,
          49,
          3,
          35,
          30,
          33,
          38,
          45,
          47,
          51,
          41,
          20,
          21,
          50,
          30,
          40,
          37,
          79,
          66,
          "",
          25,
          27,
          18,
          52,
          57,
          25,
          34,
          55,
          32,
          21,
          49,
          50,
          47,
          45,
          41,
          26,
          33,
          49,
          25,
          34,
          27,
          22,
          52,
          41,
          43,
          12,
          53,
          36,
          34,
          23,
          60,
          35,
          19,
          35,
          40,
          40,
          28,
          48,
          55,
          37,
          22,
          26,
          40,
          40,
          56,
          40,
          53,
          37,
          21,
          "",
          23,
          46,
          78,
          27,
          20,
          20,
          28,
          35,
          47,
          32,
          63,
          43,
          57,
          49,
          11,
          49,
          26,
          53,
          35,
          19,
          15,
          75,
          37,
          24,
          4,
          38,
          34,
          21,
          55,
          19,
          46,
          54,
          59,
          32,
          54,
          70,
          33,
          45,
          5,
          54,
          53,
          22,
          19,
          28,
          38,
          55,
          35,
          33,
          54,
          49,
          38,
          59,
          27,
          43,
          53,
          56,
          36,
          49,
          55,
          27,
          28,
          24,
          29,
          32,
          4,
          62,
          52,
          31,
          25,
          4,
          26,
          46,
          1,
          27,
          20,
          26,
          40,
          40,
          25,
          24,
          9,
          45,
          22,
          31,
          51,
          33,
          50,
          50,
          57,
          "",
          27,
          16,
          32,
          54,
          28,
          51,
          35,
          23,
          55,
          22,
          37,
          55,
          49
         ]
        },
        {
         "line": {
          "color": "rgba(55, 128, 191, 1.0)",
          "dash": "solid",
          "shape": "linear",
          "width": 1.3
         },
         "marker": {
          "size": 12,
          "symbol": "circle"
         },
         "mode": "markers",
         "name": "1",
         "text": "",
         "type": "scatter",
         "x": [
          "42d05f",
          "476050",
          "478485",
          "47b209",
          "47ca9c",
          "482504",
          "489f19",
          "48b328",
          "48ea41",
          "48f62d",
          "49004b",
          "490467",
          "4964f8",
          "496513",
          "499dc3",
          "49dee0",
          "4a3c59",
          "4a440c",
          "4a7972",
          "4af3a4",
          "4af5bf",
          "4b0686",
          "4b36b7",
          "4b5473",
          "4b879f",
          "4c1939",
          "4c6a94",
          "4c77ba",
          "4d1679",
          "4d25d1",
          "4dbbfc",
          "4dcc95",
          "4ddae1",
          "4e34d4",
          "4e4eb0",
          "4e66ed",
          "4ebdcb",
          "4ecd7b",
          "5.75E+17",
          "50116e",
          "50804c",
          "50af16",
          "50d83f",
          "512b23",
          "51452e",
          "5233d3",
          "52b236",
          "52c7d0",
          "52cc6d",
          "5304f6",
          "5354d0",
          "536203",
          "5378c5",
          "53ce3b",
          "544fb0",
          "54f75e",
          "55cad2",
          "562c1a",
          "5724d0",
          "57bc4e",
          "584ea5",
          "58b0f1",
          "58b798",
          "5931f2",
          "598c70",
          "5a90bc",
          "5b7b4b",
          "5bbea2",
          "5bc342",
          "5cbe5d",
          "5e3dca",
          "5e9703",
          "5f6114",
          "5f66b1",
          "603da9",
          "6094a9",
          "60a503",
          "60fda5",
          "623d72",
          "624976",
          "6256b8",
          "62b9e3",
          "63059e",
          "64446d",
          "644960",
          "646008",
          "65586f",
          "657254",
          "657fcc",
          "6646ae",
          "6656d1",
          "667480",
          "668d8e",
          "6714b7",
          "67642c",
          "677ccc",
          "678520",
          "67f9c4",
          "68421c",
          "686345",
          "68a60e",
          "68ceee",
          "6964f5",
          "6a17df",
          "6ab71e",
          "6afccb",
          "6b1195",
          "6caa00",
          "6ccef4",
          "6d16df",
          "6d2db2",
          "6d65bf",
          "6d8fc4",
          "6e3c16",
          "6edbba",
          "6f889c",
          "700082",
          "7004db",
          "705cf4",
          "710f0b",
          "713dd8",
          "71a033",
          "72a6cd",
          "733cf6",
          "73568b",
          "744f90",
          "74a831",
          "74fc47",
          "752b84",
          "758281",
          "7597f5",
          "759dfa",
          "75f615",
          "76c64b",
          "771203",
          "7762bf",
          "77b437",
          "77eca2",
          "77f5f6",
          "785a2a",
          "78775a",
          "78cebb",
          "78fa50",
          "79085d",
          "79668e",
          "79dd78",
          "7a3a50",
          "7a3f5f",
          "7a8ad3",
          "7ad76a",
          "7bcaf7",
          "7c06ae",
          "7d22c8",
          "7d38ee",
          "7d9985",
          "7dc0d6",
          "7e0b7e",
          "7e3988",
          "7e695c",
          "7e9589",
          "7ecdd4",
          "7eee26",
          "7f1a40",
          "7f6279",
          "7fa190",
          "801c21",
          "802431",
          "803527",
          "80b3d3",
          "80da06",
          "81ae46",
          "81f9a8",
          "82126f",
          "824732",
          "82cf0d",
          "83132a",
          "831c41",
          "831da4",
          "8350b6",
          "83866e",
          "83fa50",
          "8469ba",
          "84b110",
          "85319b",
          "85c208",
          "85c51e",
          "85e3f5",
          "860537",
          "8605d5",
          "8662d5",
          "88ad14",
          "897a0a",
          "89a607",
          "8a86d0",
          "8a95ca",
          "8b4a3d",
          "8b7e63",
          "8b86ed",
          "8bb774",
          "8c2d68",
          "8c908e",
          "8c936e",
          "8d1208",
          "8d194b",
          "8d209f",
          "8d8952",
          "8dc885",
          "8dd3b4",
          "8e8cd2",
          "8f82f8",
          "9.32E+04",
          "908308",
          "914b30",
          "9196c8",
          "91d6d9",
          "9238fe",
          "9257bb",
          "92c322",
          "92fba2",
          "933f37",
          "936570",
          "9388fd",
          "938969",
          "93cbc2",
          "94a1f9",
          "952690",
          "954f5d",
          "954fbd",
          "959972",
          "959f40",
          "960cc2",
          "966a97",
          "9688ff",
          "9735d5",
          "9765b0",
          "97e531",
          "987d6a",
          "98e323",
          "98fe32",
          "993aa1",
          "994d81",
          "997776",
          "9adff2",
          "9b1552",
          "9b1aee",
          "9b6929",
          "9bb754",
          "9bef8c",
          "9c16fa",
          "9c3ece",
          "9c4e9d",
          "9c8c29",
          "9c9551",
          "9cd8cf",
          "9ce35c",
          "9d2ec4",
          "9d7ba8",
          "9d7ce9",
          "9dc42c",
          "9dd7c4",
          "9ddc12",
          "9de896",
          "9e3431",
          "9e6784",
          "9e6b27",
          "9e84b4",
          "9e8846",
          "9fc5b9",
          "9fdcf0",
          "a02d4f",
          "a0533b",
          "a1f84b",
          "a31b16",
          "a3a964",
          "a3c42e",
          "a455d0",
          "a48f96",
          "a496c8",
          "a49b1e",
          "a677fd",
          "a698dc",
          "a6dcc9",
          "a6e983",
          "a70339",
          "a732c5",
          "a740bb",
          "a79d50",
          "a8078e",
          "a8687a",
          "a9636a",
          "a98cea",
          "aa41bd",
          "aa749f",
          "aa79f8",
          "aa9732",
          "aad722",
          "abbbd7",
          "abea67",
          "ac76cc",
          "acb7b9",
          "ace37d",
          "ad4dc2",
          "ad56fc",
          "ad975f",
          "adf174",
          "ae06f2",
          "ae5aeb",
          "ae66a5",
          "aeb6ca",
          "aeca14",
          "af8cfb",
          "af9b89",
          "afa864",
          "afed73",
          "b040e5",
          "b10bb7",
          "b28e4b",
          "b2a6b1",
          "b2eddd",
          "b32262",
          "b342ae",
          "b3b8af",
          "b4f11a",
          "b5c423",
          "b5caea",
          "b60531",
          "b672a5",
          "b73537",
          "b772ed",
          "b79550",
          "b84d0e",
          "b884dc",
          "b8850e",
          "b8b7b6",
          "b8d01f",
          "b94278",
          "b95219",
          "b9d05f",
          "b9e7c8",
          "b9f1cf",
          "baa145",
          "baf66e",
          "baf940",
          "bafa84",
          "bb0b66",
          "bcb234",
          "bcc72d",
          "bd9a66",
          "bdb766",
          "bdd2b2",
          "beb172",
          "becf11",
          "bf2b38",
          "bf833e",
          "c05016",
          "c0f10d",
          "c0f757",
          "c10b04",
          "c2376e",
          "c25fad",
          "c2779a",
          "c2943b",
          "c2fac8",
          "c3789e",
          "c3b245",
          "c3c779",
          "c3e1d2",
          "c3f582",
          "c48fee",
          "c50955",
          "c52c6c",
          "c584a5",
          "c59539",
          "c631ed",
          "c6a42e",
          "c6eadd",
          "c7630b",
          "c790df",
          "c79f0f",
          "c7c1ee",
          "c84fde",
          "c86ffe",
          "c8a282",
          "c9cfd5",
          "c9ee5a",
          "c9f723",
          "ca379d",
          "cb5736",
          "cb5b73",
          "cbb7ab",
          "cbc3f5",
          "cc26c0",
          "cc7484",
          "cc7645",
          "ccb46b",
          "cd0c71",
          "cd339e",
          "cd666a",
          "cdcba6",
          "ce641f",
          "ce9212",
          "cee1dc",
          "cf690d",
          "cf791f",
          "cf92ec",
          "cfe539",
          "d04f8a",
          "d0d96b",
          "d0e9a3",
          "d0ecb7",
          "d10412",
          "d1159e",
          "d115a2",
          "d17e90",
          "d1eb2b",
          "d1f559",
          "d2141e",
          "d2bd51",
          "d326f2",
          "d333f6",
          "d341c2",
          "d39992",
          "d3de68",
          "d49e7c",
          "d5550c",
          "d5d2bc",
          "d5d89c",
          "d5dee4",
          "d5ffc2",
          "d665cb",
          "d6707d",
          "d6e0e3",
          "d6ff8c",
          "d891fa",
          "d8bcab",
          "d8c95f",
          "d9f50c",
          "d9f8f5",
          "da2f1a",
          "da7c5e",
          "daaf01",
          "db729d",
          "dbb88a",
          "dbc297",
          "dc2192",
          "dca456",
          "dcacc7",
          "dcf5fd",
          "dd103b",
          "de1912",
          "decebb",
          "deef68",
          "def389",
          "df3498",
          "df3f07",
          "df541b",
          "df7c9a",
          "dfd3c2",
          "dfe6d5",
          "e01cfc",
          "e0bd43",
          "e0f069",
          "e2222b",
          "e24a75",
          "e2abe5",
          "e2f55d",
          "e3211f",
          "e32211",
          "e340dd",
          "e3912c",
          "e3db8e",
          "e43519",
          "e48be3",
          "e4a1a3",
          "e4a5a1",
          "e4f523",
          "e54c1e",
          "e554be",
          "e57ae8",
          "e5afb3",
          "e6cd43",
          "e76900",
          "e7bf38",
          "e7cede",
          "e7d65f",
          "e7ec25",
          "e849d0",
          "e85afd",
          "e9f78b",
          "ea69c3",
          "ea78ed",
          "ea997d",
          "eb998f",
          "ebe974",
          "ebf1a3",
          "ec0d33",
          "ec78d6",
          "ed07af",
          "ed3479",
          "ee1799"
         ],
         "y": [
          "",
          "",
          "",
          "",
          "",
          "",
          "",
          "",
          "",
          "",
          "",
          "",
          "",
          "",
          "",
          "",
          "",
          "",
          "",
          "",
          "",
          "",
          "",
          "",
          "",
          "",
          "",
          "",
          "",
          "",
          "",
          "",
          "",
          "",
          "",
          "",
          "",
          "",
          "",
          "",
          "",
          "",
          "",
          "",
          "",
          "",
          "",
          "",
          "",
          "",
          "",
          "",
          "",
          "",
          "",
          "",
          "",
          "",
          "",
          "",
          "",
          "",
          "",
          "",
          "",
          "",
          "",
          "",
          "",
          "",
          "",
          "",
          "",
          "",
          "",
          "",
          "",
          "",
          "",
          "",
          "",
          "",
          "",
          "",
          "",
          "",
          "",
          "",
          "",
          "",
          "",
          "",
          "",
          "",
          "",
          "",
          "",
          "",
          "",
          "",
          "",
          "",
          "",
          "",
          "",
          "",
          "",
          "",
          "",
          "",
          "",
          "",
          "",
          "",
          "",
          "",
          "",
          "",
          "",
          "",
          "",
          "",
          "",
          "",
          "",
          "",
          "",
          "",
          "",
          "",
          "",
          "",
          "",
          "",
          "",
          "",
          "",
          "",
          "",
          "",
          "",
          "",
          "",
          "",
          "",
          "",
          "",
          "",
          "",
          "",
          "",
          "",
          "",
          "",
          "",
          "",
          "",
          "",
          "",
          "",
          "",
          "",
          "",
          "",
          "",
          "",
          "",
          "",
          "",
          "",
          "",
          "",
          "",
          "",
          "",
          "",
          "",
          "",
          "",
          "",
          "",
          "",
          "",
          "",
          "",
          "",
          "",
          "",
          "",
          "",
          "",
          "",
          "",
          "",
          "",
          "",
          "",
          "",
          "",
          "",
          "",
          "",
          "",
          "",
          "",
          "",
          "",
          "",
          "",
          "",
          "",
          "",
          "",
          "",
          "",
          "",
          "",
          "",
          "",
          "",
          "",
          "",
          "",
          "",
          "",
          "",
          "",
          "",
          "",
          "",
          "",
          "",
          "",
          "",
          "",
          "",
          "",
          "",
          "",
          "",
          "",
          "",
          "",
          "",
          "",
          "",
          "",
          "",
          "",
          "",
          "",
          "",
          "",
          "",
          "",
          "",
          "",
          "",
          "",
          "",
          "",
          "",
          "",
          "",
          "",
          "",
          "",
          "",
          "",
          "",
          "",
          "",
          "",
          "",
          "",
          "",
          "",
          "",
          "",
          "",
          "",
          "",
          "",
          "",
          "",
          "",
          "",
          "",
          "",
          "",
          "",
          "",
          "",
          "",
          "",
          "",
          "",
          "",
          "",
          "",
          "",
          "",
          "",
          "",
          "",
          "",
          "",
          "",
          "",
          "",
          "",
          "",
          "",
          "",
          "",
          "",
          "",
          "",
          "",
          "",
          "",
          "",
          80,
          "",
          "",
          "",
          "",
          "",
          "",
          "",
          "",
          "",
          "",
          "",
          "",
          "",
          "",
          "",
          "",
          "",
          "",
          "",
          "",
          "",
          "",
          "",
          "",
          "",
          "",
          "",
          "",
          "",
          "",
          "",
          "",
          "",
          "",
          "",
          "",
          "",
          "",
          "",
          "",
          "",
          "",
          "",
          "",
          "",
          "",
          "",
          "",
          "",
          "",
          "",
          "",
          "",
          "",
          "",
          "",
          "",
          "",
          "",
          "",
          "",
          "",
          "",
          "",
          "",
          "",
          "",
          "",
          "",
          "",
          "",
          "",
          "",
          "",
          "",
          "",
          "",
          "",
          "",
          "",
          "",
          "",
          "",
          "",
          "",
          "",
          "",
          "",
          "",
          "",
          "",
          "",
          "",
          "",
          "",
          "",
          "",
          "",
          "",
          "",
          "",
          "",
          "",
          "",
          "",
          "",
          "",
          "",
          "",
          "",
          "",
          "",
          "",
          "",
          "",
          "",
          "",
          "",
          "",
          "",
          "",
          "",
          "",
          "",
          "",
          "",
          "",
          "",
          "",
          "",
          "",
          "",
          "",
          "",
          "",
          "",
          "",
          "",
          "",
          "",
          "",
          "",
          "",
          "",
          "",
          "",
          "",
          "",
          "",
          "",
          "",
          "",
          "",
          "",
          "",
          "",
          "",
          "",
          "",
          "",
          "",
          "",
          "",
          "",
          "",
          "",
          "",
          "",
          "",
          "",
          "",
          "",
          "",
          "",
          "",
          "",
          ""
         ]
        },
        {
         "line": {
          "color": "rgba(50, 171, 96, 1.0)",
          "dash": "solid",
          "shape": "linear",
          "width": 1.3
         },
         "marker": {
          "size": 12,
          "symbol": "circle"
         },
         "mode": "markers",
         "name": "2",
         "text": "",
         "type": "scatter",
         "x": [
          "42d05f",
          "476050",
          "478485",
          "47b209",
          "47ca9c",
          "482504",
          "489f19",
          "48b328",
          "48ea41",
          "48f62d",
          "49004b",
          "490467",
          "4964f8",
          "496513",
          "499dc3",
          "49dee0",
          "4a3c59",
          "4a440c",
          "4a7972",
          "4af3a4",
          "4af5bf",
          "4b0686",
          "4b36b7",
          "4b5473",
          "4b879f",
          "4c1939",
          "4c6a94",
          "4c77ba",
          "4d1679",
          "4d25d1",
          "4dbbfc",
          "4dcc95",
          "4ddae1",
          "4e34d4",
          "4e4eb0",
          "4e66ed",
          "4ebdcb",
          "4ecd7b",
          "5.75E+17",
          "50116e",
          "50804c",
          "50af16",
          "50d83f",
          "512b23",
          "51452e",
          "5233d3",
          "52b236",
          "52c7d0",
          "52cc6d",
          "5304f6",
          "5354d0",
          "536203",
          "5378c5",
          "53ce3b",
          "544fb0",
          "54f75e",
          "55cad2",
          "562c1a",
          "5724d0",
          "57bc4e",
          "584ea5",
          "58b0f1",
          "58b798",
          "5931f2",
          "598c70",
          "5a90bc",
          "5b7b4b",
          "5bbea2",
          "5bc342",
          "5cbe5d",
          "5e3dca",
          "5e9703",
          "5f6114",
          "5f66b1",
          "603da9",
          "6094a9",
          "60a503",
          "60fda5",
          "623d72",
          "624976",
          "6256b8",
          "62b9e3",
          "63059e",
          "64446d",
          "644960",
          "646008",
          "65586f",
          "657254",
          "657fcc",
          "6646ae",
          "6656d1",
          "667480",
          "668d8e",
          "6714b7",
          "67642c",
          "677ccc",
          "678520",
          "67f9c4",
          "68421c",
          "686345",
          "68a60e",
          "68ceee",
          "6964f5",
          "6a17df",
          "6ab71e",
          "6afccb",
          "6b1195",
          "6caa00",
          "6ccef4",
          "6d16df",
          "6d2db2",
          "6d65bf",
          "6d8fc4",
          "6e3c16",
          "6edbba",
          "6f889c",
          "700082",
          "7004db",
          "705cf4",
          "710f0b",
          "713dd8",
          "71a033",
          "72a6cd",
          "733cf6",
          "73568b",
          "744f90",
          "74a831",
          "74fc47",
          "752b84",
          "758281",
          "7597f5",
          "759dfa",
          "75f615",
          "76c64b",
          "771203",
          "7762bf",
          "77b437",
          "77eca2",
          "77f5f6",
          "785a2a",
          "78775a",
          "78cebb",
          "78fa50",
          "79085d",
          "79668e",
          "79dd78",
          "7a3a50",
          "7a3f5f",
          "7a8ad3",
          "7ad76a",
          "7bcaf7",
          "7c06ae",
          "7d22c8",
          "7d38ee",
          "7d9985",
          "7dc0d6",
          "7e0b7e",
          "7e3988",
          "7e695c",
          "7e9589",
          "7ecdd4",
          "7eee26",
          "7f1a40",
          "7f6279",
          "7fa190",
          "801c21",
          "802431",
          "803527",
          "80b3d3",
          "80da06",
          "81ae46",
          "81f9a8",
          "82126f",
          "824732",
          "82cf0d",
          "83132a",
          "831c41",
          "831da4",
          "8350b6",
          "83866e",
          "83fa50",
          "8469ba",
          "84b110",
          "85319b",
          "85c208",
          "85c51e",
          "85e3f5",
          "860537",
          "8605d5",
          "8662d5",
          "88ad14",
          "897a0a",
          "89a607",
          "8a86d0",
          "8a95ca",
          "8b4a3d",
          "8b7e63",
          "8b86ed",
          "8bb774",
          "8c2d68",
          "8c908e",
          "8c936e",
          "8d1208",
          "8d194b",
          "8d209f",
          "8d8952",
          "8dc885",
          "8dd3b4",
          "8e8cd2",
          "8f82f8",
          "9.32E+04",
          "908308",
          "914b30",
          "9196c8",
          "91d6d9",
          "9238fe",
          "9257bb",
          "92c322",
          "92fba2",
          "933f37",
          "936570",
          "9388fd",
          "938969",
          "93cbc2",
          "94a1f9",
          "952690",
          "954f5d",
          "954fbd",
          "959972",
          "959f40",
          "960cc2",
          "966a97",
          "9688ff",
          "9735d5",
          "9765b0",
          "97e531",
          "987d6a",
          "98e323",
          "98fe32",
          "993aa1",
          "994d81",
          "997776",
          "9adff2",
          "9b1552",
          "9b1aee",
          "9b6929",
          "9bb754",
          "9bef8c",
          "9c16fa",
          "9c3ece",
          "9c4e9d",
          "9c8c29",
          "9c9551",
          "9cd8cf",
          "9ce35c",
          "9d2ec4",
          "9d7ba8",
          "9d7ce9",
          "9dc42c",
          "9dd7c4",
          "9ddc12",
          "9de896",
          "9e3431",
          "9e6784",
          "9e6b27",
          "9e84b4",
          "9e8846",
          "9fc5b9",
          "9fdcf0",
          "a02d4f",
          "a0533b",
          "a1f84b",
          "a31b16",
          "a3a964",
          "a3c42e",
          "a455d0",
          "a48f96",
          "a496c8",
          "a49b1e",
          "a677fd",
          "a698dc",
          "a6dcc9",
          "a6e983",
          "a70339",
          "a732c5",
          "a740bb",
          "a79d50",
          "a8078e",
          "a8687a",
          "a9636a",
          "a98cea",
          "aa41bd",
          "aa749f",
          "aa79f8",
          "aa9732",
          "aad722",
          "abbbd7",
          "abea67",
          "ac76cc",
          "acb7b9",
          "ace37d",
          "ad4dc2",
          "ad56fc",
          "ad975f",
          "adf174",
          "ae06f2",
          "ae5aeb",
          "ae66a5",
          "aeb6ca",
          "aeca14",
          "af8cfb",
          "af9b89",
          "afa864",
          "afed73",
          "b040e5",
          "b10bb7",
          "b28e4b",
          "b2a6b1",
          "b2eddd",
          "b32262",
          "b342ae",
          "b3b8af",
          "b4f11a",
          "b5c423",
          "b5caea",
          "b60531",
          "b672a5",
          "b73537",
          "b772ed",
          "b79550",
          "b84d0e",
          "b884dc",
          "b8850e",
          "b8b7b6",
          "b8d01f",
          "b94278",
          "b95219",
          "b9d05f",
          "b9e7c8",
          "b9f1cf",
          "baa145",
          "baf66e",
          "baf940",
          "bafa84",
          "bb0b66",
          "bcb234",
          "bcc72d",
          "bd9a66",
          "bdb766",
          "bdd2b2",
          "beb172",
          "becf11",
          "bf2b38",
          "bf833e",
          "c05016",
          "c0f10d",
          "c0f757",
          "c10b04",
          "c2376e",
          "c25fad",
          "c2779a",
          "c2943b",
          "c2fac8",
          "c3789e",
          "c3b245",
          "c3c779",
          "c3e1d2",
          "c3f582",
          "c48fee",
          "c50955",
          "c52c6c",
          "c584a5",
          "c59539",
          "c631ed",
          "c6a42e",
          "c6eadd",
          "c7630b",
          "c790df",
          "c79f0f",
          "c7c1ee",
          "c84fde",
          "c86ffe",
          "c8a282",
          "c9cfd5",
          "c9ee5a",
          "c9f723",
          "ca379d",
          "cb5736",
          "cb5b73",
          "cbb7ab",
          "cbc3f5",
          "cc26c0",
          "cc7484",
          "cc7645",
          "ccb46b",
          "cd0c71",
          "cd339e",
          "cd666a",
          "cdcba6",
          "ce641f",
          "ce9212",
          "cee1dc",
          "cf690d",
          "cf791f",
          "cf92ec",
          "cfe539",
          "d04f8a",
          "d0d96b",
          "d0e9a3",
          "d0ecb7",
          "d10412",
          "d1159e",
          "d115a2",
          "d17e90",
          "d1eb2b",
          "d1f559",
          "d2141e",
          "d2bd51",
          "d326f2",
          "d333f6",
          "d341c2",
          "d39992",
          "d3de68",
          "d49e7c",
          "d5550c",
          "d5d2bc",
          "d5d89c",
          "d5dee4",
          "d5ffc2",
          "d665cb",
          "d6707d",
          "d6e0e3",
          "d6ff8c",
          "d891fa",
          "d8bcab",
          "d8c95f",
          "d9f50c",
          "d9f8f5",
          "da2f1a",
          "da7c5e",
          "daaf01",
          "db729d",
          "dbb88a",
          "dbc297",
          "dc2192",
          "dca456",
          "dcacc7",
          "dcf5fd",
          "dd103b",
          "de1912",
          "decebb",
          "deef68",
          "def389",
          "df3498",
          "df3f07",
          "df541b",
          "df7c9a",
          "dfd3c2",
          "dfe6d5",
          "e01cfc",
          "e0bd43",
          "e0f069",
          "e2222b",
          "e24a75",
          "e2abe5",
          "e2f55d",
          "e3211f",
          "e32211",
          "e340dd",
          "e3912c",
          "e3db8e",
          "e43519",
          "e48be3",
          "e4a1a3",
          "e4a5a1",
          "e4f523",
          "e54c1e",
          "e554be",
          "e57ae8",
          "e5afb3",
          "e6cd43",
          "e76900",
          "e7bf38",
          "e7cede",
          "e7d65f",
          "e7ec25",
          "e849d0",
          "e85afd",
          "e9f78b",
          "ea69c3",
          "ea78ed",
          "ea997d",
          "eb998f",
          "ebe974",
          "ebf1a3",
          "ec0d33",
          "ec78d6",
          "ed07af",
          "ed3479",
          "ee1799"
         ],
         "y": [
          "",
          "",
          "",
          "",
          "",
          "",
          "",
          "",
          "",
          "",
          "",
          "",
          "",
          "",
          "",
          "",
          "",
          "",
          "",
          "",
          "",
          "",
          "",
          "",
          "",
          "",
          "",
          "",
          "",
          "",
          "",
          5,
          "",
          "",
          "",
          "",
          "",
          "",
          "",
          "",
          "",
          "",
          "",
          "",
          "",
          "",
          "",
          "",
          "",
          "",
          "",
          "",
          "",
          "",
          "",
          "",
          "",
          "",
          "",
          "",
          "",
          "",
          "",
          "",
          "",
          "",
          "",
          "",
          "",
          "",
          "",
          "",
          "",
          "",
          "",
          "",
          "",
          "",
          "",
          "",
          "",
          "",
          "",
          "",
          "",
          "",
          "",
          "",
          "",
          "",
          "",
          "",
          "",
          "",
          "",
          "",
          "",
          "",
          "",
          "",
          "",
          "",
          "",
          "",
          "",
          "",
          "",
          "",
          "",
          "",
          "",
          "",
          "",
          "",
          "",
          "",
          "",
          "",
          "",
          "",
          "",
          "",
          "",
          "",
          "",
          "",
          "",
          "",
          "",
          "",
          "",
          "",
          "",
          "",
          "",
          "",
          "",
          "",
          "",
          "",
          "",
          "",
          "",
          "",
          "",
          "",
          "",
          "",
          "",
          "",
          "",
          "",
          "",
          "",
          "",
          "",
          "",
          "",
          "",
          "",
          "",
          "",
          "",
          "",
          "",
          "",
          "",
          "",
          "",
          "",
          "",
          "",
          "",
          "",
          "",
          "",
          "",
          "",
          "",
          "",
          66,
          "",
          "",
          "",
          "",
          "",
          "",
          "",
          "",
          "",
          "",
          "",
          "",
          "",
          "",
          "",
          "",
          "",
          "",
          "",
          "",
          "",
          "",
          "",
          "",
          "",
          "",
          "",
          "",
          "",
          "",
          "",
          "",
          "",
          "",
          "",
          "",
          "",
          "",
          "",
          "",
          "",
          "",
          "",
          "",
          "",
          "",
          "",
          "",
          "",
          "",
          "",
          "",
          "",
          "",
          "",
          "",
          "",
          "",
          "",
          "",
          "",
          "",
          "",
          "",
          "",
          "",
          "",
          "",
          "",
          "",
          "",
          "",
          "",
          "",
          "",
          "",
          "",
          "",
          "",
          "",
          "",
          "",
          "",
          "",
          "",
          "",
          26,
          "",
          "",
          32,
          "",
          "",
          "",
          "",
          "",
          "",
          "",
          "",
          "",
          "",
          "",
          "",
          "",
          "",
          "",
          "",
          "",
          "",
          "",
          "",
          "",
          "",
          "",
          "",
          "",
          "",
          "",
          "",
          "",
          "",
          "",
          "",
          "",
          "",
          "",
          43,
          "",
          "",
          "",
          "",
          "",
          "",
          "",
          "",
          "",
          "",
          "",
          "",
          "",
          "",
          "",
          "",
          "",
          "",
          "",
          "",
          "",
          "",
          "",
          "",
          "",
          "",
          "",
          "",
          "",
          "",
          "",
          "",
          "",
          "",
          "",
          "",
          "",
          "",
          "",
          82,
          "",
          "",
          "",
          "",
          "",
          "",
          "",
          "",
          "",
          "",
          "",
          "",
          "",
          "",
          "",
          "",
          "",
          "",
          "",
          "",
          "",
          "",
          "",
          "",
          "",
          "",
          "",
          "",
          "",
          "",
          "",
          "",
          "",
          "",
          "",
          "",
          "",
          "",
          "",
          "",
          "",
          "",
          "",
          "",
          "",
          "",
          "",
          "",
          "",
          34,
          "",
          "",
          "",
          "",
          "",
          "",
          "",
          "",
          "",
          "",
          "",
          "",
          "",
          "",
          "",
          "",
          "",
          "",
          "",
          "",
          "",
          "",
          "",
          "",
          "",
          "",
          "",
          "",
          "",
          "",
          "",
          "",
          "",
          "",
          "",
          "",
          "",
          "",
          "",
          "",
          "",
          "",
          "",
          "",
          "",
          "",
          "",
          "",
          "",
          "",
          "",
          "",
          "",
          "",
          "",
          "",
          "",
          "",
          "",
          "",
          "",
          "",
          "",
          "",
          "",
          "",
          "",
          "",
          "",
          "",
          "",
          "",
          "",
          "",
          "",
          "",
          "",
          "",
          "",
          "",
          "",
          "",
          "",
          "",
          "",
          "",
          "",
          "",
          "",
          47,
          "",
          "",
          "",
          "",
          "",
          "",
          "",
          "",
          "",
          "",
          "",
          "",
          ""
         ]
        }
       ],
       "layout": {
        "legend": {
         "bgcolor": "#F5F6F9",
         "font": {
          "color": "#4D5663"
         }
        },
        "paper_bgcolor": "#F5F6F9",
        "plot_bgcolor": "#F5F6F9",
        "template": {
         "data": {
          "bar": [
           {
            "error_x": {
             "color": "#2a3f5f"
            },
            "error_y": {
             "color": "#2a3f5f"
            },
            "marker": {
             "line": {
              "color": "#E5ECF6",
              "width": 0.5
             },
             "pattern": {
              "fillmode": "overlay",
              "size": 10,
              "solidity": 0.2
             }
            },
            "type": "bar"
           }
          ],
          "barpolar": [
           {
            "marker": {
             "line": {
              "color": "#E5ECF6",
              "width": 0.5
             },
             "pattern": {
              "fillmode": "overlay",
              "size": 10,
              "solidity": 0.2
             }
            },
            "type": "barpolar"
           }
          ],
          "carpet": [
           {
            "aaxis": {
             "endlinecolor": "#2a3f5f",
             "gridcolor": "white",
             "linecolor": "white",
             "minorgridcolor": "white",
             "startlinecolor": "#2a3f5f"
            },
            "baxis": {
             "endlinecolor": "#2a3f5f",
             "gridcolor": "white",
             "linecolor": "white",
             "minorgridcolor": "white",
             "startlinecolor": "#2a3f5f"
            },
            "type": "carpet"
           }
          ],
          "choropleth": [
           {
            "colorbar": {
             "outlinewidth": 0,
             "ticks": ""
            },
            "type": "choropleth"
           }
          ],
          "contour": [
           {
            "colorbar": {
             "outlinewidth": 0,
             "ticks": ""
            },
            "colorscale": [
             [
              0,
              "#0d0887"
             ],
             [
              0.1111111111111111,
              "#46039f"
             ],
             [
              0.2222222222222222,
              "#7201a8"
             ],
             [
              0.3333333333333333,
              "#9c179e"
             ],
             [
              0.4444444444444444,
              "#bd3786"
             ],
             [
              0.5555555555555556,
              "#d8576b"
             ],
             [
              0.6666666666666666,
              "#ed7953"
             ],
             [
              0.7777777777777778,
              "#fb9f3a"
             ],
             [
              0.8888888888888888,
              "#fdca26"
             ],
             [
              1,
              "#f0f921"
             ]
            ],
            "type": "contour"
           }
          ],
          "contourcarpet": [
           {
            "colorbar": {
             "outlinewidth": 0,
             "ticks": ""
            },
            "type": "contourcarpet"
           }
          ],
          "heatmap": [
           {
            "colorbar": {
             "outlinewidth": 0,
             "ticks": ""
            },
            "colorscale": [
             [
              0,
              "#0d0887"
             ],
             [
              0.1111111111111111,
              "#46039f"
             ],
             [
              0.2222222222222222,
              "#7201a8"
             ],
             [
              0.3333333333333333,
              "#9c179e"
             ],
             [
              0.4444444444444444,
              "#bd3786"
             ],
             [
              0.5555555555555556,
              "#d8576b"
             ],
             [
              0.6666666666666666,
              "#ed7953"
             ],
             [
              0.7777777777777778,
              "#fb9f3a"
             ],
             [
              0.8888888888888888,
              "#fdca26"
             ],
             [
              1,
              "#f0f921"
             ]
            ],
            "type": "heatmap"
           }
          ],
          "heatmapgl": [
           {
            "colorbar": {
             "outlinewidth": 0,
             "ticks": ""
            },
            "colorscale": [
             [
              0,
              "#0d0887"
             ],
             [
              0.1111111111111111,
              "#46039f"
             ],
             [
              0.2222222222222222,
              "#7201a8"
             ],
             [
              0.3333333333333333,
              "#9c179e"
             ],
             [
              0.4444444444444444,
              "#bd3786"
             ],
             [
              0.5555555555555556,
              "#d8576b"
             ],
             [
              0.6666666666666666,
              "#ed7953"
             ],
             [
              0.7777777777777778,
              "#fb9f3a"
             ],
             [
              0.8888888888888888,
              "#fdca26"
             ],
             [
              1,
              "#f0f921"
             ]
            ],
            "type": "heatmapgl"
           }
          ],
          "histogram": [
           {
            "marker": {
             "pattern": {
              "fillmode": "overlay",
              "size": 10,
              "solidity": 0.2
             }
            },
            "type": "histogram"
           }
          ],
          "histogram2d": [
           {
            "colorbar": {
             "outlinewidth": 0,
             "ticks": ""
            },
            "colorscale": [
             [
              0,
              "#0d0887"
             ],
             [
              0.1111111111111111,
              "#46039f"
             ],
             [
              0.2222222222222222,
              "#7201a8"
             ],
             [
              0.3333333333333333,
              "#9c179e"
             ],
             [
              0.4444444444444444,
              "#bd3786"
             ],
             [
              0.5555555555555556,
              "#d8576b"
             ],
             [
              0.6666666666666666,
              "#ed7953"
             ],
             [
              0.7777777777777778,
              "#fb9f3a"
             ],
             [
              0.8888888888888888,
              "#fdca26"
             ],
             [
              1,
              "#f0f921"
             ]
            ],
            "type": "histogram2d"
           }
          ],
          "histogram2dcontour": [
           {
            "colorbar": {
             "outlinewidth": 0,
             "ticks": ""
            },
            "colorscale": [
             [
              0,
              "#0d0887"
             ],
             [
              0.1111111111111111,
              "#46039f"
             ],
             [
              0.2222222222222222,
              "#7201a8"
             ],
             [
              0.3333333333333333,
              "#9c179e"
             ],
             [
              0.4444444444444444,
              "#bd3786"
             ],
             [
              0.5555555555555556,
              "#d8576b"
             ],
             [
              0.6666666666666666,
              "#ed7953"
             ],
             [
              0.7777777777777778,
              "#fb9f3a"
             ],
             [
              0.8888888888888888,
              "#fdca26"
             ],
             [
              1,
              "#f0f921"
             ]
            ],
            "type": "histogram2dcontour"
           }
          ],
          "mesh3d": [
           {
            "colorbar": {
             "outlinewidth": 0,
             "ticks": ""
            },
            "type": "mesh3d"
           }
          ],
          "parcoords": [
           {
            "line": {
             "colorbar": {
              "outlinewidth": 0,
              "ticks": ""
             }
            },
            "type": "parcoords"
           }
          ],
          "pie": [
           {
            "automargin": true,
            "type": "pie"
           }
          ],
          "scatter": [
           {
            "fillpattern": {
             "fillmode": "overlay",
             "size": 10,
             "solidity": 0.2
            },
            "type": "scatter"
           }
          ],
          "scatter3d": [
           {
            "line": {
             "colorbar": {
              "outlinewidth": 0,
              "ticks": ""
             }
            },
            "marker": {
             "colorbar": {
              "outlinewidth": 0,
              "ticks": ""
             }
            },
            "type": "scatter3d"
           }
          ],
          "scattercarpet": [
           {
            "marker": {
             "colorbar": {
              "outlinewidth": 0,
              "ticks": ""
             }
            },
            "type": "scattercarpet"
           }
          ],
          "scattergeo": [
           {
            "marker": {
             "colorbar": {
              "outlinewidth": 0,
              "ticks": ""
             }
            },
            "type": "scattergeo"
           }
          ],
          "scattergl": [
           {
            "marker": {
             "colorbar": {
              "outlinewidth": 0,
              "ticks": ""
             }
            },
            "type": "scattergl"
           }
          ],
          "scattermapbox": [
           {
            "marker": {
             "colorbar": {
              "outlinewidth": 0,
              "ticks": ""
             }
            },
            "type": "scattermapbox"
           }
          ],
          "scatterpolar": [
           {
            "marker": {
             "colorbar": {
              "outlinewidth": 0,
              "ticks": ""
             }
            },
            "type": "scatterpolar"
           }
          ],
          "scatterpolargl": [
           {
            "marker": {
             "colorbar": {
              "outlinewidth": 0,
              "ticks": ""
             }
            },
            "type": "scatterpolargl"
           }
          ],
          "scatterternary": [
           {
            "marker": {
             "colorbar": {
              "outlinewidth": 0,
              "ticks": ""
             }
            },
            "type": "scatterternary"
           }
          ],
          "surface": [
           {
            "colorbar": {
             "outlinewidth": 0,
             "ticks": ""
            },
            "colorscale": [
             [
              0,
              "#0d0887"
             ],
             [
              0.1111111111111111,
              "#46039f"
             ],
             [
              0.2222222222222222,
              "#7201a8"
             ],
             [
              0.3333333333333333,
              "#9c179e"
             ],
             [
              0.4444444444444444,
              "#bd3786"
             ],
             [
              0.5555555555555556,
              "#d8576b"
             ],
             [
              0.6666666666666666,
              "#ed7953"
             ],
             [
              0.7777777777777778,
              "#fb9f3a"
             ],
             [
              0.8888888888888888,
              "#fdca26"
             ],
             [
              1,
              "#f0f921"
             ]
            ],
            "type": "surface"
           }
          ],
          "table": [
           {
            "cells": {
             "fill": {
              "color": "#EBF0F8"
             },
             "line": {
              "color": "white"
             }
            },
            "header": {
             "fill": {
              "color": "#C8D4E3"
             },
             "line": {
              "color": "white"
             }
            },
            "type": "table"
           }
          ]
         },
         "layout": {
          "annotationdefaults": {
           "arrowcolor": "#2a3f5f",
           "arrowhead": 0,
           "arrowwidth": 1
          },
          "autotypenumbers": "strict",
          "coloraxis": {
           "colorbar": {
            "outlinewidth": 0,
            "ticks": ""
           }
          },
          "colorscale": {
           "diverging": [
            [
             0,
             "#8e0152"
            ],
            [
             0.1,
             "#c51b7d"
            ],
            [
             0.2,
             "#de77ae"
            ],
            [
             0.3,
             "#f1b6da"
            ],
            [
             0.4,
             "#fde0ef"
            ],
            [
             0.5,
             "#f7f7f7"
            ],
            [
             0.6,
             "#e6f5d0"
            ],
            [
             0.7,
             "#b8e186"
            ],
            [
             0.8,
             "#7fbc41"
            ],
            [
             0.9,
             "#4d9221"
            ],
            [
             1,
             "#276419"
            ]
           ],
           "sequential": [
            [
             0,
             "#0d0887"
            ],
            [
             0.1111111111111111,
             "#46039f"
            ],
            [
             0.2222222222222222,
             "#7201a8"
            ],
            [
             0.3333333333333333,
             "#9c179e"
            ],
            [
             0.4444444444444444,
             "#bd3786"
            ],
            [
             0.5555555555555556,
             "#d8576b"
            ],
            [
             0.6666666666666666,
             "#ed7953"
            ],
            [
             0.7777777777777778,
             "#fb9f3a"
            ],
            [
             0.8888888888888888,
             "#fdca26"
            ],
            [
             1,
             "#f0f921"
            ]
           ],
           "sequentialminus": [
            [
             0,
             "#0d0887"
            ],
            [
             0.1111111111111111,
             "#46039f"
            ],
            [
             0.2222222222222222,
             "#7201a8"
            ],
            [
             0.3333333333333333,
             "#9c179e"
            ],
            [
             0.4444444444444444,
             "#bd3786"
            ],
            [
             0.5555555555555556,
             "#d8576b"
            ],
            [
             0.6666666666666666,
             "#ed7953"
            ],
            [
             0.7777777777777778,
             "#fb9f3a"
            ],
            [
             0.8888888888888888,
             "#fdca26"
            ],
            [
             1,
             "#f0f921"
            ]
           ]
          },
          "colorway": [
           "#636efa",
           "#EF553B",
           "#00cc96",
           "#ab63fa",
           "#FFA15A",
           "#19d3f3",
           "#FF6692",
           "#B6E880",
           "#FF97FF",
           "#FECB52"
          ],
          "font": {
           "color": "#2a3f5f"
          },
          "geo": {
           "bgcolor": "white",
           "lakecolor": "white",
           "landcolor": "#E5ECF6",
           "showlakes": true,
           "showland": true,
           "subunitcolor": "white"
          },
          "hoverlabel": {
           "align": "left"
          },
          "hovermode": "closest",
          "mapbox": {
           "style": "light"
          },
          "paper_bgcolor": "white",
          "plot_bgcolor": "#E5ECF6",
          "polar": {
           "angularaxis": {
            "gridcolor": "white",
            "linecolor": "white",
            "ticks": ""
           },
           "bgcolor": "#E5ECF6",
           "radialaxis": {
            "gridcolor": "white",
            "linecolor": "white",
            "ticks": ""
           }
          },
          "scene": {
           "xaxis": {
            "backgroundcolor": "#E5ECF6",
            "gridcolor": "white",
            "gridwidth": 2,
            "linecolor": "white",
            "showbackground": true,
            "ticks": "",
            "zerolinecolor": "white"
           },
           "yaxis": {
            "backgroundcolor": "#E5ECF6",
            "gridcolor": "white",
            "gridwidth": 2,
            "linecolor": "white",
            "showbackground": true,
            "ticks": "",
            "zerolinecolor": "white"
           },
           "zaxis": {
            "backgroundcolor": "#E5ECF6",
            "gridcolor": "white",
            "gridwidth": 2,
            "linecolor": "white",
            "showbackground": true,
            "ticks": "",
            "zerolinecolor": "white"
           }
          },
          "shapedefaults": {
           "line": {
            "color": "#2a3f5f"
           }
          },
          "ternary": {
           "aaxis": {
            "gridcolor": "white",
            "linecolor": "white",
            "ticks": ""
           },
           "baxis": {
            "gridcolor": "white",
            "linecolor": "white",
            "ticks": ""
           },
           "bgcolor": "#E5ECF6",
           "caxis": {
            "gridcolor": "white",
            "linecolor": "white",
            "ticks": ""
           }
          },
          "title": {
           "x": 0.05
          },
          "xaxis": {
           "automargin": true,
           "gridcolor": "white",
           "linecolor": "white",
           "ticks": "",
           "title": {
            "standoff": 15
           },
           "zerolinecolor": "white",
           "zerolinewidth": 2
          },
          "yaxis": {
           "automargin": true,
           "gridcolor": "white",
           "linecolor": "white",
           "ticks": "",
           "title": {
            "standoff": 15
           },
           "zerolinecolor": "white",
           "zerolinewidth": 2
          }
         }
        },
        "title": {
         "font": {
          "color": "#4D5663"
         },
         "text": "Intubación por edad"
        },
        "xaxis": {
         "gridcolor": "#E1E5ED",
         "showgrid": true,
         "tickfont": {
          "color": "#4D5663"
         },
         "title": {
          "font": {
           "color": "#4D5663"
          },
          "text": "ID"
         },
         "zerolinecolor": "#E1E5ED"
        },
        "yaxis": {
         "gridcolor": "#E1E5ED",
         "showgrid": true,
         "tickfont": {
          "color": "#4D5663"
         },
         "title": {
          "font": {
           "color": "#4D5663"
          },
          "text": ""
         },
         "zerolinecolor": "#E1E5ED"
        }
       }
      },
      "text/html": [
       "<div>                            <div id=\"77cc0b77-079b-4f13-af76-3a164bf4f3b3\" class=\"plotly-graph-div\" style=\"height:525px; width:100%;\"></div>            <script type=\"text/javascript\">                require([\"plotly\"], function(Plotly) {                    window.PLOTLYENV=window.PLOTLYENV || {};\n",
       "                    window.PLOTLYENV.BASE_URL='https://plot.ly';                                    if (document.getElementById(\"77cc0b77-079b-4f13-af76-3a164bf4f3b3\")) {                    Plotly.newPlot(                        \"77cc0b77-079b-4f13-af76-3a164bf4f3b3\",                        [{\"line\":{\"color\":\"rgba(255, 153, 51, 1.0)\",\"dash\":\"solid\",\"shape\":\"linear\",\"width\":1.3},\"marker\":{\"size\":12,\"symbol\":\"circle\"},\"mode\":\"markers\",\"name\":\"0\",\"text\":\"\",\"x\":[\"42d05f\",\"476050\",\"478485\",\"47b209\",\"47ca9c\",\"482504\",\"489f19\",\"48b328\",\"48ea41\",\"48f62d\",\"49004b\",\"490467\",\"4964f8\",\"496513\",\"499dc3\",\"49dee0\",\"4a3c59\",\"4a440c\",\"4a7972\",\"4af3a4\",\"4af5bf\",\"4b0686\",\"4b36b7\",\"4b5473\",\"4b879f\",\"4c1939\",\"4c6a94\",\"4c77ba\",\"4d1679\",\"4d25d1\",\"4dbbfc\",\"4dcc95\",\"4ddae1\",\"4e34d4\",\"4e4eb0\",\"4e66ed\",\"4ebdcb\",\"4ecd7b\",\"5.75E+17\",\"50116e\",\"50804c\",\"50af16\",\"50d83f\",\"512b23\",\"51452e\",\"5233d3\",\"52b236\",\"52c7d0\",\"52cc6d\",\"5304f6\",\"5354d0\",\"536203\",\"5378c5\",\"53ce3b\",\"544fb0\",\"54f75e\",\"55cad2\",\"562c1a\",\"5724d0\",\"57bc4e\",\"584ea5\",\"58b0f1\",\"58b798\",\"5931f2\",\"598c70\",\"5a90bc\",\"5b7b4b\",\"5bbea2\",\"5bc342\",\"5cbe5d\",\"5e3dca\",\"5e9703\",\"5f6114\",\"5f66b1\",\"603da9\",\"6094a9\",\"60a503\",\"60fda5\",\"623d72\",\"624976\",\"6256b8\",\"62b9e3\",\"63059e\",\"64446d\",\"644960\",\"646008\",\"65586f\",\"657254\",\"657fcc\",\"6646ae\",\"6656d1\",\"667480\",\"668d8e\",\"6714b7\",\"67642c\",\"677ccc\",\"678520\",\"67f9c4\",\"68421c\",\"686345\",\"68a60e\",\"68ceee\",\"6964f5\",\"6a17df\",\"6ab71e\",\"6afccb\",\"6b1195\",\"6caa00\",\"6ccef4\",\"6d16df\",\"6d2db2\",\"6d65bf\",\"6d8fc4\",\"6e3c16\",\"6edbba\",\"6f889c\",\"700082\",\"7004db\",\"705cf4\",\"710f0b\",\"713dd8\",\"71a033\",\"72a6cd\",\"733cf6\",\"73568b\",\"744f90\",\"74a831\",\"74fc47\",\"752b84\",\"758281\",\"7597f5\",\"759dfa\",\"75f615\",\"76c64b\",\"771203\",\"7762bf\",\"77b437\",\"77eca2\",\"77f5f6\",\"785a2a\",\"78775a\",\"78cebb\",\"78fa50\",\"79085d\",\"79668e\",\"79dd78\",\"7a3a50\",\"7a3f5f\",\"7a8ad3\",\"7ad76a\",\"7bcaf7\",\"7c06ae\",\"7d22c8\",\"7d38ee\",\"7d9985\",\"7dc0d6\",\"7e0b7e\",\"7e3988\",\"7e695c\",\"7e9589\",\"7ecdd4\",\"7eee26\",\"7f1a40\",\"7f6279\",\"7fa190\",\"801c21\",\"802431\",\"803527\",\"80b3d3\",\"80da06\",\"81ae46\",\"81f9a8\",\"82126f\",\"824732\",\"82cf0d\",\"83132a\",\"831c41\",\"831da4\",\"8350b6\",\"83866e\",\"83fa50\",\"8469ba\",\"84b110\",\"85319b\",\"85c208\",\"85c51e\",\"85e3f5\",\"860537\",\"8605d5\",\"8662d5\",\"88ad14\",\"897a0a\",\"89a607\",\"8a86d0\",\"8a95ca\",\"8b4a3d\",\"8b7e63\",\"8b86ed\",\"8bb774\",\"8c2d68\",\"8c908e\",\"8c936e\",\"8d1208\",\"8d194b\",\"8d209f\",\"8d8952\",\"8dc885\",\"8dd3b4\",\"8e8cd2\",\"8f82f8\",\"9.32E+04\",\"908308\",\"914b30\",\"9196c8\",\"91d6d9\",\"9238fe\",\"9257bb\",\"92c322\",\"92fba2\",\"933f37\",\"936570\",\"9388fd\",\"938969\",\"93cbc2\",\"94a1f9\",\"952690\",\"954f5d\",\"954fbd\",\"959972\",\"959f40\",\"960cc2\",\"966a97\",\"9688ff\",\"9735d5\",\"9765b0\",\"97e531\",\"987d6a\",\"98e323\",\"98fe32\",\"993aa1\",\"994d81\",\"997776\",\"9adff2\",\"9b1552\",\"9b1aee\",\"9b6929\",\"9bb754\",\"9bef8c\",\"9c16fa\",\"9c3ece\",\"9c4e9d\",\"9c8c29\",\"9c9551\",\"9cd8cf\",\"9ce35c\",\"9d2ec4\",\"9d7ba8\",\"9d7ce9\",\"9dc42c\",\"9dd7c4\",\"9ddc12\",\"9de896\",\"9e3431\",\"9e6784\",\"9e6b27\",\"9e84b4\",\"9e8846\",\"9fc5b9\",\"9fdcf0\",\"a02d4f\",\"a0533b\",\"a1f84b\",\"a31b16\",\"a3a964\",\"a3c42e\",\"a455d0\",\"a48f96\",\"a496c8\",\"a49b1e\",\"a677fd\",\"a698dc\",\"a6dcc9\",\"a6e983\",\"a70339\",\"a732c5\",\"a740bb\",\"a79d50\",\"a8078e\",\"a8687a\",\"a9636a\",\"a98cea\",\"aa41bd\",\"aa749f\",\"aa79f8\",\"aa9732\",\"aad722\",\"abbbd7\",\"abea67\",\"ac76cc\",\"acb7b9\",\"ace37d\",\"ad4dc2\",\"ad56fc\",\"ad975f\",\"adf174\",\"ae06f2\",\"ae5aeb\",\"ae66a5\",\"aeb6ca\",\"aeca14\",\"af8cfb\",\"af9b89\",\"afa864\",\"afed73\",\"b040e5\",\"b10bb7\",\"b28e4b\",\"b2a6b1\",\"b2eddd\",\"b32262\",\"b342ae\",\"b3b8af\",\"b4f11a\",\"b5c423\",\"b5caea\",\"b60531\",\"b672a5\",\"b73537\",\"b772ed\",\"b79550\",\"b84d0e\",\"b884dc\",\"b8850e\",\"b8b7b6\",\"b8d01f\",\"b94278\",\"b95219\",\"b9d05f\",\"b9e7c8\",\"b9f1cf\",\"baa145\",\"baf66e\",\"baf940\",\"bafa84\",\"bb0b66\",\"bcb234\",\"bcc72d\",\"bd9a66\",\"bdb766\",\"bdd2b2\",\"beb172\",\"becf11\",\"bf2b38\",\"bf833e\",\"c05016\",\"c0f10d\",\"c0f757\",\"c10b04\",\"c2376e\",\"c25fad\",\"c2779a\",\"c2943b\",\"c2fac8\",\"c3789e\",\"c3b245\",\"c3c779\",\"c3e1d2\",\"c3f582\",\"c48fee\",\"c50955\",\"c52c6c\",\"c584a5\",\"c59539\",\"c631ed\",\"c6a42e\",\"c6eadd\",\"c7630b\",\"c790df\",\"c79f0f\",\"c7c1ee\",\"c84fde\",\"c86ffe\",\"c8a282\",\"c9cfd5\",\"c9ee5a\",\"c9f723\",\"ca379d\",\"cb5736\",\"cb5b73\",\"cbb7ab\",\"cbc3f5\",\"cc26c0\",\"cc7484\",\"cc7645\",\"ccb46b\",\"cd0c71\",\"cd339e\",\"cd666a\",\"cdcba6\",\"ce641f\",\"ce9212\",\"cee1dc\",\"cf690d\",\"cf791f\",\"cf92ec\",\"cfe539\",\"d04f8a\",\"d0d96b\",\"d0e9a3\",\"d0ecb7\",\"d10412\",\"d1159e\",\"d115a2\",\"d17e90\",\"d1eb2b\",\"d1f559\",\"d2141e\",\"d2bd51\",\"d326f2\",\"d333f6\",\"d341c2\",\"d39992\",\"d3de68\",\"d49e7c\",\"d5550c\",\"d5d2bc\",\"d5d89c\",\"d5dee4\",\"d5ffc2\",\"d665cb\",\"d6707d\",\"d6e0e3\",\"d6ff8c\",\"d891fa\",\"d8bcab\",\"d8c95f\",\"d9f50c\",\"d9f8f5\",\"da2f1a\",\"da7c5e\",\"daaf01\",\"db729d\",\"dbb88a\",\"dbc297\",\"dc2192\",\"dca456\",\"dcacc7\",\"dcf5fd\",\"dd103b\",\"de1912\",\"decebb\",\"deef68\",\"def389\",\"df3498\",\"df3f07\",\"df541b\",\"df7c9a\",\"dfd3c2\",\"dfe6d5\",\"e01cfc\",\"e0bd43\",\"e0f069\",\"e2222b\",\"e24a75\",\"e2abe5\",\"e2f55d\",\"e3211f\",\"e32211\",\"e340dd\",\"e3912c\",\"e3db8e\",\"e43519\",\"e48be3\",\"e4a1a3\",\"e4a5a1\",\"e4f523\",\"e54c1e\",\"e554be\",\"e57ae8\",\"e5afb3\",\"e6cd43\",\"e76900\",\"e7bf38\",\"e7cede\",\"e7d65f\",\"e7ec25\",\"e849d0\",\"e85afd\",\"e9f78b\",\"ea69c3\",\"ea78ed\",\"ea997d\",\"eb998f\",\"ebe974\",\"ebf1a3\",\"ec0d33\",\"ec78d6\",\"ed07af\",\"ed3479\",\"ee1799\"],\"y\":[33.0,26.0,33.0,43.0,24.0,22.0,21.0,52.0,22.0,29.0,14.0,37.0,57.0,55.0,49.0,36.0,49.0,34.0,1.0,56.0,50.0,48.0,25.0,47.0,17.0,53.0,42.0,41.0,20.0,46.0,35.0,\"\",24.0,44.0,39.0,31.0,29.0,28.0,41.0,31.0,57.0,54.0,53.0,47.0,48.0,40.0,46.0,54.0,48.0,23.0,18.0,14.0,21.0,26.0,49.0,26.0,22.0,26.0,44.0,26.0,51.0,61.0,45.0,22.0,52.0,10.0,49.0,11.0,47.0,44.0,42.0,29.0,25.0,43.0,36.0,0.0,33.0,46.0,37.0,49.0,48.0,41.0,9.0,18.0,64.0,61.0,43.0,59.0,27.0,49.0,72.0,46.0,23.0,32.0,81.0,29.0,29.0,44.0,44.0,33.0,34.0,15.0,21.0,30.0,46.0,40.0,40.0,16.0,68.0,24.0,47.0,3.0,29.0,38.0,26.0,58.0,76.0,47.0,5.0,54.0,48.0,27.0,31.0,44.0,31.0,21.0,59.0,43.0,19.0,39.0,36.0,31.0,47.0,62.0,24.0,32.0,41.0,53.0,43.0,57.0,35.0,38.0,51.0,54.0,24.0,51.0,28.0,66.0,65.0,44.0,39.0,33.0,12.0,3.0,19.0,62.0,26.0,23.0,69.0,34.0,57.0,29.0,66.0,57.0,63.0,37.0,22.0,54.0,39.0,43.0,32.0,24.0,29.0,37.0,24.0,36.0,52.0,25.0,51.0,37.0,\"\",32.0,60.0,35.0,36.0,37.0,49.0,48.0,51.0,71.0,31.0,33.0,35.0,82.0,34.0,63.0,46.0,18.0,49.0,9.0,25.0,47.0,25.0,22.0,6.0,36.0,32.0,60.0,46.0,36.0,38.0,30.0,28.0,42.0,28.0,37.0,24.0,13.0,48.0,56.0,41.0,28.0,26.0,33.0,38.0,8.0,30.0,34.0,54.0,34.0,24.0,44.0,65.0,34.0,38.0,37.0,12.0,52.0,55.0,31.0,37.0,29.0,36.0,21.0,44.0,29.0,37.0,25.0,17.0,28.0,15.0,17.0,57.0,46.0,26.0,29.0,39.0,30.0,59.0,51.0,27.0,29.0,62.0,43.0,0.0,3.0,26.0,\"\",33.0,30.0,\"\",21.0,45.0,48.0,66.0,31.0,40.0,32.0,44.0,70.0,37.0,25.0,22.0,56.0,46.0,59.0,48.0,22.0,41.0,26.0,27.0,16.0,35.0,25.0,46.0,60.0,33.0,40.0,67.0,49.0,36.0,25.0,32.0,32.0,56.0,49.0,\"\",49.0,31.0,4.0,46.0,25.0,34.0,59.0,12.0,62.0,43.0,48.0,46.0,15.0,60.0,66.0,\"\",23.0,25.0,28.0,22.0,55.0,49.0,3.0,35.0,30.0,33.0,38.0,45.0,47.0,51.0,41.0,20.0,21.0,50.0,30.0,40.0,37.0,79.0,66.0,\"\",25.0,27.0,18.0,52.0,57.0,25.0,34.0,55.0,32.0,21.0,49.0,50.0,47.0,45.0,41.0,26.0,33.0,49.0,25.0,34.0,27.0,22.0,52.0,41.0,43.0,12.0,53.0,36.0,34.0,23.0,60.0,35.0,19.0,35.0,40.0,40.0,28.0,48.0,55.0,37.0,22.0,26.0,40.0,40.0,56.0,40.0,53.0,37.0,21.0,\"\",23.0,46.0,78.0,27.0,20.0,20.0,28.0,35.0,47.0,32.0,63.0,43.0,57.0,49.0,11.0,49.0,26.0,53.0,35.0,19.0,15.0,75.0,37.0,24.0,4.0,38.0,34.0,21.0,55.0,19.0,46.0,54.0,59.0,32.0,54.0,70.0,33.0,45.0,5.0,54.0,53.0,22.0,19.0,28.0,38.0,55.0,35.0,33.0,54.0,49.0,38.0,59.0,27.0,43.0,53.0,56.0,36.0,49.0,55.0,27.0,28.0,24.0,29.0,32.0,4.0,62.0,52.0,31.0,25.0,4.0,26.0,46.0,1.0,27.0,20.0,26.0,40.0,40.0,25.0,24.0,9.0,45.0,22.0,31.0,51.0,33.0,50.0,50.0,57.0,\"\",27.0,16.0,32.0,54.0,28.0,51.0,35.0,23.0,55.0,22.0,37.0,55.0,49.0],\"type\":\"scatter\"},{\"line\":{\"color\":\"rgba(55, 128, 191, 1.0)\",\"dash\":\"solid\",\"shape\":\"linear\",\"width\":1.3},\"marker\":{\"size\":12,\"symbol\":\"circle\"},\"mode\":\"markers\",\"name\":\"1\",\"text\":\"\",\"x\":[\"42d05f\",\"476050\",\"478485\",\"47b209\",\"47ca9c\",\"482504\",\"489f19\",\"48b328\",\"48ea41\",\"48f62d\",\"49004b\",\"490467\",\"4964f8\",\"496513\",\"499dc3\",\"49dee0\",\"4a3c59\",\"4a440c\",\"4a7972\",\"4af3a4\",\"4af5bf\",\"4b0686\",\"4b36b7\",\"4b5473\",\"4b879f\",\"4c1939\",\"4c6a94\",\"4c77ba\",\"4d1679\",\"4d25d1\",\"4dbbfc\",\"4dcc95\",\"4ddae1\",\"4e34d4\",\"4e4eb0\",\"4e66ed\",\"4ebdcb\",\"4ecd7b\",\"5.75E+17\",\"50116e\",\"50804c\",\"50af16\",\"50d83f\",\"512b23\",\"51452e\",\"5233d3\",\"52b236\",\"52c7d0\",\"52cc6d\",\"5304f6\",\"5354d0\",\"536203\",\"5378c5\",\"53ce3b\",\"544fb0\",\"54f75e\",\"55cad2\",\"562c1a\",\"5724d0\",\"57bc4e\",\"584ea5\",\"58b0f1\",\"58b798\",\"5931f2\",\"598c70\",\"5a90bc\",\"5b7b4b\",\"5bbea2\",\"5bc342\",\"5cbe5d\",\"5e3dca\",\"5e9703\",\"5f6114\",\"5f66b1\",\"603da9\",\"6094a9\",\"60a503\",\"60fda5\",\"623d72\",\"624976\",\"6256b8\",\"62b9e3\",\"63059e\",\"64446d\",\"644960\",\"646008\",\"65586f\",\"657254\",\"657fcc\",\"6646ae\",\"6656d1\",\"667480\",\"668d8e\",\"6714b7\",\"67642c\",\"677ccc\",\"678520\",\"67f9c4\",\"68421c\",\"686345\",\"68a60e\",\"68ceee\",\"6964f5\",\"6a17df\",\"6ab71e\",\"6afccb\",\"6b1195\",\"6caa00\",\"6ccef4\",\"6d16df\",\"6d2db2\",\"6d65bf\",\"6d8fc4\",\"6e3c16\",\"6edbba\",\"6f889c\",\"700082\",\"7004db\",\"705cf4\",\"710f0b\",\"713dd8\",\"71a033\",\"72a6cd\",\"733cf6\",\"73568b\",\"744f90\",\"74a831\",\"74fc47\",\"752b84\",\"758281\",\"7597f5\",\"759dfa\",\"75f615\",\"76c64b\",\"771203\",\"7762bf\",\"77b437\",\"77eca2\",\"77f5f6\",\"785a2a\",\"78775a\",\"78cebb\",\"78fa50\",\"79085d\",\"79668e\",\"79dd78\",\"7a3a50\",\"7a3f5f\",\"7a8ad3\",\"7ad76a\",\"7bcaf7\",\"7c06ae\",\"7d22c8\",\"7d38ee\",\"7d9985\",\"7dc0d6\",\"7e0b7e\",\"7e3988\",\"7e695c\",\"7e9589\",\"7ecdd4\",\"7eee26\",\"7f1a40\",\"7f6279\",\"7fa190\",\"801c21\",\"802431\",\"803527\",\"80b3d3\",\"80da06\",\"81ae46\",\"81f9a8\",\"82126f\",\"824732\",\"82cf0d\",\"83132a\",\"831c41\",\"831da4\",\"8350b6\",\"83866e\",\"83fa50\",\"8469ba\",\"84b110\",\"85319b\",\"85c208\",\"85c51e\",\"85e3f5\",\"860537\",\"8605d5\",\"8662d5\",\"88ad14\",\"897a0a\",\"89a607\",\"8a86d0\",\"8a95ca\",\"8b4a3d\",\"8b7e63\",\"8b86ed\",\"8bb774\",\"8c2d68\",\"8c908e\",\"8c936e\",\"8d1208\",\"8d194b\",\"8d209f\",\"8d8952\",\"8dc885\",\"8dd3b4\",\"8e8cd2\",\"8f82f8\",\"9.32E+04\",\"908308\",\"914b30\",\"9196c8\",\"91d6d9\",\"9238fe\",\"9257bb\",\"92c322\",\"92fba2\",\"933f37\",\"936570\",\"9388fd\",\"938969\",\"93cbc2\",\"94a1f9\",\"952690\",\"954f5d\",\"954fbd\",\"959972\",\"959f40\",\"960cc2\",\"966a97\",\"9688ff\",\"9735d5\",\"9765b0\",\"97e531\",\"987d6a\",\"98e323\",\"98fe32\",\"993aa1\",\"994d81\",\"997776\",\"9adff2\",\"9b1552\",\"9b1aee\",\"9b6929\",\"9bb754\",\"9bef8c\",\"9c16fa\",\"9c3ece\",\"9c4e9d\",\"9c8c29\",\"9c9551\",\"9cd8cf\",\"9ce35c\",\"9d2ec4\",\"9d7ba8\",\"9d7ce9\",\"9dc42c\",\"9dd7c4\",\"9ddc12\",\"9de896\",\"9e3431\",\"9e6784\",\"9e6b27\",\"9e84b4\",\"9e8846\",\"9fc5b9\",\"9fdcf0\",\"a02d4f\",\"a0533b\",\"a1f84b\",\"a31b16\",\"a3a964\",\"a3c42e\",\"a455d0\",\"a48f96\",\"a496c8\",\"a49b1e\",\"a677fd\",\"a698dc\",\"a6dcc9\",\"a6e983\",\"a70339\",\"a732c5\",\"a740bb\",\"a79d50\",\"a8078e\",\"a8687a\",\"a9636a\",\"a98cea\",\"aa41bd\",\"aa749f\",\"aa79f8\",\"aa9732\",\"aad722\",\"abbbd7\",\"abea67\",\"ac76cc\",\"acb7b9\",\"ace37d\",\"ad4dc2\",\"ad56fc\",\"ad975f\",\"adf174\",\"ae06f2\",\"ae5aeb\",\"ae66a5\",\"aeb6ca\",\"aeca14\",\"af8cfb\",\"af9b89\",\"afa864\",\"afed73\",\"b040e5\",\"b10bb7\",\"b28e4b\",\"b2a6b1\",\"b2eddd\",\"b32262\",\"b342ae\",\"b3b8af\",\"b4f11a\",\"b5c423\",\"b5caea\",\"b60531\",\"b672a5\",\"b73537\",\"b772ed\",\"b79550\",\"b84d0e\",\"b884dc\",\"b8850e\",\"b8b7b6\",\"b8d01f\",\"b94278\",\"b95219\",\"b9d05f\",\"b9e7c8\",\"b9f1cf\",\"baa145\",\"baf66e\",\"baf940\",\"bafa84\",\"bb0b66\",\"bcb234\",\"bcc72d\",\"bd9a66\",\"bdb766\",\"bdd2b2\",\"beb172\",\"becf11\",\"bf2b38\",\"bf833e\",\"c05016\",\"c0f10d\",\"c0f757\",\"c10b04\",\"c2376e\",\"c25fad\",\"c2779a\",\"c2943b\",\"c2fac8\",\"c3789e\",\"c3b245\",\"c3c779\",\"c3e1d2\",\"c3f582\",\"c48fee\",\"c50955\",\"c52c6c\",\"c584a5\",\"c59539\",\"c631ed\",\"c6a42e\",\"c6eadd\",\"c7630b\",\"c790df\",\"c79f0f\",\"c7c1ee\",\"c84fde\",\"c86ffe\",\"c8a282\",\"c9cfd5\",\"c9ee5a\",\"c9f723\",\"ca379d\",\"cb5736\",\"cb5b73\",\"cbb7ab\",\"cbc3f5\",\"cc26c0\",\"cc7484\",\"cc7645\",\"ccb46b\",\"cd0c71\",\"cd339e\",\"cd666a\",\"cdcba6\",\"ce641f\",\"ce9212\",\"cee1dc\",\"cf690d\",\"cf791f\",\"cf92ec\",\"cfe539\",\"d04f8a\",\"d0d96b\",\"d0e9a3\",\"d0ecb7\",\"d10412\",\"d1159e\",\"d115a2\",\"d17e90\",\"d1eb2b\",\"d1f559\",\"d2141e\",\"d2bd51\",\"d326f2\",\"d333f6\",\"d341c2\",\"d39992\",\"d3de68\",\"d49e7c\",\"d5550c\",\"d5d2bc\",\"d5d89c\",\"d5dee4\",\"d5ffc2\",\"d665cb\",\"d6707d\",\"d6e0e3\",\"d6ff8c\",\"d891fa\",\"d8bcab\",\"d8c95f\",\"d9f50c\",\"d9f8f5\",\"da2f1a\",\"da7c5e\",\"daaf01\",\"db729d\",\"dbb88a\",\"dbc297\",\"dc2192\",\"dca456\",\"dcacc7\",\"dcf5fd\",\"dd103b\",\"de1912\",\"decebb\",\"deef68\",\"def389\",\"df3498\",\"df3f07\",\"df541b\",\"df7c9a\",\"dfd3c2\",\"dfe6d5\",\"e01cfc\",\"e0bd43\",\"e0f069\",\"e2222b\",\"e24a75\",\"e2abe5\",\"e2f55d\",\"e3211f\",\"e32211\",\"e340dd\",\"e3912c\",\"e3db8e\",\"e43519\",\"e48be3\",\"e4a1a3\",\"e4a5a1\",\"e4f523\",\"e54c1e\",\"e554be\",\"e57ae8\",\"e5afb3\",\"e6cd43\",\"e76900\",\"e7bf38\",\"e7cede\",\"e7d65f\",\"e7ec25\",\"e849d0\",\"e85afd\",\"e9f78b\",\"ea69c3\",\"ea78ed\",\"ea997d\",\"eb998f\",\"ebe974\",\"ebf1a3\",\"ec0d33\",\"ec78d6\",\"ed07af\",\"ed3479\",\"ee1799\"],\"y\":[\"\",\"\",\"\",\"\",\"\",\"\",\"\",\"\",\"\",\"\",\"\",\"\",\"\",\"\",\"\",\"\",\"\",\"\",\"\",\"\",\"\",\"\",\"\",\"\",\"\",\"\",\"\",\"\",\"\",\"\",\"\",\"\",\"\",\"\",\"\",\"\",\"\",\"\",\"\",\"\",\"\",\"\",\"\",\"\",\"\",\"\",\"\",\"\",\"\",\"\",\"\",\"\",\"\",\"\",\"\",\"\",\"\",\"\",\"\",\"\",\"\",\"\",\"\",\"\",\"\",\"\",\"\",\"\",\"\",\"\",\"\",\"\",\"\",\"\",\"\",\"\",\"\",\"\",\"\",\"\",\"\",\"\",\"\",\"\",\"\",\"\",\"\",\"\",\"\",\"\",\"\",\"\",\"\",\"\",\"\",\"\",\"\",\"\",\"\",\"\",\"\",\"\",\"\",\"\",\"\",\"\",\"\",\"\",\"\",\"\",\"\",\"\",\"\",\"\",\"\",\"\",\"\",\"\",\"\",\"\",\"\",\"\",\"\",\"\",\"\",\"\",\"\",\"\",\"\",\"\",\"\",\"\",\"\",\"\",\"\",\"\",\"\",\"\",\"\",\"\",\"\",\"\",\"\",\"\",\"\",\"\",\"\",\"\",\"\",\"\",\"\",\"\",\"\",\"\",\"\",\"\",\"\",\"\",\"\",\"\",\"\",\"\",\"\",\"\",\"\",\"\",\"\",\"\",\"\",\"\",\"\",\"\",\"\",\"\",\"\",\"\",\"\",\"\",\"\",\"\",\"\",\"\",\"\",\"\",\"\",\"\",\"\",\"\",\"\",\"\",\"\",\"\",\"\",\"\",\"\",\"\",\"\",\"\",\"\",\"\",\"\",\"\",\"\",\"\",\"\",\"\",\"\",\"\",\"\",\"\",\"\",\"\",\"\",\"\",\"\",\"\",\"\",\"\",\"\",\"\",\"\",\"\",\"\",\"\",\"\",\"\",\"\",\"\",\"\",\"\",\"\",\"\",\"\",\"\",\"\",\"\",\"\",\"\",\"\",\"\",\"\",\"\",\"\",\"\",\"\",\"\",\"\",\"\",\"\",\"\",\"\",\"\",\"\",\"\",\"\",\"\",\"\",\"\",\"\",\"\",\"\",\"\",\"\",\"\",\"\",\"\",\"\",\"\",\"\",\"\",\"\",\"\",\"\",\"\",\"\",\"\",\"\",\"\",\"\",\"\",\"\",\"\",\"\",\"\",\"\",\"\",\"\",\"\",\"\",\"\",\"\",\"\",\"\",\"\",\"\",\"\",\"\",\"\",\"\",\"\",\"\",\"\",\"\",\"\",\"\",\"\",\"\",\"\",\"\",\"\",\"\",\"\",\"\",\"\",\"\",\"\",\"\",\"\",\"\",\"\",\"\",\"\",80.0,\"\",\"\",\"\",\"\",\"\",\"\",\"\",\"\",\"\",\"\",\"\",\"\",\"\",\"\",\"\",\"\",\"\",\"\",\"\",\"\",\"\",\"\",\"\",\"\",\"\",\"\",\"\",\"\",\"\",\"\",\"\",\"\",\"\",\"\",\"\",\"\",\"\",\"\",\"\",\"\",\"\",\"\",\"\",\"\",\"\",\"\",\"\",\"\",\"\",\"\",\"\",\"\",\"\",\"\",\"\",\"\",\"\",\"\",\"\",\"\",\"\",\"\",\"\",\"\",\"\",\"\",\"\",\"\",\"\",\"\",\"\",\"\",\"\",\"\",\"\",\"\",\"\",\"\",\"\",\"\",\"\",\"\",\"\",\"\",\"\",\"\",\"\",\"\",\"\",\"\",\"\",\"\",\"\",\"\",\"\",\"\",\"\",\"\",\"\",\"\",\"\",\"\",\"\",\"\",\"\",\"\",\"\",\"\",\"\",\"\",\"\",\"\",\"\",\"\",\"\",\"\",\"\",\"\",\"\",\"\",\"\",\"\",\"\",\"\",\"\",\"\",\"\",\"\",\"\",\"\",\"\",\"\",\"\",\"\",\"\",\"\",\"\",\"\",\"\",\"\",\"\",\"\",\"\",\"\",\"\",\"\",\"\",\"\",\"\",\"\",\"\",\"\",\"\",\"\",\"\",\"\",\"\",\"\",\"\",\"\",\"\",\"\",\"\",\"\",\"\",\"\",\"\",\"\",\"\",\"\",\"\",\"\",\"\",\"\",\"\",\"\",\"\"],\"type\":\"scatter\"},{\"line\":{\"color\":\"rgba(50, 171, 96, 1.0)\",\"dash\":\"solid\",\"shape\":\"linear\",\"width\":1.3},\"marker\":{\"size\":12,\"symbol\":\"circle\"},\"mode\":\"markers\",\"name\":\"2\",\"text\":\"\",\"x\":[\"42d05f\",\"476050\",\"478485\",\"47b209\",\"47ca9c\",\"482504\",\"489f19\",\"48b328\",\"48ea41\",\"48f62d\",\"49004b\",\"490467\",\"4964f8\",\"496513\",\"499dc3\",\"49dee0\",\"4a3c59\",\"4a440c\",\"4a7972\",\"4af3a4\",\"4af5bf\",\"4b0686\",\"4b36b7\",\"4b5473\",\"4b879f\",\"4c1939\",\"4c6a94\",\"4c77ba\",\"4d1679\",\"4d25d1\",\"4dbbfc\",\"4dcc95\",\"4ddae1\",\"4e34d4\",\"4e4eb0\",\"4e66ed\",\"4ebdcb\",\"4ecd7b\",\"5.75E+17\",\"50116e\",\"50804c\",\"50af16\",\"50d83f\",\"512b23\",\"51452e\",\"5233d3\",\"52b236\",\"52c7d0\",\"52cc6d\",\"5304f6\",\"5354d0\",\"536203\",\"5378c5\",\"53ce3b\",\"544fb0\",\"54f75e\",\"55cad2\",\"562c1a\",\"5724d0\",\"57bc4e\",\"584ea5\",\"58b0f1\",\"58b798\",\"5931f2\",\"598c70\",\"5a90bc\",\"5b7b4b\",\"5bbea2\",\"5bc342\",\"5cbe5d\",\"5e3dca\",\"5e9703\",\"5f6114\",\"5f66b1\",\"603da9\",\"6094a9\",\"60a503\",\"60fda5\",\"623d72\",\"624976\",\"6256b8\",\"62b9e3\",\"63059e\",\"64446d\",\"644960\",\"646008\",\"65586f\",\"657254\",\"657fcc\",\"6646ae\",\"6656d1\",\"667480\",\"668d8e\",\"6714b7\",\"67642c\",\"677ccc\",\"678520\",\"67f9c4\",\"68421c\",\"686345\",\"68a60e\",\"68ceee\",\"6964f5\",\"6a17df\",\"6ab71e\",\"6afccb\",\"6b1195\",\"6caa00\",\"6ccef4\",\"6d16df\",\"6d2db2\",\"6d65bf\",\"6d8fc4\",\"6e3c16\",\"6edbba\",\"6f889c\",\"700082\",\"7004db\",\"705cf4\",\"710f0b\",\"713dd8\",\"71a033\",\"72a6cd\",\"733cf6\",\"73568b\",\"744f90\",\"74a831\",\"74fc47\",\"752b84\",\"758281\",\"7597f5\",\"759dfa\",\"75f615\",\"76c64b\",\"771203\",\"7762bf\",\"77b437\",\"77eca2\",\"77f5f6\",\"785a2a\",\"78775a\",\"78cebb\",\"78fa50\",\"79085d\",\"79668e\",\"79dd78\",\"7a3a50\",\"7a3f5f\",\"7a8ad3\",\"7ad76a\",\"7bcaf7\",\"7c06ae\",\"7d22c8\",\"7d38ee\",\"7d9985\",\"7dc0d6\",\"7e0b7e\",\"7e3988\",\"7e695c\",\"7e9589\",\"7ecdd4\",\"7eee26\",\"7f1a40\",\"7f6279\",\"7fa190\",\"801c21\",\"802431\",\"803527\",\"80b3d3\",\"80da06\",\"81ae46\",\"81f9a8\",\"82126f\",\"824732\",\"82cf0d\",\"83132a\",\"831c41\",\"831da4\",\"8350b6\",\"83866e\",\"83fa50\",\"8469ba\",\"84b110\",\"85319b\",\"85c208\",\"85c51e\",\"85e3f5\",\"860537\",\"8605d5\",\"8662d5\",\"88ad14\",\"897a0a\",\"89a607\",\"8a86d0\",\"8a95ca\",\"8b4a3d\",\"8b7e63\",\"8b86ed\",\"8bb774\",\"8c2d68\",\"8c908e\",\"8c936e\",\"8d1208\",\"8d194b\",\"8d209f\",\"8d8952\",\"8dc885\",\"8dd3b4\",\"8e8cd2\",\"8f82f8\",\"9.32E+04\",\"908308\",\"914b30\",\"9196c8\",\"91d6d9\",\"9238fe\",\"9257bb\",\"92c322\",\"92fba2\",\"933f37\",\"936570\",\"9388fd\",\"938969\",\"93cbc2\",\"94a1f9\",\"952690\",\"954f5d\",\"954fbd\",\"959972\",\"959f40\",\"960cc2\",\"966a97\",\"9688ff\",\"9735d5\",\"9765b0\",\"97e531\",\"987d6a\",\"98e323\",\"98fe32\",\"993aa1\",\"994d81\",\"997776\",\"9adff2\",\"9b1552\",\"9b1aee\",\"9b6929\",\"9bb754\",\"9bef8c\",\"9c16fa\",\"9c3ece\",\"9c4e9d\",\"9c8c29\",\"9c9551\",\"9cd8cf\",\"9ce35c\",\"9d2ec4\",\"9d7ba8\",\"9d7ce9\",\"9dc42c\",\"9dd7c4\",\"9ddc12\",\"9de896\",\"9e3431\",\"9e6784\",\"9e6b27\",\"9e84b4\",\"9e8846\",\"9fc5b9\",\"9fdcf0\",\"a02d4f\",\"a0533b\",\"a1f84b\",\"a31b16\",\"a3a964\",\"a3c42e\",\"a455d0\",\"a48f96\",\"a496c8\",\"a49b1e\",\"a677fd\",\"a698dc\",\"a6dcc9\",\"a6e983\",\"a70339\",\"a732c5\",\"a740bb\",\"a79d50\",\"a8078e\",\"a8687a\",\"a9636a\",\"a98cea\",\"aa41bd\",\"aa749f\",\"aa79f8\",\"aa9732\",\"aad722\",\"abbbd7\",\"abea67\",\"ac76cc\",\"acb7b9\",\"ace37d\",\"ad4dc2\",\"ad56fc\",\"ad975f\",\"adf174\",\"ae06f2\",\"ae5aeb\",\"ae66a5\",\"aeb6ca\",\"aeca14\",\"af8cfb\",\"af9b89\",\"afa864\",\"afed73\",\"b040e5\",\"b10bb7\",\"b28e4b\",\"b2a6b1\",\"b2eddd\",\"b32262\",\"b342ae\",\"b3b8af\",\"b4f11a\",\"b5c423\",\"b5caea\",\"b60531\",\"b672a5\",\"b73537\",\"b772ed\",\"b79550\",\"b84d0e\",\"b884dc\",\"b8850e\",\"b8b7b6\",\"b8d01f\",\"b94278\",\"b95219\",\"b9d05f\",\"b9e7c8\",\"b9f1cf\",\"baa145\",\"baf66e\",\"baf940\",\"bafa84\",\"bb0b66\",\"bcb234\",\"bcc72d\",\"bd9a66\",\"bdb766\",\"bdd2b2\",\"beb172\",\"becf11\",\"bf2b38\",\"bf833e\",\"c05016\",\"c0f10d\",\"c0f757\",\"c10b04\",\"c2376e\",\"c25fad\",\"c2779a\",\"c2943b\",\"c2fac8\",\"c3789e\",\"c3b245\",\"c3c779\",\"c3e1d2\",\"c3f582\",\"c48fee\",\"c50955\",\"c52c6c\",\"c584a5\",\"c59539\",\"c631ed\",\"c6a42e\",\"c6eadd\",\"c7630b\",\"c790df\",\"c79f0f\",\"c7c1ee\",\"c84fde\",\"c86ffe\",\"c8a282\",\"c9cfd5\",\"c9ee5a\",\"c9f723\",\"ca379d\",\"cb5736\",\"cb5b73\",\"cbb7ab\",\"cbc3f5\",\"cc26c0\",\"cc7484\",\"cc7645\",\"ccb46b\",\"cd0c71\",\"cd339e\",\"cd666a\",\"cdcba6\",\"ce641f\",\"ce9212\",\"cee1dc\",\"cf690d\",\"cf791f\",\"cf92ec\",\"cfe539\",\"d04f8a\",\"d0d96b\",\"d0e9a3\",\"d0ecb7\",\"d10412\",\"d1159e\",\"d115a2\",\"d17e90\",\"d1eb2b\",\"d1f559\",\"d2141e\",\"d2bd51\",\"d326f2\",\"d333f6\",\"d341c2\",\"d39992\",\"d3de68\",\"d49e7c\",\"d5550c\",\"d5d2bc\",\"d5d89c\",\"d5dee4\",\"d5ffc2\",\"d665cb\",\"d6707d\",\"d6e0e3\",\"d6ff8c\",\"d891fa\",\"d8bcab\",\"d8c95f\",\"d9f50c\",\"d9f8f5\",\"da2f1a\",\"da7c5e\",\"daaf01\",\"db729d\",\"dbb88a\",\"dbc297\",\"dc2192\",\"dca456\",\"dcacc7\",\"dcf5fd\",\"dd103b\",\"de1912\",\"decebb\",\"deef68\",\"def389\",\"df3498\",\"df3f07\",\"df541b\",\"df7c9a\",\"dfd3c2\",\"dfe6d5\",\"e01cfc\",\"e0bd43\",\"e0f069\",\"e2222b\",\"e24a75\",\"e2abe5\",\"e2f55d\",\"e3211f\",\"e32211\",\"e340dd\",\"e3912c\",\"e3db8e\",\"e43519\",\"e48be3\",\"e4a1a3\",\"e4a5a1\",\"e4f523\",\"e54c1e\",\"e554be\",\"e57ae8\",\"e5afb3\",\"e6cd43\",\"e76900\",\"e7bf38\",\"e7cede\",\"e7d65f\",\"e7ec25\",\"e849d0\",\"e85afd\",\"e9f78b\",\"ea69c3\",\"ea78ed\",\"ea997d\",\"eb998f\",\"ebe974\",\"ebf1a3\",\"ec0d33\",\"ec78d6\",\"ed07af\",\"ed3479\",\"ee1799\"],\"y\":[\"\",\"\",\"\",\"\",\"\",\"\",\"\",\"\",\"\",\"\",\"\",\"\",\"\",\"\",\"\",\"\",\"\",\"\",\"\",\"\",\"\",\"\",\"\",\"\",\"\",\"\",\"\",\"\",\"\",\"\",\"\",5.0,\"\",\"\",\"\",\"\",\"\",\"\",\"\",\"\",\"\",\"\",\"\",\"\",\"\",\"\",\"\",\"\",\"\",\"\",\"\",\"\",\"\",\"\",\"\",\"\",\"\",\"\",\"\",\"\",\"\",\"\",\"\",\"\",\"\",\"\",\"\",\"\",\"\",\"\",\"\",\"\",\"\",\"\",\"\",\"\",\"\",\"\",\"\",\"\",\"\",\"\",\"\",\"\",\"\",\"\",\"\",\"\",\"\",\"\",\"\",\"\",\"\",\"\",\"\",\"\",\"\",\"\",\"\",\"\",\"\",\"\",\"\",\"\",\"\",\"\",\"\",\"\",\"\",\"\",\"\",\"\",\"\",\"\",\"\",\"\",\"\",\"\",\"\",\"\",\"\",\"\",\"\",\"\",\"\",\"\",\"\",\"\",\"\",\"\",\"\",\"\",\"\",\"\",\"\",\"\",\"\",\"\",\"\",\"\",\"\",\"\",\"\",\"\",\"\",\"\",\"\",\"\",\"\",\"\",\"\",\"\",\"\",\"\",\"\",\"\",\"\",\"\",\"\",\"\",\"\",\"\",\"\",\"\",\"\",\"\",\"\",\"\",\"\",\"\",\"\",\"\",\"\",\"\",\"\",\"\",\"\",\"\",\"\",\"\",66.0,\"\",\"\",\"\",\"\",\"\",\"\",\"\",\"\",\"\",\"\",\"\",\"\",\"\",\"\",\"\",\"\",\"\",\"\",\"\",\"\",\"\",\"\",\"\",\"\",\"\",\"\",\"\",\"\",\"\",\"\",\"\",\"\",\"\",\"\",\"\",\"\",\"\",\"\",\"\",\"\",\"\",\"\",\"\",\"\",\"\",\"\",\"\",\"\",\"\",\"\",\"\",\"\",\"\",\"\",\"\",\"\",\"\",\"\",\"\",\"\",\"\",\"\",\"\",\"\",\"\",\"\",\"\",\"\",\"\",\"\",\"\",\"\",\"\",\"\",\"\",\"\",\"\",\"\",\"\",\"\",\"\",\"\",\"\",\"\",\"\",\"\",26.0,\"\",\"\",32.0,\"\",\"\",\"\",\"\",\"\",\"\",\"\",\"\",\"\",\"\",\"\",\"\",\"\",\"\",\"\",\"\",\"\",\"\",\"\",\"\",\"\",\"\",\"\",\"\",\"\",\"\",\"\",\"\",\"\",\"\",\"\",\"\",\"\",\"\",\"\",43.0,\"\",\"\",\"\",\"\",\"\",\"\",\"\",\"\",\"\",\"\",\"\",\"\",\"\",\"\",\"\",\"\",\"\",\"\",\"\",\"\",\"\",\"\",\"\",\"\",\"\",\"\",\"\",\"\",\"\",\"\",\"\",\"\",\"\",\"\",\"\",\"\",\"\",\"\",\"\",82.0,\"\",\"\",\"\",\"\",\"\",\"\",\"\",\"\",\"\",\"\",\"\",\"\",\"\",\"\",\"\",\"\",\"\",\"\",\"\",\"\",\"\",\"\",\"\",\"\",\"\",\"\",\"\",\"\",\"\",\"\",\"\",\"\",\"\",\"\",\"\",\"\",\"\",\"\",\"\",\"\",\"\",\"\",\"\",\"\",\"\",\"\",\"\",\"\",\"\",34.0,\"\",\"\",\"\",\"\",\"\",\"\",\"\",\"\",\"\",\"\",\"\",\"\",\"\",\"\",\"\",\"\",\"\",\"\",\"\",\"\",\"\",\"\",\"\",\"\",\"\",\"\",\"\",\"\",\"\",\"\",\"\",\"\",\"\",\"\",\"\",\"\",\"\",\"\",\"\",\"\",\"\",\"\",\"\",\"\",\"\",\"\",\"\",\"\",\"\",\"\",\"\",\"\",\"\",\"\",\"\",\"\",\"\",\"\",\"\",\"\",\"\",\"\",\"\",\"\",\"\",\"\",\"\",\"\",\"\",\"\",\"\",\"\",\"\",\"\",\"\",\"\",\"\",\"\",\"\",\"\",\"\",\"\",\"\",\"\",\"\",\"\",\"\",\"\",\"\",47.0,\"\",\"\",\"\",\"\",\"\",\"\",\"\",\"\",\"\",\"\",\"\",\"\",\"\"],\"type\":\"scatter\"}],                        {\"legend\":{\"bgcolor\":\"#F5F6F9\",\"font\":{\"color\":\"#4D5663\"}},\"paper_bgcolor\":\"#F5F6F9\",\"plot_bgcolor\":\"#F5F6F9\",\"template\":{\"data\":{\"barpolar\":[{\"marker\":{\"line\":{\"color\":\"#E5ECF6\",\"width\":0.5},\"pattern\":{\"fillmode\":\"overlay\",\"size\":10,\"solidity\":0.2}},\"type\":\"barpolar\"}],\"bar\":[{\"error_x\":{\"color\":\"#2a3f5f\"},\"error_y\":{\"color\":\"#2a3f5f\"},\"marker\":{\"line\":{\"color\":\"#E5ECF6\",\"width\":0.5},\"pattern\":{\"fillmode\":\"overlay\",\"size\":10,\"solidity\":0.2}},\"type\":\"bar\"}],\"carpet\":[{\"aaxis\":{\"endlinecolor\":\"#2a3f5f\",\"gridcolor\":\"white\",\"linecolor\":\"white\",\"minorgridcolor\":\"white\",\"startlinecolor\":\"#2a3f5f\"},\"baxis\":{\"endlinecolor\":\"#2a3f5f\",\"gridcolor\":\"white\",\"linecolor\":\"white\",\"minorgridcolor\":\"white\",\"startlinecolor\":\"#2a3f5f\"},\"type\":\"carpet\"}],\"choropleth\":[{\"colorbar\":{\"outlinewidth\":0,\"ticks\":\"\"},\"type\":\"choropleth\"}],\"contourcarpet\":[{\"colorbar\":{\"outlinewidth\":0,\"ticks\":\"\"},\"type\":\"contourcarpet\"}],\"contour\":[{\"colorbar\":{\"outlinewidth\":0,\"ticks\":\"\"},\"colorscale\":[[0.0,\"#0d0887\"],[0.1111111111111111,\"#46039f\"],[0.2222222222222222,\"#7201a8\"],[0.3333333333333333,\"#9c179e\"],[0.4444444444444444,\"#bd3786\"],[0.5555555555555556,\"#d8576b\"],[0.6666666666666666,\"#ed7953\"],[0.7777777777777778,\"#fb9f3a\"],[0.8888888888888888,\"#fdca26\"],[1.0,\"#f0f921\"]],\"type\":\"contour\"}],\"heatmapgl\":[{\"colorbar\":{\"outlinewidth\":0,\"ticks\":\"\"},\"colorscale\":[[0.0,\"#0d0887\"],[0.1111111111111111,\"#46039f\"],[0.2222222222222222,\"#7201a8\"],[0.3333333333333333,\"#9c179e\"],[0.4444444444444444,\"#bd3786\"],[0.5555555555555556,\"#d8576b\"],[0.6666666666666666,\"#ed7953\"],[0.7777777777777778,\"#fb9f3a\"],[0.8888888888888888,\"#fdca26\"],[1.0,\"#f0f921\"]],\"type\":\"heatmapgl\"}],\"heatmap\":[{\"colorbar\":{\"outlinewidth\":0,\"ticks\":\"\"},\"colorscale\":[[0.0,\"#0d0887\"],[0.1111111111111111,\"#46039f\"],[0.2222222222222222,\"#7201a8\"],[0.3333333333333333,\"#9c179e\"],[0.4444444444444444,\"#bd3786\"],[0.5555555555555556,\"#d8576b\"],[0.6666666666666666,\"#ed7953\"],[0.7777777777777778,\"#fb9f3a\"],[0.8888888888888888,\"#fdca26\"],[1.0,\"#f0f921\"]],\"type\":\"heatmap\"}],\"histogram2dcontour\":[{\"colorbar\":{\"outlinewidth\":0,\"ticks\":\"\"},\"colorscale\":[[0.0,\"#0d0887\"],[0.1111111111111111,\"#46039f\"],[0.2222222222222222,\"#7201a8\"],[0.3333333333333333,\"#9c179e\"],[0.4444444444444444,\"#bd3786\"],[0.5555555555555556,\"#d8576b\"],[0.6666666666666666,\"#ed7953\"],[0.7777777777777778,\"#fb9f3a\"],[0.8888888888888888,\"#fdca26\"],[1.0,\"#f0f921\"]],\"type\":\"histogram2dcontour\"}],\"histogram2d\":[{\"colorbar\":{\"outlinewidth\":0,\"ticks\":\"\"},\"colorscale\":[[0.0,\"#0d0887\"],[0.1111111111111111,\"#46039f\"],[0.2222222222222222,\"#7201a8\"],[0.3333333333333333,\"#9c179e\"],[0.4444444444444444,\"#bd3786\"],[0.5555555555555556,\"#d8576b\"],[0.6666666666666666,\"#ed7953\"],[0.7777777777777778,\"#fb9f3a\"],[0.8888888888888888,\"#fdca26\"],[1.0,\"#f0f921\"]],\"type\":\"histogram2d\"}],\"histogram\":[{\"marker\":{\"pattern\":{\"fillmode\":\"overlay\",\"size\":10,\"solidity\":0.2}},\"type\":\"histogram\"}],\"mesh3d\":[{\"colorbar\":{\"outlinewidth\":0,\"ticks\":\"\"},\"type\":\"mesh3d\"}],\"parcoords\":[{\"line\":{\"colorbar\":{\"outlinewidth\":0,\"ticks\":\"\"}},\"type\":\"parcoords\"}],\"pie\":[{\"automargin\":true,\"type\":\"pie\"}],\"scatter3d\":[{\"line\":{\"colorbar\":{\"outlinewidth\":0,\"ticks\":\"\"}},\"marker\":{\"colorbar\":{\"outlinewidth\":0,\"ticks\":\"\"}},\"type\":\"scatter3d\"}],\"scattercarpet\":[{\"marker\":{\"colorbar\":{\"outlinewidth\":0,\"ticks\":\"\"}},\"type\":\"scattercarpet\"}],\"scattergeo\":[{\"marker\":{\"colorbar\":{\"outlinewidth\":0,\"ticks\":\"\"}},\"type\":\"scattergeo\"}],\"scattergl\":[{\"marker\":{\"colorbar\":{\"outlinewidth\":0,\"ticks\":\"\"}},\"type\":\"scattergl\"}],\"scattermapbox\":[{\"marker\":{\"colorbar\":{\"outlinewidth\":0,\"ticks\":\"\"}},\"type\":\"scattermapbox\"}],\"scatterpolargl\":[{\"marker\":{\"colorbar\":{\"outlinewidth\":0,\"ticks\":\"\"}},\"type\":\"scatterpolargl\"}],\"scatterpolar\":[{\"marker\":{\"colorbar\":{\"outlinewidth\":0,\"ticks\":\"\"}},\"type\":\"scatterpolar\"}],\"scatter\":[{\"fillpattern\":{\"fillmode\":\"overlay\",\"size\":10,\"solidity\":0.2},\"type\":\"scatter\"}],\"scatterternary\":[{\"marker\":{\"colorbar\":{\"outlinewidth\":0,\"ticks\":\"\"}},\"type\":\"scatterternary\"}],\"surface\":[{\"colorbar\":{\"outlinewidth\":0,\"ticks\":\"\"},\"colorscale\":[[0.0,\"#0d0887\"],[0.1111111111111111,\"#46039f\"],[0.2222222222222222,\"#7201a8\"],[0.3333333333333333,\"#9c179e\"],[0.4444444444444444,\"#bd3786\"],[0.5555555555555556,\"#d8576b\"],[0.6666666666666666,\"#ed7953\"],[0.7777777777777778,\"#fb9f3a\"],[0.8888888888888888,\"#fdca26\"],[1.0,\"#f0f921\"]],\"type\":\"surface\"}],\"table\":[{\"cells\":{\"fill\":{\"color\":\"#EBF0F8\"},\"line\":{\"color\":\"white\"}},\"header\":{\"fill\":{\"color\":\"#C8D4E3\"},\"line\":{\"color\":\"white\"}},\"type\":\"table\"}]},\"layout\":{\"annotationdefaults\":{\"arrowcolor\":\"#2a3f5f\",\"arrowhead\":0,\"arrowwidth\":1},\"autotypenumbers\":\"strict\",\"coloraxis\":{\"colorbar\":{\"outlinewidth\":0,\"ticks\":\"\"}},\"colorscale\":{\"diverging\":[[0,\"#8e0152\"],[0.1,\"#c51b7d\"],[0.2,\"#de77ae\"],[0.3,\"#f1b6da\"],[0.4,\"#fde0ef\"],[0.5,\"#f7f7f7\"],[0.6,\"#e6f5d0\"],[0.7,\"#b8e186\"],[0.8,\"#7fbc41\"],[0.9,\"#4d9221\"],[1,\"#276419\"]],\"sequential\":[[0.0,\"#0d0887\"],[0.1111111111111111,\"#46039f\"],[0.2222222222222222,\"#7201a8\"],[0.3333333333333333,\"#9c179e\"],[0.4444444444444444,\"#bd3786\"],[0.5555555555555556,\"#d8576b\"],[0.6666666666666666,\"#ed7953\"],[0.7777777777777778,\"#fb9f3a\"],[0.8888888888888888,\"#fdca26\"],[1.0,\"#f0f921\"]],\"sequentialminus\":[[0.0,\"#0d0887\"],[0.1111111111111111,\"#46039f\"],[0.2222222222222222,\"#7201a8\"],[0.3333333333333333,\"#9c179e\"],[0.4444444444444444,\"#bd3786\"],[0.5555555555555556,\"#d8576b\"],[0.6666666666666666,\"#ed7953\"],[0.7777777777777778,\"#fb9f3a\"],[0.8888888888888888,\"#fdca26\"],[1.0,\"#f0f921\"]]},\"colorway\":[\"#636efa\",\"#EF553B\",\"#00cc96\",\"#ab63fa\",\"#FFA15A\",\"#19d3f3\",\"#FF6692\",\"#B6E880\",\"#FF97FF\",\"#FECB52\"],\"font\":{\"color\":\"#2a3f5f\"},\"geo\":{\"bgcolor\":\"white\",\"lakecolor\":\"white\",\"landcolor\":\"#E5ECF6\",\"showlakes\":true,\"showland\":true,\"subunitcolor\":\"white\"},\"hoverlabel\":{\"align\":\"left\"},\"hovermode\":\"closest\",\"mapbox\":{\"style\":\"light\"},\"paper_bgcolor\":\"white\",\"plot_bgcolor\":\"#E5ECF6\",\"polar\":{\"angularaxis\":{\"gridcolor\":\"white\",\"linecolor\":\"white\",\"ticks\":\"\"},\"bgcolor\":\"#E5ECF6\",\"radialaxis\":{\"gridcolor\":\"white\",\"linecolor\":\"white\",\"ticks\":\"\"}},\"scene\":{\"xaxis\":{\"backgroundcolor\":\"#E5ECF6\",\"gridcolor\":\"white\",\"gridwidth\":2,\"linecolor\":\"white\",\"showbackground\":true,\"ticks\":\"\",\"zerolinecolor\":\"white\"},\"yaxis\":{\"backgroundcolor\":\"#E5ECF6\",\"gridcolor\":\"white\",\"gridwidth\":2,\"linecolor\":\"white\",\"showbackground\":true,\"ticks\":\"\",\"zerolinecolor\":\"white\"},\"zaxis\":{\"backgroundcolor\":\"#E5ECF6\",\"gridcolor\":\"white\",\"gridwidth\":2,\"linecolor\":\"white\",\"showbackground\":true,\"ticks\":\"\",\"zerolinecolor\":\"white\"}},\"shapedefaults\":{\"line\":{\"color\":\"#2a3f5f\"}},\"ternary\":{\"aaxis\":{\"gridcolor\":\"white\",\"linecolor\":\"white\",\"ticks\":\"\"},\"baxis\":{\"gridcolor\":\"white\",\"linecolor\":\"white\",\"ticks\":\"\"},\"bgcolor\":\"#E5ECF6\",\"caxis\":{\"gridcolor\":\"white\",\"linecolor\":\"white\",\"ticks\":\"\"}},\"title\":{\"x\":0.05},\"xaxis\":{\"automargin\":true,\"gridcolor\":\"white\",\"linecolor\":\"white\",\"ticks\":\"\",\"title\":{\"standoff\":15},\"zerolinecolor\":\"white\",\"zerolinewidth\":2},\"yaxis\":{\"automargin\":true,\"gridcolor\":\"white\",\"linecolor\":\"white\",\"ticks\":\"\",\"title\":{\"standoff\":15},\"zerolinecolor\":\"white\",\"zerolinewidth\":2}}},\"title\":{\"font\":{\"color\":\"#4D5663\"},\"text\":\"Intubaci\\u00f3n por edad\"},\"xaxis\":{\"gridcolor\":\"#E1E5ED\",\"showgrid\":true,\"tickfont\":{\"color\":\"#4D5663\"},\"title\":{\"font\":{\"color\":\"#4D5663\"},\"text\":\"ID\"},\"zerolinecolor\":\"#E1E5ED\"},\"yaxis\":{\"gridcolor\":\"#E1E5ED\",\"showgrid\":true,\"tickfont\":{\"color\":\"#4D5663\"},\"title\":{\"font\":{\"color\":\"#4D5663\"},\"text\":\"\"},\"zerolinecolor\":\"#E1E5ED\"}},                        {\"showLink\": true, \"linkText\": \"Export to plot.ly\", \"plotlyServerURL\": \"https://plot.ly\", \"responsive\": true}                    ).then(function(){\n",
       "                            \n",
       "var gd = document.getElementById('77cc0b77-079b-4f13-af76-3a164bf4f3b3');\n",
       "var x = new MutationObserver(function (mutations, observer) {{\n",
       "        var display = window.getComputedStyle(gd).display;\n",
       "        if (!display || display === 'none') {{\n",
       "            console.log([gd, 'removed!']);\n",
       "            Plotly.purge(gd);\n",
       "            observer.disconnect();\n",
       "        }}\n",
       "}});\n",
       "\n",
       "// Listen for the removal of the full notebook cells\n",
       "var notebookContainer = gd.closest('#notebook-container');\n",
       "if (notebookContainer) {{\n",
       "    x.observe(notebookContainer, {childList: true});\n",
       "}}\n",
       "\n",
       "// Listen for the clearing of the current output cell\n",
       "var outputEl = gd.closest('.output');\n",
       "if (outputEl) {{\n",
       "    x.observe(outputEl, {childList: true});\n",
       "}}\n",
       "\n",
       "                        })                };                });            </script>        </div>"
      ]
     },
     "metadata": {},
     "output_type": "display_data"
    }
   ],
   "source": [
    "#Se grafica un scatterplot para representar la intubación por edad\n",
    "Data_s.iplot(kind='scatter', mode='markers',xTitle='ID', \n",
    "                               title='Intubación por edad')"
   ]
  }
 ],
 "metadata": {
  "kernelspec": {
   "display_name": "Python 3.10.6 64-bit",
   "language": "python",
   "name": "python3"
  },
  "language_info": {
   "codemirror_mode": {
    "name": "ipython",
    "version": 3
   },
   "file_extension": ".py",
   "mimetype": "text/x-python",
   "name": "python",
   "nbconvert_exporter": "python",
   "pygments_lexer": "ipython3",
   "version": "3.10.6"
  },
  "orig_nbformat": 4,
  "vscode": {
   "interpreter": {
    "hash": "11a32da29e01205a8970d64bc3d9d944de9781f6310edf4d79f8b59a916b61f2"
   }
  }
 },
 "nbformat": 4,
 "nbformat_minor": 2
}
