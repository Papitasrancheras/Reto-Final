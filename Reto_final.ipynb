{
 "cells": [
  {
   "cell_type": "markdown",
   "metadata": {},
   "source": [
    "# Reto final : Plataformas de analítica"
   ]
  },
  {
   "cell_type": "markdown",
   "metadata": {},
   "source": [
    "### Importación de librerías y lectura de base de datos"
   ]
  },
  {
   "cell_type": "code",
   "execution_count": 104,
   "metadata": {},
   "outputs": [
    {
     "data": {
      "text/html": [
       "        <script type=\"text/javascript\">\n",
       "        window.PlotlyConfig = {MathJaxConfig: 'local'};\n",
       "        if (window.MathJax && window.MathJax.Hub && window.MathJax.Hub.Config) {window.MathJax.Hub.Config({SVG: {font: \"STIX-Web\"}});}\n",
       "        if (typeof require !== 'undefined') {\n",
       "        require.undef(\"plotly\");\n",
       "        requirejs.config({\n",
       "            paths: {\n",
       "                'plotly': ['https://cdn.plot.ly/plotly-2.14.0.min']\n",
       "            }\n",
       "        });\n",
       "        require(['plotly'], function(Plotly) {\n",
       "            window._Plotly = Plotly;\n",
       "        });\n",
       "        }\n",
       "        </script>\n",
       "        "
      ]
     },
     "metadata": {},
     "output_type": "display_data"
    }
   ],
   "source": [
    "#Importamos las librerías que utilizaremos en nuestro proyecto \n",
    "import pandas as pd\n",
    "import numpy as np\n",
    "import matplotlib.pyplot as plt\n",
    "import cufflinks as cf\n",
    "from IPython.display import display,HTML\n",
    "#Se definen temas\n",
    "cf.set_config_file(sharing='public',theme='pearl',offline=True) # write cf.getThemes() to find all themes available"
   ]
  },
  {
   "cell_type": "code",
   "execution_count": 105,
   "metadata": {},
   "outputs": [
    {
     "data": {
      "text/html": [
       "<div>\n",
       "<style scoped>\n",
       "    .dataframe tbody tr th:only-of-type {\n",
       "        vertical-align: middle;\n",
       "    }\n",
       "\n",
       "    .dataframe tbody tr th {\n",
       "        vertical-align: top;\n",
       "    }\n",
       "\n",
       "    .dataframe thead th {\n",
       "        text-align: right;\n",
       "    }\n",
       "</style>\n",
       "<table border=\"1\" class=\"dataframe\">\n",
       "  <thead>\n",
       "    <tr style=\"text-align: right;\">\n",
       "      <th></th>\n",
       "      <th>code</th>\n",
       "      <th>name</th>\n",
       "      <th>continent</th>\n",
       "      <th>region</th>\n",
       "      <th>surface_area</th>\n",
       "      <th>independence_year</th>\n",
       "      <th>population</th>\n",
       "      <th>life_expectancy</th>\n",
       "      <th>gnp</th>\n",
       "      <th>gnp_old</th>\n",
       "      <th>local_name</th>\n",
       "      <th>government_form</th>\n",
       "      <th>head_of_state</th>\n",
       "      <th>capital</th>\n",
       "      <th>code2</th>\n",
       "    </tr>\n",
       "  </thead>\n",
       "  <tbody>\n",
       "    <tr>\n",
       "      <th>0</th>\n",
       "      <td>ABW</td>\n",
       "      <td>Aruba</td>\n",
       "      <td>North America</td>\n",
       "      <td>Caribbean</td>\n",
       "      <td>193.0</td>\n",
       "      <td>NaN</td>\n",
       "      <td>103000</td>\n",
       "      <td>78.4</td>\n",
       "      <td>828.0</td>\n",
       "      <td>793.0</td>\n",
       "      <td>Aruba</td>\n",
       "      <td>Nonmetropolitan Territory of The Netherlands</td>\n",
       "      <td>Willem-Alexander</td>\n",
       "      <td>129.0</td>\n",
       "      <td>AW</td>\n",
       "    </tr>\n",
       "    <tr>\n",
       "      <th>1</th>\n",
       "      <td>AFG</td>\n",
       "      <td>Afghanistan</td>\n",
       "      <td>Asia</td>\n",
       "      <td>Southern and Central Asia</td>\n",
       "      <td>652090.0</td>\n",
       "      <td>1919.0</td>\n",
       "      <td>22720000</td>\n",
       "      <td>45.9</td>\n",
       "      <td>5976.0</td>\n",
       "      <td>NaN</td>\n",
       "      <td>Afganistan/Afqanestan</td>\n",
       "      <td>Islamic Emirate</td>\n",
       "      <td>Mohammad Omar</td>\n",
       "      <td>1.0</td>\n",
       "      <td>AF</td>\n",
       "    </tr>\n",
       "    <tr>\n",
       "      <th>2</th>\n",
       "      <td>AGO</td>\n",
       "      <td>Angola</td>\n",
       "      <td>Africa</td>\n",
       "      <td>Central Africa</td>\n",
       "      <td>1246700.0</td>\n",
       "      <td>1975.0</td>\n",
       "      <td>12878000</td>\n",
       "      <td>38.3</td>\n",
       "      <td>6648.0</td>\n",
       "      <td>7984.0</td>\n",
       "      <td>Angola</td>\n",
       "      <td>Republic</td>\n",
       "      <td>Jose Eduardo dos Santos</td>\n",
       "      <td>56.0</td>\n",
       "      <td>AO</td>\n",
       "    </tr>\n",
       "    <tr>\n",
       "      <th>3</th>\n",
       "      <td>AIA</td>\n",
       "      <td>Anguilla</td>\n",
       "      <td>North America</td>\n",
       "      <td>Caribbean</td>\n",
       "      <td>96.0</td>\n",
       "      <td>NaN</td>\n",
       "      <td>8000</td>\n",
       "      <td>76.1</td>\n",
       "      <td>63.2</td>\n",
       "      <td>NaN</td>\n",
       "      <td>Anguilla</td>\n",
       "      <td>Dependent Territory of the uK</td>\n",
       "      <td>Elisabeth II</td>\n",
       "      <td>62.0</td>\n",
       "      <td>AI</td>\n",
       "    </tr>\n",
       "    <tr>\n",
       "      <th>4</th>\n",
       "      <td>ALB</td>\n",
       "      <td>Albania</td>\n",
       "      <td>Europe</td>\n",
       "      <td>Southern Europe</td>\n",
       "      <td>28748.0</td>\n",
       "      <td>1912.0</td>\n",
       "      <td>3401200</td>\n",
       "      <td>71.6</td>\n",
       "      <td>3205.0</td>\n",
       "      <td>2500.0</td>\n",
       "      <td>Shqiperia</td>\n",
       "      <td>Republic</td>\n",
       "      <td>Rexhep Mejdani</td>\n",
       "      <td>34.0</td>\n",
       "      <td>AL</td>\n",
       "    </tr>\n",
       "    <tr>\n",
       "      <th>...</th>\n",
       "      <td>...</td>\n",
       "      <td>...</td>\n",
       "      <td>...</td>\n",
       "      <td>...</td>\n",
       "      <td>...</td>\n",
       "      <td>...</td>\n",
       "      <td>...</td>\n",
       "      <td>...</td>\n",
       "      <td>...</td>\n",
       "      <td>...</td>\n",
       "      <td>...</td>\n",
       "      <td>...</td>\n",
       "      <td>...</td>\n",
       "      <td>...</td>\n",
       "      <td>...</td>\n",
       "    </tr>\n",
       "    <tr>\n",
       "      <th>234</th>\n",
       "      <td>YEM</td>\n",
       "      <td>Yemen</td>\n",
       "      <td>Asia</td>\n",
       "      <td>Middle East</td>\n",
       "      <td>527968.0</td>\n",
       "      <td>1918.0</td>\n",
       "      <td>18112000</td>\n",
       "      <td>59.8</td>\n",
       "      <td>6041.0</td>\n",
       "      <td>5729.0</td>\n",
       "      <td>Al-Yaman</td>\n",
       "      <td>Republic</td>\n",
       "      <td>Ali Abdallah Salih</td>\n",
       "      <td>1780.0</td>\n",
       "      <td>YE</td>\n",
       "    </tr>\n",
       "    <tr>\n",
       "      <th>235</th>\n",
       "      <td>YuG</td>\n",
       "      <td>Yugoslavia</td>\n",
       "      <td>Europe</td>\n",
       "      <td>Southern Europe</td>\n",
       "      <td>102173.0</td>\n",
       "      <td>1918.0</td>\n",
       "      <td>10640000</td>\n",
       "      <td>72.4</td>\n",
       "      <td>17000.0</td>\n",
       "      <td>NaN</td>\n",
       "      <td>Jugoslavija</td>\n",
       "      <td>Federal Republic</td>\n",
       "      <td>Vojislav KoStunica</td>\n",
       "      <td>1792.0</td>\n",
       "      <td>Yu</td>\n",
       "    </tr>\n",
       "    <tr>\n",
       "      <th>236</th>\n",
       "      <td>ZAF</td>\n",
       "      <td>South Africa</td>\n",
       "      <td>Africa</td>\n",
       "      <td>Southern Africa</td>\n",
       "      <td>1221037.0</td>\n",
       "      <td>1910.0</td>\n",
       "      <td>40377000</td>\n",
       "      <td>51.1</td>\n",
       "      <td>116729.0</td>\n",
       "      <td>129092.0</td>\n",
       "      <td>South Africa</td>\n",
       "      <td>Republic</td>\n",
       "      <td>Thabo Mbeki</td>\n",
       "      <td>716.0</td>\n",
       "      <td>ZA</td>\n",
       "    </tr>\n",
       "    <tr>\n",
       "      <th>237</th>\n",
       "      <td>ZMB</td>\n",
       "      <td>Zambia</td>\n",
       "      <td>Africa</td>\n",
       "      <td>Eastern Africa</td>\n",
       "      <td>752618.0</td>\n",
       "      <td>1964.0</td>\n",
       "      <td>9169000</td>\n",
       "      <td>37.2</td>\n",
       "      <td>3377.0</td>\n",
       "      <td>3922.0</td>\n",
       "      <td>Zambia</td>\n",
       "      <td>Republic</td>\n",
       "      <td>Frederick Chiluba</td>\n",
       "      <td>3162.0</td>\n",
       "      <td>ZM</td>\n",
       "    </tr>\n",
       "    <tr>\n",
       "      <th>238</th>\n",
       "      <td>ZWE</td>\n",
       "      <td>Zimbabwe</td>\n",
       "      <td>Africa</td>\n",
       "      <td>Eastern Africa</td>\n",
       "      <td>390757.0</td>\n",
       "      <td>1980.0</td>\n",
       "      <td>11669000</td>\n",
       "      <td>37.8</td>\n",
       "      <td>5951.0</td>\n",
       "      <td>8670.0</td>\n",
       "      <td>Zimbabwe</td>\n",
       "      <td>Republic</td>\n",
       "      <td>Robert G. Mugabe</td>\n",
       "      <td>4068.0</td>\n",
       "      <td>ZW</td>\n",
       "    </tr>\n",
       "  </tbody>\n",
       "</table>\n",
       "<p>239 rows × 15 columns</p>\n",
       "</div>"
      ],
      "text/plain": [
       "    code          name      continent                     region  \\\n",
       "0    ABW         Aruba  North America                  Caribbean   \n",
       "1    AFG   Afghanistan           Asia  Southern and Central Asia   \n",
       "2    AGO        Angola         Africa             Central Africa   \n",
       "3    AIA      Anguilla  North America                  Caribbean   \n",
       "4    ALB       Albania         Europe            Southern Europe   \n",
       "..   ...           ...            ...                        ...   \n",
       "234  YEM         Yemen           Asia                Middle East   \n",
       "235  YuG    Yugoslavia         Europe            Southern Europe   \n",
       "236  ZAF  South Africa         Africa            Southern Africa   \n",
       "237  ZMB        Zambia         Africa             Eastern Africa   \n",
       "238  ZWE      Zimbabwe         Africa             Eastern Africa   \n",
       "\n",
       "     surface_area  independence_year  population  life_expectancy       gnp  \\\n",
       "0           193.0                NaN      103000             78.4     828.0   \n",
       "1        652090.0             1919.0    22720000             45.9    5976.0   \n",
       "2       1246700.0             1975.0    12878000             38.3    6648.0   \n",
       "3            96.0                NaN        8000             76.1      63.2   \n",
       "4         28748.0             1912.0     3401200             71.6    3205.0   \n",
       "..            ...                ...         ...              ...       ...   \n",
       "234      527968.0             1918.0    18112000             59.8    6041.0   \n",
       "235      102173.0             1918.0    10640000             72.4   17000.0   \n",
       "236     1221037.0             1910.0    40377000             51.1  116729.0   \n",
       "237      752618.0             1964.0     9169000             37.2    3377.0   \n",
       "238      390757.0             1980.0    11669000             37.8    5951.0   \n",
       "\n",
       "      gnp_old             local_name  \\\n",
       "0       793.0                  Aruba   \n",
       "1         NaN  Afganistan/Afqanestan   \n",
       "2      7984.0                 Angola   \n",
       "3         NaN               Anguilla   \n",
       "4      2500.0              Shqiperia   \n",
       "..        ...                    ...   \n",
       "234    5729.0               Al-Yaman   \n",
       "235       NaN            Jugoslavija   \n",
       "236  129092.0           South Africa   \n",
       "237    3922.0                 Zambia   \n",
       "238    8670.0               Zimbabwe   \n",
       "\n",
       "                                  government_form            head_of_state  \\\n",
       "0    Nonmetropolitan Territory of The Netherlands         Willem-Alexander   \n",
       "1                                 Islamic Emirate            Mohammad Omar   \n",
       "2                                        Republic  Jose Eduardo dos Santos   \n",
       "3                   Dependent Territory of the uK             Elisabeth II   \n",
       "4                                        Republic           Rexhep Mejdani   \n",
       "..                                            ...                      ...   \n",
       "234                                      Republic       Ali Abdallah Salih   \n",
       "235                              Federal Republic       Vojislav KoStunica   \n",
       "236                                      Republic              Thabo Mbeki   \n",
       "237                                      Republic        Frederick Chiluba   \n",
       "238                                      Republic         Robert G. Mugabe   \n",
       "\n",
       "     capital code2  \n",
       "0      129.0    AW  \n",
       "1        1.0    AF  \n",
       "2       56.0    AO  \n",
       "3       62.0    AI  \n",
       "4       34.0    AL  \n",
       "..       ...   ...  \n",
       "234   1780.0    YE  \n",
       "235   1792.0    Yu  \n",
       "236    716.0    ZA  \n",
       "237   3162.0    ZM  \n",
       "238   4068.0    ZW  \n",
       "\n",
       "[239 rows x 15 columns]"
      ]
     },
     "execution_count": 105,
     "metadata": {},
     "output_type": "execute_result"
    }
   ],
   "source": [
    "#Leo mi archivo.csv\n",
    "Country = pd.read_csv(\"CountryTable_1.csv\")\n",
    "Country"
   ]
  },
  {
   "cell_type": "markdown",
   "metadata": {},
   "source": [
    "### Identificación y tratamiento de nulos"
   ]
  },
  {
   "cell_type": "code",
   "execution_count": 106,
   "metadata": {},
   "outputs": [
    {
     "data": {
      "text/plain": [
       "code                  0\n",
       "name                  0\n",
       "continent             0\n",
       "region                0\n",
       "surface_area          0\n",
       "independence_year    47\n",
       "population            0\n",
       "life_expectancy      17\n",
       "gnp                   0\n",
       "gnp_old              61\n",
       "local_name            1\n",
       "government_form       0\n",
       "head_of_state         3\n",
       "capital               7\n",
       "code2                 1\n",
       "dtype: int64"
      ]
     },
     "execution_count": 106,
     "metadata": {},
     "output_type": "execute_result"
    }
   ],
   "source": [
    "#Revisemos nuestra base de datos para identificar valores nulos \n",
    "valores_nulos=Country.isnull().sum()\n",
    "valores_nulos\n",
    "#Encontramos valores nulos en las columnas independence_year, life_expectancy, gnp_old, local_name, head_of_state, capital y code2 "
   ]
  },
  {
   "cell_type": "code",
   "execution_count": 107,
   "metadata": {},
   "outputs": [],
   "source": [
    "#Realizaremos diversos métodos para reemplazar los valores nulos en las columnas indicadas\n",
    "\n",
    "#independence_year:Se reemplazarán los nulos con el valor \"1900\"\n",
    "Country[\"independence_year\"]= Country[\"independence_year\"].fillna(1900) \n",
    "\n",
    "#life_expectancy:Se reemplazará por el valor de la moda de la columna \n",
    "Country[\"life_expectancy\"]= Country[\"life_expectancy\"].fillna(value = Country[\"life_expectancy\"].mode()[0]) \n",
    "\n",
    "#gnp_old:Se reemplazará por el valor de la mediana de la columna\n",
    "Country[\"gnp_old\"]= Country[\"gnp_old\"].fillna(Country[\"gnp_old\"].median()) \n",
    "\n",
    "#local_name:Se reemplazará con el string \"Inexistente\"\n",
    "Country[\"local_name\"]= Country[\"local_name\"].fillna(\"Inexistente\") \n",
    "\n",
    "#head_of_state:Se reemplazará con el string \"Desconocido\"\n",
    "Country[\"head_of_state\"]= Country[\"head_of_state\"].fillna(\"Desconocido\") \n",
    "\n",
    "#capital: Se reemplazará con el valor 0\n",
    "Country[\"capital\"]= Country[\"capital\"].fillna(0) \n",
    "\n",
    "#code2: Se reemplazará con el string NA\n",
    "Country[\"code2\"]= Country[\"code2\"].fillna(\"NA\") \n",
    "\n",
    "#Comprobamos que los cambios se hayan realizado de manera satisfactoria \n",
    "#Country.to_csv(\"Country_prueba.csv\")\n"
   ]
  },
  {
   "cell_type": "code",
   "execution_count": 108,
   "metadata": {},
   "outputs": [
    {
     "data": {
      "text/plain": [
       "0"
      ]
     },
     "execution_count": 108,
     "metadata": {},
     "output_type": "execute_result"
    }
   ],
   "source": [
    "#Comprobamos que los cambios se hayan realizado de manera satisfactoria \n",
    "valores_nulos=Country.isnull().sum().sum()\n",
    "valores_nulos"
   ]
  },
  {
   "cell_type": "markdown",
   "metadata": {},
   "source": [
    "### Identificación y tratamiento de outliers"
   ]
  },
  {
   "cell_type": "markdown",
   "metadata": {},
   "source": [
    "### Método 1: Distribución normal con 2 desviaciones estándar"
   ]
  },
  {
   "cell_type": "markdown",
   "metadata": {},
   "source": [
    "#### Se probará con diversos métodos de identificación de outliers"
   ]
  },
  {
   "cell_type": "code",
   "execution_count": 109,
   "metadata": {},
   "outputs": [
    {
     "data": {
      "image/png": "[encoded data removed]",
      "text/plain": [
       "<Figure size 1080x576 with 1 Axes>"
      ]
     },
     "metadata": {
      "needs_background": "light"
     },
     "output_type": "display_data"
    }
   ],
   "source": [
    "#El análisis de nuestra base de datos nos orienta a buscar outliers en las columnas gnp_old y population \n",
    "#gnp_old\n",
    "#Realizamos diagrama de caja o bigote de cada columna del dataframe para identificar outliers\n",
    "fig = plt.figure(figsize =(15, 8))\n",
    "Country[\"gnp_old\"].plot(kind='box', vert=False)\n",
    "plt.title(\"Boxplot de gnp_old\")\n",
    "plt.show() \n",
    "#Se observa que existen un buen número de valores atípicos en la columna. Ahora procedemos con identificarlos\n"
   ]
  },
  {
   "cell_type": "code",
   "execution_count": 110,
   "metadata": {},
   "outputs": [
    {
     "name": "stdout",
     "output_type": "stream",
     "text": [
      "Limite superior permitido 1375629.5313349972\n",
      "Limite inferior permitido -1124761.0041383444\n"
     ]
    }
   ],
   "source": [
    "#Para ambas columnas utilizaremos el método de distribución normal \n",
    "#Comencemos identificando los límites superiores e inferiores de los valores de la columna gnp_old\n",
    "#Utilizaremos como límite 2 desviaciones estándar \n",
    "y=Country[\"gnp_old\"]\n",
    "Limite_Superior= y.mean() + 2*y.std()\n",
    "Limite_Inferior= y.mean() - 2 *y.std()\n",
    "print(\"Limite superior permitido\", Limite_Superior)\n",
    "print(\"Limite inferior permitido\", Limite_Inferior)"
   ]
  },
  {
   "cell_type": "code",
   "execution_count": null,
   "metadata": {},
   "outputs": [],
   "source": [
    "#Una vez definidos los límites, encontramos los outliers de la columna\n",
    "outliers= Country[(y>Limite_Superior)|(y<Limite_Inferior)]\n",
    "outliers"
   ]
  },
  {
   "cell_type": "code",
   "execution_count": null,
   "metadata": {},
   "outputs": [],
   "source": [
    "#Ahora efectuamos el mismo procedimiento con la columna population\n",
    "#Realizamos diagrama de caja o bigote de cada columna del dataframe para identificar outliers\n",
    "fig = plt.figure(figsize =(15, 8))\n",
    "Country[\"population\"].plot(kind='box', vert=False)\n",
    "plt.title(\"Boxplot de population\")\n",
    "plt.show() \n",
    "#Observamos que existen un buen número de valores atípicos en la columna. Ahora procedemos con identificarlos"
   ]
  },
  {
   "cell_type": "code",
   "execution_count": 113,
   "metadata": {},
   "outputs": [
    {
     "name": "stdout",
     "output_type": "stream",
     "text": [
      "Limite superior permitido 244113732.5648982\n",
      "Limite inferior permitido -193245536.33058858\n"
     ]
    }
   ],
   "source": [
    "#Comencemos identificando los límites superiores e inferiores de los valores de la columna population\n",
    "#Utilizaremos como límite 2 desviaciones estándar \n",
    "y1=Country[\"population\"]\n",
    "Limite_Superior_pop= y1.mean() + 2*y1.std()\n",
    "Limite_Inferior_pop= y1.mean() - 2 *y1.std()\n",
    "print(\"Limite superior permitido\", Limite_Superior_pop)\n",
    "print(\"Limite inferior permitido\", Limite_Inferior_pop)"
   ]
  },
  {
   "cell_type": "code",
   "execution_count": null,
   "metadata": {},
   "outputs": [],
   "source": [
    "#Una vez definidos los límites, encontramos los outliers de la columna\n",
    "outliers_pop= Country[(y1>Limite_Superior_pop)|(y1<Limite_Inferior_pop)]\n",
    "outliers_pop"
   ]
  },
  {
   "cell_type": "markdown",
   "metadata": {},
   "source": [
    "### Método 2: Rango intercuartílico con 1.3 iqr "
   ]
  },
  {
   "cell_type": "code",
   "execution_count": 115,
   "metadata": {},
   "outputs": [
    {
     "name": "stdout",
     "output_type": "stream",
     "text": [
      "Limite superior permitido 67186.0\n",
      "Limite inferior permitido -32552.0\n"
     ]
    }
   ],
   "source": [
    "#Probemos un segundo método para identificar outliers para las columnas gnp_old, surface_area, life_expectancy, y population \n",
    "#Comencemos con la columna gnp_old\n",
    "z=Country[\"gnp_old\"]\n",
    "\n",
    "percentile25=z.quantile(0.25) #Q1\n",
    "percentile75=z.quantile(0.75) #Q3\n",
    "iqr= percentile75 - percentile25\n",
    "\n",
    "Limite_Superior_iqr= percentile75 + 1.3*iqr\n",
    "Limite_Inferior_iqr= percentile25 - 1.3*iqr\n",
    "print(\"Limite superior permitido\", Limite_Superior_iqr)\n",
    "print(\"Limite inferior permitido\", Limite_Inferior_iqr)\n",
    "#Observamos que la obtención de los límites parece más precisa utilizando este método "
   ]
  },
  {
   "cell_type": "code",
   "execution_count": null,
   "metadata": {},
   "outputs": [],
   "source": [
    "#Una vez definidos los límites, ahora encontremos los outliers de la columna \n",
    "outliers_iqr= Country[(z>Limite_Superior_iqr)|(z<Limite_Inferior_iqr)]\n",
    "outliers_iqr\n",
    "#A pesar de que este método parece hacer un mejor trabajo identificando outliers, dependerá del  objetivo del análisis si se excluyen datos de países tan importantes"
   ]
  },
  {
   "cell_type": "code",
   "execution_count": 117,
   "metadata": {},
   "outputs": [
    {
     "data": {
      "image/png": "[encoded data removed]",
      "text/plain": [
       "<Figure size 1080x576 with 1 Axes>"
      ]
     },
     "metadata": {
      "needs_background": "light"
     },
     "output_type": "display_data"
    }
   ],
   "source": [
    "#Para la columna surface_area visualicemos los outliers en un diagrama de caja \n",
    "fig = plt.figure(figsize =(15, 8))\n",
    "Country[\"surface_area\"].plot(kind='box', vert=False)\n",
    "plt.title(\"Boxplot de surface_area\")\n",
    "plt.show() \n",
    "#Observamos que existen un buen número de outliers en la columna que nos habla acerca de la extensión territorial "
   ]
  },
  {
   "cell_type": "code",
   "execution_count": 118,
   "metadata": {},
   "outputs": [
    {
     "name": "stdout",
     "output_type": "stream",
     "text": [
      "Limite superior permitido 914177.8500000001\n",
      "Limite inferior permitido -513148.35000000003\n"
     ]
    }
   ],
   "source": [
    "#Comencemos identificando los límites superiores e inferiores de los valores de la columna surface_area\n",
    "s=Country[\"surface_area\"]\n",
    "\n",
    "percentile25=s.quantile(0.25) #Q1\n",
    "percentile75=s.quantile(0.75) #Q3\n",
    "iqr_s= percentile75 - percentile25\n",
    "\n",
    "LS_s= percentile75 + 1.3*iqr_s\n",
    "LI_s= percentile25 - 1.3*iqr_s\n",
    "print(\"Limite superior permitido\", LS_s)\n",
    "print(\"Limite inferior permitido\", LI_s)"
   ]
  },
  {
   "cell_type": "code",
   "execution_count": null,
   "metadata": {},
   "outputs": [],
   "source": [
    "#Una vez definidos los límites, ahora encontremos los outliers de la columna \n",
    "outliers_s= Country[(s>LS_s)|(s<LI_s)]\n",
    "outliers_s"
   ]
  },
  {
   "cell_type": "code",
   "execution_count": 128,
   "metadata": {},
   "outputs": [
    {
     "data": {
      "image/png": "[encoded data removed]",
      "text/plain": [
       "<Figure size 1080x576 with 1 Axes>"
      ]
     },
     "metadata": {
      "needs_background": "light"
     },
     "output_type": "display_data"
    }
   ],
   "source": [
    "#Para la columna life_expectancy visualicemos los outliers en un diagrama de caja \n",
    "fig = plt.figure(figsize =(15, 8))\n",
    "Country[\"life_expectancy\"].plot(kind='box', vert=False)\n",
    "plt.title(\"Boxplot de life_expectancy\")\n",
    "plt.show() \n",
    "#Observamos que existen outliers en la parte inferior de nuestro box plot "
   ]
  },
  {
   "cell_type": "code",
   "execution_count": 121,
   "metadata": {},
   "outputs": [
    {
     "name": "stdout",
     "output_type": "stream",
     "text": [
      "Limite superior permitido 92.7\n",
      "Limite inferior permitido 44.10000000000001\n"
     ]
    }
   ],
   "source": [
    "#Procedemos con la columna life_expectancy \n",
    "life=Country[\"life_expectancy\"]\n",
    "\n",
    "percentile25=life.quantile(0.25) #Q1\n",
    "percentile75=life.quantile(0.75) #Q3\n",
    "iqr_life= percentile75 - percentile25\n",
    "\n",
    "LS_life= percentile75 + 1.3*iqr_life\n",
    "LI_life= percentile25 - 1.3*iqr_life\n",
    "print(\"Limite superior permitido\", LS_life)\n",
    "print(\"Limite inferior permitido\", LI_life)"
   ]
  },
  {
   "cell_type": "code",
   "execution_count": null,
   "metadata": {},
   "outputs": [],
   "source": [
    "#Una vez definidos los límites, ahora encontremos los outliers de la columna \n",
    "outliers_life= Country[(life>LS_life)|(life<LI_life)]\n",
    "outliers_life\n",
    "#Obtenemos los valores de expectativa de vida que habíamos visto en nuestro boxplot "
   ]
  },
  {
   "cell_type": "code",
   "execution_count": 123,
   "metadata": {},
   "outputs": [
    {
     "name": "stdout",
     "output_type": "stream",
     "text": [
      "Limite superior permitido 34042250.0\n",
      "Limite inferior permitido -18868750.0\n"
     ]
    }
   ],
   "source": [
    "#Finalmente realizamos la identificación de outliers de la columna population\n",
    "#Como habíamos visto anteriormente en nuestro primer boxplot, la columna tiene un buen número de outliers \n",
    "#Veamos si este método de identificación resulta una mejor opción que el de la distribución normal\n",
    "\n",
    "pop=Country[\"population\"]\n",
    "percentile25=pop.quantile(0.25) #Q1\n",
    "percentile75=pop.quantile(0.75) #Q3\n",
    "iqr_pop= percentile75 - percentile25\n",
    "\n",
    "LS_pop= percentile75 + 1.3*iqr_pop\n",
    "LI_pop= percentile25 - 1.3*iqr_pop\n",
    "print(\"Limite superior permitido\", LS_pop)\n",
    "print(\"Limite inferior permitido\", LI_pop)"
   ]
  },
  {
   "cell_type": "code",
   "execution_count": null,
   "metadata": {},
   "outputs": [],
   "source": [
    "#Una vez definidos los límites, ahora encontremos los outliers de la columna \n",
    "out_pop= Country[(pop>LS_pop)|(pop<LI_pop)]\n",
    "out_pop\n",
    "#Observamos que a diferencia del método de distribución normal, nuestros límites con el método de rango intercuartílico son más estrechos\n",
    "#Por lo que tenemos más outliers "
   ]
  },
  {
   "cell_type": "markdown",
   "metadata": {},
   "source": [
    "### Método 3: Distribución normal 3 desviaciones estándar  "
   ]
  },
  {
   "cell_type": "code",
   "execution_count": 125,
   "metadata": {},
   "outputs": [
    {
     "name": "stdout",
     "output_type": "stream",
     "text": [
      "Limite superior permitido 2000727.1652033327\n",
      "Limite inferior permitido -1749858.63800668\n"
     ]
    }
   ],
   "source": [
    "#Aplicaremos el método de distribución normal, pero ahora utilizando 3 desviaciones estándar para la variable gnp_old\n",
    "#Ahora, utilizaremos como límite 3 desviaciones estándar \n",
    "old=Country[\"gnp_old\"]\n",
    "Limite_Superior_old= old.mean() + 3*old.std()\n",
    "Limite_Inferior_old= old.mean() - 3*old.std()\n",
    "print(\"Limite superior permitido\", Limite_Superior_old)\n",
    "print(\"Limite inferior permitido\", Limite_Inferior_old)"
   ]
  },
  {
   "cell_type": "code",
   "execution_count": null,
   "metadata": {},
   "outputs": [],
   "source": [
    "#Ahora obtenemos los outliers \n",
    "outliers_old= Country[(old>Limite_Superior_old)|(old<Limite_Inferior_old)]\n",
    "outliers_old\n",
    "#Observamos que hemos reducido nuestra cantidad de outliers "
   ]
  },
  {
   "cell_type": "code",
   "execution_count": 127,
   "metadata": {},
   "outputs": [],
   "source": [
    "#Ahora sustituiremos estos 3 valores por el promedio de la columna gnp_old \n",
    "old_mean = Country['gnp_old'].mean()\n",
    "old_mean\n",
    "Country['gnp_old'] = Country['gnp_old'].replace([2102826.0],old_mean)\n",
    "Country['gnp_old'] = Country['gnp_old'].replace([4192638.0],old_mean)\n",
    "Country['gnp_old'] = Country['gnp_old'].replace([8110900.0],old_mean)\n"
   ]
  },
  {
   "cell_type": "markdown",
   "metadata": {},
   "source": [
    "### Visualización "
   ]
  },
  {
   "cell_type": "code",
   "execution_count": null,
   "metadata": {},
   "outputs": [],
   "source": [
    "# Una vez reemplazados los valores nulos e identificados y sustituidos los outliers seguimos con la visualización \n",
    "# Para poder realizar las visualizaciones de nuestro dataframe hagamos algunas restructuraciones "
   ]
  }
 ],
 "metadata": {
  "kernelspec": {
   "display_name": "Python 3.10.6 64-bit",
   "language": "python",
   "name": "python3"
  },
  "language_info": {
   "codemirror_mode": {
    "name": "ipython",
    "version": 3
   },
   "file_extension": ".py",
   "mimetype": "text/x-python",
   "name": "python",
   "nbconvert_exporter": "python",
   "pygments_lexer": "ipython3",
   "version": "3.10.6"
  },
  "orig_nbformat": 4,
  "vscode": {
   "interpreter": {
    "hash": "11a32da29e01205a8970d64bc3d9d944de9781f6310edf4d79f8b59a916b61f2"
   }
  }
 },
 "nbformat": 4,
 "nbformat_minor": 2
}
